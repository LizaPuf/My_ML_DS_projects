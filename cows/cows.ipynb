{
 "cells": [
  {
   "attachments": {},
   "cell_type": "markdown",
   "metadata": {},
   "source": [
    "# Линейные модели в машинном обучении"
   ]
  },
  {
   "attachments": {},
   "cell_type": "markdown",
   "metadata": {},
   "source": [
    "hjhhkhkh"
   ]
  },
  {
   "attachments": {},
   "cell_type": "markdown",
   "metadata": {},
   "source": [
    "# Этап 1.Загрузка данных \n"
   ]
  },
  {
   "cell_type": "code",
   "execution_count": 1,
   "metadata": {},
   "outputs": [],
   "source": [
    "#импорт необходимых библиотек \n",
    "import pandas as pd\n",
    "import numpy as np\n",
    "import matplotlib.pyplot as plt  \n",
    "from scipy import stats\n",
    "import seaborn as sns\n",
    "from typing import List\n",
    "\n"
   ]
  },
  {
   "cell_type": "code",
   "execution_count": 2,
   "metadata": {},
   "outputs": [],
   "source": [
    "try:\n",
    "    df_ferma_main = pd.read_csv('/datasets/ferma_main.csv', sep = ';')\n",
    "    df_ferma_dad = pd.read_csv('/datasets/ferma_dad.csv', sep = ';')\n",
    "    df_cow_buy = pd.read_csv('/datasets/cow_buy.csv', sep = ';')\n",
    "except Exception:\n",
    "    df_ferma_main = pd.read_csv('https://code.s3.yandex.net/datasets/ferma_main.csv', sep = ';')\n",
    "    df_ferma_dad = pd.read_csv('https://code.s3.yandex.net/datasets/ferma_dad.csv', sep = ';')\n",
    "    df_cow_buy = pd.read_csv('https://code.s3.yandex.net/datasets/cow_buy.csv', sep = ';')"
   ]
  },
  {
   "cell_type": "code",
   "execution_count": 3,
   "metadata": {},
   "outputs": [
    {
     "name": "stdout",
     "output_type": "stream",
     "text": [
      "<class 'pandas.core.frame.DataFrame'>\n",
      "RangeIndex: 634 entries, 0 to 633\n",
      "Data columns (total 12 columns):\n",
      " #   Column                                 Non-Null Count  Dtype \n",
      "---  ------                                 --------------  ----- \n",
      " 0   id                                     634 non-null    int64 \n",
      " 1   Удой, кг                               634 non-null    int64 \n",
      " 2   ЭКЕ (Энергетическая кормовая единица)  634 non-null    object\n",
      " 3   Сырой протеин, г                       634 non-null    int64 \n",
      " 4   СПО (Сахаро-протеиновое соотношение)   634 non-null    object\n",
      " 5   Порода                                 634 non-null    object\n",
      " 6   Тип пастбища                           634 non-null    object\n",
      " 7   порода папы_быка                       634 non-null    object\n",
      " 8   Жирность,%                             634 non-null    object\n",
      " 9   Белок,%                                634 non-null    object\n",
      " 10  Вкус молока                            634 non-null    object\n",
      " 11  Возраст                                634 non-null    object\n",
      "dtypes: int64(3), object(9)\n",
      "memory usage: 59.6+ KB\n"
     ]
    }
   ],
   "source": [
    "df_ferma_main.info()"
   ]
  },
  {
   "cell_type": "code",
   "execution_count": 4,
   "metadata": {},
   "outputs": [
    {
     "data": {
      "text/html": [
       "<div>\n",
       "<style scoped>\n",
       "    .dataframe tbody tr th:only-of-type {\n",
       "        vertical-align: middle;\n",
       "    }\n",
       "\n",
       "    .dataframe tbody tr th {\n",
       "        vertical-align: top;\n",
       "    }\n",
       "\n",
       "    .dataframe thead th {\n",
       "        text-align: right;\n",
       "    }\n",
       "</style>\n",
       "<table border=\"1\" class=\"dataframe\">\n",
       "  <thead>\n",
       "    <tr style=\"text-align: right;\">\n",
       "      <th></th>\n",
       "      <th>id</th>\n",
       "      <th>Удой, кг</th>\n",
       "      <th>ЭКЕ (Энергетическая кормовая единица)</th>\n",
       "      <th>Сырой протеин, г</th>\n",
       "      <th>СПО (Сахаро-протеиновое соотношение)</th>\n",
       "      <th>Порода</th>\n",
       "      <th>Тип пастбища</th>\n",
       "      <th>порода папы_быка</th>\n",
       "      <th>Жирность,%</th>\n",
       "      <th>Белок,%</th>\n",
       "      <th>Вкус молока</th>\n",
       "      <th>Возраст</th>\n",
       "    </tr>\n",
       "  </thead>\n",
       "  <tbody>\n",
       "    <tr>\n",
       "      <th>0</th>\n",
       "      <td>1</td>\n",
       "      <td>5863</td>\n",
       "      <td>14,2</td>\n",
       "      <td>1743</td>\n",
       "      <td>0,89</td>\n",
       "      <td>Вис Бик Айдиал</td>\n",
       "      <td>Равнинное</td>\n",
       "      <td>Айдиал</td>\n",
       "      <td>3,58</td>\n",
       "      <td>3,076</td>\n",
       "      <td>вкусно</td>\n",
       "      <td>более_2_лет</td>\n",
       "    </tr>\n",
       "    <tr>\n",
       "      <th>1</th>\n",
       "      <td>2</td>\n",
       "      <td>5529</td>\n",
       "      <td>12,8</td>\n",
       "      <td>2138</td>\n",
       "      <td>0,89</td>\n",
       "      <td>Вис Бик Айдиал</td>\n",
       "      <td>Равнинные</td>\n",
       "      <td>Соверин</td>\n",
       "      <td>3,54</td>\n",
       "      <td>3,079</td>\n",
       "      <td>вкусно</td>\n",
       "      <td>менее_2_лет</td>\n",
       "    </tr>\n",
       "    <tr>\n",
       "      <th>2</th>\n",
       "      <td>3</td>\n",
       "      <td>5810</td>\n",
       "      <td>14</td>\n",
       "      <td>1854</td>\n",
       "      <td>0,885</td>\n",
       "      <td>РефлешнСоверинг</td>\n",
       "      <td>Холмистое</td>\n",
       "      <td>Соверин</td>\n",
       "      <td>3,59</td>\n",
       "      <td>3,074</td>\n",
       "      <td>не вкусно</td>\n",
       "      <td>более_2_лет</td>\n",
       "    </tr>\n",
       "    <tr>\n",
       "      <th>3</th>\n",
       "      <td>4</td>\n",
       "      <td>5895</td>\n",
       "      <td>12,4</td>\n",
       "      <td>2012</td>\n",
       "      <td>0,885</td>\n",
       "      <td>РефлешнСоверинг</td>\n",
       "      <td>Холмистое</td>\n",
       "      <td>Айдиал</td>\n",
       "      <td>3,4</td>\n",
       "      <td>3,075</td>\n",
       "      <td>не вкусно</td>\n",
       "      <td>более_2_лет</td>\n",
       "    </tr>\n",
       "    <tr>\n",
       "      <th>4</th>\n",
       "      <td>5</td>\n",
       "      <td>5302</td>\n",
       "      <td>12,8</td>\n",
       "      <td>1675</td>\n",
       "      <td>0,885</td>\n",
       "      <td>Вис Бик Айдиал</td>\n",
       "      <td>Равнинные</td>\n",
       "      <td>Соверин</td>\n",
       "      <td>3,73</td>\n",
       "      <td>3,073</td>\n",
       "      <td>вкусно</td>\n",
       "      <td>менее_2_лет</td>\n",
       "    </tr>\n",
       "  </tbody>\n",
       "</table>\n",
       "</div>"
      ],
      "text/plain": [
       "   id  Удой, кг ЭКЕ (Энергетическая кормовая единица)  Сырой протеин, г  \\\n",
       "0   1      5863                                  14,2              1743   \n",
       "1   2      5529                                  12,8              2138   \n",
       "2   3      5810                                    14              1854   \n",
       "3   4      5895                                  12,4              2012   \n",
       "4   5      5302                                  12,8              1675   \n",
       "\n",
       "  СПО (Сахаро-протеиновое соотношение)           Порода Тип пастбища  \\\n",
       "0                                 0,89   Вис Бик Айдиал    Равнинное   \n",
       "1                                 0,89   Вис Бик Айдиал    Равнинные   \n",
       "2                                0,885  РефлешнСоверинг    Холмистое   \n",
       "3                                0,885  РефлешнСоверинг    Холмистое   \n",
       "4                                0,885   Вис Бик Айдиал    Равнинные   \n",
       "\n",
       "  порода папы_быка Жирность,% Белок,% Вкус молока      Возраст  \n",
       "0           Айдиал       3,58   3,076      вкусно  более_2_лет  \n",
       "1          Соверин       3,54   3,079      вкусно  менее_2_лет  \n",
       "2          Соверин       3,59   3,074   не вкусно  более_2_лет  \n",
       "3           Айдиал        3,4   3,075   не вкусно  более_2_лет  \n",
       "4          Соверин       3,73   3,073      вкусно  менее_2_лет  "
      ]
     },
     "execution_count": 4,
     "metadata": {},
     "output_type": "execute_result"
    }
   ],
   "source": [
    "df_ferma_main.head()"
   ]
  },
  {
   "cell_type": "code",
   "execution_count": 5,
   "metadata": {},
   "outputs": [
    {
     "name": "stdout",
     "output_type": "stream",
     "text": [
      "<class 'pandas.core.frame.DataFrame'>\n",
      "RangeIndex: 629 entries, 0 to 628\n",
      "Data columns (total 2 columns):\n",
      " #   Column    Non-Null Count  Dtype \n",
      "---  ------    --------------  ----- \n",
      " 0   id        629 non-null    int64 \n",
      " 1   Имя Папы  629 non-null    object\n",
      "dtypes: int64(1), object(1)\n",
      "memory usage: 10.0+ KB\n"
     ]
    }
   ],
   "source": [
    "df_ferma_dad.info()"
   ]
  },
  {
   "cell_type": "code",
   "execution_count": 6,
   "metadata": {},
   "outputs": [
    {
     "data": {
      "text/html": [
       "<div>\n",
       "<style scoped>\n",
       "    .dataframe tbody tr th:only-of-type {\n",
       "        vertical-align: middle;\n",
       "    }\n",
       "\n",
       "    .dataframe tbody tr th {\n",
       "        vertical-align: top;\n",
       "    }\n",
       "\n",
       "    .dataframe thead th {\n",
       "        text-align: right;\n",
       "    }\n",
       "</style>\n",
       "<table border=\"1\" class=\"dataframe\">\n",
       "  <thead>\n",
       "    <tr style=\"text-align: right;\">\n",
       "      <th></th>\n",
       "      <th>id</th>\n",
       "      <th>Имя Папы</th>\n",
       "    </tr>\n",
       "  </thead>\n",
       "  <tbody>\n",
       "    <tr>\n",
       "      <th>0</th>\n",
       "      <td>1</td>\n",
       "      <td>Буйный</td>\n",
       "    </tr>\n",
       "    <tr>\n",
       "      <th>1</th>\n",
       "      <td>2</td>\n",
       "      <td>Соловчик</td>\n",
       "    </tr>\n",
       "    <tr>\n",
       "      <th>2</th>\n",
       "      <td>3</td>\n",
       "      <td>Барин</td>\n",
       "    </tr>\n",
       "    <tr>\n",
       "      <th>3</th>\n",
       "      <td>4</td>\n",
       "      <td>Буйный</td>\n",
       "    </tr>\n",
       "    <tr>\n",
       "      <th>4</th>\n",
       "      <td>5</td>\n",
       "      <td>Барин</td>\n",
       "    </tr>\n",
       "  </tbody>\n",
       "</table>\n",
       "</div>"
      ],
      "text/plain": [
       "   id  Имя Папы\n",
       "0   1    Буйный\n",
       "1   2  Соловчик\n",
       "2   3     Барин\n",
       "3   4    Буйный\n",
       "4   5     Барин"
      ]
     },
     "execution_count": 6,
     "metadata": {},
     "output_type": "execute_result"
    }
   ],
   "source": [
    "df_ferma_dad.head()"
   ]
  },
  {
   "cell_type": "code",
   "execution_count": 7,
   "metadata": {},
   "outputs": [
    {
     "name": "stdout",
     "output_type": "stream",
     "text": [
      "<class 'pandas.core.frame.DataFrame'>\n",
      "RangeIndex: 20 entries, 0 to 19\n",
      "Data columns (total 6 columns):\n",
      " #   Column                   Non-Null Count  Dtype \n",
      "---  ------                   --------------  ----- \n",
      " 0   Порода                   20 non-null     object\n",
      " 1   Тип пастбища             20 non-null     object\n",
      " 2   порода папы_быка         20 non-null     object\n",
      " 3   Имя_папы                 20 non-null     object\n",
      " 4   Текущая_жирность,%       20 non-null     object\n",
      " 5   Текущий_уровень_белок,%  20 non-null     object\n",
      "dtypes: object(6)\n",
      "memory usage: 1.1+ KB\n"
     ]
    }
   ],
   "source": [
    "df_cow_buy.info()"
   ]
  },
  {
   "cell_type": "code",
   "execution_count": 8,
   "metadata": {},
   "outputs": [
    {
     "data": {
      "text/html": [
       "<div>\n",
       "<style scoped>\n",
       "    .dataframe tbody tr th:only-of-type {\n",
       "        vertical-align: middle;\n",
       "    }\n",
       "\n",
       "    .dataframe tbody tr th {\n",
       "        vertical-align: top;\n",
       "    }\n",
       "\n",
       "    .dataframe thead th {\n",
       "        text-align: right;\n",
       "    }\n",
       "</style>\n",
       "<table border=\"1\" class=\"dataframe\">\n",
       "  <thead>\n",
       "    <tr style=\"text-align: right;\">\n",
       "      <th></th>\n",
       "      <th>Порода</th>\n",
       "      <th>Тип пастбища</th>\n",
       "      <th>порода папы_быка</th>\n",
       "      <th>Имя_папы</th>\n",
       "      <th>Текущая_жирность,%</th>\n",
       "      <th>Текущий_уровень_белок,%</th>\n",
       "    </tr>\n",
       "  </thead>\n",
       "  <tbody>\n",
       "    <tr>\n",
       "      <th>0</th>\n",
       "      <td>Вис Бик Айдиал</td>\n",
       "      <td>холмистое</td>\n",
       "      <td>Айдиал</td>\n",
       "      <td>Геркулес</td>\n",
       "      <td>3,58</td>\n",
       "      <td>3,076</td>\n",
       "    </tr>\n",
       "    <tr>\n",
       "      <th>1</th>\n",
       "      <td>Вис Бик Айдиал</td>\n",
       "      <td>равнинное</td>\n",
       "      <td>Соверин</td>\n",
       "      <td>Буйный</td>\n",
       "      <td>3,54</td>\n",
       "      <td>3,081</td>\n",
       "    </tr>\n",
       "    <tr>\n",
       "      <th>2</th>\n",
       "      <td>РефлешнСоверинг</td>\n",
       "      <td>равнинное</td>\n",
       "      <td>Соверин</td>\n",
       "      <td>Барин</td>\n",
       "      <td>3,59</td>\n",
       "      <td>3,074</td>\n",
       "    </tr>\n",
       "    <tr>\n",
       "      <th>3</th>\n",
       "      <td>РефлешнСоверинг</td>\n",
       "      <td>холмистое</td>\n",
       "      <td>Айдиал</td>\n",
       "      <td>Буйный</td>\n",
       "      <td>3,4</td>\n",
       "      <td>3,061</td>\n",
       "    </tr>\n",
       "    <tr>\n",
       "      <th>4</th>\n",
       "      <td>РефлешнСоверинг</td>\n",
       "      <td>равнинное</td>\n",
       "      <td>Айдиал</td>\n",
       "      <td>Буйный</td>\n",
       "      <td>3,64</td>\n",
       "      <td>3,074</td>\n",
       "    </tr>\n",
       "  </tbody>\n",
       "</table>\n",
       "</div>"
      ],
      "text/plain": [
       "            Порода Тип пастбища порода папы_быка  Имя_папы Текущая_жирность,%  \\\n",
       "0   Вис Бик Айдиал    холмистое           Айдиал  Геркулес               3,58   \n",
       "1   Вис Бик Айдиал    равнинное          Соверин    Буйный               3,54   \n",
       "2  РефлешнСоверинг    равнинное          Соверин     Барин               3,59   \n",
       "3  РефлешнСоверинг    холмистое           Айдиал    Буйный                3,4   \n",
       "4  РефлешнСоверинг    равнинное           Айдиал    Буйный               3,64   \n",
       "\n",
       "  Текущий_уровень_белок,%  \n",
       "0                   3,076  \n",
       "1                   3,081  \n",
       "2                   3,074  \n",
       "3                   3,061  \n",
       "4                   3,074  "
      ]
     },
     "execution_count": 8,
     "metadata": {},
     "output_type": "execute_result"
    }
   ],
   "source": [
    "df_cow_buy.head()"
   ]
  },
  {
   "attachments": {},
   "cell_type": "markdown",
   "metadata": {},
   "source": [
    "# Этап 2. Предобработка данных "
   ]
  },
  {
   "attachments": {},
   "cell_type": "markdown",
   "metadata": {},
   "source": [
    "дубли"
   ]
  },
  {
   "cell_type": "code",
   "execution_count": 9,
   "metadata": {},
   "outputs": [
    {
     "name": "stdout",
     "output_type": "stream",
     "text": [
      "Количество дубликатов в датафрейме df_ferma_main: 0\n",
      "Количество дубликатов в датафрейме df_ferma_dad: 0\n",
      "Количество дубликатов в датафрейме df_cow_buy: 0\n"
     ]
    }
   ],
   "source": [
    "data_frame = [df_ferma_main, df_ferma_dad, df_cow_buy]\n",
    "\n",
    "for data in data_frame:\n",
    "    if data.duplicated().sum() > 0:\n",
    "        data.drop_duplicates(inplace=True)\n",
    "    #создаем словарь, где ключ - название переменной, чтобы название переменной передать в f-строку\n",
    "    data_name = [key for key, value in locals().items() if value is data][0]\n",
    "    print(f'Количество дубликатов в датафрейме {data_name}: {data.duplicated().sum()}')\n",
    "    "
   ]
  },
  {
   "attachments": {},
   "cell_type": "markdown",
   "metadata": {},
   "source": [
    "пропуски"
   ]
  },
  {
   "cell_type": "code",
   "execution_count": 10,
   "metadata": {},
   "outputs": [
    {
     "name": "stdout",
     "output_type": "stream",
     "text": [
      "прошущенные значения в df_ferma_main:\n",
      "id                                       0\n",
      "Удой, кг                                 0\n",
      "ЭКЕ (Энергетическая кормовая единица)    0\n",
      "Сырой протеин, г                         0\n",
      "СПО (Сахаро-протеиновое соотношение)     0\n",
      "Порода                                   0\n",
      "Тип пастбища                             0\n",
      "порода папы_быка                         0\n",
      "Жирность,%                               0\n",
      "Белок,%                                  0\n",
      "Вкус молока                              0\n",
      "Возраст                                  0\n",
      "dtype: int64\n",
      "\n",
      "прошущенные значения в df_ferma_dad:\n",
      "id          0\n",
      "Имя Папы    0\n",
      "dtype: int64\n",
      "\n",
      "прошущенные значения в df_cow_buy:\n",
      "Порода                     0\n",
      "Тип пастбища               0\n",
      "порода папы_быка           0\n",
      "Имя_папы                   0\n",
      "Текущая_жирность,%         0\n",
      "Текущий_уровень_белок,%    0\n",
      "dtype: int64\n",
      "\n"
     ]
    }
   ],
   "source": [
    "for data in data_frame:\n",
    "    data_name = [key for key, value in locals().items() if value is data][0]\n",
    "    print(f'прошущенные значения в {data_name}:\\n{data.isnull().sum().sort_values()}')\n",
    "    print()"
   ]
  },
  {
   "cell_type": "code",
   "execution_count": 11,
   "metadata": {},
   "outputs": [
    {
     "name": "stdout",
     "output_type": "stream",
     "text": [
      "<class 'pandas.core.frame.DataFrame'>\n",
      "Int64Index: 629 entries, 0 to 628\n",
      "Data columns (total 12 columns):\n",
      " #   Column                                 Non-Null Count  Dtype \n",
      "---  ------                                 --------------  ----- \n",
      " 0   id                                     629 non-null    int64 \n",
      " 1   Удой, кг                               629 non-null    int64 \n",
      " 2   ЭКЕ (Энергетическая кормовая единица)  629 non-null    object\n",
      " 3   Сырой протеин, г                       629 non-null    int64 \n",
      " 4   СПО (Сахаро-протеиновое соотношение)   629 non-null    object\n",
      " 5   Порода                                 629 non-null    object\n",
      " 6   Тип пастбища                           629 non-null    object\n",
      " 7   порода папы_быка                       629 non-null    object\n",
      " 8   Жирность,%                             629 non-null    object\n",
      " 9   Белок,%                                629 non-null    object\n",
      " 10  Вкус молока                            629 non-null    object\n",
      " 11  Возраст                                629 non-null    object\n",
      "dtypes: int64(3), object(9)\n",
      "memory usage: 63.9+ KB\n"
     ]
    }
   ],
   "source": [
    "df_ferma_main.info()"
   ]
  },
  {
   "cell_type": "code",
   "execution_count": 12,
   "metadata": {},
   "outputs": [
    {
     "data": {
      "text/plain": [
       "Index(['id', 'Удой, кг', 'ЭКЕ (Энергетическая кормовая единица)',\n",
       "       'Сырой протеин, г', 'СПО (Сахаро-протеиновое соотношение)', 'Порода',\n",
       "       'Тип пастбища', 'порода папы_быка', 'Жирность,%', 'Белок,%',\n",
       "       'Вкус молока', 'Возраст'],\n",
       "      dtype='object')"
      ]
     },
     "execution_count": 12,
     "metadata": {},
     "output_type": "execute_result"
    }
   ],
   "source": [
    "df_ferma_main.columns"
   ]
  },
  {
   "cell_type": "code",
   "execution_count": 13,
   "metadata": {},
   "outputs": [],
   "source": [
    "def replace_comma_with_dot(df_name: str, columns: List[str]):\n",
    "    df = globals()[df_name]  # Получение датафрейма по его названию\n",
    "    for column in columns:\n",
    "        df[column] = df[column].apply(lambda x: str(x).replace(',', '.')).astype(float)"
   ]
  },
  {
   "cell_type": "code",
   "execution_count": 14,
   "metadata": {},
   "outputs": [],
   "source": [
    "columns_to_change_type = ['ЭКЕ (Энергетическая кормовая единица)', \n",
    "                          'Сырой протеин, г', 'Жирность,%', 'Белок,%']\n",
    "\n",
    "replace_comma_with_dot('df_ferma_main', columns_to_change_type)"
   ]
  },
  {
   "cell_type": "code",
   "execution_count": 15,
   "metadata": {},
   "outputs": [
    {
     "name": "stdout",
     "output_type": "stream",
     "text": [
      "<class 'pandas.core.frame.DataFrame'>\n",
      "Int64Index: 629 entries, 0 to 628\n",
      "Data columns (total 12 columns):\n",
      " #   Column                                 Non-Null Count  Dtype  \n",
      "---  ------                                 --------------  -----  \n",
      " 0   id                                     629 non-null    int64  \n",
      " 1   Удой, кг                               629 non-null    int64  \n",
      " 2   ЭКЕ (Энергетическая кормовая единица)  629 non-null    float64\n",
      " 3   Сырой протеин, г                       629 non-null    float64\n",
      " 4   СПО (Сахаро-протеиновое соотношение)   629 non-null    object \n",
      " 5   Порода                                 629 non-null    object \n",
      " 6   Тип пастбища                           629 non-null    object \n",
      " 7   порода папы_быка                       629 non-null    object \n",
      " 8   Жирность,%                             629 non-null    float64\n",
      " 9   Белок,%                                629 non-null    float64\n",
      " 10  Вкус молока                            629 non-null    object \n",
      " 11  Возраст                                629 non-null    object \n",
      "dtypes: float64(4), int64(2), object(6)\n",
      "memory usage: 63.9+ KB\n"
     ]
    }
   ],
   "source": [
    "df_ferma_main.info()"
   ]
  },
  {
   "cell_type": "code",
   "execution_count": 16,
   "metadata": {},
   "outputs": [
    {
     "name": "stdout",
     "output_type": "stream",
     "text": [
      "<class 'pandas.core.frame.DataFrame'>\n",
      "RangeIndex: 629 entries, 0 to 628\n",
      "Data columns (total 2 columns):\n",
      " #   Column    Non-Null Count  Dtype \n",
      "---  ------    --------------  ----- \n",
      " 0   id        629 non-null    int64 \n",
      " 1   Имя Папы  629 non-null    object\n",
      "dtypes: int64(1), object(1)\n",
      "memory usage: 10.0+ KB\n"
     ]
    }
   ],
   "source": [
    "df_ferma_dad.info()"
   ]
  },
  {
   "cell_type": "code",
   "execution_count": 17,
   "metadata": {},
   "outputs": [
    {
     "name": "stdout",
     "output_type": "stream",
     "text": [
      "<class 'pandas.core.frame.DataFrame'>\n",
      "Int64Index: 16 entries, 0 to 18\n",
      "Data columns (total 6 columns):\n",
      " #   Column                   Non-Null Count  Dtype \n",
      "---  ------                   --------------  ----- \n",
      " 0   Порода                   16 non-null     object\n",
      " 1   Тип пастбища             16 non-null     object\n",
      " 2   порода папы_быка         16 non-null     object\n",
      " 3   Имя_папы                 16 non-null     object\n",
      " 4   Текущая_жирность,%       16 non-null     object\n",
      " 5   Текущий_уровень_белок,%  16 non-null     object\n",
      "dtypes: object(6)\n",
      "memory usage: 896.0+ bytes\n"
     ]
    }
   ],
   "source": [
    "df_cow_buy.info()"
   ]
  },
  {
   "cell_type": "code",
   "execution_count": 18,
   "metadata": {},
   "outputs": [],
   "source": [
    "columns_to_change_type = ['Текущая_жирность,%', 'Текущий_уровень_белок,%']\n",
    "replace_comma_with_dot('df_cow_buy', columns_to_change_type)"
   ]
  },
  {
   "cell_type": "code",
   "execution_count": 19,
   "metadata": {},
   "outputs": [
    {
     "name": "stdout",
     "output_type": "stream",
     "text": [
      "<class 'pandas.core.frame.DataFrame'>\n",
      "Int64Index: 16 entries, 0 to 18\n",
      "Data columns (total 6 columns):\n",
      " #   Column                   Non-Null Count  Dtype  \n",
      "---  ------                   --------------  -----  \n",
      " 0   Порода                   16 non-null     object \n",
      " 1   Тип пастбища             16 non-null     object \n",
      " 2   порода папы_быка         16 non-null     object \n",
      " 3   Имя_папы                 16 non-null     object \n",
      " 4   Текущая_жирность,%       16 non-null     float64\n",
      " 5   Текущий_уровень_белок,%  16 non-null     float64\n",
      "dtypes: float64(2), object(4)\n",
      "memory usage: 896.0+ bytes\n"
     ]
    }
   ],
   "source": [
    "df_cow_buy.info()"
   ]
  },
  {
   "attachments": {},
   "cell_type": "markdown",
   "metadata": {},
   "source": [
    "# Этап 3. Исследовательский анализ данных"
   ]
  },
  {
   "cell_type": "code",
   "execution_count": 25,
   "metadata": {},
   "outputs": [],
   "source": [
    "def create_histogram(data, column, title, bins):\n",
    "    plt.figure(figsize=(12, 6))\n",
    "    sns.set()\n",
    "    sns.histplot(data=data, x=column, kde=True, bins=bins)\n",
    "    plt.title(title, fontsize=18)\n",
    "    plt.xlabel(column, fontsize=14)\n",
    "    plt.ylabel('Частота', fontsize=14)\n",
    "    plt.show()\n"
   ]
  },
  {
   "cell_type": "code",
   "execution_count": 32,
   "metadata": {},
   "outputs": [],
   "source": [
    "def create_barplot(data, column, tittle):\n",
    "    plt.figure(figsize=(10, 6))\n",
    "    new_data = data[column].value_counts()\n",
    "    df_new_data = new_data.reset_index()\n",
    "    df_new_data.columns = [column, 'count']\n",
    "    sns.barplot(x=column, y='count', data = df_new_data)\n",
    "    plt.title(tittle)\n",
    "    plt.xlabel(f'{column}')\n",
    "    plt.ylabel(f'количество {column}')"
   ]
  },
  {
   "attachments": {},
   "cell_type": "markdown",
   "metadata": {},
   "source": [
    "Проанализируем удой "
   ]
  },
  {
   "cell_type": "code",
   "execution_count": 28,
   "metadata": {},
   "outputs": [
    {
     "data": {
      "image/png": "[encoded data removed]",
      "text/plain": [
       "<Figure size 1200x600 with 1 Axes>"
      ]
     },
     "metadata": {},
     "output_type": "display_data"
    }
   ],
   "source": [
    "create_histogram(df_ferma_main, 'Удой, кг', 'удой', 100)"
   ]
  },
  {
   "cell_type": "code",
   "execution_count": 29,
   "metadata": {},
   "outputs": [],
   "source": [
    "df_ferma_main = df_ferma_main[df_ferma_main['Удой, кг'] <= 10000]\n"
   ]
  },
  {
   "cell_type": "code",
   "execution_count": 31,
   "metadata": {},
   "outputs": [
    {
     "data": {
      "image/png": "[encoded data removed]",
      "text/plain": [
       "<Figure size 1200x600 with 1 Axes>"
      ]
     },
     "metadata": {},
     "output_type": "display_data"
    }
   ],
   "source": [
    "create_histogram(df_ferma_main, 'Удой, кг', 'удой', 50)"
   ]
  },
  {
   "cell_type": "code",
   "execution_count": 34,
   "metadata": {},
   "outputs": [
    {
     "data": {
      "image/png": "[encoded data removed]",
      "text/plain": [
       "<Figure size 1200x600 with 1 Axes>"
      ]
     },
     "metadata": {},
     "output_type": "display_data"
    }
   ],
   "source": [
    "create_histogram(df_ferma_main, 'ЭКЕ (Энергетическая кормовая единица)', 'ЭКЕ', 50)"
   ]
  },
  {
   "attachments": {},
   "cell_type": "markdown",
   "metadata": {},
   "source": [
    "порода"
   ]
  },
  {
   "cell_type": "code",
   "execution_count": 33,
   "metadata": {},
   "outputs": [
    {
     "data": {
      "image/png": "[encoded data removed]",
      "text/plain": [
       "<Figure size 1000x600 with 1 Axes>"
      ]
     },
     "metadata": {},
     "output_type": "display_data"
    }
   ],
   "source": [
    "create_barplot(df_ferma_main, 'Порода', 'Количество пород')"
   ]
  }
 ],
 "metadata": {
  "kernelspec": {
   "display_name": "practicum",
   "language": "python",
   "name": "python3"
  },
  "language_info": {
   "codemirror_mode": {
    "name": "ipython",
    "version": 3
   },
   "file_extension": ".py",
   "mimetype": "text/x-python",
   "name": "python",
   "nbconvert_exporter": "python",
   "pygments_lexer": "ipython3",
   "version": "3.9.16"
  },
  "orig_nbformat": 4
 },
 "nbformat": 4,
 "nbformat_minor": 2
}
