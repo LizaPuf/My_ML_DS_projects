{
 "cells": [
  {
   "cell_type": "markdown",
   "metadata": {},
   "source": [
    "# Проект \n",
    "# Определение стоимости автомобилей\n",
    "\n",
    "Сервис по продаже автомобилей с пробегом «Не бит, не крашен» разрабатывает приложение для привлечения новых клиентов. В нём можно быстро узнать рыночную стоимость своего автомобиля. В вашем распоряжении исторические данные: технические характеристики, комплектации и цены автомобилей. Вам нужно построить модель для определения стоимости. \n",
    "\n",
    "Заказчику важны:\n",
    "\n",
    "- качество предсказания;\n",
    "- скорость предсказания;\n",
    "- время обучения.\n",
    "\n",
    "Описание данных:\n",
    "- **Признаки**\n",
    "\n",
    "- `DateCrawled` — дата скачивания анкеты из базы\n",
    "- `VehicleType` — тип автомобильного кузова\n",
    "- `RegistrationYear` — год регистрации автомобиля\n",
    "- `Gearbox` — тип коробки передач\n",
    "- `Power` — мощность (л. с.)\n",
    "- `Model` — модель автомобиля\n",
    "- `Kilometer` — пробег (км)\n",
    "- `RegistrationMonth` — месяц регистрации автомобиля\n",
    "- `FuelType` — тип топлива\n",
    "- `Brand` — марка автомобиля\n",
    "- `NotRepaired` — была машина в ремонте или нет\n",
    "- `DateCreated` — дата создания анкеты\n",
    "- `NumberOfPictures` — количество фотографий автомобиля\n",
    "- `PostalCode` — почтовый индекс владельца анкеты (пользователя)\n",
    "- `LastSee`n — дата последней активности пользователя\n",
    "- **Целевой признак**\n",
    "\n",
    "- `Price` — цена (евро)"
   ]
  },
  {
   "cell_type": "markdown",
   "metadata": {},
   "source": [
    "## Шаг 1 \n",
    "### Имрорт необходимы библиотек и функции "
   ]
  },
  {
   "cell_type": "code",
   "execution_count": 1,
   "metadata": {},
   "outputs": [
    {
     "name": "stdout",
     "output_type": "stream",
     "text": [
      "Requirement already satisfied: phik in /opt/conda/lib/python3.9/site-packages (0.12.4)\r\n",
      "Requirement already satisfied: matplotlib>=2.2.3 in /opt/conda/lib/python3.9/site-packages (from phik) (3.3.4)\r\n",
      "Requirement already satisfied: pandas>=0.25.1 in /opt/conda/lib/python3.9/site-packages (from phik) (1.2.4)\r\n",
      "Requirement already satisfied: joblib>=0.14.1 in /opt/conda/lib/python3.9/site-packages (from phik) (1.1.0)\r\n",
      "Requirement already satisfied: scipy>=1.5.2 in /opt/conda/lib/python3.9/site-packages (from phik) (1.9.1)\r\n",
      "Requirement already satisfied: numpy>=1.18.0 in /opt/conda/lib/python3.9/site-packages (from phik) (1.21.1)\r\n",
      "Requirement already satisfied: cycler>=0.10 in /opt/conda/lib/python3.9/site-packages (from matplotlib>=2.2.3->phik) (0.11.0)\r\n",
      "Requirement already satisfied: pillow>=6.2.0 in /opt/conda/lib/python3.9/site-packages (from matplotlib>=2.2.3->phik) (8.4.0)\r\n",
      "Requirement already satisfied: pyparsing!=2.0.4,!=2.1.2,!=2.1.6,>=2.0.3 in /opt/conda/lib/python3.9/site-packages (from matplotlib>=2.2.3->phik) (2.4.7)\r\n",
      "Requirement already satisfied: kiwisolver>=1.0.1 in /opt/conda/lib/python3.9/site-packages (from matplotlib>=2.2.3->phik) (1.4.4)\r\n",
      "Requirement already satisfied: python-dateutil>=2.1 in /opt/conda/lib/python3.9/site-packages (from matplotlib>=2.2.3->phik) (2.8.1)\r\n",
      "Requirement already satisfied: pytz>=2017.3 in /opt/conda/lib/python3.9/site-packages (from pandas>=0.25.1->phik) (2021.1)\r\n",
      "Requirement already satisfied: six>=1.5 in /opt/conda/lib/python3.9/site-packages (from python-dateutil>=2.1->matplotlib>=2.2.3->phik) (1.16.0)\r\n"
     ]
    }
   ],
   "source": [
    "! pip install phik"
   ]
  },
  {
   "cell_type": "code",
   "execution_count": 2,
   "metadata": {},
   "outputs": [],
   "source": [
    "#импорт необходимых библиотек \n",
    "import pandas as pd\n",
    "import numpy as np\n",
    "import matplotlib.pyplot as plt  \n",
    "from scipy import stats\n",
    "import seaborn as sns\n",
    "from typing import List\n",
    "from scipy.stats import shapiro\n",
    "import warnings\n",
    "\n",
    "from sklearn.model_selection import train_test_split\n",
    "from sklearn.metrics import mean_squared_error\n",
    "\n",
    "from sklearn.compose import ColumnTransformer\n",
    "\n",
    "from sklearn.impute import SimpleImputer \n",
    "from sklearn.preprocessing import StandardScaler, OrdinalEncoder\n",
    "from sklearn.pipeline import Pipeline\n",
    "from sklearn.model_selection import RandomizedSearchCV\n",
    "from time import time\n",
    "import phik \n",
    "from sklearn.tree import DecisionTreeRegressor\n",
    "\n",
    "from lightgbm import LGBMRegressor\n",
    "from catboost import CatBoostRegressor\n",
    "\n",
    "\n",
    "import warnings\n",
    "warnings.filterwarnings(action='ignore')\n",
    "\n",
    "\n",
    "\n",
    "RANDOM_STATE = 42\n",
    "TEST_SIZE = 0.2\n",
    "\n",
    "\n",
    "from catboost import CatBoostRegressor\n",
    "\n",
    "\n",
    "import warnings\n",
    "warnings.filterwarnings(action='ignore')\n",
    "\n",
    "\n",
    "\n",
    "RANDOM_STATE = 42\n",
    "TEST_SIZE = 0.2\n"
   ]
  },
  {
   "cell_type": "code",
   "execution_count": 3,
   "metadata": {},
   "outputs": [],
   "source": [
    "def create_boxplot_and_histogram(data, column):\n",
    "    fig, axes = plt.subplots(1, 2, figsize=(15, 6))\n",
    "\n",
    "    # График ящика с усами\n",
    "    sns.boxplot(x=data[column], ax=axes[0])\n",
    "    axes[0].set_title(f'Ящик с усами для {column}')\n",
    "    axes[0].set_xlabel(column)\n",
    "\n",
    "    # Гистограмма\n",
    "    num_bins = int(np.ceil(np.sqrt(len(data[column]))))\n",
    "    sns.histplot(data=data, x=column, kde=True, bins=num_bins, ax=axes[1])\n",
    "    axes[1].set_title(f'{column} - Частота распределения', fontsize=18)\n",
    "    axes[1].set_xlabel(column, fontsize=14)\n",
    "    axes[1].set_ylabel('Частота', fontsize=14)\n",
    "\n",
    "    plt.show()"
   ]
  },
  {
   "cell_type": "code",
   "execution_count": 4,
   "metadata": {},
   "outputs": [],
   "source": [
    "def create_barplot(data, column):\n",
    "    \"\"\"\n",
    "    Input:\n",
    "    - data (DataFrame): Исходный DataFrame с данными.\n",
    "    - column (str): Название колонки, для которой нужно построить диаграмму.\n",
    "    - title (str): Заголовок для столбчатой диаграммы.\n",
    "    \n",
    "    Output:\n",
    "    None\n",
    "\n",
    "    Description:\n",
    "    Функция создает столбчатую диаграмму на основе данных из указанной колонки.\n",
    "    \"\"\"\n",
    "    plt.figure(figsize=(10, 6))\n",
    "    new_data = data[column].value_counts()\n",
    "    df_new_data = new_data.reset_index()\n",
    "    df_new_data.columns = [column, 'count']\n",
    "    sns.barplot(x=column, y='count', data = df_new_data)\n",
    "    plt.title(f'{column}.Плотность распределения')\n",
    "    plt.xlabel(f'{column}')\n",
    "    plt.ylabel(f'количество {column}')"
   ]
  },
  {
   "cell_type": "code",
   "execution_count": 5,
   "metadata": {},
   "outputs": [],
   "source": [
    "def cat_num_col(df):\n",
    "    \"\"\"\n",
    "    Input:\n",
    "    - df(DataDrame): Исходный DataFrame с данными\n",
    "    Output:\n",
    "    - num_col_names(list) - список столбцов с количественными признаками\n",
    "    - cat_col_names(list) - список столбцов с категориальными признаками\n",
    "\n",
    "    Description:\n",
    "    Функция возвращает списки с названиями столбцов категориальных и количественных признаков. id из списка удаляется\n",
    "\n",
    "    \"\"\"\n",
    "    num_col_names = list(df.select_dtypes(include=['int64', 'float64']).columns)\n",
    "    cat_col_names = list(df.select_dtypes(include=['object']).columns)\n",
    "    #num_col_names.remove('id')\n",
    "    return num_col_names, cat_col_names"
   ]
  },
  {
   "cell_type": "code",
   "execution_count": 6,
   "metadata": {},
   "outputs": [],
   "source": [
    "def evaluate_pipeline(pipeline, param_grid, X_train, y_train):\n",
    "    start_time = time()\n",
    "    \n",
    "    grid_search = RandomizedSearchCV(pipeline, param_grid, n_jobs=-1, cv=5,scoring='neg_mean_squared_error')\n",
    "\n",
    "    grid_search.fit(X_train, y_train)\n",
    "    \n",
    "    end_time = time()\n",
    "    execution_time = end_time - start_time\n",
    "    best_params = grid_search.best_params_\n",
    "    best_model = grid_search.best_estimator_\n",
    "    rmse = np.sqrt(abs(grid_search.best_score_))\n",
    "\n",
    "    start_prediction_time = time()\n",
    "    predictions = best_model.predict(X_train)\n",
    "    end_prediction_time = time()\n",
    "    prediction_time = end_prediction_time - start_prediction_time\n",
    "\n",
    "    return best_params, execution_time, rmse, best_model, prediction_time"
   ]
  },
  {
   "cell_type": "code",
   "execution_count": 7,
   "metadata": {},
   "outputs": [],
   "source": [
    "def plot_phik_heatmap(dataframe, interval_cols):\n",
    "    \"\"\"\n",
    "    Input:\n",
    "    - dataframe (DataFrame): Исходный DataFrame с данными.\n",
    "    - interval_cols (list): Список названий интервальных признаков для расчета phik.\n",
    "    \n",
    "    Output:\n",
    "    None\n",
    "    \n",
    "    Description:\n",
    "    Эта функция вычисляет матрицу корреляций на основе phik для указанных интервальных признаков и строит тепловую карту на основе этой матрицы с использованием библиотеки seaborn.\n",
    "    \"\"\"\n",
    "    # Вычисление phik_matrix\n",
    "    phik_matrix = dataframe.phik_matrix(interval_cols=interval_cols)\n",
    "\n",
    "    # Использование цветовой карты RdYlBu для лучшей визуализации\n",
    "    cmap = sns.diverging_palette(220, 20, as_cmap=True)\n",
    "\n",
    "    # Создание тепловой карты на основе phik_matrix\n",
    "    plt.figure(figsize=(10, 8))\n",
    "    sns.heatmap(phik_matrix, annot=True, cmap=cmap, center=0, square=True, linewidths=.5)\n",
    "    plt.title('Phik. Тепловая карта')\n",
    "    plt.show()"
   ]
  },
  {
   "cell_type": "markdown",
   "metadata": {},
   "source": [
    "### Загрузка и предобработка данных "
   ]
  },
  {
   "cell_type": "code",
   "execution_count": 8,
   "metadata": {},
   "outputs": [],
   "source": [
    "try:\n",
    "    df_auto = pd.read_csv('https://code.s3.yandex.net//datasets/autos.csv')\n",
    "except FileNotFoundError:\n",
    "    print('Что-то пошло не так')\n",
    "    "
   ]
  },
  {
   "cell_type": "code",
   "execution_count": 9,
   "metadata": {},
   "outputs": [
    {
     "name": "stdout",
     "output_type": "stream",
     "text": [
      "<class 'pandas.core.frame.DataFrame'>\n",
      "RangeIndex: 354369 entries, 0 to 354368\n",
      "Data columns (total 16 columns):\n",
      " #   Column             Non-Null Count   Dtype \n",
      "---  ------             --------------   ----- \n",
      " 0   DateCrawled        354369 non-null  object\n",
      " 1   Price              354369 non-null  int64 \n",
      " 2   VehicleType        316879 non-null  object\n",
      " 3   RegistrationYear   354369 non-null  int64 \n",
      " 4   Gearbox            334536 non-null  object\n",
      " 5   Power              354369 non-null  int64 \n",
      " 6   Model              334664 non-null  object\n",
      " 7   Kilometer          354369 non-null  int64 \n",
      " 8   RegistrationMonth  354369 non-null  int64 \n",
      " 9   FuelType           321474 non-null  object\n",
      " 10  Brand              354369 non-null  object\n",
      " 11  Repaired           283215 non-null  object\n",
      " 12  DateCreated        354369 non-null  object\n",
      " 13  NumberOfPictures   354369 non-null  int64 \n",
      " 14  PostalCode         354369 non-null  int64 \n",
      " 15  LastSeen           354369 non-null  object\n",
      "dtypes: int64(7), object(9)\n",
      "memory usage: 43.3+ MB\n"
     ]
    }
   ],
   "source": [
    "df_auto.info()"
   ]
  },
  {
   "cell_type": "code",
   "execution_count": 10,
   "metadata": {},
   "outputs": [
    {
     "data": {
      "text/html": [
       "<div>\n",
       "<style scoped>\n",
       "    .dataframe tbody tr th:only-of-type {\n",
       "        vertical-align: middle;\n",
       "    }\n",
       "\n",
       "    .dataframe tbody tr th {\n",
       "        vertical-align: top;\n",
       "    }\n",
       "\n",
       "    .dataframe thead th {\n",
       "        text-align: right;\n",
       "    }\n",
       "</style>\n",
       "<table border=\"1\" class=\"dataframe\">\n",
       "  <thead>\n",
       "    <tr style=\"text-align: right;\">\n",
       "      <th></th>\n",
       "      <th>DateCrawled</th>\n",
       "      <th>Price</th>\n",
       "      <th>VehicleType</th>\n",
       "      <th>RegistrationYear</th>\n",
       "      <th>Gearbox</th>\n",
       "      <th>Power</th>\n",
       "      <th>Model</th>\n",
       "      <th>Kilometer</th>\n",
       "      <th>RegistrationMonth</th>\n",
       "      <th>FuelType</th>\n",
       "      <th>Brand</th>\n",
       "      <th>Repaired</th>\n",
       "      <th>DateCreated</th>\n",
       "      <th>NumberOfPictures</th>\n",
       "      <th>PostalCode</th>\n",
       "      <th>LastSeen</th>\n",
       "    </tr>\n",
       "  </thead>\n",
       "  <tbody>\n",
       "    <tr>\n",
       "      <th>0</th>\n",
       "      <td>2016-03-24 11:52:17</td>\n",
       "      <td>480</td>\n",
       "      <td>NaN</td>\n",
       "      <td>1993</td>\n",
       "      <td>manual</td>\n",
       "      <td>0</td>\n",
       "      <td>golf</td>\n",
       "      <td>150000</td>\n",
       "      <td>0</td>\n",
       "      <td>petrol</td>\n",
       "      <td>volkswagen</td>\n",
       "      <td>NaN</td>\n",
       "      <td>2016-03-24 00:00:00</td>\n",
       "      <td>0</td>\n",
       "      <td>70435</td>\n",
       "      <td>2016-04-07 03:16:57</td>\n",
       "    </tr>\n",
       "    <tr>\n",
       "      <th>1</th>\n",
       "      <td>2016-03-24 10:58:45</td>\n",
       "      <td>18300</td>\n",
       "      <td>coupe</td>\n",
       "      <td>2011</td>\n",
       "      <td>manual</td>\n",
       "      <td>190</td>\n",
       "      <td>NaN</td>\n",
       "      <td>125000</td>\n",
       "      <td>5</td>\n",
       "      <td>gasoline</td>\n",
       "      <td>audi</td>\n",
       "      <td>yes</td>\n",
       "      <td>2016-03-24 00:00:00</td>\n",
       "      <td>0</td>\n",
       "      <td>66954</td>\n",
       "      <td>2016-04-07 01:46:50</td>\n",
       "    </tr>\n",
       "    <tr>\n",
       "      <th>2</th>\n",
       "      <td>2016-03-14 12:52:21</td>\n",
       "      <td>9800</td>\n",
       "      <td>suv</td>\n",
       "      <td>2004</td>\n",
       "      <td>auto</td>\n",
       "      <td>163</td>\n",
       "      <td>grand</td>\n",
       "      <td>125000</td>\n",
       "      <td>8</td>\n",
       "      <td>gasoline</td>\n",
       "      <td>jeep</td>\n",
       "      <td>NaN</td>\n",
       "      <td>2016-03-14 00:00:00</td>\n",
       "      <td>0</td>\n",
       "      <td>90480</td>\n",
       "      <td>2016-04-05 12:47:46</td>\n",
       "    </tr>\n",
       "    <tr>\n",
       "      <th>3</th>\n",
       "      <td>2016-03-17 16:54:04</td>\n",
       "      <td>1500</td>\n",
       "      <td>small</td>\n",
       "      <td>2001</td>\n",
       "      <td>manual</td>\n",
       "      <td>75</td>\n",
       "      <td>golf</td>\n",
       "      <td>150000</td>\n",
       "      <td>6</td>\n",
       "      <td>petrol</td>\n",
       "      <td>volkswagen</td>\n",
       "      <td>no</td>\n",
       "      <td>2016-03-17 00:00:00</td>\n",
       "      <td>0</td>\n",
       "      <td>91074</td>\n",
       "      <td>2016-03-17 17:40:17</td>\n",
       "    </tr>\n",
       "    <tr>\n",
       "      <th>4</th>\n",
       "      <td>2016-03-31 17:25:20</td>\n",
       "      <td>3600</td>\n",
       "      <td>small</td>\n",
       "      <td>2008</td>\n",
       "      <td>manual</td>\n",
       "      <td>69</td>\n",
       "      <td>fabia</td>\n",
       "      <td>90000</td>\n",
       "      <td>7</td>\n",
       "      <td>gasoline</td>\n",
       "      <td>skoda</td>\n",
       "      <td>no</td>\n",
       "      <td>2016-03-31 00:00:00</td>\n",
       "      <td>0</td>\n",
       "      <td>60437</td>\n",
       "      <td>2016-04-06 10:17:21</td>\n",
       "    </tr>\n",
       "  </tbody>\n",
       "</table>\n",
       "</div>"
      ],
      "text/plain": [
       "           DateCrawled  Price VehicleType  RegistrationYear Gearbox  Power  \\\n",
       "0  2016-03-24 11:52:17    480         NaN              1993  manual      0   \n",
       "1  2016-03-24 10:58:45  18300       coupe              2011  manual    190   \n",
       "2  2016-03-14 12:52:21   9800         suv              2004    auto    163   \n",
       "3  2016-03-17 16:54:04   1500       small              2001  manual     75   \n",
       "4  2016-03-31 17:25:20   3600       small              2008  manual     69   \n",
       "\n",
       "   Model  Kilometer  RegistrationMonth  FuelType       Brand Repaired  \\\n",
       "0   golf     150000                  0    petrol  volkswagen      NaN   \n",
       "1    NaN     125000                  5  gasoline        audi      yes   \n",
       "2  grand     125000                  8  gasoline        jeep      NaN   \n",
       "3   golf     150000                  6    petrol  volkswagen       no   \n",
       "4  fabia      90000                  7  gasoline       skoda       no   \n",
       "\n",
       "           DateCreated  NumberOfPictures  PostalCode             LastSeen  \n",
       "0  2016-03-24 00:00:00                 0       70435  2016-04-07 03:16:57  \n",
       "1  2016-03-24 00:00:00                 0       66954  2016-04-07 01:46:50  \n",
       "2  2016-03-14 00:00:00                 0       90480  2016-04-05 12:47:46  \n",
       "3  2016-03-17 00:00:00                 0       91074  2016-03-17 17:40:17  \n",
       "4  2016-03-31 00:00:00                 0       60437  2016-04-06 10:17:21  "
      ]
     },
     "execution_count": 10,
     "metadata": {},
     "output_type": "execute_result"
    }
   ],
   "source": [
    "df_auto.head()"
   ]
  },
  {
   "cell_type": "markdown",
   "metadata": {},
   "source": [
    "В данных присутсвует 354369 данных, в некоторых колонках есть пропуски. Для удобства приведем названия колонок к нижнему регистру, а столбцы datecrawled, datecreated, lastseen, numberofpictures, postalcode,  registrationmonth сразу удалим. Так как они не имеют прямого отношения к образованию стоимости автомобиля. "
   ]
  },
  {
   "cell_type": "code",
   "execution_count": 11,
   "metadata": {},
   "outputs": [],
   "source": [
    "df_auto.columns = [col.lower() for col in df_auto.columns]\n"
   ]
  },
  {
   "cell_type": "code",
   "execution_count": 12,
   "metadata": {},
   "outputs": [],
   "source": [
    "df_auto = df_auto.drop(\n",
    "    ['datecrawled',\n",
    "     'datecreated',\n",
    "     'lastseen',\n",
    "     'numberofpictures',\n",
    "     'postalcode',\n",
    "     'registrationmonth'],\n",
    "    axis=1)"
   ]
  },
  {
   "cell_type": "code",
   "execution_count": 13,
   "metadata": {},
   "outputs": [
    {
     "name": "stdout",
     "output_type": "stream",
     "text": [
      "<class 'pandas.core.frame.DataFrame'>\n",
      "RangeIndex: 354369 entries, 0 to 354368\n",
      "Data columns (total 10 columns):\n",
      " #   Column            Non-Null Count   Dtype \n",
      "---  ------            --------------   ----- \n",
      " 0   price             354369 non-null  int64 \n",
      " 1   vehicletype       316879 non-null  object\n",
      " 2   registrationyear  354369 non-null  int64 \n",
      " 3   gearbox           334536 non-null  object\n",
      " 4   power             354369 non-null  int64 \n",
      " 5   model             334664 non-null  object\n",
      " 6   kilometer         354369 non-null  int64 \n",
      " 7   fueltype          321474 non-null  object\n",
      " 8   brand             354369 non-null  object\n",
      " 9   repaired          283215 non-null  object\n",
      "dtypes: int64(4), object(6)\n",
      "memory usage: 27.0+ MB\n"
     ]
    }
   ],
   "source": [
    "df_auto.info()"
   ]
  },
  {
   "cell_type": "markdown",
   "metadata": {},
   "source": [
    "**Price**"
   ]
  },
  {
   "cell_type": "code",
   "execution_count": 14,
   "metadata": {},
   "outputs": [
    {
     "data": {
      "image/png": "[encoded data removed]",
      "text/plain": [
       "<Figure size 1080x432 with 2 Axes>"
      ]
     },
     "metadata": {
      "needs_background": "light"
     },
     "output_type": "display_data"
    }
   ],
   "source": [
    "create_boxplot_and_histogram(df_auto, 'price')"
   ]
  },
  {
   "cell_type": "code",
   "execution_count": 15,
   "metadata": {},
   "outputs": [
    {
     "data": {
      "text/plain": [
       "count    354369.000000\n",
       "mean       4416.656776\n",
       "std        4514.158514\n",
       "min           0.000000\n",
       "25%        1050.000000\n",
       "50%        2700.000000\n",
       "75%        6400.000000\n",
       "max       20000.000000\n",
       "Name: price, dtype: float64"
      ]
     },
     "execution_count": 15,
     "metadata": {},
     "output_type": "execute_result"
    }
   ],
   "source": [
    "df_auto['price'].describe()"
   ]
  },
  {
   "cell_type": "markdown",
   "metadata": {},
   "source": [
    "Нулевой цены, скорее всего, быть не может. Но довольно низкие цены быть могут, если это старая машина: которая больше похожа на металлолом. Оставим только те, что выше 500 евро. "
   ]
  },
  {
   "cell_type": "code",
   "execution_count": 16,
   "metadata": {},
   "outputs": [],
   "source": [
    "df_auto = df_auto.query('price >= 500')"
   ]
  },
  {
   "cell_type": "markdown",
   "metadata": {},
   "source": [
    "**registrationyear**"
   ]
  },
  {
   "cell_type": "code",
   "execution_count": 17,
   "metadata": {},
   "outputs": [
    {
     "data": {
      "image/png": "[encoded data removed]",
      "text/plain": [
       "<Figure size 1080x432 with 2 Axes>"
      ]
     },
     "metadata": {
      "needs_background": "light"
     },
     "output_type": "display_data"
    }
   ],
   "source": [
    "create_boxplot_and_histogram(df_auto, 'registrationyear')"
   ]
  },
  {
   "cell_type": "code",
   "execution_count": 18,
   "metadata": {},
   "outputs": [
    {
     "data": {
      "text/plain": [
       "count    318315.000000\n",
       "mean       2004.164636\n",
       "std          65.377755\n",
       "min        1000.000000\n",
       "25%        1999.000000\n",
       "50%        2004.000000\n",
       "75%        2008.000000\n",
       "max        9999.000000\n",
       "Name: registrationyear, dtype: float64"
      ]
     },
     "execution_count": 18,
     "metadata": {},
     "output_type": "execute_result"
    }
   ],
   "source": [
    "df_auto['registrationyear'].describe()"
   ]
  },
  {
   "cell_type": "markdown",
   "metadata": {},
   "source": [
    "первый в мире автомобиль с двигателем внутреннего сгорания сделали в 1885. Но эти автомобили совсем не похожи на те, что есть сейчас. Поэтому лучше будет оставить более современные автомобилы. Начиная с 1990 года и заканчивая прошлым годом"
   ]
  },
  {
   "cell_type": "code",
   "execution_count": 19,
   "metadata": {},
   "outputs": [],
   "source": [
    "df_auto = df_auto.query('1990 <= registrationyear <= 2023')"
   ]
  },
  {
   "cell_type": "markdown",
   "metadata": {},
   "source": [
    "**power**"
   ]
  },
  {
   "cell_type": "code",
   "execution_count": 20,
   "metadata": {},
   "outputs": [
    {
     "data": {
      "image/png": "[encoded data removed]",
      "text/plain": [
       "<Figure size 1080x432 with 2 Axes>"
      ]
     },
     "metadata": {
      "needs_background": "light"
     },
     "output_type": "display_data"
    }
   ],
   "source": [
    "create_boxplot_and_histogram(df_auto, 'power')"
   ]
  },
  {
   "cell_type": "markdown",
   "metadata": {},
   "source": [
    "Врятли машина с 0 силой будет хоть как-то ехать. По некоторым данным у легковых автомобилей лошадиные силы начинаются от 90. А все, что выше 1000 это уже спорткары и машины из очень дорогого сегмента. Поэтому удалим все, что не входит в этот диапозон"
   ]
  },
  {
   "cell_type": "code",
   "execution_count": 21,
   "metadata": {},
   "outputs": [],
   "source": [
    "df_auto= df_auto.query('90< power <= 1000')"
   ]
  },
  {
   "cell_type": "markdown",
   "metadata": {},
   "source": [
    "**kilometr**"
   ]
  },
  {
   "cell_type": "code",
   "execution_count": 22,
   "metadata": {},
   "outputs": [
    {
     "data": {
      "image/png": "[encoded data removed]",
      "text/plain": [
       "<Figure size 1080x432 with 2 Axes>"
      ]
     },
     "metadata": {
      "needs_background": "light"
     },
     "output_type": "display_data"
    }
   ],
   "source": [
    "create_boxplot_and_histogram(df_auto, 'kilometer')"
   ]
  },
  {
   "cell_type": "markdown",
   "metadata": {},
   "source": [
    "Хоть представить машимну с нулевым пробегом легко (вдруг ее для красоты купили) все равно по графикам видно, что это выбросы. Удалим все, что ниже 80000 км. "
   ]
  },
  {
   "cell_type": "code",
   "execution_count": 23,
   "metadata": {},
   "outputs": [],
   "source": [
    "df_auto= df_auto.query('kilometer >= 80000')"
   ]
  },
  {
   "cell_type": "markdown",
   "metadata": {},
   "source": [
    "**Пропуски и дубликаты**"
   ]
  },
  {
   "cell_type": "code",
   "execution_count": 24,
   "metadata": {},
   "outputs": [
    {
     "data": {
      "text/plain": [
       "price                0.000000\n",
       "registrationyear     0.000000\n",
       "power                0.000000\n",
       "kilometer            0.000000\n",
       "brand                0.000000\n",
       "gearbox              1.291985\n",
       "model                3.549796\n",
       "fueltype             5.480870\n",
       "vehicletype          5.697735\n",
       "repaired            13.430664\n",
       "dtype: float64"
      ]
     },
     "execution_count": 24,
     "metadata": {},
     "output_type": "execute_result"
    }
   ],
   "source": [
    "df_auto.isna().sum().sort_values()/df_auto.shape[0]*100"
   ]
  },
  {
   "cell_type": "markdown",
   "metadata": {},
   "source": [
    "Если при анкетировании не было указано, что был ремонт, можно предположить, что ремонта не было. Заменим пропуски на нет. А все остальные пропуски обработаем в пайплайне"
   ]
  },
  {
   "cell_type": "code",
   "execution_count": 25,
   "metadata": {},
   "outputs": [],
   "source": [
    "df_auto['repaired'] = df_auto['repaired'].fillna('no')"
   ]
  },
  {
   "cell_type": "markdown",
   "metadata": {},
   "source": [
    "Проверим есть ли дубликаты. Если они есть, то сразу удалим"
   ]
  },
  {
   "cell_type": "code",
   "execution_count": 26,
   "metadata": {},
   "outputs": [
    {
     "name": "stdout",
     "output_type": "stream",
     "text": [
      "Количество дублей: 25364\n"
     ]
    }
   ],
   "source": [
    "dupl = df_auto.duplicated().sum()\n",
    "print(f'Количество дублей: {dupl}')\n",
    "if dupl > 0:\n",
    "    df_auto.drop_duplicates(inplace=True)"
   ]
  },
  {
   "cell_type": "markdown",
   "metadata": {},
   "source": [
    "**Посмотрим на тепловую карту признаков**"
   ]
  },
  {
   "cell_type": "code",
   "execution_count": 27,
   "metadata": {},
   "outputs": [],
   "source": [
    "num_auto, cat_auto = cat_num_col(df_auto)"
   ]
  },
  {
   "cell_type": "code",
   "execution_count": 28,
   "metadata": {},
   "outputs": [
    {
     "data": {
      "image/png": "[encoded data removed]",
      "text/plain": [
       "<Figure size 720x576 with 2 Axes>"
      ]
     },
     "metadata": {
      "needs_background": "light"
     },
     "output_type": "display_data"
    }
   ],
   "source": [
    "plot_phik_heatmap(df_auto, num_auto)"
   ]
  },
  {
   "cell_type": "markdown",
   "metadata": {},
   "source": [
    " Есть высокая зависимость между типом кузова и моделью, а также между брендом и моделью. Если это не будет сильно портить картину при обучении моделей, то ничего с этими признаками не будем делать"
   ]
  },
  {
   "cell_type": "markdown",
   "metadata": {},
   "source": [
    "## Шаг 2 Модель"
   ]
  },
  {
   "cell_type": "code",
   "execution_count": 29,
   "metadata": {},
   "outputs": [
    {
     "data": {
      "text/html": [
       "<div>\n",
       "<style scoped>\n",
       "    .dataframe tbody tr th:only-of-type {\n",
       "        vertical-align: middle;\n",
       "    }\n",
       "\n",
       "    .dataframe tbody tr th {\n",
       "        vertical-align: top;\n",
       "    }\n",
       "\n",
       "    .dataframe thead th {\n",
       "        text-align: right;\n",
       "    }\n",
       "</style>\n",
       "<table border=\"1\" class=\"dataframe\">\n",
       "  <thead>\n",
       "    <tr style=\"text-align: right;\">\n",
       "      <th></th>\n",
       "      <th>price</th>\n",
       "      <th>vehicletype</th>\n",
       "      <th>registrationyear</th>\n",
       "      <th>gearbox</th>\n",
       "      <th>power</th>\n",
       "      <th>model</th>\n",
       "      <th>kilometer</th>\n",
       "      <th>fueltype</th>\n",
       "      <th>brand</th>\n",
       "      <th>repaired</th>\n",
       "    </tr>\n",
       "  </thead>\n",
       "  <tbody>\n",
       "    <tr>\n",
       "      <th>1</th>\n",
       "      <td>18300</td>\n",
       "      <td>coupe</td>\n",
       "      <td>2011</td>\n",
       "      <td>manual</td>\n",
       "      <td>190</td>\n",
       "      <td>NaN</td>\n",
       "      <td>125000</td>\n",
       "      <td>gasoline</td>\n",
       "      <td>audi</td>\n",
       "      <td>yes</td>\n",
       "    </tr>\n",
       "    <tr>\n",
       "      <th>2</th>\n",
       "      <td>9800</td>\n",
       "      <td>suv</td>\n",
       "      <td>2004</td>\n",
       "      <td>auto</td>\n",
       "      <td>163</td>\n",
       "      <td>grand</td>\n",
       "      <td>125000</td>\n",
       "      <td>gasoline</td>\n",
       "      <td>jeep</td>\n",
       "      <td>no</td>\n",
       "    </tr>\n",
       "    <tr>\n",
       "      <th>5</th>\n",
       "      <td>650</td>\n",
       "      <td>sedan</td>\n",
       "      <td>1995</td>\n",
       "      <td>manual</td>\n",
       "      <td>102</td>\n",
       "      <td>3er</td>\n",
       "      <td>150000</td>\n",
       "      <td>petrol</td>\n",
       "      <td>bmw</td>\n",
       "      <td>yes</td>\n",
       "    </tr>\n",
       "    <tr>\n",
       "      <th>6</th>\n",
       "      <td>2200</td>\n",
       "      <td>convertible</td>\n",
       "      <td>2004</td>\n",
       "      <td>manual</td>\n",
       "      <td>109</td>\n",
       "      <td>2_reihe</td>\n",
       "      <td>150000</td>\n",
       "      <td>petrol</td>\n",
       "      <td>peugeot</td>\n",
       "      <td>no</td>\n",
       "    </tr>\n",
       "    <tr>\n",
       "      <th>9</th>\n",
       "      <td>999</td>\n",
       "      <td>small</td>\n",
       "      <td>1998</td>\n",
       "      <td>manual</td>\n",
       "      <td>101</td>\n",
       "      <td>golf</td>\n",
       "      <td>150000</td>\n",
       "      <td>NaN</td>\n",
       "      <td>volkswagen</td>\n",
       "      <td>no</td>\n",
       "    </tr>\n",
       "  </tbody>\n",
       "</table>\n",
       "</div>"
      ],
      "text/plain": [
       "   price  vehicletype  registrationyear gearbox  power    model  kilometer  \\\n",
       "1  18300        coupe              2011  manual    190      NaN     125000   \n",
       "2   9800          suv              2004    auto    163    grand     125000   \n",
       "5    650        sedan              1995  manual    102      3er     150000   \n",
       "6   2200  convertible              2004  manual    109  2_reihe     150000   \n",
       "9    999        small              1998  manual    101     golf     150000   \n",
       "\n",
       "   fueltype       brand repaired  \n",
       "1  gasoline        audi      yes  \n",
       "2  gasoline        jeep       no  \n",
       "5    petrol         bmw      yes  \n",
       "6    petrol     peugeot       no  \n",
       "9       NaN  volkswagen       no  "
      ]
     },
     "execution_count": 29,
     "metadata": {},
     "output_type": "execute_result"
    }
   ],
   "source": [
    "df_auto.head()"
   ]
  },
  {
   "cell_type": "markdown",
   "metadata": {},
   "source": [
    "Разделим данные на признаки, целевой признак и на выборки. Выделим в отдельные переменные колонки с категориальными и количествеными признаками. У категориальных поменяем тип данных"
   ]
  },
  {
   "cell_type": "code",
   "execution_count": 30,
   "metadata": {},
   "outputs": [],
   "source": [
    "target = df_auto['price']\n",
    "matrix = df_auto.drop('price', axis=1)\n",
    "\n",
    "matrix_train, matrix_test, target_train, target_test = train_test_split(\n",
    "    matrix, target,\n",
    "    random_state=RANDOM_STATE,\n",
    "    test_size=TEST_SIZE\n",
    ")\n",
    "\n",
    "num_matrix, cat_matrix = cat_num_col(matrix)\n",
    "\n",
    "matrix_train[cat_matrix] = matrix_train[cat_matrix].astype('category')\n",
    "\n",
    "matrix_test[cat_matrix] = matrix_test[cat_matrix].astype('category')"
   ]
  },
  {
   "cell_type": "markdown",
   "metadata": {},
   "source": [
    "Выполним кодировку признаков. Для категориальных будем использовать OrdinalEncoder, а для количественных StandardScaler"
   ]
  },
  {
   "cell_type": "code",
   "execution_count": 31,
   "metadata": {},
   "outputs": [],
   "source": [
    "ohe_pipe = Pipeline([\n",
    "    ('simpleImputer_ohe', SimpleImputer(strategy='most_frequent')),\n",
    "    ('ohe', OrdinalEncoder(handle_unknown='use_encoded_value', unknown_value=-1))\n",
    "])\n",
    "\n",
    "numeric_pipe = Pipeline(steps=[\n",
    "    ('scaler', StandardScaler())\n",
    "])\n",
    "\n",
    "data_preprocessor = ColumnTransformer(transformers=[\n",
    "    ('ohe', ohe_pipe, cat_matrix),\n",
    "    ('num', numeric_pipe, num_matrix)\n",
    "], remainder='passthrough')\n",
    "\n"
   ]
  },
  {
   "cell_type": "markdown",
   "metadata": {},
   "source": [
    " Исследуем 3 модели. Возьмем дерево решений как более простую модель и 2 модели градиентного бустинга. Для исследования и выбора лучшей модели выберем метрику RMSE, а также будем смотреть на время обучения модели. Все эти данные сохраним в датафрейм для удобства. "
   ]
  },
  {
   "cell_type": "markdown",
   "metadata": {},
   "source": [
    " **DecisionTreeRegressor**"
   ]
  },
  {
   "cell_type": "code",
   "execution_count": 32,
   "metadata": {},
   "outputs": [],
   "source": [
    "pipeline_tree = Pipeline([\n",
    "    ('preprocessor', data_preprocessor),\n",
    "    (\"decision_tree\", DecisionTreeRegressor(random_state=RANDOM_STATE))\n",
    "])\n",
    "\n",
    "# Определение параметров для поиска\n",
    "param_grid_tree = {\n",
    "    'decision_tree__max_depth': [3, 5, 7],\n",
    "    'decision_tree__min_samples_split': [2, 3, 4],\n",
    "    'decision_tree__min_samples_leaf': [1, 2, 3]\n",
    "}\n",
    "\n",
    "best_params_tree, execution_time_tree, rmse_tree, model_tree, prediction_time_tree = \\\n",
    "evaluate_pipeline(pipeline_tree, param_grid_tree, matrix_train, target_train)\n"
   ]
  },
  {
   "cell_type": "markdown",
   "metadata": {},
   "source": [
    " **CatBoostRegressor**"
   ]
  },
  {
   "cell_type": "code",
   "execution_count": 33,
   "metadata": {},
   "outputs": [
    {
     "name": "stdout",
     "output_type": "stream",
     "text": [
      "Learning rate set to 0.5\n",
      "0:\tlearn: 3288.6223180\ttotal: 63.1ms\tremaining: 3.09s\n",
      "25:\tlearn: 1905.6643939\ttotal: 345ms\tremaining: 319ms\n",
      "49:\tlearn: 1816.1702748\ttotal: 619ms\tremaining: 0us\n",
      "Learning rate set to 0.5\n",
      "0:\tlearn: 3289.8693802\ttotal: 12.2ms\tremaining: 597ms\n",
      "25:\tlearn: 1899.4269504\ttotal: 305ms\tremaining: 282ms\n",
      "49:\tlearn: 1807.4717207\ttotal: 579ms\tremaining: 0us\n",
      "Learning rate set to 0.5\n",
      "0:\tlearn: 3286.3965251\ttotal: 12.3ms\tremaining: 604ms\n",
      "25:\tlearn: 1900.3381136\ttotal: 293ms\tremaining: 270ms\n",
      "49:\tlearn: 1812.0480277\ttotal: 564ms\tremaining: 0us\n",
      "Learning rate set to 0.5\n",
      "0:\tlearn: 3284.5362767\ttotal: 11.5ms\tremaining: 564ms\n",
      "25:\tlearn: 1891.7048498\ttotal: 303ms\tremaining: 280ms\n",
      "49:\tlearn: 1805.6576474\ttotal: 570ms\tremaining: 0us\n",
      "Learning rate set to 0.5\n",
      "0:\tlearn: 3292.4782380\ttotal: 11.5ms\tremaining: 562ms\n",
      "25:\tlearn: 1898.5094366\ttotal: 290ms\tremaining: 267ms\n",
      "49:\tlearn: 1810.5932640\ttotal: 552ms\tremaining: 0us\n",
      "Learning rate set to 0.5\n",
      "0:\tlearn: 3288.6223180\ttotal: 11.7ms\tremaining: 1.16s\n",
      "25:\tlearn: 1905.6643939\ttotal: 287ms\tremaining: 816ms\n",
      "50:\tlearn: 1813.8141600\ttotal: 575ms\tremaining: 552ms\n",
      "75:\tlearn: 1765.0327378\ttotal: 862ms\tremaining: 272ms\n",
      "99:\tlearn: 1734.6895833\ttotal: 1.14s\tremaining: 0us\n",
      "Learning rate set to 0.5\n",
      "0:\tlearn: 3289.8693802\ttotal: 12.3ms\tremaining: 1.22s\n",
      "25:\tlearn: 1899.4269504\ttotal: 312ms\tremaining: 887ms\n",
      "50:\tlearn: 1804.3246796\ttotal: 612ms\tremaining: 588ms\n",
      "75:\tlearn: 1759.1639899\ttotal: 888ms\tremaining: 280ms\n",
      "99:\tlearn: 1726.1287993\ttotal: 1.15s\tremaining: 0us\n",
      "Learning rate set to 0.5\n",
      "0:\tlearn: 3286.3965251\ttotal: 11.8ms\tremaining: 1.17s\n",
      "25:\tlearn: 1900.3381136\ttotal: 291ms\tremaining: 827ms\n",
      "50:\tlearn: 1809.8957513\ttotal: 577ms\tremaining: 554ms\n",
      "75:\tlearn: 1760.6938477\ttotal: 853ms\tremaining: 269ms\n",
      "99:\tlearn: 1727.0014296\ttotal: 1.13s\tremaining: 0us\n",
      "Learning rate set to 0.5\n",
      "0:\tlearn: 3284.5362767\ttotal: 11.9ms\tremaining: 1.18s\n",
      "25:\tlearn: 1891.7048498\ttotal: 304ms\tremaining: 864ms\n",
      "50:\tlearn: 1803.9022220\ttotal: 609ms\tremaining: 585ms\n",
      "75:\tlearn: 1757.9133371\ttotal: 888ms\tremaining: 280ms\n",
      "99:\tlearn: 1725.1070963\ttotal: 1.16s\tremaining: 0us\n",
      "Learning rate set to 0.5\n",
      "0:\tlearn: 3292.4782380\ttotal: 11.6ms\tremaining: 1.15s\n",
      "25:\tlearn: 1898.5094366\ttotal: 285ms\tremaining: 812ms\n",
      "50:\tlearn: 1806.4870207\ttotal: 583ms\tremaining: 560ms\n",
      "75:\tlearn: 1755.1240834\ttotal: 862ms\tremaining: 272ms\n",
      "99:\tlearn: 1723.6743707\ttotal: 1.13s\tremaining: 0us\n",
      "Learning rate set to 0.393111\n",
      "0:\tlearn: 3511.8462077\ttotal: 11.6ms\tremaining: 1.73s\n",
      "25:\tlearn: 1923.0725444\ttotal: 297ms\tremaining: 1.42s\n",
      "50:\tlearn: 1831.4034831\ttotal: 600ms\tremaining: 1.16s\n",
      "75:\tlearn: 1789.2234083\ttotal: 894ms\tremaining: 870ms\n",
      "100:\tlearn: 1755.9291832\ttotal: 1.19s\tremaining: 575ms\n",
      "125:\tlearn: 1733.1982263\ttotal: 1.5s\tremaining: 285ms\n",
      "149:\tlearn: 1714.2599178\ttotal: 1.78s\tremaining: 0us\n",
      "Learning rate set to 0.393111\n",
      "0:\tlearn: 3511.6593215\ttotal: 11.9ms\tremaining: 1.77s\n",
      "25:\tlearn: 1912.3686609\ttotal: 284ms\tremaining: 1.35s\n",
      "50:\tlearn: 1825.9198220\ttotal: 565ms\tremaining: 1.09s\n",
      "75:\tlearn: 1777.8645546\ttotal: 855ms\tremaining: 832ms\n",
      "100:\tlearn: 1744.9976162\ttotal: 1.13s\tremaining: 550ms\n",
      "125:\tlearn: 1721.1074563\ttotal: 1.44s\tremaining: 274ms\n",
      "149:\tlearn: 1702.0727521\ttotal: 1.7s\tremaining: 0us\n",
      "Learning rate set to 0.393111\n",
      "0:\tlearn: 3507.6968249\ttotal: 11.9ms\tremaining: 1.77s\n",
      "25:\tlearn: 1915.8089836\ttotal: 301ms\tremaining: 1.44s\n",
      "50:\tlearn: 1819.7754641\ttotal: 595ms\tremaining: 1.15s\n",
      "75:\tlearn: 1773.7723768\ttotal: 881ms\tremaining: 858ms\n",
      "100:\tlearn: 1742.8098200\ttotal: 1.16s\tremaining: 565ms\n",
      "125:\tlearn: 1719.4241887\ttotal: 1.44s\tremaining: 275ms\n",
      "149:\tlearn: 1701.1643116\ttotal: 1.71s\tremaining: 0us\n",
      "Learning rate set to 0.393111\n",
      "0:\tlearn: 3506.0104864\ttotal: 13ms\tremaining: 1.93s\n",
      "25:\tlearn: 1922.5872761\ttotal: 307ms\tremaining: 1.46s\n",
      "50:\tlearn: 1826.2526836\ttotal: 600ms\tremaining: 1.17s\n",
      "75:\tlearn: 1781.0846339\ttotal: 908ms\tremaining: 884ms\n",
      "100:\tlearn: 1743.6414937\ttotal: 1.2s\tremaining: 580ms\n",
      "125:\tlearn: 1719.7672172\ttotal: 1.49s\tremaining: 284ms\n",
      "149:\tlearn: 1701.3708978\ttotal: 1.76s\tremaining: 0us\n",
      "Learning rate set to 0.393111\n",
      "0:\tlearn: 3514.1545827\ttotal: 11.8ms\tremaining: 1.76s\n",
      "25:\tlearn: 1915.2301014\ttotal: 312ms\tremaining: 1.49s\n",
      "50:\tlearn: 1825.6748680\ttotal: 596ms\tremaining: 1.16s\n",
      "75:\tlearn: 1778.4257313\ttotal: 874ms\tremaining: 851ms\n",
      "100:\tlearn: 1744.8195224\ttotal: 1.16s\tremaining: 563ms\n",
      "125:\tlearn: 1719.3153221\ttotal: 1.47s\tremaining: 280ms\n",
      "149:\tlearn: 1701.0585898\ttotal: 1.74s\tremaining: 0us\n",
      "Learning rate set to 0.407218\n",
      "0:\tlearn: 3471.5458604\ttotal: 18.4ms\tremaining: 2.75s\n",
      "25:\tlearn: 1914.9372725\ttotal: 364ms\tremaining: 1.74s\n",
      "50:\tlearn: 1825.5762253\ttotal: 722ms\tremaining: 1.4s\n",
      "75:\tlearn: 1774.6919524\ttotal: 1.08s\tremaining: 1.05s\n",
      "100:\tlearn: 1745.0237725\ttotal: 1.43s\tremaining: 692ms\n",
      "125:\tlearn: 1722.7398641\ttotal: 1.77s\tremaining: 338ms\n",
      "149:\tlearn: 1706.6857131\ttotal: 2.1s\tremaining: 0us\n"
     ]
    }
   ],
   "source": [
    "pipeline_catboost = Pipeline([\n",
    "    ('preprocessor', data_preprocessor),\n",
    "    (\"catboost\", CatBoostRegressor(loss_function='RMSE', verbose=25))\n",
    "])\n",
    "\n",
    "param_grid_catboost = {\n",
    "    'catboost__iterations': [50, 100, 150]\n",
    "}\n",
    "\n",
    "\n",
    "best_params_catboost, execution_time_catboost, rmse_catboost, model_catboost, prediction_time_catboost = \\\n",
    "evaluate_pipeline(pipeline_catboost, param_grid_catboost, matrix_train, target_train)\n",
    "\n"
   ]
  },
  {
   "cell_type": "markdown",
   "metadata": {},
   "source": [
    "**LGBMRegressor**"
   ]
  },
  {
   "cell_type": "code",
   "execution_count": 34,
   "metadata": {},
   "outputs": [],
   "source": [
    "pipeline_lgbm = Pipeline([\n",
    "    ('preprocessor', data_preprocessor),\n",
    "    (\"lgbm\", LGBMRegressor())\n",
    "])\n",
    "\n",
    "param_grid_lgbm = {\n",
    "    'lgbm__max_depth': [3, 5, 7]\n",
    "}\n",
    "\n",
    "best_params_lgbm, execution_time_lgbm, rmse_lgbm, model_lgbm, prediction_time_lgbm  = \\\n",
    "evaluate_pipeline(pipeline_lgbm, param_grid_lgbm, matrix_train, target_train)\n"
   ]
  },
  {
   "cell_type": "code",
   "execution_count": 35,
   "metadata": {},
   "outputs": [
    {
     "data": {
      "text/html": [
       "<div>\n",
       "<style scoped>\n",
       "    .dataframe tbody tr th:only-of-type {\n",
       "        vertical-align: middle;\n",
       "    }\n",
       "\n",
       "    .dataframe tbody tr th {\n",
       "        vertical-align: top;\n",
       "    }\n",
       "\n",
       "    .dataframe thead th {\n",
       "        text-align: right;\n",
       "    }\n",
       "</style>\n",
       "<table border=\"1\" class=\"dataframe\">\n",
       "  <thead>\n",
       "    <tr style=\"text-align: right;\">\n",
       "      <th></th>\n",
       "      <th>model</th>\n",
       "      <th>execution_time</th>\n",
       "      <th>train_rmse</th>\n",
       "      <th>prediction_time</th>\n",
       "    </tr>\n",
       "  </thead>\n",
       "  <tbody>\n",
       "    <tr>\n",
       "      <th>0</th>\n",
       "      <td>tree</td>\n",
       "      <td>17.755922</td>\n",
       "      <td>2330.594231</td>\n",
       "      <td>0.175766</td>\n",
       "    </tr>\n",
       "    <tr>\n",
       "      <th>1</th>\n",
       "      <td>catboost</td>\n",
       "      <td>39.282341</td>\n",
       "      <td>1770.215567</td>\n",
       "      <td>0.431298</td>\n",
       "    </tr>\n",
       "    <tr>\n",
       "      <th>2</th>\n",
       "      <td>lgbm</td>\n",
       "      <td>62.237846</td>\n",
       "      <td>1817.236568</td>\n",
       "      <td>1.015885</td>\n",
       "    </tr>\n",
       "  </tbody>\n",
       "</table>\n",
       "</div>"
      ],
      "text/plain": [
       "      model  execution_time   train_rmse  prediction_time\n",
       "0      tree       17.755922  2330.594231         0.175766\n",
       "1  catboost       39.282341  1770.215567         0.431298\n",
       "2      lgbm       62.237846  1817.236568         1.015885"
      ]
     },
     "execution_count": 35,
     "metadata": {},
     "output_type": "execute_result"
    }
   ],
   "source": [
    "data = {\n",
    "    \"model\": ['tree', 'catboost', 'lgbm'],\n",
    "    \"execution_time\": [execution_time_tree, execution_time_catboost, execution_time_lgbm],\n",
    "    \"train_rmse\": [rmse_tree, rmse_catboost, rmse_lgbm],\n",
    "    \"prediction_time\": [prediction_time_tree, prediction_time_catboost, prediction_time_lgbm]\n",
    "}\n",
    "\n",
    "df_all_model = pd.DataFrame(data)\n",
    "\n",
    "df_all_model.head()\n"
   ]
  },
  {
   "cell_type": "markdown",
   "metadata": {},
   "source": [
    "## Шаг 3. Выбор лучшей модели "
   ]
  },
  {
   "cell_type": "markdown",
   "metadata": {},
   "source": [
    "По результатам исследования дерево решений совмес не подходит, так как ее метрика больше 2500.  Лучшая модель по RMSE метрике CatBoostRegressor. Она также и самая быстрая по времени обучения. \n",
    "Посмотрим на ее гиперпараметры и выполним предсказание на тестовой выборке "
   ]
  },
  {
   "cell_type": "code",
   "execution_count": 36,
   "metadata": {},
   "outputs": [
    {
     "data": {
      "text/plain": [
       "{'catboost__iterations': 150}"
      ]
     },
     "execution_count": 36,
     "metadata": {},
     "output_type": "execute_result"
    }
   ],
   "source": [
    "best_params_catboost"
   ]
  },
  {
   "cell_type": "code",
   "execution_count": 37,
   "metadata": {},
   "outputs": [
    {
     "data": {
      "text/plain": [
       "1746.262714970841"
      ]
     },
     "execution_count": 37,
     "metadata": {},
     "output_type": "execute_result"
    }
   ],
   "source": [
    "predictions = model_catboost.predict(matrix_test)\n",
    "rmse_test = mean_squared_error(target_test, predictions, squared=False)\n",
    "rmse_test"
   ]
  },
  {
   "cell_type": "markdown",
   "metadata": {},
   "source": [
    "## Вывод\n",
    "\n",
    "В ходе предобработки было сделано: \n",
    "- Перевели в нижний регистр названия признаков\n",
    "- Удалили лишние признаки (datecrawled, datecreated, lastseen, numberofpictures, postalcode,registrationmonth)\n",
    "- Удалили строки с аномальными значениями в столбцах price, registrationyear, power\n",
    "- Заполнили пропуски столбце notrepaired\n",
    "- Удалили 25364 дубликатов \n",
    "\n",
    "В ходе подготовки данных к обучению было сделано: \n",
    "- Преобразовали тип данных у категориальных данных\n",
    "- Разделили данные на тренировочную и тестовую выборку \n",
    "- Выбрали кодировщики OrdinalEncider и StandartScaler \n",
    "\n",
    "В ходе обучения было сделано следующее: \n",
    "- Для обучения выбрали 3 модели DecisionTreeRegressor, CatBoostRegressor, Light Gradient Boosting Machine\n",
    "- По метрике RMSE и времени обучения выбрали модель CatBoostRegressor и выполнили предсказание на тестовых данных \n",
    "\n",
    "Модель CatBoostRegressor:\n",
    "- train_rmse 1770.215567\n",
    "- execution_time 38.552472 сек.\n",
    "- prediction_time 0.416134 сек. \n",
    "- best_params iterations: 150\n",
    "\n",
    "**Значение RMSE лучшей модели на тестовой выборке - 1746**\n",
    "\n",
    "**Таким образом заказчику можно порекомендовать модель градиентного бустинга CatBoostRegressor**\n"
   ]
  }
 ],
 "metadata": {
  "ExecuteTimeLog": [
   {
    "duration": 10,
    "start_time": "2024-02-09T10:40:40.218Z"
   },
   {
    "duration": 1459,
    "start_time": "2024-02-09T10:41:03.199Z"
   },
   {
    "duration": 5,
    "start_time": "2024-02-09T10:41:04.659Z"
   },
   {
    "duration": 47,
    "start_time": "2024-02-09T10:41:04.666Z"
   },
   {
    "duration": 36,
    "start_time": "2024-02-09T10:41:04.715Z"
   },
   {
    "duration": 1693,
    "start_time": "2024-02-09T10:41:04.752Z"
   },
   {
    "duration": 151,
    "start_time": "2024-02-09T10:41:06.446Z"
   },
   {
    "duration": 16,
    "start_time": "2024-02-09T10:41:06.598Z"
   },
   {
    "duration": 34,
    "start_time": "2024-02-09T10:41:06.616Z"
   },
   {
    "duration": 62,
    "start_time": "2024-02-09T10:41:06.652Z"
   },
   {
    "duration": 114,
    "start_time": "2024-02-09T10:41:06.716Z"
   },
   {
    "duration": 2388,
    "start_time": "2024-02-09T10:41:06.831Z"
   },
   {
    "duration": 19,
    "start_time": "2024-02-09T10:41:09.220Z"
   },
   {
    "duration": 32,
    "start_time": "2024-02-09T10:41:09.240Z"
   },
   {
    "duration": 2239,
    "start_time": "2024-02-09T10:41:09.274Z"
   },
   {
    "duration": 15,
    "start_time": "2024-02-09T10:41:11.515Z"
   },
   {
    "duration": 28,
    "start_time": "2024-02-09T10:41:11.532Z"
   },
   {
    "duration": 2202,
    "start_time": "2024-02-09T10:41:11.561Z"
   },
   {
    "duration": 40,
    "start_time": "2024-02-09T10:41:13.765Z"
   },
   {
    "duration": 1862,
    "start_time": "2024-02-09T10:41:13.807Z"
   },
   {
    "duration": 58,
    "start_time": "2024-02-09T10:41:15.671Z"
   },
   {
    "duration": 14,
    "start_time": "2024-02-09T10:41:15.731Z"
   },
   {
    "duration": 212,
    "start_time": "2024-02-09T10:41:15.747Z"
   },
   {
    "duration": 11,
    "start_time": "2024-02-09T10:41:15.961Z"
   },
   {
    "duration": 142,
    "start_time": "2024-02-09T10:41:15.973Z"
   },
   {
    "duration": 3,
    "start_time": "2024-02-09T10:41:16.117Z"
   },
   {
    "duration": 23,
    "start_time": "2024-02-09T10:41:16.122Z"
   },
   {
    "duration": 20776,
    "start_time": "2024-02-09T10:41:16.146Z"
   },
   {
    "duration": 48153,
    "start_time": "2024-02-09T10:41:36.925Z"
   },
   {
    "duration": 56917,
    "start_time": "2024-02-09T10:42:25.080Z"
   },
   {
    "duration": 19,
    "start_time": "2024-02-09T10:43:21.999Z"
   },
   {
    "duration": 1528,
    "start_time": "2024-02-09T12:35:59.898Z"
   },
   {
    "duration": 5,
    "start_time": "2024-02-09T12:36:01.428Z"
   },
   {
    "duration": 48,
    "start_time": "2024-02-09T12:36:01.435Z"
   },
   {
    "duration": 49,
    "start_time": "2024-02-09T12:36:01.485Z"
   },
   {
    "duration": 125,
    "start_time": "2024-02-09T12:36:01.536Z"
   },
   {
    "duration": 1958,
    "start_time": "2024-02-09T12:36:01.662Z"
   },
   {
    "duration": 136,
    "start_time": "2024-02-09T12:36:03.622Z"
   },
   {
    "duration": 42,
    "start_time": "2024-02-09T12:36:03.759Z"
   },
   {
    "duration": 26,
    "start_time": "2024-02-09T12:36:03.803Z"
   },
   {
    "duration": 39,
    "start_time": "2024-02-09T12:36:03.832Z"
   },
   {
    "duration": 116,
    "start_time": "2024-02-09T12:36:03.873Z"
   },
   {
    "duration": 2340,
    "start_time": "2024-02-09T12:36:03.990Z"
   },
   {
    "duration": 21,
    "start_time": "2024-02-09T12:36:06.331Z"
   },
   {
    "duration": 92,
    "start_time": "2024-02-09T12:36:06.354Z"
   },
   {
    "duration": 0,
    "start_time": "2024-02-09T12:36:06.447Z"
   },
   {
    "duration": 0,
    "start_time": "2024-02-09T12:36:06.448Z"
   },
   {
    "duration": 0,
    "start_time": "2024-02-09T12:36:06.450Z"
   },
   {
    "duration": 0,
    "start_time": "2024-02-09T12:36:06.451Z"
   },
   {
    "duration": 0,
    "start_time": "2024-02-09T12:36:06.452Z"
   },
   {
    "duration": 0,
    "start_time": "2024-02-09T12:36:06.453Z"
   },
   {
    "duration": 0,
    "start_time": "2024-02-09T12:36:06.454Z"
   },
   {
    "duration": 0,
    "start_time": "2024-02-09T12:36:06.455Z"
   },
   {
    "duration": 0,
    "start_time": "2024-02-09T12:36:06.456Z"
   },
   {
    "duration": 0,
    "start_time": "2024-02-09T12:36:06.457Z"
   },
   {
    "duration": 0,
    "start_time": "2024-02-09T12:36:06.458Z"
   },
   {
    "duration": 0,
    "start_time": "2024-02-09T12:36:06.459Z"
   },
   {
    "duration": 0,
    "start_time": "2024-02-09T12:36:06.460Z"
   },
   {
    "duration": 0,
    "start_time": "2024-02-09T12:36:06.461Z"
   },
   {
    "duration": 0,
    "start_time": "2024-02-09T12:36:06.461Z"
   },
   {
    "duration": 0,
    "start_time": "2024-02-09T12:36:06.463Z"
   },
   {
    "duration": 0,
    "start_time": "2024-02-09T12:36:06.463Z"
   },
   {
    "duration": 0,
    "start_time": "2024-02-09T12:36:06.464Z"
   },
   {
    "duration": 1461,
    "start_time": "2024-02-09T12:36:28.635Z"
   },
   {
    "duration": 5,
    "start_time": "2024-02-09T12:36:30.098Z"
   },
   {
    "duration": 65,
    "start_time": "2024-02-09T12:36:30.105Z"
   },
   {
    "duration": 43,
    "start_time": "2024-02-09T12:36:30.172Z"
   },
   {
    "duration": 84,
    "start_time": "2024-02-09T12:36:30.216Z"
   },
   {
    "duration": 1800,
    "start_time": "2024-02-09T12:36:30.301Z"
   },
   {
    "duration": 157,
    "start_time": "2024-02-09T12:36:32.102Z"
   },
   {
    "duration": 16,
    "start_time": "2024-02-09T12:36:32.261Z"
   },
   {
    "duration": 30,
    "start_time": "2024-02-09T12:36:32.278Z"
   },
   {
    "duration": 50,
    "start_time": "2024-02-09T12:36:32.310Z"
   },
   {
    "duration": 127,
    "start_time": "2024-02-09T12:36:32.362Z"
   },
   {
    "duration": 2348,
    "start_time": "2024-02-09T12:36:32.491Z"
   },
   {
    "duration": 18,
    "start_time": "2024-02-09T12:36:34.840Z"
   },
   {
    "duration": 80,
    "start_time": "2024-02-09T12:36:34.859Z"
   },
   {
    "duration": 2209,
    "start_time": "2024-02-09T12:36:34.940Z"
   },
   {
    "duration": 15,
    "start_time": "2024-02-09T12:36:37.150Z"
   },
   {
    "duration": 41,
    "start_time": "2024-02-09T12:36:37.166Z"
   },
   {
    "duration": 1989,
    "start_time": "2024-02-09T12:36:37.208Z"
   },
   {
    "duration": 20,
    "start_time": "2024-02-09T12:36:39.199Z"
   },
   {
    "duration": 1675,
    "start_time": "2024-02-09T12:36:39.220Z"
   },
   {
    "duration": 14,
    "start_time": "2024-02-09T12:36:40.897Z"
   },
   {
    "duration": 55,
    "start_time": "2024-02-09T12:36:40.912Z"
   },
   {
    "duration": 37,
    "start_time": "2024-02-09T12:36:40.969Z"
   },
   {
    "duration": 196,
    "start_time": "2024-02-09T12:36:41.008Z"
   },
   {
    "duration": 10,
    "start_time": "2024-02-09T12:36:41.206Z"
   },
   {
    "duration": 129,
    "start_time": "2024-02-09T12:36:41.217Z"
   },
   {
    "duration": 4,
    "start_time": "2024-02-09T12:36:41.348Z"
   },
   {
    "duration": 17350,
    "start_time": "2024-02-09T12:36:41.354Z"
   },
   {
    "duration": 112,
    "start_time": "2024-02-09T12:36:58.706Z"
   },
   {
    "duration": 0,
    "start_time": "2024-02-09T12:36:58.820Z"
   },
   {
    "duration": 0,
    "start_time": "2024-02-09T12:36:58.821Z"
   },
   {
    "duration": 1421,
    "start_time": "2024-02-09T12:37:39.881Z"
   },
   {
    "duration": 5,
    "start_time": "2024-02-09T12:37:41.304Z"
   },
   {
    "duration": 22,
    "start_time": "2024-02-09T12:37:41.310Z"
   },
   {
    "duration": 37,
    "start_time": "2024-02-09T12:37:41.334Z"
   },
   {
    "duration": 16,
    "start_time": "2024-02-09T12:37:41.373Z"
   },
   {
    "duration": 1195,
    "start_time": "2024-02-09T12:37:41.390Z"
   },
   {
    "duration": 151,
    "start_time": "2024-02-09T12:37:42.587Z"
   },
   {
    "duration": 16,
    "start_time": "2024-02-09T12:37:42.739Z"
   },
   {
    "duration": 3,
    "start_time": "2024-02-09T12:37:42.756Z"
   },
   {
    "duration": 40,
    "start_time": "2024-02-09T12:37:42.762Z"
   },
   {
    "duration": 110,
    "start_time": "2024-02-09T12:37:42.803Z"
   },
   {
    "duration": 2395,
    "start_time": "2024-02-09T12:37:42.914Z"
   },
   {
    "duration": 19,
    "start_time": "2024-02-09T12:37:45.310Z"
   },
   {
    "duration": 34,
    "start_time": "2024-02-09T12:37:45.330Z"
   },
   {
    "duration": 2184,
    "start_time": "2024-02-09T12:37:45.366Z"
   },
   {
    "duration": 16,
    "start_time": "2024-02-09T12:37:47.551Z"
   },
   {
    "duration": 33,
    "start_time": "2024-02-09T12:37:47.569Z"
   },
   {
    "duration": 1994,
    "start_time": "2024-02-09T12:37:47.604Z"
   },
   {
    "duration": 20,
    "start_time": "2024-02-09T12:37:49.600Z"
   },
   {
    "duration": 1726,
    "start_time": "2024-02-09T12:37:49.622Z"
   },
   {
    "duration": 14,
    "start_time": "2024-02-09T12:37:51.350Z"
   },
   {
    "duration": 57,
    "start_time": "2024-02-09T12:37:51.366Z"
   },
   {
    "duration": 18,
    "start_time": "2024-02-09T12:37:51.425Z"
   },
   {
    "duration": 178,
    "start_time": "2024-02-09T12:37:51.444Z"
   },
   {
    "duration": 10,
    "start_time": "2024-02-09T12:37:51.624Z"
   },
   {
    "duration": 118,
    "start_time": "2024-02-09T12:37:51.636Z"
   },
   {
    "duration": 4,
    "start_time": "2024-02-09T12:37:51.756Z"
   },
   {
    "duration": 18197,
    "start_time": "2024-02-09T12:37:51.764Z"
   },
   {
    "duration": 111189,
    "start_time": "2024-02-09T12:38:09.962Z"
   },
   {
    "duration": 0,
    "start_time": "2024-02-09T12:40:01.152Z"
   },
   {
    "duration": 0,
    "start_time": "2024-02-09T12:40:01.154Z"
   },
   {
    "duration": 1428,
    "start_time": "2024-02-09T12:40:11.658Z"
   },
   {
    "duration": 4,
    "start_time": "2024-02-09T12:40:13.088Z"
   },
   {
    "duration": 13,
    "start_time": "2024-02-09T12:40:13.094Z"
   },
   {
    "duration": 16,
    "start_time": "2024-02-09T12:40:13.109Z"
   },
   {
    "duration": 8,
    "start_time": "2024-02-09T12:40:13.126Z"
   },
   {
    "duration": 1584,
    "start_time": "2024-02-09T12:40:13.135Z"
   },
   {
    "duration": 156,
    "start_time": "2024-02-09T12:40:14.721Z"
   },
   {
    "duration": 26,
    "start_time": "2024-02-09T12:40:14.879Z"
   },
   {
    "duration": 3,
    "start_time": "2024-02-09T12:40:14.907Z"
   },
   {
    "duration": 27,
    "start_time": "2024-02-09T12:40:14.913Z"
   },
   {
    "duration": 119,
    "start_time": "2024-02-09T12:40:14.942Z"
   },
   {
    "duration": 2400,
    "start_time": "2024-02-09T12:40:15.062Z"
   },
   {
    "duration": 18,
    "start_time": "2024-02-09T12:40:17.465Z"
   },
   {
    "duration": 31,
    "start_time": "2024-02-09T12:40:17.494Z"
   },
   {
    "duration": 2094,
    "start_time": "2024-02-09T12:40:17.527Z"
   },
   {
    "duration": 15,
    "start_time": "2024-02-09T12:40:19.623Z"
   },
   {
    "duration": 25,
    "start_time": "2024-02-09T12:40:19.639Z"
   },
   {
    "duration": 2012,
    "start_time": "2024-02-09T12:40:19.665Z"
   },
   {
    "duration": 24,
    "start_time": "2024-02-09T12:40:21.678Z"
   },
   {
    "duration": 1718,
    "start_time": "2024-02-09T12:40:21.704Z"
   },
   {
    "duration": 15,
    "start_time": "2024-02-09T12:40:23.424Z"
   },
   {
    "duration": 56,
    "start_time": "2024-02-09T12:40:23.440Z"
   },
   {
    "duration": 22,
    "start_time": "2024-02-09T12:40:23.498Z"
   },
   {
    "duration": 163,
    "start_time": "2024-02-09T12:40:23.522Z"
   },
   {
    "duration": 15,
    "start_time": "2024-02-09T12:40:23.687Z"
   },
   {
    "duration": 120,
    "start_time": "2024-02-09T12:40:23.703Z"
   },
   {
    "duration": 3,
    "start_time": "2024-02-09T12:40:23.825Z"
   },
   {
    "duration": 17289,
    "start_time": "2024-02-09T12:40:23.831Z"
   },
   {
    "duration": 40135,
    "start_time": "2024-02-09T12:40:41.122Z"
   },
   {
    "duration": 41555,
    "start_time": "2024-02-09T12:41:21.258Z"
   },
   {
    "duration": 122,
    "start_time": "2024-02-09T12:42:02.895Z"
   },
   {
    "duration": 10,
    "start_time": "2024-02-09T12:42:54.179Z"
   },
   {
    "duration": 42539,
    "start_time": "2024-02-09T12:43:34.670Z"
   },
   {
    "duration": 10,
    "start_time": "2024-02-09T12:45:15.096Z"
   },
   {
    "duration": 3,
    "start_time": "2024-02-09T12:45:36.921Z"
   },
   {
    "duration": 1469,
    "start_time": "2024-02-09T12:48:58.964Z"
   },
   {
    "duration": 5,
    "start_time": "2024-02-09T12:49:00.434Z"
   },
   {
    "duration": 46,
    "start_time": "2024-02-09T12:49:00.440Z"
   },
   {
    "duration": 25,
    "start_time": "2024-02-09T12:49:00.488Z"
   },
   {
    "duration": 27,
    "start_time": "2024-02-09T12:49:00.515Z"
   },
   {
    "duration": 1975,
    "start_time": "2024-02-09T12:49:00.544Z"
   },
   {
    "duration": 146,
    "start_time": "2024-02-09T12:49:02.520Z"
   },
   {
    "duration": 15,
    "start_time": "2024-02-09T12:49:02.667Z"
   },
   {
    "duration": 3,
    "start_time": "2024-02-09T12:49:02.694Z"
   },
   {
    "duration": 29,
    "start_time": "2024-02-09T12:49:02.699Z"
   },
   {
    "duration": 127,
    "start_time": "2024-02-09T12:49:02.730Z"
   },
   {
    "duration": 2418,
    "start_time": "2024-02-09T12:49:02.859Z"
   },
   {
    "duration": 27,
    "start_time": "2024-02-09T12:49:05.279Z"
   },
   {
    "duration": 31,
    "start_time": "2024-02-09T12:49:05.308Z"
   },
   {
    "duration": 2152,
    "start_time": "2024-02-09T12:49:05.341Z"
   },
   {
    "duration": 15,
    "start_time": "2024-02-09T12:49:07.494Z"
   },
   {
    "duration": 46,
    "start_time": "2024-02-09T12:49:07.511Z"
   },
   {
    "duration": 2071,
    "start_time": "2024-02-09T12:49:07.559Z"
   },
   {
    "duration": 21,
    "start_time": "2024-02-09T12:49:09.633Z"
   },
   {
    "duration": 1687,
    "start_time": "2024-02-09T12:49:09.656Z"
   },
   {
    "duration": 15,
    "start_time": "2024-02-09T12:49:11.345Z"
   },
   {
    "duration": 60,
    "start_time": "2024-02-09T12:49:11.362Z"
   },
   {
    "duration": 16,
    "start_time": "2024-02-09T12:49:11.423Z"
   },
   {
    "duration": 176,
    "start_time": "2024-02-09T12:49:11.441Z"
   },
   {
    "duration": 11,
    "start_time": "2024-02-09T12:49:11.618Z"
   },
   {
    "duration": 133,
    "start_time": "2024-02-09T12:49:11.630Z"
   },
   {
    "duration": 3,
    "start_time": "2024-02-09T12:49:11.765Z"
   },
   {
    "duration": 16631,
    "start_time": "2024-02-09T12:49:11.770Z"
   },
   {
    "duration": 38972,
    "start_time": "2024-02-09T12:49:28.403Z"
   },
   {
    "duration": 45030,
    "start_time": "2024-02-09T12:50:07.377Z"
   },
   {
    "duration": 167,
    "start_time": "2024-02-09T12:50:52.409Z"
   },
   {
    "duration": 10,
    "start_time": "2024-02-09T12:52:30.001Z"
   },
   {
    "duration": 4,
    "start_time": "2024-02-09T12:54:18.245Z"
   },
   {
    "duration": 9,
    "start_time": "2024-02-09T12:57:07.822Z"
   },
   {
    "duration": 9,
    "start_time": "2024-02-09T12:57:21.146Z"
   },
   {
    "duration": 121,
    "start_time": "2024-02-09T12:57:36.373Z"
   },
   {
    "duration": 13,
    "start_time": "2024-02-09T13:00:37.112Z"
   },
   {
    "duration": 3091,
    "start_time": "2024-02-09T13:00:52.014Z"
   },
   {
    "duration": 39,
    "start_time": "2024-02-09T13:00:58.304Z"
   },
   {
    "duration": 15,
    "start_time": "2024-02-09T13:05:08.910Z"
   },
   {
    "duration": 12,
    "start_time": "2024-02-09T13:05:22.327Z"
   },
   {
    "duration": 9,
    "start_time": "2024-02-09T13:05:24.133Z"
   },
   {
    "duration": 4,
    "start_time": "2024-02-09T13:05:30.995Z"
   },
   {
    "duration": 3468,
    "start_time": "2024-02-09T13:05:43.502Z"
   },
   {
    "duration": 2270,
    "start_time": "2024-02-09T13:28:57.759Z"
   },
   {
    "duration": 1364,
    "start_time": "2024-02-09T13:29:00.031Z"
   },
   {
    "duration": 5,
    "start_time": "2024-02-09T13:29:01.396Z"
   },
   {
    "duration": 45,
    "start_time": "2024-02-09T13:29:01.403Z"
   },
   {
    "duration": 65,
    "start_time": "2024-02-09T13:29:01.450Z"
   },
   {
    "duration": 48,
    "start_time": "2024-02-09T13:29:01.517Z"
   },
   {
    "duration": 109,
    "start_time": "2024-02-09T13:29:01.566Z"
   },
   {
    "duration": 1405,
    "start_time": "2024-02-09T13:29:01.676Z"
   },
   {
    "duration": 152,
    "start_time": "2024-02-09T13:29:03.083Z"
   },
   {
    "duration": 15,
    "start_time": "2024-02-09T13:29:03.238Z"
   },
   {
    "duration": 35,
    "start_time": "2024-02-09T13:29:03.254Z"
   },
   {
    "duration": 71,
    "start_time": "2024-02-09T13:29:03.292Z"
   },
   {
    "duration": 157,
    "start_time": "2024-02-09T13:29:03.365Z"
   },
   {
    "duration": 2419,
    "start_time": "2024-02-09T13:29:03.524Z"
   },
   {
    "duration": 18,
    "start_time": "2024-02-09T13:29:05.944Z"
   },
   {
    "duration": 60,
    "start_time": "2024-02-09T13:29:05.963Z"
   },
   {
    "duration": 2076,
    "start_time": "2024-02-09T13:29:06.024Z"
   },
   {
    "duration": 15,
    "start_time": "2024-02-09T13:29:08.102Z"
   },
   {
    "duration": 26,
    "start_time": "2024-02-09T13:29:08.119Z"
   },
   {
    "duration": 2044,
    "start_time": "2024-02-09T13:29:08.147Z"
   },
   {
    "duration": 21,
    "start_time": "2024-02-09T13:29:10.194Z"
   },
   {
    "duration": 1679,
    "start_time": "2024-02-09T13:29:10.216Z"
   },
   {
    "duration": 15,
    "start_time": "2024-02-09T13:29:11.897Z"
   },
   {
    "duration": 47,
    "start_time": "2024-02-09T13:29:11.914Z"
   },
   {
    "duration": 31,
    "start_time": "2024-02-09T13:29:11.963Z"
   },
   {
    "duration": 180,
    "start_time": "2024-02-09T13:29:11.995Z"
   },
   {
    "duration": 9,
    "start_time": "2024-02-09T13:29:12.177Z"
   },
   {
    "duration": 3432,
    "start_time": "2024-02-09T13:29:12.194Z"
   },
   {
    "duration": 12,
    "start_time": "2024-02-09T13:29:15.629Z"
   },
   {
    "duration": 117,
    "start_time": "2024-02-09T13:29:15.642Z"
   },
   {
    "duration": 4,
    "start_time": "2024-02-09T13:29:15.760Z"
   },
   {
    "duration": 17970,
    "start_time": "2024-02-09T13:29:15.765Z"
   },
   {
    "duration": 39717,
    "start_time": "2024-02-09T13:29:33.736Z"
   },
   {
    "duration": 63257,
    "start_time": "2024-02-09T13:30:13.455Z"
   },
   {
    "duration": 9,
    "start_time": "2024-02-09T13:31:16.795Z"
   },
   {
    "duration": 21,
    "start_time": "2024-02-09T13:31:16.806Z"
   },
   {
    "duration": 130,
    "start_time": "2024-02-09T13:31:16.829Z"
   }
  ],
  "kernelspec": {
   "display_name": "Python 3 (ipykernel)",
   "language": "python",
   "name": "python3"
  },
  "language_info": {
   "codemirror_mode": {
    "name": "ipython",
    "version": 3
   },
   "file_extension": ".py",
   "mimetype": "text/x-python",
   "name": "python",
   "nbconvert_exporter": "python",
   "pygments_lexer": "ipython3",
   "version": "3.9.16"
  },
  "toc": {
   "base_numbering": 1,
   "nav_menu": {},
   "number_sections": true,
   "sideBar": true,
   "skip_h1_title": true,
   "title_cell": "Table of Contents",
   "title_sidebar": "Contents",
   "toc_cell": false,
   "toc_position": {},
   "toc_section_display": true,
   "toc_window_display": false
  }
 },
 "nbformat": 4,
 "nbformat_minor": 2
}
