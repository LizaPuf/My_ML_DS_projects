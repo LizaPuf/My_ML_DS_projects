{
 "cells": [
  {
   "attachments": {},
   "cell_type": "markdown",
   "metadata": {},
   "source": [
    "# Проект \n",
    "\n",
    "### План проекта \n",
    "[**Шаг 0. Импорт библиотек, методы**](#step_00)\n",
    "\n",
    "[**Шаг 1. Загрузка данных**](#step_01)\n",
    "\n",
    "[**Шаг 2. Предобработка данных**](#step_02)\n",
    "\n",
    "[**Шаг 3. Исследовательский анализ**](#step_03)\n",
    "\n",
    "[**Шаг 4. Объединение таблиц**](#step_04)\n",
    "\n",
    "[**Шаг 5. Корреляционный анализ**](#step_05)\n",
    "\n",
    "[**Шаг 6. Использование пайплайнов**](#step_06)\n",
    "\n",
    "[**Шаг 7. Анализ важности признаков**](#step_07)\n",
    "\n",
    "[**Шаг 8. Сегментация покупателей**](#step_08)\n",
    "\n",
    "[**Шаг 9. Вывод**](#step_09)"
   ]
  },
  {
   "attachments": {},
   "cell_type": "markdown",
   "metadata": {},
   "source": [
    "# Методы "
   ]
  },
  {
   "attachments": {},
   "cell_type": "markdown",
   "metadata": {},
   "source": [
    "<a id=\"step_00\"></a>"
   ]
  },
  {
   "cell_type": "code",
   "execution_count": 10,
   "metadata": {},
   "outputs": [],
   "source": [
    "#импорт нужных библиотек\n",
    "import warnings\n",
    "import matplotlib.pyplot as plt\n",
    "import numpy as np\n",
    "import pandas as pd\n",
    "import seaborn as sns\n",
    "from scipy.stats import shapiro\n",
    "import shap\n",
    "\n",
    "from sklearn.compose import ColumnTransformer\n",
    "from sklearn.impute import  SimpleImputer\n",
    "from sklearn.linear_model import LogisticRegression, Ridge\n",
    "from sklearn.metrics import roc_auc_score\n",
    "from sklearn.model_selection import RandomizedSearchCV, train_test_split\n",
    "from sklearn.neighbors import KNeighborsClassifier\n",
    "from sklearn.pipeline import Pipeline\n",
    "from sklearn.preprocessing import MinMaxScaler, OneHotEncoder, OrdinalEncoder, StandardScaler\n",
    "from sklearn.svm import SVC\n",
    "from sklearn.tree import DecisionTreeClassifier"
   ]
  },
  {
   "cell_type": "code",
   "execution_count": 2,
   "metadata": {},
   "outputs": [],
   "source": [
    "def duplicates(columns, df):\n",
    "    for column in columns:\n",
    "        unique_values = df[column].unique()\n",
    "        print(f'Уникальные значения в колонке {column}: {unique_values}')"
   ]
  },
  {
   "cell_type": "code",
   "execution_count": 3,
   "metadata": {},
   "outputs": [],
   "source": [
    "def create_histogram(data, column):\n",
    "    \"\"\"\n",
    "    Input:\n",
    "    - data: Датафрейм, содержащий данные.\n",
    "    - column: Наименование столбца, для которого нужно построить гистограмму.\n",
    "    - title: Заголовок гистограммы.\n",
    "    - bins: Количество бинов для гистограммы (по умолчанию 50)\n",
    "\n",
    "    Output:\n",
    "    - None\n",
    "\n",
    "    Description:\n",
    "    Функция создает гистограмму для указанного столбца в датафрейме при помощи библиотеки seaborn. \n",
    "    Результат выводится на экран.\n",
    "    \"\"\"\n",
    "    plt.figure(figsize=(12, 6))\n",
    "    sns.set()\n",
    "    num_bins = int(np.ceil(np.sqrt(len(data[column]))))\n",
    "    sns.histplot(data=data, x=column, kde=True, bins=num_bins)\n",
    "    plt.title(f'{column} - Плотность распределения', fontsize=18)\n",
    "    plt.xlabel(column, fontsize=14)\n",
    "    plt.ylabel('Частота', fontsize=14)\n",
    "    plt.show()"
   ]
  },
  {
   "cell_type": "code",
   "execution_count": 4,
   "metadata": {},
   "outputs": [],
   "source": [
    "def create_barplot(data, column, rotation=45):\n",
    "    \"\"\"\n",
    "    Input:\n",
    "    - data (DataFrame): Исходный DataFrame с данными.\n",
    "    - column (str): Название колонки, для которой нужно построить диаграмму.\n",
    "    - title (str): Заголовок для столбчатой диаграммы.\n",
    "    \n",
    "    Output:\n",
    "    None\n",
    "\n",
    "    Description:\n",
    "    Функция создает столбчатую диаграмму на основе данных из указанной колонки.\n",
    "    \"\"\"\n",
    "    plt.figure(figsize=(10, 6))\n",
    "    plt.xticks(rotation=rotation)\n",
    "    new_data = data[column].value_counts()\n",
    "    df_new_data = new_data.reset_index()\n",
    "    df_new_data.columns = [column, 'count']\n",
    "\n",
    "    sns.barplot(x=column, y='count', data = df_new_data)\n",
    "    plt.title(f'{column}.Плотность распределения')\n",
    "    plt.xlabel(f'{column}')\n",
    "    plt.ylabel(f'количество {column}')"
   ]
  },
  {
   "cell_type": "code",
   "execution_count": 5,
   "metadata": {},
   "outputs": [],
   "source": [
    "def cat_num_col(df):\n",
    "    \"\"\"\n",
    "    Input:\n",
    "    - df(DataDrame): Исходный DataFrame с данными\n",
    "    Output:\n",
    "    - num_col_names(list) - список столбцов с количественными признаками\n",
    "    - cat_col_names(list) - список столбцов с категориальными признаками\n",
    "\n",
    "    Description:\n",
    "    Функция возвращает списки с названиями столбцов категориальных и количественных признаков. id из списка удаляется\n",
    "\n",
    "    \"\"\"\n",
    "    num_col_names = list(df.select_dtypes(include=['int64', 'float64']).columns)\n",
    "    cat_col_names = list(df.select_dtypes(include=['object']).columns)\n",
    "    num_col_names.remove('id')\n",
    "    return num_col_names, cat_col_names"
   ]
  },
  {
   "cell_type": "code",
   "execution_count": 6,
   "metadata": {},
   "outputs": [],
   "source": [
    "def shapiro_test(data, column):\n",
    "    \"\"\"\n",
    "    Функция выполняет тест Шапиро-Уилка на нормальность данных в указанном столбце.\n",
    "\n",
    "    Параметры:\n",
    "        - data: pandas DataFrame, входные данные\n",
    "        - column: str, название столбца, для которого выполняется тест\n",
    "\n",
    "    Вывод:\n",
    "        - печать результата теста Шапиро-Уилка, включая статистику теста и p-значение\n",
    "        - вывод сообщения о том, является ли распределение данных нормальным\n",
    "    \"\"\" \n",
    "    statistic, p_value = shapiro(data[column])\n",
    "\n",
    "    # Печать результата теста\n",
    "    alpha = 0.05  # Уровень значимости\n",
    "    print(f'Результат теста Шапиро-Уилка для столбца {column}:')\n",
    "    print(f'Статистика теста: {statistic}')\n",
    "    print(f'p-значение: {p_value}')\n",
    "    if p_value > alpha:\n",
    "        print('Распределение данных является нормальным.')\n",
    "    else:\n",
    "        print('Распределение данных не является нормальным.')"
   ]
  },
  {
   "cell_type": "code",
   "execution_count": 7,
   "metadata": {},
   "outputs": [],
   "source": [
    "def scatter_dataframe(df):\n",
    "    num_cols = df.select_dtypes(exclude='object').columns.to_list()\n",
    "    parameters = []\n",
    "    for i in num_cols:\n",
    "        for j in num_cols:\n",
    "            if (i != j) and (i != 'id') and (j != 'id'):\n",
    "                if ((i, j) not in parameters) and ((j, i) not in parameters):\n",
    "                    df.plot(x=i, y=j, kind='scatter')\n",
    "                    k = i, j\n",
    "                    parameters.append(k)\n",
    "    None"
   ]
  },
  {
   "cell_type": "code",
   "execution_count": 8,
   "metadata": {},
   "outputs": [],
   "source": [
    "def create_boxplot(data, column):\n",
    "    \"\"\"\n",
    "    Input:\n",
    "    - data (DataFrame): Исходный DataFrame с данными.\n",
    "    - column (str): Название колонки, которая будет отображена на оси x.\n",
    "    \n",
    "    Output:\n",
    "    None\n",
    "    \n",
    "    Description:\n",
    "    Функция создает график ящика с усами на основе указанных столбцов.\n",
    "    \"\"\"\n",
    "    plt.figure(figsize=(10, 6))\n",
    "    sns.boxplot(x=data[column])\n",
    "    plt.title(f'Ящик с усами для {column}')\n",
    "    plt.xlabel(column)\n",
    "    plt.show()"
   ]
  },
  {
   "attachments": {},
   "cell_type": "markdown",
   "metadata": {},
   "source": [
    "# Этап 1. Загрузка данных"
   ]
  },
  {
   "cell_type": "code",
   "execution_count": 17,
   "metadata": {},
   "outputs": [],
   "source": [
    "try:\n",
    "    df_train_job_satisfaction_rate = pd.read_csv('https://code.s3.yandex.net/datasets/train_job_satisfaction_rate.csv')\n",
    "    df_test_features = pd.read_csv('https://code.s3.yandex.net/datasets/test_features.csv')\n",
    "    df_test_target_job_satisfaction_rate = pd.read_csv('https://code.s3.yandex.net/datasets/test_target_job_satisfaction_rate.csv')\n",
    "except Exception:\n",
    "    print('Упc, кажется такого файла нет')"
   ]
  },
  {
   "cell_type": "code",
   "execution_count": 18,
   "metadata": {},
   "outputs": [
    {
     "name": "stdout",
     "output_type": "stream",
     "text": [
      "<class 'pandas.core.frame.DataFrame'>\n",
      "RangeIndex: 4000 entries, 0 to 3999\n",
      "Data columns (total 10 columns):\n",
      " #   Column                 Non-Null Count  Dtype  \n",
      "---  ------                 --------------  -----  \n",
      " 0   id                     4000 non-null   int64  \n",
      " 1   dept                   3994 non-null   object \n",
      " 2   level                  3996 non-null   object \n",
      " 3   workload               4000 non-null   object \n",
      " 4   employment_years       4000 non-null   int64  \n",
      " 5   last_year_promo        4000 non-null   object \n",
      " 6   last_year_violations   4000 non-null   object \n",
      " 7   supervisor_evaluation  4000 non-null   int64  \n",
      " 8   salary                 4000 non-null   int64  \n",
      " 9   job_satisfaction_rate  4000 non-null   float64\n",
      "dtypes: float64(1), int64(4), object(5)\n",
      "memory usage: 312.6+ KB\n"
     ]
    }
   ],
   "source": [
    "df_train_job_satisfaction_rate.info()"
   ]
  },
  {
   "cell_type": "code",
   "execution_count": 19,
   "metadata": {},
   "outputs": [
    {
     "data": {
      "text/html": [
       "<div>\n",
       "<style scoped>\n",
       "    .dataframe tbody tr th:only-of-type {\n",
       "        vertical-align: middle;\n",
       "    }\n",
       "\n",
       "    .dataframe tbody tr th {\n",
       "        vertical-align: top;\n",
       "    }\n",
       "\n",
       "    .dataframe thead th {\n",
       "        text-align: right;\n",
       "    }\n",
       "</style>\n",
       "<table border=\"1\" class=\"dataframe\">\n",
       "  <thead>\n",
       "    <tr style=\"text-align: right;\">\n",
       "      <th></th>\n",
       "      <th>id</th>\n",
       "      <th>dept</th>\n",
       "      <th>level</th>\n",
       "      <th>workload</th>\n",
       "      <th>employment_years</th>\n",
       "      <th>last_year_promo</th>\n",
       "      <th>last_year_violations</th>\n",
       "      <th>supervisor_evaluation</th>\n",
       "      <th>salary</th>\n",
       "      <th>job_satisfaction_rate</th>\n",
       "    </tr>\n",
       "  </thead>\n",
       "  <tbody>\n",
       "    <tr>\n",
       "      <th>0</th>\n",
       "      <td>155278</td>\n",
       "      <td>sales</td>\n",
       "      <td>junior</td>\n",
       "      <td>medium</td>\n",
       "      <td>2</td>\n",
       "      <td>no</td>\n",
       "      <td>no</td>\n",
       "      <td>1</td>\n",
       "      <td>24000</td>\n",
       "      <td>0.58</td>\n",
       "    </tr>\n",
       "    <tr>\n",
       "      <th>1</th>\n",
       "      <td>653870</td>\n",
       "      <td>hr</td>\n",
       "      <td>junior</td>\n",
       "      <td>high</td>\n",
       "      <td>2</td>\n",
       "      <td>no</td>\n",
       "      <td>no</td>\n",
       "      <td>5</td>\n",
       "      <td>38400</td>\n",
       "      <td>0.76</td>\n",
       "    </tr>\n",
       "    <tr>\n",
       "      <th>2</th>\n",
       "      <td>184592</td>\n",
       "      <td>sales</td>\n",
       "      <td>junior</td>\n",
       "      <td>low</td>\n",
       "      <td>1</td>\n",
       "      <td>no</td>\n",
       "      <td>no</td>\n",
       "      <td>2</td>\n",
       "      <td>12000</td>\n",
       "      <td>0.11</td>\n",
       "    </tr>\n",
       "    <tr>\n",
       "      <th>3</th>\n",
       "      <td>171431</td>\n",
       "      <td>technology</td>\n",
       "      <td>junior</td>\n",
       "      <td>low</td>\n",
       "      <td>4</td>\n",
       "      <td>no</td>\n",
       "      <td>no</td>\n",
       "      <td>2</td>\n",
       "      <td>18000</td>\n",
       "      <td>0.37</td>\n",
       "    </tr>\n",
       "    <tr>\n",
       "      <th>4</th>\n",
       "      <td>693419</td>\n",
       "      <td>hr</td>\n",
       "      <td>junior</td>\n",
       "      <td>medium</td>\n",
       "      <td>1</td>\n",
       "      <td>no</td>\n",
       "      <td>no</td>\n",
       "      <td>3</td>\n",
       "      <td>22800</td>\n",
       "      <td>0.20</td>\n",
       "    </tr>\n",
       "  </tbody>\n",
       "</table>\n",
       "</div>"
      ],
      "text/plain": [
       "       id        dept   level workload  employment_years last_year_promo  \\\n",
       "0  155278       sales  junior   medium                 2              no   \n",
       "1  653870          hr  junior     high                 2              no   \n",
       "2  184592       sales  junior      low                 1              no   \n",
       "3  171431  technology  junior      low                 4              no   \n",
       "4  693419          hr  junior   medium                 1              no   \n",
       "\n",
       "  last_year_violations  supervisor_evaluation  salary  job_satisfaction_rate  \n",
       "0                   no                      1   24000                   0.58  \n",
       "1                   no                      5   38400                   0.76  \n",
       "2                   no                      2   12000                   0.11  \n",
       "3                   no                      2   18000                   0.37  \n",
       "4                   no                      3   22800                   0.20  "
      ]
     },
     "execution_count": 19,
     "metadata": {},
     "output_type": "execute_result"
    }
   ],
   "source": [
    "df_train_job_satisfaction_rate.head()"
   ]
  },
  {
   "cell_type": "code",
   "execution_count": 20,
   "metadata": {},
   "outputs": [
    {
     "name": "stdout",
     "output_type": "stream",
     "text": [
      "<class 'pandas.core.frame.DataFrame'>\n",
      "RangeIndex: 2000 entries, 0 to 1999\n",
      "Data columns (total 9 columns):\n",
      " #   Column                 Non-Null Count  Dtype \n",
      "---  ------                 --------------  ----- \n",
      " 0   id                     2000 non-null   int64 \n",
      " 1   dept                   1998 non-null   object\n",
      " 2   level                  1999 non-null   object\n",
      " 3   workload               2000 non-null   object\n",
      " 4   employment_years       2000 non-null   int64 \n",
      " 5   last_year_promo        2000 non-null   object\n",
      " 6   last_year_violations   2000 non-null   object\n",
      " 7   supervisor_evaluation  2000 non-null   int64 \n",
      " 8   salary                 2000 non-null   int64 \n",
      "dtypes: int64(4), object(5)\n",
      "memory usage: 140.8+ KB\n"
     ]
    }
   ],
   "source": [
    "df_test_features.info()"
   ]
  },
  {
   "cell_type": "code",
   "execution_count": 21,
   "metadata": {},
   "outputs": [
    {
     "data": {
      "text/html": [
       "<div>\n",
       "<style scoped>\n",
       "    .dataframe tbody tr th:only-of-type {\n",
       "        vertical-align: middle;\n",
       "    }\n",
       "\n",
       "    .dataframe tbody tr th {\n",
       "        vertical-align: top;\n",
       "    }\n",
       "\n",
       "    .dataframe thead th {\n",
       "        text-align: right;\n",
       "    }\n",
       "</style>\n",
       "<table border=\"1\" class=\"dataframe\">\n",
       "  <thead>\n",
       "    <tr style=\"text-align: right;\">\n",
       "      <th></th>\n",
       "      <th>id</th>\n",
       "      <th>dept</th>\n",
       "      <th>level</th>\n",
       "      <th>workload</th>\n",
       "      <th>employment_years</th>\n",
       "      <th>last_year_promo</th>\n",
       "      <th>last_year_violations</th>\n",
       "      <th>supervisor_evaluation</th>\n",
       "      <th>salary</th>\n",
       "    </tr>\n",
       "  </thead>\n",
       "  <tbody>\n",
       "    <tr>\n",
       "      <th>0</th>\n",
       "      <td>485046</td>\n",
       "      <td>marketing</td>\n",
       "      <td>junior</td>\n",
       "      <td>medium</td>\n",
       "      <td>2</td>\n",
       "      <td>no</td>\n",
       "      <td>no</td>\n",
       "      <td>5</td>\n",
       "      <td>28800</td>\n",
       "    </tr>\n",
       "    <tr>\n",
       "      <th>1</th>\n",
       "      <td>686555</td>\n",
       "      <td>hr</td>\n",
       "      <td>junior</td>\n",
       "      <td>medium</td>\n",
       "      <td>1</td>\n",
       "      <td>no</td>\n",
       "      <td>no</td>\n",
       "      <td>4</td>\n",
       "      <td>30000</td>\n",
       "    </tr>\n",
       "    <tr>\n",
       "      <th>2</th>\n",
       "      <td>467458</td>\n",
       "      <td>sales</td>\n",
       "      <td>middle</td>\n",
       "      <td>low</td>\n",
       "      <td>5</td>\n",
       "      <td>no</td>\n",
       "      <td>no</td>\n",
       "      <td>4</td>\n",
       "      <td>19200</td>\n",
       "    </tr>\n",
       "    <tr>\n",
       "      <th>3</th>\n",
       "      <td>418655</td>\n",
       "      <td>sales</td>\n",
       "      <td>middle</td>\n",
       "      <td>low</td>\n",
       "      <td>6</td>\n",
       "      <td>no</td>\n",
       "      <td>no</td>\n",
       "      <td>4</td>\n",
       "      <td>19200</td>\n",
       "    </tr>\n",
       "    <tr>\n",
       "      <th>4</th>\n",
       "      <td>789145</td>\n",
       "      <td>hr</td>\n",
       "      <td>middle</td>\n",
       "      <td>medium</td>\n",
       "      <td>5</td>\n",
       "      <td>no</td>\n",
       "      <td>no</td>\n",
       "      <td>5</td>\n",
       "      <td>40800</td>\n",
       "    </tr>\n",
       "  </tbody>\n",
       "</table>\n",
       "</div>"
      ],
      "text/plain": [
       "       id       dept   level workload  employment_years last_year_promo  \\\n",
       "0  485046  marketing  junior   medium                 2              no   \n",
       "1  686555         hr  junior   medium                 1              no   \n",
       "2  467458      sales  middle      low                 5              no   \n",
       "3  418655      sales  middle      low                 6              no   \n",
       "4  789145         hr  middle   medium                 5              no   \n",
       "\n",
       "  last_year_violations  supervisor_evaluation  salary  \n",
       "0                   no                      5   28800  \n",
       "1                   no                      4   30000  \n",
       "2                   no                      4   19200  \n",
       "3                   no                      4   19200  \n",
       "4                   no                      5   40800  "
      ]
     },
     "execution_count": 21,
     "metadata": {},
     "output_type": "execute_result"
    }
   ],
   "source": [
    "df_test_features.head()"
   ]
  },
  {
   "cell_type": "code",
   "execution_count": 22,
   "metadata": {},
   "outputs": [
    {
     "name": "stdout",
     "output_type": "stream",
     "text": [
      "<class 'pandas.core.frame.DataFrame'>\n",
      "RangeIndex: 2000 entries, 0 to 1999\n",
      "Data columns (total 2 columns):\n",
      " #   Column                 Non-Null Count  Dtype  \n",
      "---  ------                 --------------  -----  \n",
      " 0   id                     2000 non-null   int64  \n",
      " 1   job_satisfaction_rate  2000 non-null   float64\n",
      "dtypes: float64(1), int64(1)\n",
      "memory usage: 31.4 KB\n"
     ]
    }
   ],
   "source": [
    "df_test_target_job_satisfaction_rate.info()"
   ]
  },
  {
   "cell_type": "code",
   "execution_count": 23,
   "metadata": {},
   "outputs": [
    {
     "data": {
      "text/html": [
       "<div>\n",
       "<style scoped>\n",
       "    .dataframe tbody tr th:only-of-type {\n",
       "        vertical-align: middle;\n",
       "    }\n",
       "\n",
       "    .dataframe tbody tr th {\n",
       "        vertical-align: top;\n",
       "    }\n",
       "\n",
       "    .dataframe thead th {\n",
       "        text-align: right;\n",
       "    }\n",
       "</style>\n",
       "<table border=\"1\" class=\"dataframe\">\n",
       "  <thead>\n",
       "    <tr style=\"text-align: right;\">\n",
       "      <th></th>\n",
       "      <th>id</th>\n",
       "      <th>job_satisfaction_rate</th>\n",
       "    </tr>\n",
       "  </thead>\n",
       "  <tbody>\n",
       "    <tr>\n",
       "      <th>0</th>\n",
       "      <td>130604</td>\n",
       "      <td>0.74</td>\n",
       "    </tr>\n",
       "    <tr>\n",
       "      <th>1</th>\n",
       "      <td>825977</td>\n",
       "      <td>0.75</td>\n",
       "    </tr>\n",
       "    <tr>\n",
       "      <th>2</th>\n",
       "      <td>418490</td>\n",
       "      <td>0.60</td>\n",
       "    </tr>\n",
       "    <tr>\n",
       "      <th>3</th>\n",
       "      <td>555320</td>\n",
       "      <td>0.72</td>\n",
       "    </tr>\n",
       "    <tr>\n",
       "      <th>4</th>\n",
       "      <td>826430</td>\n",
       "      <td>0.08</td>\n",
       "    </tr>\n",
       "  </tbody>\n",
       "</table>\n",
       "</div>"
      ],
      "text/plain": [
       "       id  job_satisfaction_rate\n",
       "0  130604                   0.74\n",
       "1  825977                   0.75\n",
       "2  418490                   0.60\n",
       "3  555320                   0.72\n",
       "4  826430                   0.08"
      ]
     },
     "execution_count": 23,
     "metadata": {},
     "output_type": "execute_result"
    }
   ],
   "source": [
    "df_test_target_job_satisfaction_rate.head()"
   ]
  },
  {
   "attachments": {},
   "cell_type": "markdown",
   "metadata": {},
   "source": [
    "# Этап 2 "
   ]
  },
  {
   "cell_type": "code",
   "execution_count": 24,
   "metadata": {},
   "outputs": [
    {
     "name": "stdout",
     "output_type": "stream",
     "text": [
      "Количество дубликатов в датафрейме df_test_target_job_satisfaction_rate: 0\n",
      "Количество дубликатов в датафрейме df_test_features: 0\n",
      "Количество дубликатов в датафрейме df_train_job_satisfaction_rate: 0\n"
     ]
    }
   ],
   "source": [
    "data_frames = [df_test_target_job_satisfaction_rate, df_test_features, df_train_job_satisfaction_rate]\n",
    "\n",
    "for data in data_frames:\n",
    "    data_name = [key for key, value in locals().items() if value is data][0]\n",
    "    print(f'Количество дубликатов в датафрейме {data_name}: {data.duplicated().sum()}')\n",
    "    if data.duplicated().sum() > 0:\n",
    "        data.drop_duplicates(inplace=True)\n",
    "        print(f'Количество дубликатов в датафрейме {data_name}: {data.duplicated().sum()}')"
   ]
  },
  {
   "cell_type": "code",
   "execution_count": 30,
   "metadata": {},
   "outputs": [],
   "source": [
    "cat_col_train_job, num_col_train_job = cat_num_col(df_train_job_satisfaction_rate)"
   ]
  },
  {
   "cell_type": "code",
   "execution_count": 31,
   "metadata": {},
   "outputs": [
    {
     "data": {
      "text/plain": [
       "['dept', 'level', 'workload', 'last_year_promo', 'last_year_violations']"
      ]
     },
     "execution_count": 31,
     "metadata": {},
     "output_type": "execute_result"
    }
   ],
   "source": [
    "num_col_train_job"
   ]
  },
  {
   "cell_type": "code",
   "execution_count": 32,
   "metadata": {},
   "outputs": [
    {
     "name": "stdout",
     "output_type": "stream",
     "text": [
      "Количество уникальны значений в столбце col_name: ['sales' 'hr' 'technology' 'purchasing' 'marketing' nan]\n",
      "Количество уникальны значений в столбце col_name: ['junior' 'middle' 'sinior' nan]\n",
      "Количество уникальны значений в столбце col_name: ['medium' 'high' 'low']\n",
      "Количество уникальны значений в столбце col_name: ['no' 'yes']\n",
      "Количество уникальны значений в столбце col_name: ['no' 'yes']\n"
     ]
    }
   ],
   "source": [
    "for col_name in num_col_train_job:\n",
    "    name = [key for key, value in locals().items() if value is col_name][0]\n",
    "    print(f'Количество уникальны значений в столбце {name}: {df_train_job_satisfaction_rate[col_name].unique()}')\n",
    "\n"
   ]
  }
 ],
 "metadata": {
  "kernelspec": {
   "display_name": "practicum",
   "language": "python",
   "name": "python3"
  },
  "language_info": {
   "codemirror_mode": {
    "name": "ipython",
    "version": 3
   },
   "file_extension": ".py",
   "mimetype": "text/x-python",
   "name": "python",
   "nbconvert_exporter": "python",
   "pygments_lexer": "ipython3",
   "version": "3.9.16"
  },
  "orig_nbformat": 4
 },
 "nbformat": 4,
 "nbformat_minor": 2
}
