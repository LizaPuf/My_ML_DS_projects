{
 "cells": [
  {
   "attachments": {},
   "cell_type": "markdown",
   "id": "72576667",
   "metadata": {},
   "source": [
    "# Исследование сервиса аренды самокатов \"GoFast\""
   ]
  },
  {
   "attachments": {},
   "cell_type": "markdown",
   "id": "76151d3f",
   "metadata": {},
   "source": [
    "## Описание проекта\n",
    "\n",
    "Нам передали данные о некоторых пользователях из нескольких городов популярного сервиса аренды самокатов 'GoFast', а также об их поездках. Требуется проанализировать данные и проверить некоторые гипотезы, которые могут помочь бизнесу вырасти.\n",
    "\n",
    "Чтобы совершать поездки по городу, пользователи сервиса 'GoFast' пользуются мобильным приложением.\n",
    "\n",
    "Сервисом можно пользоваться:\n",
    "* без подписки \n",
    "    абонентская плата отсутствует;\n",
    "    стоимость одной минуты поездки — 8 рублей;\n",
    "    стоимость старта (начала поездки) — 50 рублей;\n",
    "\n",
    "* с подпиской Ultra \n",
    "    абонентская плата — 199 рублей в месяц;\n",
    "    стоимость одной минуты поездки — 6 рублей;\n",
    "    стоимость старта — бесплатно."
   ]
  },
  {
   "attachments": {},
   "cell_type": "markdown",
   "id": "fbdf5d39",
   "metadata": {},
   "source": [
    "## Описание данных\n",
    "\n",
    "В основных данных есть информация о пользователях, их поездках и подписках.\n",
    "\n",
    "#### Пользователи — users_go.csv\n",
    "\n",
    "* user_id - уникальный идентификатор пользователя;\n",
    "* name - имя пользователя;\n",
    "* age - возраст;\n",
    "* city - город;\n",
    "* subscription_type - тип подписки (free, ultra).\n",
    "\n",
    "#### Поездки — rides_go.csv\n",
    "\n",
    "* user_id - уникальный идентификатор пользователя;\n",
    "* distance - расстояние, которое пользователь проехал в текущей сессии (в метрах);\n",
    "* duration - продолжительность сессии (в минутах) — время с того момента, как пользователь нажал кнопку «Начать поездку» до момента, как он нажал кнопку «Завершить поездку»;\n",
    "* date - дата совершения поездки.\n",
    "\n",
    "#### Подписки — subscriptions_go.csv\n",
    "\n",
    "* subscription_type\t- тип подписки;\n",
    "* minute_price\t- стоимость одной минуты поездки по данной подписке;\n",
    "* start_ride_price\t- стоимость начала поездки;\n",
    "* subscription_fee\t- стоимость ежемесячного платежа."
   ]
  },
  {
   "attachments": {},
   "cell_type": "markdown",
   "id": "1d27a6a5",
   "metadata": {},
   "source": [
    "\n",
    "## Задачи исследования\n",
    "\n",
    "### Этап 1. Загрузка и изучение данных\n",
    "* 1.1 Считайте CSV-файлы с данными с помощью библиотеки pandas и сохраните их в датафреймы.\n",
    "* 1.2 Выведите первые строки каждого набора данных. Изучите общую информацию о каждом датафрейме.\n",
    "\n",
    "### Этап 2. Предобработка данных\n",
    "\n",
    "* 2.1 Приведите столбец date к типу даты pandas\n",
    "* 2.2 Создайте новый столбец с номером месяца на основе столбца date.\n",
    "* 2.3 Проверьте наличие пропущенных значений и дубликатов в датафреймах. Обработайте их, если такие значения присутствуют.\n",
    "\n",
    "### Этап 3. Исследовательский анализ данных\n",
    "\n",
    "Опишите и визуализируйте общую информацию о пользователях и поездках:\n",
    "* 3.1 частота встречаемости городов;\n",
    "* 3.2 соотношение пользователей с подпиской и без подписки\n",
    "* 3.3 возраст пользователей;\n",
    "* 3.4 расстояние, которое пользователь преодолел за одну поездку;\n",
    "* 3.5 продолжительность поездок.\n",
    "\n",
    "### Этап 4. Объединение данных\n",
    "\n",
    "* 4.1 Объедините данные о пользователях, поездках и подписках в один датафрейм. Для этого воспользуйтесь методом merge();\n",
    "* 4.2 Создайте ещё два датафрейма из датафрейма, созданного на этапе 4.1:\n",
    "    * c данными о пользователях без подписки;\n",
    "    * с данными о пользователях с подпиской.\n",
    "* 4.3 Визуализируйте информацию о расстоянии и времени поездок для пользователей обеих категорий.\n",
    "\n",
    "### Этап 5. Подсчёт выручки\n",
    "\n",
    "* 5.1 Создайте датафрейм с агрегированными данными о поездках на основе датафрейма с объединёнными данными из шага 4: найдите суммарное расстояние, количество поездок и суммарное время для каждого пользователя за каждый месяц;\n",
    "* 5.2 В этот же датафрейм добавьте столбец с помесячной выручкой, которую принёс каждый пользователь. Для этого обратитесь к информации об условиях оплаты для подписчиков и тех, у кого нет подписки. Продолжительность каждой поездки в каждой строке исходного датафрейма для подсчёта стоимости округляется до следующего целого числа: например, значения 25.3, 25.5 и 26.0 должны быть преобразованы к 26.\n",
    "\n",
    "### Этап 6. Проверка гипотез\n",
    "\n",
    "Продакт-менеджеры сервиса хотят увеличить количество пользователей с подпиской. Для этого они будут проводить различные акции, но сначала нужно выяснить несколько важных моментов.\n",
    "* 6.1 Важно понять, тратят ли пользователи с подпиской больше времени на поездки? Если да, то пользователи с подпиской могут быть «выгоднее» для компании. Проверьте гипотезу. Используйте исходные данные о продолжительности каждой сессии — отдельно для подписчиков и тех, у кого нет подписки;\n",
    "* 6.2 Расстояние одной поездки в 3130 метров — оптимальное с точки зрения износа самоката. Можно ли сказать, что расстояние, которое проезжают пользователи с подпиской за одну поездку, не превышает 3130 метров? Проверьте гипотезу и сделайте выводы;\n",
    "* 6.3. Проверьте гипотезу о том, будет ли помесячная выручка от пользователей с подпиской по месяцам выше, чем выручка от пользователей без подписки. Сделайте вывод;\n",
    "* 6.4. Представьте такую ситуацию: техническая команда сервиса обновила сервера, с которыми взаимодействует мобильное приложение. Она надеется, что из-за этого количество обращений в техподдержку значимо снизилось. Некоторый файл содержит для каждого пользователя данные о количестве обращений до обновления и после него. Какой тест вам понадобился бы для проверки этой гипотезы?"
   ]
  },
  {
   "attachments": {},
   "cell_type": "markdown",
   "id": "52c51b75",
   "metadata": {},
   "source": [
    "## Этап 1: Загрузка данных \n",
    "#### Подключение библиотек\n"
   ]
  },
  {
   "cell_type": "code",
   "execution_count": 73,
   "id": "fac0f3eb",
   "metadata": {},
   "outputs": [],
   "source": [
    "#импорт необходимых библиотек \n",
    "import pandas as pd\n",
    "import numpy as np\n",
    "import matplotlib.pyplot as plt  \n",
    "from scipy import stats\n",
    "import seaborn as sns\n",
    "import warnings\n"
   ]
  },
  {
   "attachments": {},
   "cell_type": "markdown",
   "id": "851ccc33",
   "metadata": {},
   "source": [
    "#### Загрузка данных из файла"
   ]
  },
  {
   "cell_type": "code",
   "execution_count": 74,
   "id": "eff9f206",
   "metadata": {},
   "outputs": [],
   "source": [
    "try:\n",
    "    df_users_go = pd.read_csv('/datasets/users_go.csv', sep = ',')\n",
    "    df_rides_go = pd.read_csv('/datasets/rides_go.csv', sep = ',')\n",
    "    df_subscriptions_go = pd.read_csv('/datasets/subscriptions_go.csv', sep = ',')\n",
    "except Exception:\n",
    "    df_users_go = pd.read_csv('https://code.s3.yandex.net/datasets/users_go.csv', sep = ',')\n",
    "    df_rides_go = pd.read_csv('https://code.s3.yandex.net/datasets/rides_go.csv', sep = ',')\n",
    "    df_subscriptions_go = pd.read_csv('https://code.s3.yandex.net/datasets/subscriptions_go.csv', sep = ',')\n"
   ]
  },
  {
   "cell_type": "code",
   "execution_count": 75,
   "id": "a0783f89",
   "metadata": {},
   "outputs": [
    {
     "name": "stdout",
     "output_type": "stream",
     "text": [
      "<class 'pandas.core.frame.DataFrame'>\n",
      "RangeIndex: 1565 entries, 0 to 1564\n",
      "Data columns (total 5 columns):\n",
      " #   Column             Non-Null Count  Dtype \n",
      "---  ------             --------------  ----- \n",
      " 0   user_id            1565 non-null   int64 \n",
      " 1   name               1565 non-null   object\n",
      " 2   age                1565 non-null   int64 \n",
      " 3   city               1565 non-null   object\n",
      " 4   subscription_type  1565 non-null   object\n",
      "dtypes: int64(2), object(3)\n",
      "memory usage: 61.3+ KB\n"
     ]
    }
   ],
   "source": [
    "df_users_go.info()"
   ]
  },
  {
   "cell_type": "code",
   "execution_count": 76,
   "id": "ee50e5bd",
   "metadata": {},
   "outputs": [
    {
     "data": {
      "text/html": [
       "<div>\n",
       "<style scoped>\n",
       "    .dataframe tbody tr th:only-of-type {\n",
       "        vertical-align: middle;\n",
       "    }\n",
       "\n",
       "    .dataframe tbody tr th {\n",
       "        vertical-align: top;\n",
       "    }\n",
       "\n",
       "    .dataframe thead th {\n",
       "        text-align: right;\n",
       "    }\n",
       "</style>\n",
       "<table border=\"1\" class=\"dataframe\">\n",
       "  <thead>\n",
       "    <tr style=\"text-align: right;\">\n",
       "      <th></th>\n",
       "      <th>user_id</th>\n",
       "      <th>name</th>\n",
       "      <th>age</th>\n",
       "      <th>city</th>\n",
       "      <th>subscription_type</th>\n",
       "    </tr>\n",
       "  </thead>\n",
       "  <tbody>\n",
       "    <tr>\n",
       "      <th>0</th>\n",
       "      <td>1</td>\n",
       "      <td>Кира</td>\n",
       "      <td>22</td>\n",
       "      <td>Тюмень</td>\n",
       "      <td>ultra</td>\n",
       "    </tr>\n",
       "    <tr>\n",
       "      <th>1</th>\n",
       "      <td>2</td>\n",
       "      <td>Станислав</td>\n",
       "      <td>31</td>\n",
       "      <td>Омск</td>\n",
       "      <td>ultra</td>\n",
       "    </tr>\n",
       "    <tr>\n",
       "      <th>2</th>\n",
       "      <td>3</td>\n",
       "      <td>Алексей</td>\n",
       "      <td>20</td>\n",
       "      <td>Москва</td>\n",
       "      <td>ultra</td>\n",
       "    </tr>\n",
       "    <tr>\n",
       "      <th>3</th>\n",
       "      <td>4</td>\n",
       "      <td>Константин</td>\n",
       "      <td>26</td>\n",
       "      <td>Ростов-на-Дону</td>\n",
       "      <td>ultra</td>\n",
       "    </tr>\n",
       "    <tr>\n",
       "      <th>4</th>\n",
       "      <td>5</td>\n",
       "      <td>Адель</td>\n",
       "      <td>28</td>\n",
       "      <td>Омск</td>\n",
       "      <td>ultra</td>\n",
       "    </tr>\n",
       "  </tbody>\n",
       "</table>\n",
       "</div>"
      ],
      "text/plain": [
       "   user_id        name  age            city subscription_type\n",
       "0        1        Кира   22          Тюмень             ultra\n",
       "1        2   Станислав   31            Омск             ultra\n",
       "2        3     Алексей   20          Москва             ultra\n",
       "3        4  Константин   26  Ростов-на-Дону             ultra\n",
       "4        5       Адель   28            Омск             ultra"
      ]
     },
     "execution_count": 76,
     "metadata": {},
     "output_type": "execute_result"
    }
   ],
   "source": [
    "df_users_go.head()"
   ]
  },
  {
   "attachments": {},
   "cell_type": "markdown",
   "id": "6400d8ee",
   "metadata": {},
   "source": [
    "Данные, котороые хранятся в этом датафрейме \n",
    "* `user_id` - уникальный идентификатор пользователя;\n",
    "* `name` - имя пользователя;\n",
    "* `age` - возраст;\n",
    "* `city` - город;\n",
    "* `subscription_type` - тип подписки (free, ultra)"
   ]
  },
  {
   "cell_type": "code",
   "execution_count": 77,
   "id": "4a8c87d5",
   "metadata": {},
   "outputs": [
    {
     "name": "stdout",
     "output_type": "stream",
     "text": [
      "<class 'pandas.core.frame.DataFrame'>\n",
      "RangeIndex: 18068 entries, 0 to 18067\n",
      "Data columns (total 4 columns):\n",
      " #   Column    Non-Null Count  Dtype  \n",
      "---  ------    --------------  -----  \n",
      " 0   user_id   18068 non-null  int64  \n",
      " 1   distance  18068 non-null  float64\n",
      " 2   duration  18068 non-null  float64\n",
      " 3   date      18068 non-null  object \n",
      "dtypes: float64(2), int64(1), object(1)\n",
      "memory usage: 564.8+ KB\n"
     ]
    }
   ],
   "source": [
    "df_rides_go.info()"
   ]
  },
  {
   "cell_type": "code",
   "execution_count": 78,
   "id": "27da0214",
   "metadata": {},
   "outputs": [
    {
     "data": {
      "text/html": [
       "<div>\n",
       "<style scoped>\n",
       "    .dataframe tbody tr th:only-of-type {\n",
       "        vertical-align: middle;\n",
       "    }\n",
       "\n",
       "    .dataframe tbody tr th {\n",
       "        vertical-align: top;\n",
       "    }\n",
       "\n",
       "    .dataframe thead th {\n",
       "        text-align: right;\n",
       "    }\n",
       "</style>\n",
       "<table border=\"1\" class=\"dataframe\">\n",
       "  <thead>\n",
       "    <tr style=\"text-align: right;\">\n",
       "      <th></th>\n",
       "      <th>user_id</th>\n",
       "      <th>distance</th>\n",
       "      <th>duration</th>\n",
       "      <th>date</th>\n",
       "    </tr>\n",
       "  </thead>\n",
       "  <tbody>\n",
       "    <tr>\n",
       "      <th>0</th>\n",
       "      <td>1</td>\n",
       "      <td>4409.919140</td>\n",
       "      <td>25.599769</td>\n",
       "      <td>2021-01-01</td>\n",
       "    </tr>\n",
       "    <tr>\n",
       "      <th>1</th>\n",
       "      <td>1</td>\n",
       "      <td>2617.592153</td>\n",
       "      <td>15.816871</td>\n",
       "      <td>2021-01-18</td>\n",
       "    </tr>\n",
       "    <tr>\n",
       "      <th>2</th>\n",
       "      <td>1</td>\n",
       "      <td>754.159807</td>\n",
       "      <td>6.232113</td>\n",
       "      <td>2021-04-20</td>\n",
       "    </tr>\n",
       "    <tr>\n",
       "      <th>3</th>\n",
       "      <td>1</td>\n",
       "      <td>2694.783254</td>\n",
       "      <td>18.511000</td>\n",
       "      <td>2021-08-11</td>\n",
       "    </tr>\n",
       "    <tr>\n",
       "      <th>4</th>\n",
       "      <td>1</td>\n",
       "      <td>4028.687306</td>\n",
       "      <td>26.265803</td>\n",
       "      <td>2021-08-28</td>\n",
       "    </tr>\n",
       "  </tbody>\n",
       "</table>\n",
       "</div>"
      ],
      "text/plain": [
       "   user_id     distance   duration        date\n",
       "0        1  4409.919140  25.599769  2021-01-01\n",
       "1        1  2617.592153  15.816871  2021-01-18\n",
       "2        1   754.159807   6.232113  2021-04-20\n",
       "3        1  2694.783254  18.511000  2021-08-11\n",
       "4        1  4028.687306  26.265803  2021-08-28"
      ]
     },
     "execution_count": 78,
     "metadata": {},
     "output_type": "execute_result"
    }
   ],
   "source": [
    "df_rides_go.head()"
   ]
  },
  {
   "attachments": {},
   "cell_type": "markdown",
   "id": "e689ea7a",
   "metadata": {},
   "source": [
    "Данные, которые хранятся в этом датафрейме \n",
    "* `user_id` - уникальный идентификатор пользователя;\n",
    "* `distance` - расстояние, которое пользователь проехал в текущей сессии (в метрах);\n",
    "* `duration` - продолжительность сессии (в минутах) — время с того момента, как пользователь нажал кнопку «Начать поездку» до момента, как он нажал кнопку «Завершить поездку»;\n",
    "* `date` - дата совершения поездки."
   ]
  },
  {
   "cell_type": "code",
   "execution_count": 79,
   "id": "37eb1697",
   "metadata": {},
   "outputs": [
    {
     "name": "stdout",
     "output_type": "stream",
     "text": [
      "<class 'pandas.core.frame.DataFrame'>\n",
      "RangeIndex: 2 entries, 0 to 1\n",
      "Data columns (total 4 columns):\n",
      " #   Column             Non-Null Count  Dtype \n",
      "---  ------             --------------  ----- \n",
      " 0   subscription_type  2 non-null      object\n",
      " 1   minute_price       2 non-null      int64 \n",
      " 2   start_ride_price   2 non-null      int64 \n",
      " 3   subscription_fee   2 non-null      int64 \n",
      "dtypes: int64(3), object(1)\n",
      "memory usage: 192.0+ bytes\n"
     ]
    }
   ],
   "source": [
    "df_subscriptions_go.info()\n"
   ]
  },
  {
   "cell_type": "code",
   "execution_count": 80,
   "id": "ef7264a5",
   "metadata": {},
   "outputs": [
    {
     "data": {
      "text/html": [
       "<div>\n",
       "<style scoped>\n",
       "    .dataframe tbody tr th:only-of-type {\n",
       "        vertical-align: middle;\n",
       "    }\n",
       "\n",
       "    .dataframe tbody tr th {\n",
       "        vertical-align: top;\n",
       "    }\n",
       "\n",
       "    .dataframe thead th {\n",
       "        text-align: right;\n",
       "    }\n",
       "</style>\n",
       "<table border=\"1\" class=\"dataframe\">\n",
       "  <thead>\n",
       "    <tr style=\"text-align: right;\">\n",
       "      <th></th>\n",
       "      <th>subscription_type</th>\n",
       "      <th>minute_price</th>\n",
       "      <th>start_ride_price</th>\n",
       "      <th>subscription_fee</th>\n",
       "    </tr>\n",
       "  </thead>\n",
       "  <tbody>\n",
       "    <tr>\n",
       "      <th>0</th>\n",
       "      <td>free</td>\n",
       "      <td>8</td>\n",
       "      <td>50</td>\n",
       "      <td>0</td>\n",
       "    </tr>\n",
       "    <tr>\n",
       "      <th>1</th>\n",
       "      <td>ultra</td>\n",
       "      <td>6</td>\n",
       "      <td>0</td>\n",
       "      <td>199</td>\n",
       "    </tr>\n",
       "  </tbody>\n",
       "</table>\n",
       "</div>"
      ],
      "text/plain": [
       "  subscription_type  minute_price  start_ride_price  subscription_fee\n",
       "0              free             8                50                 0\n",
       "1             ultra             6                 0               199"
      ]
     },
     "execution_count": 80,
     "metadata": {},
     "output_type": "execute_result"
    }
   ],
   "source": [
    "df_subscriptions_go.head()"
   ]
  },
  {
   "attachments": {},
   "cell_type": "markdown",
   "id": "6db7b270",
   "metadata": {},
   "source": [
    "Данные, которые хранятся в этом датафрейме \n",
    "* `subscription_type`\t- тип подписки;\n",
    "* `minute_price`\t- стоимость одной минуты поездки по данной подписке;\n",
    "* `start_ride_price`\t- стоимость начала поездки;\n",
    "* `subscription_fee`\t- стоимость ежемесячного платежа."
   ]
  },
  {
   "attachments": {},
   "cell_type": "markdown",
   "id": "836e70ec",
   "metadata": {},
   "source": [
    "### Вывод:\n",
    "- В нашем распоряжении 3 датафрейма. С информацией о пользователях, их поездках и типе подписке \n",
    "- В датафрейме есть некорректный тип данных, необходимо исправить\n",
    "-  Проверить наличие пропусков и дубликатов "
   ]
  },
  {
   "attachments": {},
   "cell_type": "markdown",
   "id": "e95ebca7",
   "metadata": {},
   "source": [
    "#### Шаг 2. Предобработка данных"
   ]
  },
  {
   "attachments": {},
   "cell_type": "markdown",
   "id": "a3a7d6b7",
   "metadata": {},
   "source": [
    "### Изменение типа данных"
   ]
  },
  {
   "cell_type": "code",
   "execution_count": 81,
   "id": "758e1bdc",
   "metadata": {},
   "outputs": [
    {
     "name": "stdout",
     "output_type": "stream",
     "text": [
      "<class 'pandas.core.frame.DataFrame'>\n",
      "RangeIndex: 18068 entries, 0 to 18067\n",
      "Data columns (total 4 columns):\n",
      " #   Column    Non-Null Count  Dtype         \n",
      "---  ------    --------------  -----         \n",
      " 0   user_id   18068 non-null  int64         \n",
      " 1   distance  18068 non-null  float64       \n",
      " 2   duration  18068 non-null  float64       \n",
      " 3   date      18068 non-null  datetime64[ns]\n",
      "dtypes: datetime64[ns](1), float64(2), int64(1)\n",
      "memory usage: 564.8 KB\n"
     ]
    }
   ],
   "source": [
    "df_rides_go['date'] = pd.to_datetime(df_rides_go['date'])\n",
    "df_rides_go.info()"
   ]
  },
  {
   "attachments": {},
   "cell_type": "markdown",
   "id": "615a3522",
   "metadata": {},
   "source": [
    "Создание столбца на основе нового типа данных"
   ]
  },
  {
   "cell_type": "code",
   "execution_count": 82,
   "id": "a07f8bca",
   "metadata": {},
   "outputs": [
    {
     "data": {
      "text/html": [
       "<div>\n",
       "<style scoped>\n",
       "    .dataframe tbody tr th:only-of-type {\n",
       "        vertical-align: middle;\n",
       "    }\n",
       "\n",
       "    .dataframe tbody tr th {\n",
       "        vertical-align: top;\n",
       "    }\n",
       "\n",
       "    .dataframe thead th {\n",
       "        text-align: right;\n",
       "    }\n",
       "</style>\n",
       "<table border=\"1\" class=\"dataframe\">\n",
       "  <thead>\n",
       "    <tr style=\"text-align: right;\">\n",
       "      <th></th>\n",
       "      <th>user_id</th>\n",
       "      <th>distance</th>\n",
       "      <th>duration</th>\n",
       "      <th>date</th>\n",
       "      <th>month</th>\n",
       "    </tr>\n",
       "  </thead>\n",
       "  <tbody>\n",
       "    <tr>\n",
       "      <th>0</th>\n",
       "      <td>1</td>\n",
       "      <td>4409.919140</td>\n",
       "      <td>25.599769</td>\n",
       "      <td>2021-01-01</td>\n",
       "      <td>1</td>\n",
       "    </tr>\n",
       "    <tr>\n",
       "      <th>1</th>\n",
       "      <td>1</td>\n",
       "      <td>2617.592153</td>\n",
       "      <td>15.816871</td>\n",
       "      <td>2021-01-18</td>\n",
       "      <td>1</td>\n",
       "    </tr>\n",
       "    <tr>\n",
       "      <th>2</th>\n",
       "      <td>1</td>\n",
       "      <td>754.159807</td>\n",
       "      <td>6.232113</td>\n",
       "      <td>2021-04-20</td>\n",
       "      <td>4</td>\n",
       "    </tr>\n",
       "    <tr>\n",
       "      <th>3</th>\n",
       "      <td>1</td>\n",
       "      <td>2694.783254</td>\n",
       "      <td>18.511000</td>\n",
       "      <td>2021-08-11</td>\n",
       "      <td>8</td>\n",
       "    </tr>\n",
       "    <tr>\n",
       "      <th>4</th>\n",
       "      <td>1</td>\n",
       "      <td>4028.687306</td>\n",
       "      <td>26.265803</td>\n",
       "      <td>2021-08-28</td>\n",
       "      <td>8</td>\n",
       "    </tr>\n",
       "  </tbody>\n",
       "</table>\n",
       "</div>"
      ],
      "text/plain": [
       "   user_id     distance   duration       date  month\n",
       "0        1  4409.919140  25.599769 2021-01-01      1\n",
       "1        1  2617.592153  15.816871 2021-01-18      1\n",
       "2        1   754.159807   6.232113 2021-04-20      4\n",
       "3        1  2694.783254  18.511000 2021-08-11      8\n",
       "4        1  4028.687306  26.265803 2021-08-28      8"
      ]
     },
     "execution_count": 82,
     "metadata": {},
     "output_type": "execute_result"
    }
   ],
   "source": [
    "df_rides_go['month'] = df_rides_go['date'].dt.month\n",
    "df_rides_go.head()"
   ]
  },
  {
   "attachments": {},
   "cell_type": "markdown",
   "id": "8c5cdf91",
   "metadata": {},
   "source": [
    "### Проверка дубликатов"
   ]
  },
  {
   "cell_type": "code",
   "execution_count": 83,
   "id": "1ff05f5a",
   "metadata": {},
   "outputs": [
    {
     "name": "stdout",
     "output_type": "stream",
     "text": [
      "количество дубликатов в датафрейме df_users_go: 31\n",
      "количество дубликатов в датафрейме df_rides_go: 0\n",
      "количество дубликатов в датафрейме df_subscriptions_go: 0\n"
     ]
    }
   ],
   "source": [
    "print(f'количество дубликатов в датафрейме df_users_go: {df_users_go.duplicated().sum()}')\n",
    "print(f'количество дубликатов в датафрейме df_rides_go: {df_rides_go.duplicated().sum()}')\n",
    "print(f'количество дубликатов в датафрейме df_subscriptions_go: {df_subscriptions_go.duplicated().sum()}')"
   ]
  },
  {
   "attachments": {},
   "cell_type": "markdown",
   "id": "f89a89d7",
   "metadata": {},
   "source": [
    "Удалим дубликаты из датафрейма `df_users_go`"
   ]
  },
  {
   "cell_type": "code",
   "execution_count": 84,
   "id": "3aaac1c2",
   "metadata": {},
   "outputs": [],
   "source": [
    "df_users_go.drop_duplicates(inplace=True)"
   ]
  },
  {
   "cell_type": "code",
   "execution_count": 85,
   "id": "af6d202c",
   "metadata": {},
   "outputs": [
    {
     "name": "stdout",
     "output_type": "stream",
     "text": [
      "количество дубликатов в датафрейме df_users_go: 0\n"
     ]
    }
   ],
   "source": [
    "print(f'количество дубликатов в датафрейме df_users_go: {df_users_go.duplicated().sum()}')"
   ]
  },
  {
   "attachments": {},
   "cell_type": "markdown",
   "id": "fa86909e",
   "metadata": {},
   "source": [
    "### Удаление пропусков"
   ]
  },
  {
   "cell_type": "code",
   "execution_count": 86,
   "id": "da7849d9",
   "metadata": {},
   "outputs": [
    {
     "name": "stdout",
     "output_type": "stream",
     "text": [
      "Пропущенные значения в df_users_go:\n",
      "user_id              0\n",
      "name                 0\n",
      "age                  0\n",
      "city                 0\n",
      "subscription_type    0\n",
      "dtype: int64\n",
      "\n",
      "Пропущенные значения в df_rides_go:\n",
      "user_id     0\n",
      "distance    0\n",
      "duration    0\n",
      "date        0\n",
      "month       0\n",
      "dtype: int64\n",
      "\n",
      "Пропущенные значения в df_subscriptions_go:\n",
      "subscription_type    0\n",
      "minute_price         0\n",
      "start_ride_price     0\n",
      "subscription_fee     0\n",
      "dtype: int64\n"
     ]
    }
   ],
   "source": [
    "print(f'Пропущенные значения в df_users_go:\\n{df_users_go.isnull().sum().sort_values()}')\n",
    "print()\n",
    "print(f'Пропущенные значения в df_rides_go:\\n{df_rides_go.isnull().sum().sort_values()}')\n",
    "print()\n",
    "print(f'Пропущенные значения в df_subscriptions_go:\\n{df_subscriptions_go.isnull().sum().sort_values()}')\n",
    "\n"
   ]
  },
  {
   "attachments": {},
   "cell_type": "markdown",
   "id": "13ba843c",
   "metadata": {},
   "source": [
    "### Вывод\n",
    "- Пропуски не обнаружены \n",
    "- В датафрейме `df_users_go` удалили дублкаты \n",
    "- В датафрейме `df_rides_go` поменяли тип данных в столбце `date` и создали на его основе столбец с месяцами"
   ]
  },
  {
   "attachments": {},
   "cell_type": "markdown",
   "id": "212593c7",
   "metadata": {},
   "source": [
    "## Шаг 3. Исследовательский анализ данных"
   ]
  },
  {
   "attachments": {},
   "cell_type": "markdown",
   "id": "e93fc587",
   "metadata": {},
   "source": [
    "### Частота встречаемости городов"
   ]
  },
  {
   "cell_type": "code",
   "execution_count": 87,
   "id": "7792a064",
   "metadata": {},
   "outputs": [
    {
     "data": {
      "image/png": "[encoded data removed]",
      "text/plain": [
       "<Figure size 1000x600 with 1 Axes>"
      ]
     },
     "metadata": {},
     "output_type": "display_data"
    }
   ],
   "source": [
    "plt.figure(figsize=(10, 6))\n",
    "city_count = df_users_go['city'].value_counts()\n",
    "df_city_count = city_count.reset_index()\n",
    "df_city_count.columns = ['city', 'count']\n",
    "sns.barplot(x = 'city', y = 'count', data = df_city_count)\n",
    "plt.xticks(rotation=45)\n",
    "plt.xlabel('Название городов')\n",
    "plt.ylabel('Количество пользователей')\n",
    "\n",
    "plt.show()\n"
   ]
  },
  {
   "attachments": {},
   "cell_type": "markdown",
   "id": "1910a364",
   "metadata": {},
   "source": [
    "Наибольшее количество пользователей в городе Пятигорск, больше 200. Наименьшее количество в Москве, чуть больше 150. "
   ]
  },
  {
   "attachments": {},
   "cell_type": "markdown",
   "id": "f70d22f2",
   "metadata": {},
   "source": [
    "### Соотношение пользователей с подпиской и без подписки"
   ]
  },
  {
   "cell_type": "code",
   "execution_count": 88,
   "id": "88bc5889",
   "metadata": {},
   "outputs": [
    {
     "data": {
      "image/png": "[encoded data removed]",
      "text/plain": [
       "<Figure size 1000x600 with 1 Axes>"
      ]
     },
     "metadata": {},
     "output_type": "display_data"
    }
   ],
   "source": [
    "subscription_count = df_users_go['subscription_type'].value_counts()\n",
    "df_subscription_count = subscription_count.reset_index()\n",
    "df_subscription_count.columns = ['sub', 'count']\n",
    "colors = sns.color_palette('pastel')[ 0:5 ]\n",
    "plt.figure(figsize=(10, 6))\n",
    "plt.pie(df_subscription_count['count'], labels=df_subscription_count['sub'], colors = colors, autopct='%.0f%%')\n",
    "plt.show()\n",
    "\n"
   ]
  },
  {
   "attachments": {},
   "cell_type": "markdown",
   "id": "3f34aeba",
   "metadata": {},
   "source": [
    "Количество пользователей с подпиской и без подписки не одинаковое. Пользователей без подписки больше. Количество пользователей с подпиской 46%, а без подписки 54%. "
   ]
  },
  {
   "attachments": {},
   "cell_type": "markdown",
   "id": "8bebcc1a",
   "metadata": {},
   "source": [
    "###  Возраст пользователей"
   ]
  },
  {
   "cell_type": "code",
   "execution_count": 89,
   "id": "de395d94",
   "metadata": {},
   "outputs": [
    {
     "data": {
      "image/png": "[encoded data removed]",
      "text/plain": [
       "<Figure size 1000x600 with 1 Axes>"
      ]
     },
     "metadata": {},
     "output_type": "display_data"
    }
   ],
   "source": [
    "plt.figure(figsize=(10, 6))\n",
    "age_users = df_users_go['age'].value_counts()\n",
    "df_age_users = age_users.reset_index()\n",
    "df_age_users.columns = ['age', 'count']\n",
    "sns.barplot(x = 'age', y = 'count', data = df_age_users, color = 'blue')\n",
    "plt.xticks(rotation=45)\n",
    "plt.xlabel('Возраст')\n",
    "plt.ylabel('Количество пользователей')\n",
    "\n",
    "plt.show()"
   ]
  },
  {
   "attachments": {},
   "cell_type": "markdown",
   "id": "5d8c9bee",
   "metadata": {},
   "source": [
    "В возрасте пользователей замечено нормальное распределение. Больше всего пользователей в возрасте 25 лет. Справа и слева от этого возраста количество пользователей плавно уменьшается. Левая сторона колокола заканчививается 12 годами, таких пользователей меньше 20. А правая сторона колокола заканчивается 43 годами. Таких пользователей тоже меньше 20 человек. Вероятно это связано с тем, что подросткам не разрешают пользоваться самокатами родители, так как это травмоопасно. А более старшее поколение также боится получению травм"
   ]
  },
  {
   "attachments": {},
   "cell_type": "markdown",
   "id": "fac04bd3",
   "metadata": {},
   "source": [
    " ### Расстояние, которое пользователь преодолел за поездку "
   ]
  },
  {
   "cell_type": "code",
   "execution_count": 90,
   "id": "37c4abdb",
   "metadata": {},
   "outputs": [
    {
     "data": {
      "text/plain": [
       "count    18068.000000\n",
       "mean      3070.659976\n",
       "std       1116.831209\n",
       "min          0.855683\n",
       "25%       2543.226360\n",
       "50%       3133.609994\n",
       "75%       3776.222735\n",
       "max       7211.007745\n",
       "Name: distance, dtype: float64"
      ]
     },
     "execution_count": 90,
     "metadata": {},
     "output_type": "execute_result"
    }
   ],
   "source": [
    "df_rides_go['distance'].describe()"
   ]
  },
  {
   "cell_type": "code",
   "execution_count": 91,
   "id": "9b8dbf92",
   "metadata": {},
   "outputs": [
    {
     "data": {
      "image/png": "[encoded data removed]",
      "text/plain": [
       "<Figure size 640x480 with 1 Axes>"
      ]
     },
     "metadata": {},
     "output_type": "display_data"
    }
   ],
   "source": [
    "sns.set(style=\"darkgrid\")\n",
    "sns.histplot(data=df_rides_go, x='distance', color='blue')\n",
    "plt.xlabel('Расстояние')\n",
    "plt.ylabel('Количество пользователей')\n",
    "plt.show()\n",
    "None"
   ]
  },
  {
   "attachments": {},
   "cell_type": "markdown",
   "id": "456f7c59",
   "metadata": {},
   "source": [
    "Среднее значение дистанции составляет около 3070,66. Это означает, что в среднем каждый пользователь преодолевает примерно 3070,66 метров на самокате.\n",
    "\n",
    "Стандартное отклонение равно 1116,83. В нашем случае, стандартное отклонение указывает на большой разброс о дистанциях, которые пользователи преодолевают на самокате.\n",
    "\n",
    "Минимальное значение дистанции составляет 0,855683, что указывает на случаи, когда пользователь почти не преодолевал расстояние на самокате.\n",
    "\n",
    "Медиана (50-й процентиль) равна 3133,61. Это значение показывает, что 50% пользователей преодолели меньше 3133,61 метров, а остальные 50% преодолели больше этой дистанции.\n",
    "\n",
    "Первый и третий квартили (25-й и 75-й процентили) равны соответственно 2543,23 и 3776,22. Это значения, которые показывают, что 25% пользователей преодолели менее 2543,23 метров, а 25% пользователей преодолели более 3776,22 метров.\n",
    "\n",
    "Максимальное значение дистанции равно 7211,01, что указывает на случаи, когда пользователь преодолел наибольшую дистанцию на самокате. "
   ]
  },
  {
   "attachments": {},
   "cell_type": "markdown",
   "id": "4e9465a6",
   "metadata": {},
   "source": [
    " ### Продолжительность поездки"
   ]
  },
  {
   "cell_type": "code",
   "execution_count": 92,
   "id": "b7a147ac",
   "metadata": {},
   "outputs": [
    {
     "data": {
      "text/plain": [
       "count    18068.000000\n",
       "mean        17.805011\n",
       "std          6.091051\n",
       "min          0.500000\n",
       "25%         13.597563\n",
       "50%         17.678395\n",
       "75%         21.724800\n",
       "max         40.823963\n",
       "Name: duration, dtype: float64"
      ]
     },
     "execution_count": 92,
     "metadata": {},
     "output_type": "execute_result"
    }
   ],
   "source": [
    "df_rides_go['duration'].describe()"
   ]
  },
  {
   "cell_type": "code",
   "execution_count": 93,
   "id": "ad646452",
   "metadata": {},
   "outputs": [
    {
     "data": {
      "image/png": "[encoded data removed]",
      "text/plain": [
       "<Figure size 640x480 with 1 Axes>"
      ]
     },
     "metadata": {},
     "output_type": "display_data"
    }
   ],
   "source": [
    "sns.set(style=\"darkgrid\")\n",
    "sns.histplot(data=df_rides_go, x='duration', color='blue')\n",
    "plt.xlabel('Длительность')\n",
    "plt.ylabel('Количество пользователей')\n",
    "plt.show()\n",
    "None"
   ]
  },
  {
   "attachments": {},
   "cell_type": "markdown",
   "id": "ff858b1a",
   "metadata": {},
   "source": [
    "Среднее значение дистанции составляет около 17 минут. Это означает, что в среднем длительность каждой поездки в среднем составляет 17 минут. \n",
    "\n",
    "Стандартное отклонение равно 6 мину. В нашем случае, стандартное отклонение не очень большое. \n",
    "\n",
    "Минимальное значение времени поездки составляет 0,5 минут, что указывает на случаи, когда пользователь почти сразу решил не использовать самокат. \n",
    "\n",
    "Медиана (50-й процентиль) равна 17 минутам. Это значение показывает, что 50% пользователей катались на самокате больше 17 минут, а остальные больше. \n",
    "\n",
    "Первый и третий квартили (25-й и 75-й процентили) равны соответственно 13 и 21. Это значения, которые показывают, что 25% пользователей использовали самокат менее 13 минут, а 25% пользователей преодолели более 21 минуты.\n",
    "\n",
    "Максимальное значение дистанции равно 40 минутам, что указывает на случаи, когда пользователи пользовались самокатом больше всего. "
   ]
  },
  {
   "attachments": {},
   "cell_type": "markdown",
   "id": "099be080",
   "metadata": {},
   "source": [
    "### Вывод \n",
    "- Больше весго пользователей в Пятигорске и меньше всего в Москве \n",
    "- Без подписки примерно на 10% больше чем с подпиской\n",
    "- Средний возраст пользователей самокатов 25 лет. Минимальный возраст 12 лет, а максимальный 40. Распределение нормальное \n",
    "- В среднем пользователи преодолевают расстояние в 3км на самокате, а по длительности это занимает 17 минут. "
   ]
  },
  {
   "attachments": {},
   "cell_type": "markdown",
   "id": "4ef51331",
   "metadata": {},
   "source": [
    "## Шаг 4. Объединение данных"
   ]
  },
  {
   "attachments": {},
   "cell_type": "markdown",
   "id": "db816530",
   "metadata": {},
   "source": [
    "### Объединие данных о пользователях, поездках и подписках в один датафрейм"
   ]
  },
  {
   "cell_type": "code",
   "execution_count": 94,
   "id": "6bf288b5",
   "metadata": {},
   "outputs": [
    {
     "data": {
      "text/html": [
       "<div>\n",
       "<style scoped>\n",
       "    .dataframe tbody tr th:only-of-type {\n",
       "        vertical-align: middle;\n",
       "    }\n",
       "\n",
       "    .dataframe tbody tr th {\n",
       "        vertical-align: top;\n",
       "    }\n",
       "\n",
       "    .dataframe thead th {\n",
       "        text-align: right;\n",
       "    }\n",
       "</style>\n",
       "<table border=\"1\" class=\"dataframe\">\n",
       "  <thead>\n",
       "    <tr style=\"text-align: right;\">\n",
       "      <th></th>\n",
       "      <th>user_id</th>\n",
       "      <th>name</th>\n",
       "      <th>age</th>\n",
       "      <th>city</th>\n",
       "      <th>subscription_type</th>\n",
       "      <th>distance</th>\n",
       "      <th>duration</th>\n",
       "      <th>date</th>\n",
       "      <th>month</th>\n",
       "      <th>minute_price</th>\n",
       "      <th>start_ride_price</th>\n",
       "      <th>subscription_fee</th>\n",
       "    </tr>\n",
       "  </thead>\n",
       "  <tbody>\n",
       "    <tr>\n",
       "      <th>0</th>\n",
       "      <td>1</td>\n",
       "      <td>Кира</td>\n",
       "      <td>22</td>\n",
       "      <td>Тюмень</td>\n",
       "      <td>ultra</td>\n",
       "      <td>4409.919140</td>\n",
       "      <td>25.599769</td>\n",
       "      <td>2021-01-01</td>\n",
       "      <td>1</td>\n",
       "      <td>6</td>\n",
       "      <td>0</td>\n",
       "      <td>199</td>\n",
       "    </tr>\n",
       "    <tr>\n",
       "      <th>1</th>\n",
       "      <td>1</td>\n",
       "      <td>Кира</td>\n",
       "      <td>22</td>\n",
       "      <td>Тюмень</td>\n",
       "      <td>ultra</td>\n",
       "      <td>2617.592153</td>\n",
       "      <td>15.816871</td>\n",
       "      <td>2021-01-18</td>\n",
       "      <td>1</td>\n",
       "      <td>6</td>\n",
       "      <td>0</td>\n",
       "      <td>199</td>\n",
       "    </tr>\n",
       "    <tr>\n",
       "      <th>2</th>\n",
       "      <td>1</td>\n",
       "      <td>Кира</td>\n",
       "      <td>22</td>\n",
       "      <td>Тюмень</td>\n",
       "      <td>ultra</td>\n",
       "      <td>754.159807</td>\n",
       "      <td>6.232113</td>\n",
       "      <td>2021-04-20</td>\n",
       "      <td>4</td>\n",
       "      <td>6</td>\n",
       "      <td>0</td>\n",
       "      <td>199</td>\n",
       "    </tr>\n",
       "    <tr>\n",
       "      <th>3</th>\n",
       "      <td>1</td>\n",
       "      <td>Кира</td>\n",
       "      <td>22</td>\n",
       "      <td>Тюмень</td>\n",
       "      <td>ultra</td>\n",
       "      <td>2694.783254</td>\n",
       "      <td>18.511000</td>\n",
       "      <td>2021-08-11</td>\n",
       "      <td>8</td>\n",
       "      <td>6</td>\n",
       "      <td>0</td>\n",
       "      <td>199</td>\n",
       "    </tr>\n",
       "    <tr>\n",
       "      <th>4</th>\n",
       "      <td>1</td>\n",
       "      <td>Кира</td>\n",
       "      <td>22</td>\n",
       "      <td>Тюмень</td>\n",
       "      <td>ultra</td>\n",
       "      <td>4028.687306</td>\n",
       "      <td>26.265803</td>\n",
       "      <td>2021-08-28</td>\n",
       "      <td>8</td>\n",
       "      <td>6</td>\n",
       "      <td>0</td>\n",
       "      <td>199</td>\n",
       "    </tr>\n",
       "  </tbody>\n",
       "</table>\n",
       "</div>"
      ],
      "text/plain": [
       "   user_id  name  age    city subscription_type     distance   duration  \\\n",
       "0        1  Кира   22  Тюмень             ultra  4409.919140  25.599769   \n",
       "1        1  Кира   22  Тюмень             ultra  2617.592153  15.816871   \n",
       "2        1  Кира   22  Тюмень             ultra   754.159807   6.232113   \n",
       "3        1  Кира   22  Тюмень             ultra  2694.783254  18.511000   \n",
       "4        1  Кира   22  Тюмень             ultra  4028.687306  26.265803   \n",
       "\n",
       "        date  month  minute_price  start_ride_price  subscription_fee  \n",
       "0 2021-01-01      1             6                 0               199  \n",
       "1 2021-01-18      1             6                 0               199  \n",
       "2 2021-04-20      4             6                 0               199  \n",
       "3 2021-08-11      8             6                 0               199  \n",
       "4 2021-08-28      8             6                 0               199  "
      ]
     },
     "execution_count": 94,
     "metadata": {},
     "output_type": "execute_result"
    }
   ],
   "source": [
    "#объединяем последовательно. Сначала датафреймы о пользователях и поездках по общему столбцу\n",
    "#потом добавляем информацию о подписках по общему столбцу \n",
    "df_total = pd.merge(df_users_go, df_rides_go, on='user_id')\n",
    "df_total = pd.merge(df_total, df_subscriptions_go, on='subscription_type')\n",
    "df_total.head()"
   ]
  },
  {
   "attachments": {},
   "cell_type": "markdown",
   "id": "2fb06a07",
   "metadata": {},
   "source": [
    "### Создание еще 2х датафреймов: c данными о пользователях без подписки и с подпиской"
   ]
  },
  {
   "cell_type": "code",
   "execution_count": 95,
   "id": "26aad035",
   "metadata": {},
   "outputs": [],
   "source": [
    "df_users_without_subscription = df_total[df_total['subscription_type'] == 'free']\n",
    "df_users_with_subscription = df_total[df_total['subscription_type'] == 'ultra']\n"
   ]
  },
  {
   "cell_type": "code",
   "execution_count": 96,
   "id": "771743ab",
   "metadata": {},
   "outputs": [
    {
     "data": {
      "text/html": [
       "<div>\n",
       "<style scoped>\n",
       "    .dataframe tbody tr th:only-of-type {\n",
       "        vertical-align: middle;\n",
       "    }\n",
       "\n",
       "    .dataframe tbody tr th {\n",
       "        vertical-align: top;\n",
       "    }\n",
       "\n",
       "    .dataframe thead th {\n",
       "        text-align: right;\n",
       "    }\n",
       "</style>\n",
       "<table border=\"1\" class=\"dataframe\">\n",
       "  <thead>\n",
       "    <tr style=\"text-align: right;\">\n",
       "      <th></th>\n",
       "      <th>user_id</th>\n",
       "      <th>name</th>\n",
       "      <th>age</th>\n",
       "      <th>city</th>\n",
       "      <th>subscription_type</th>\n",
       "      <th>distance</th>\n",
       "      <th>duration</th>\n",
       "      <th>date</th>\n",
       "      <th>month</th>\n",
       "      <th>minute_price</th>\n",
       "      <th>start_ride_price</th>\n",
       "      <th>subscription_fee</th>\n",
       "    </tr>\n",
       "  </thead>\n",
       "  <tbody>\n",
       "    <tr>\n",
       "      <th>6500</th>\n",
       "      <td>700</td>\n",
       "      <td>Айдар</td>\n",
       "      <td>22</td>\n",
       "      <td>Омск</td>\n",
       "      <td>free</td>\n",
       "      <td>2515.690719</td>\n",
       "      <td>14.944286</td>\n",
       "      <td>2021-01-02</td>\n",
       "      <td>1</td>\n",
       "      <td>8</td>\n",
       "      <td>50</td>\n",
       "      <td>0</td>\n",
       "    </tr>\n",
       "    <tr>\n",
       "      <th>6501</th>\n",
       "      <td>700</td>\n",
       "      <td>Айдар</td>\n",
       "      <td>22</td>\n",
       "      <td>Омск</td>\n",
       "      <td>free</td>\n",
       "      <td>846.932642</td>\n",
       "      <td>16.234663</td>\n",
       "      <td>2021-02-01</td>\n",
       "      <td>2</td>\n",
       "      <td>8</td>\n",
       "      <td>50</td>\n",
       "      <td>0</td>\n",
       "    </tr>\n",
       "    <tr>\n",
       "      <th>6502</th>\n",
       "      <td>700</td>\n",
       "      <td>Айдар</td>\n",
       "      <td>22</td>\n",
       "      <td>Омск</td>\n",
       "      <td>free</td>\n",
       "      <td>4004.434142</td>\n",
       "      <td>20.016628</td>\n",
       "      <td>2021-02-04</td>\n",
       "      <td>2</td>\n",
       "      <td>8</td>\n",
       "      <td>50</td>\n",
       "      <td>0</td>\n",
       "    </tr>\n",
       "    <tr>\n",
       "      <th>6503</th>\n",
       "      <td>700</td>\n",
       "      <td>Айдар</td>\n",
       "      <td>22</td>\n",
       "      <td>Омск</td>\n",
       "      <td>free</td>\n",
       "      <td>1205.911290</td>\n",
       "      <td>9.782872</td>\n",
       "      <td>2021-02-10</td>\n",
       "      <td>2</td>\n",
       "      <td>8</td>\n",
       "      <td>50</td>\n",
       "      <td>0</td>\n",
       "    </tr>\n",
       "    <tr>\n",
       "      <th>6504</th>\n",
       "      <td>700</td>\n",
       "      <td>Айдар</td>\n",
       "      <td>22</td>\n",
       "      <td>Омск</td>\n",
       "      <td>free</td>\n",
       "      <td>3047.379435</td>\n",
       "      <td>17.427673</td>\n",
       "      <td>2021-02-14</td>\n",
       "      <td>2</td>\n",
       "      <td>8</td>\n",
       "      <td>50</td>\n",
       "      <td>0</td>\n",
       "    </tr>\n",
       "  </tbody>\n",
       "</table>\n",
       "</div>"
      ],
      "text/plain": [
       "      user_id   name  age  city subscription_type     distance   duration  \\\n",
       "6500      700  Айдар   22  Омск              free  2515.690719  14.944286   \n",
       "6501      700  Айдар   22  Омск              free   846.932642  16.234663   \n",
       "6502      700  Айдар   22  Омск              free  4004.434142  20.016628   \n",
       "6503      700  Айдар   22  Омск              free  1205.911290   9.782872   \n",
       "6504      700  Айдар   22  Омск              free  3047.379435  17.427673   \n",
       "\n",
       "           date  month  minute_price  start_ride_price  subscription_fee  \n",
       "6500 2021-01-02      1             8                50                 0  \n",
       "6501 2021-02-01      2             8                50                 0  \n",
       "6502 2021-02-04      2             8                50                 0  \n",
       "6503 2021-02-10      2             8                50                 0  \n",
       "6504 2021-02-14      2             8                50                 0  "
      ]
     },
     "execution_count": 96,
     "metadata": {},
     "output_type": "execute_result"
    }
   ],
   "source": [
    "df_users_without_subscription.head()"
   ]
  },
  {
   "cell_type": "code",
   "execution_count": 97,
   "id": "e407b6ff",
   "metadata": {},
   "outputs": [
    {
     "data": {
      "text/html": [
       "<div>\n",
       "<style scoped>\n",
       "    .dataframe tbody tr th:only-of-type {\n",
       "        vertical-align: middle;\n",
       "    }\n",
       "\n",
       "    .dataframe tbody tr th {\n",
       "        vertical-align: top;\n",
       "    }\n",
       "\n",
       "    .dataframe thead th {\n",
       "        text-align: right;\n",
       "    }\n",
       "</style>\n",
       "<table border=\"1\" class=\"dataframe\">\n",
       "  <thead>\n",
       "    <tr style=\"text-align: right;\">\n",
       "      <th></th>\n",
       "      <th>user_id</th>\n",
       "      <th>name</th>\n",
       "      <th>age</th>\n",
       "      <th>city</th>\n",
       "      <th>subscription_type</th>\n",
       "      <th>distance</th>\n",
       "      <th>duration</th>\n",
       "      <th>date</th>\n",
       "      <th>month</th>\n",
       "      <th>minute_price</th>\n",
       "      <th>start_ride_price</th>\n",
       "      <th>subscription_fee</th>\n",
       "    </tr>\n",
       "  </thead>\n",
       "  <tbody>\n",
       "    <tr>\n",
       "      <th>0</th>\n",
       "      <td>1</td>\n",
       "      <td>Кира</td>\n",
       "      <td>22</td>\n",
       "      <td>Тюмень</td>\n",
       "      <td>ultra</td>\n",
       "      <td>4409.919140</td>\n",
       "      <td>25.599769</td>\n",
       "      <td>2021-01-01</td>\n",
       "      <td>1</td>\n",
       "      <td>6</td>\n",
       "      <td>0</td>\n",
       "      <td>199</td>\n",
       "    </tr>\n",
       "    <tr>\n",
       "      <th>1</th>\n",
       "      <td>1</td>\n",
       "      <td>Кира</td>\n",
       "      <td>22</td>\n",
       "      <td>Тюмень</td>\n",
       "      <td>ultra</td>\n",
       "      <td>2617.592153</td>\n",
       "      <td>15.816871</td>\n",
       "      <td>2021-01-18</td>\n",
       "      <td>1</td>\n",
       "      <td>6</td>\n",
       "      <td>0</td>\n",
       "      <td>199</td>\n",
       "    </tr>\n",
       "    <tr>\n",
       "      <th>2</th>\n",
       "      <td>1</td>\n",
       "      <td>Кира</td>\n",
       "      <td>22</td>\n",
       "      <td>Тюмень</td>\n",
       "      <td>ultra</td>\n",
       "      <td>754.159807</td>\n",
       "      <td>6.232113</td>\n",
       "      <td>2021-04-20</td>\n",
       "      <td>4</td>\n",
       "      <td>6</td>\n",
       "      <td>0</td>\n",
       "      <td>199</td>\n",
       "    </tr>\n",
       "    <tr>\n",
       "      <th>3</th>\n",
       "      <td>1</td>\n",
       "      <td>Кира</td>\n",
       "      <td>22</td>\n",
       "      <td>Тюмень</td>\n",
       "      <td>ultra</td>\n",
       "      <td>2694.783254</td>\n",
       "      <td>18.511000</td>\n",
       "      <td>2021-08-11</td>\n",
       "      <td>8</td>\n",
       "      <td>6</td>\n",
       "      <td>0</td>\n",
       "      <td>199</td>\n",
       "    </tr>\n",
       "    <tr>\n",
       "      <th>4</th>\n",
       "      <td>1</td>\n",
       "      <td>Кира</td>\n",
       "      <td>22</td>\n",
       "      <td>Тюмень</td>\n",
       "      <td>ultra</td>\n",
       "      <td>4028.687306</td>\n",
       "      <td>26.265803</td>\n",
       "      <td>2021-08-28</td>\n",
       "      <td>8</td>\n",
       "      <td>6</td>\n",
       "      <td>0</td>\n",
       "      <td>199</td>\n",
       "    </tr>\n",
       "  </tbody>\n",
       "</table>\n",
       "</div>"
      ],
      "text/plain": [
       "   user_id  name  age    city subscription_type     distance   duration  \\\n",
       "0        1  Кира   22  Тюмень             ultra  4409.919140  25.599769   \n",
       "1        1  Кира   22  Тюмень             ultra  2617.592153  15.816871   \n",
       "2        1  Кира   22  Тюмень             ultra   754.159807   6.232113   \n",
       "3        1  Кира   22  Тюмень             ultra  2694.783254  18.511000   \n",
       "4        1  Кира   22  Тюмень             ultra  4028.687306  26.265803   \n",
       "\n",
       "        date  month  minute_price  start_ride_price  subscription_fee  \n",
       "0 2021-01-01      1             6                 0               199  \n",
       "1 2021-01-18      1             6                 0               199  \n",
       "2 2021-04-20      4             6                 0               199  \n",
       "3 2021-08-11      8             6                 0               199  \n",
       "4 2021-08-28      8             6                 0               199  "
      ]
     },
     "execution_count": 97,
     "metadata": {},
     "output_type": "execute_result"
    }
   ],
   "source": [
    "df_users_with_subscription.head()"
   ]
  },
  {
   "attachments": {},
   "cell_type": "markdown",
   "id": "db59ba1a",
   "metadata": {},
   "source": [
    "### Визуализация данных о пользоватехя с подпиской и без"
   ]
  },
  {
   "cell_type": "code",
   "execution_count": 98,
   "id": "72d15249",
   "metadata": {},
   "outputs": [
    {
     "data": {
      "image/png": "[encoded data removed]",
      "text/plain": [
       "<Figure size 1200x800 with 4 Axes>"
      ]
     },
     "metadata": {},
     "output_type": "display_data"
    }
   ],
   "source": [
    "sns.set(style=\"darkgrid\")\n",
    "#задаем поле для отображения 4х графиков\n",
    "fig, axes = plt.subplots(2, 2, figsize=(12, 8))\n",
    "#делаем массив одномерным для удобства\n",
    "axes = axes.flatten()\n",
    "#размещаем графики\n",
    "axes[0].hist(df_users_without_subscription['distance'], bins=20, label='Без подписки')\n",
    "axes[2].hist(df_users_with_subscription['distance'], bins=20, label=' C подпиской')\n",
    "axes[1].hist(df_users_without_subscription['duration'], bins=20, label='Без подписки')\n",
    "axes[3].hist(df_users_with_subscription['duration'], bins=20, label='С подписки')\n",
    "\n",
    "#задааем легенду\n",
    "for i in range(0, 4):\n",
    "    axes[i].legend()\n",
    "    if i % 2 == 0:\n",
    "        axes[i].set_title('Распределение расстоянии поездок')\n",
    "    else:\n",
    "        axes[i].set_title('Распределение времени поездок')\n",
    "\n",
    "\n",
    "plt.show()"
   ]
  },
  {
   "cell_type": "code",
   "execution_count": 99,
   "id": "32f990e4",
   "metadata": {},
   "outputs": [
    {
     "name": "stdout",
     "output_type": "stream",
     "text": [
      "Расстояние\n",
      "       Без подписки  С подпиской\n",
      "count  11568.000000  6500.000000\n",
      "mean    3045.495282  3115.445388\n",
      "std     1246.173806   836.895330\n",
      "min        0.855683   244.210438\n",
      "25%     2366.562689  2785.444017\n",
      "50%     3114.648465  3148.637229\n",
      "75%     3905.697894  3560.574425\n",
      "max     7211.007745  5699.769662\n",
      "\n",
      "Время\n",
      "       Без подписки  С подпиской\n",
      "count  11568.000000  6500.000000\n",
      "mean      17.390909    18.541985\n",
      "std        6.326803     5.572048\n",
      "min        0.500000     3.760353\n",
      "25%       12.958437    14.524654\n",
      "50%       17.326890    18.178153\n",
      "75%       21.594071    21.884129\n",
      "max       34.948498    40.823963\n"
     ]
    }
   ],
   "source": [
    "\n",
    "df_distance = pd.DataFrame({'Без подписки': df_users_without_subscription['distance'].describe(),\n",
    "                       'С подпиской': df_users_with_subscription['distance'].describe()})\n",
    "\n",
    "df_duration = pd.DataFrame({'Без подписки': df_users_without_subscription['duration'].describe(),\n",
    "                       'С подпиской': df_users_with_subscription['duration'].describe()})\n",
    "\n",
    "print(\"Расстояние\")\n",
    "print(df_distance)\n",
    "print()\n",
    "print(\"Время\")\n",
    "print(df_duration)"
   ]
  },
  {
   "attachments": {},
   "cell_type": "markdown",
   "id": "6e908612",
   "metadata": {},
   "source": [
    "Среднее значение расстояния без подписки составляет около 3045,5 метров, в то время как среднее значение расстояния с подпиской составляет около 3115,4 метров. Следовательно, в среднем пользователи с подпиской преодолевают немного большую дистанцию на самокате, чем пользователи без подписки.\n",
    "\n",
    "Стандартное отклонение для расстояния без подписки составляет около 1246,2, в то время как для расстояния с подпиской составляет около 836,9. Это указывает на больший разброс значений для расстояния без подписки по сравнению с расстоянием с подпиской.\n",
    "\n",
    "Минимальное значение расстояния без подписки составляет 0,855683, в то время как для расстояния с подпиской составляет 244,21. Это означает, что есть случаи, когда пользователи без подписки почти не преодолевали расстояние на самокате, в то время как пользователи с подпиской обычно преодолевали более значительные дистанции.\n",
    "\n",
    "Среднее значение времени без подписки составляет около 17,39 минут, в то время как среднее значение времени с подпиской составляет около 18,54 минут. Следовательно, в среднем пользователи с подпиской тратят немного больше времени на поездку на самокате, чем пользователи без подписки.\n",
    "\n",
    "Стандартное отклонение для времени без подписки составляет около 6,33, в то время как для времени с подпиской составляет около 5,57. Это указывает на небольшой разброс значений для времени без подписки по сравнению с временем с подпиской.\n",
    "\n",
    "Минимальное значение времени без подписки составляет 0,5 минуты, в то время как для времени с подпиской составляет 3,76 минуты. Это означает, что есть случаи, когда пользователи без подписки проводят очень мало времени на поездках на самокате, в то время как пользователи с подпиской обычно тратят больше времени.\n",
    "\n"
   ]
  },
  {
   "attachments": {},
   "cell_type": "markdown",
   "id": "402d620f",
   "metadata": {},
   "source": [
    "## Шаг 5. Подсчёт выручки"
   ]
  },
  {
   "attachments": {},
   "cell_type": "markdown",
   "id": "0611c127",
   "metadata": {},
   "source": [
    "### Создание датафрейма с агрегированными данными о поездках на основе датафрейма с объединёнными данными из шага 4: поиск суммарного расстояния, количества поездок и суммарное время для каждого пользователя за каждый месяц.\n"
   ]
  },
  {
   "cell_type": "code",
   "execution_count": 100,
   "id": "53049e0a",
   "metadata": {},
   "outputs": [
    {
     "data": {
      "text/html": [
       "<div>\n",
       "<style scoped>\n",
       "    .dataframe tbody tr th:only-of-type {\n",
       "        vertical-align: middle;\n",
       "    }\n",
       "\n",
       "    .dataframe tbody tr th {\n",
       "        vertical-align: top;\n",
       "    }\n",
       "\n",
       "    .dataframe thead th {\n",
       "        text-align: right;\n",
       "    }\n",
       "</style>\n",
       "<table border=\"1\" class=\"dataframe\">\n",
       "  <thead>\n",
       "    <tr style=\"text-align: right;\">\n",
       "      <th></th>\n",
       "      <th>name</th>\n",
       "      <th>month</th>\n",
       "      <th>distance</th>\n",
       "      <th>duration</th>\n",
       "      <th>trip_count</th>\n",
       "    </tr>\n",
       "  </thead>\n",
       "  <tbody>\n",
       "    <tr>\n",
       "      <th>0</th>\n",
       "      <td>Агата</td>\n",
       "      <td>1</td>\n",
       "      <td>21576.313262</td>\n",
       "      <td>155.770446</td>\n",
       "      <td>7</td>\n",
       "    </tr>\n",
       "    <tr>\n",
       "      <th>1</th>\n",
       "      <td>Агата</td>\n",
       "      <td>2</td>\n",
       "      <td>16813.641401</td>\n",
       "      <td>91.908572</td>\n",
       "      <td>6</td>\n",
       "    </tr>\n",
       "    <tr>\n",
       "      <th>2</th>\n",
       "      <td>Агата</td>\n",
       "      <td>3</td>\n",
       "      <td>20222.499758</td>\n",
       "      <td>128.227645</td>\n",
       "      <td>6</td>\n",
       "    </tr>\n",
       "    <tr>\n",
       "      <th>3</th>\n",
       "      <td>Агата</td>\n",
       "      <td>4</td>\n",
       "      <td>24862.216384</td>\n",
       "      <td>154.473980</td>\n",
       "      <td>9</td>\n",
       "    </tr>\n",
       "    <tr>\n",
       "      <th>4</th>\n",
       "      <td>Агата</td>\n",
       "      <td>5</td>\n",
       "      <td>30862.175755</td>\n",
       "      <td>180.231405</td>\n",
       "      <td>9</td>\n",
       "    </tr>\n",
       "    <tr>\n",
       "      <th>5</th>\n",
       "      <td>Агата</td>\n",
       "      <td>6</td>\n",
       "      <td>15737.900937</td>\n",
       "      <td>93.800826</td>\n",
       "      <td>5</td>\n",
       "    </tr>\n",
       "    <tr>\n",
       "      <th>6</th>\n",
       "      <td>Агата</td>\n",
       "      <td>7</td>\n",
       "      <td>10305.246884</td>\n",
       "      <td>53.350690</td>\n",
       "      <td>4</td>\n",
       "    </tr>\n",
       "    <tr>\n",
       "      <th>7</th>\n",
       "      <td>Агата</td>\n",
       "      <td>8</td>\n",
       "      <td>9975.886133</td>\n",
       "      <td>65.552467</td>\n",
       "      <td>3</td>\n",
       "    </tr>\n",
       "    <tr>\n",
       "      <th>8</th>\n",
       "      <td>Агата</td>\n",
       "      <td>9</td>\n",
       "      <td>23999.844445</td>\n",
       "      <td>149.574527</td>\n",
       "      <td>8</td>\n",
       "    </tr>\n",
       "    <tr>\n",
       "      <th>9</th>\n",
       "      <td>Агата</td>\n",
       "      <td>10</td>\n",
       "      <td>29968.347417</td>\n",
       "      <td>183.776156</td>\n",
       "      <td>9</td>\n",
       "    </tr>\n",
       "    <tr>\n",
       "      <th>10</th>\n",
       "      <td>Агата</td>\n",
       "      <td>11</td>\n",
       "      <td>9658.596934</td>\n",
       "      <td>49.950770</td>\n",
       "      <td>3</td>\n",
       "    </tr>\n",
       "    <tr>\n",
       "      <th>11</th>\n",
       "      <td>Агата</td>\n",
       "      <td>12</td>\n",
       "      <td>19086.695421</td>\n",
       "      <td>123.441770</td>\n",
       "      <td>7</td>\n",
       "    </tr>\n",
       "    <tr>\n",
       "      <th>12</th>\n",
       "      <td>Аделина</td>\n",
       "      <td>1</td>\n",
       "      <td>25072.799051</td>\n",
       "      <td>154.468746</td>\n",
       "      <td>9</td>\n",
       "    </tr>\n",
       "    <tr>\n",
       "      <th>13</th>\n",
       "      <td>Аделина</td>\n",
       "      <td>2</td>\n",
       "      <td>7326.643099</td>\n",
       "      <td>52.901119</td>\n",
       "      <td>3</td>\n",
       "    </tr>\n",
       "    <tr>\n",
       "      <th>14</th>\n",
       "      <td>Аделина</td>\n",
       "      <td>3</td>\n",
       "      <td>38004.695307</td>\n",
       "      <td>217.364200</td>\n",
       "      <td>11</td>\n",
       "    </tr>\n",
       "    <tr>\n",
       "      <th>15</th>\n",
       "      <td>Аделина</td>\n",
       "      <td>4</td>\n",
       "      <td>34639.772098</td>\n",
       "      <td>226.017922</td>\n",
       "      <td>13</td>\n",
       "    </tr>\n",
       "    <tr>\n",
       "      <th>16</th>\n",
       "      <td>Аделина</td>\n",
       "      <td>5</td>\n",
       "      <td>35127.980829</td>\n",
       "      <td>185.872733</td>\n",
       "      <td>11</td>\n",
       "    </tr>\n",
       "    <tr>\n",
       "      <th>17</th>\n",
       "      <td>Аделина</td>\n",
       "      <td>6</td>\n",
       "      <td>40382.208339</td>\n",
       "      <td>230.644407</td>\n",
       "      <td>12</td>\n",
       "    </tr>\n",
       "    <tr>\n",
       "      <th>18</th>\n",
       "      <td>Аделина</td>\n",
       "      <td>7</td>\n",
       "      <td>23386.513662</td>\n",
       "      <td>142.578798</td>\n",
       "      <td>8</td>\n",
       "    </tr>\n",
       "    <tr>\n",
       "      <th>19</th>\n",
       "      <td>Аделина</td>\n",
       "      <td>8</td>\n",
       "      <td>34544.755604</td>\n",
       "      <td>230.083830</td>\n",
       "      <td>11</td>\n",
       "    </tr>\n",
       "  </tbody>\n",
       "</table>\n",
       "</div>"
      ],
      "text/plain": [
       "       name  month      distance    duration  trip_count\n",
       "0     Агата      1  21576.313262  155.770446           7\n",
       "1     Агата      2  16813.641401   91.908572           6\n",
       "2     Агата      3  20222.499758  128.227645           6\n",
       "3     Агата      4  24862.216384  154.473980           9\n",
       "4     Агата      5  30862.175755  180.231405           9\n",
       "5     Агата      6  15737.900937   93.800826           5\n",
       "6     Агата      7  10305.246884   53.350690           4\n",
       "7     Агата      8   9975.886133   65.552467           3\n",
       "8     Агата      9  23999.844445  149.574527           8\n",
       "9     Агата     10  29968.347417  183.776156           9\n",
       "10    Агата     11   9658.596934   49.950770           3\n",
       "11    Агата     12  19086.695421  123.441770           7\n",
       "12  Аделина      1  25072.799051  154.468746           9\n",
       "13  Аделина      2   7326.643099   52.901119           3\n",
       "14  Аделина      3  38004.695307  217.364200          11\n",
       "15  Аделина      4  34639.772098  226.017922          13\n",
       "16  Аделина      5  35127.980829  185.872733          11\n",
       "17  Аделина      6  40382.208339  230.644407          12\n",
       "18  Аделина      7  23386.513662  142.578798           8\n",
       "19  Аделина      8  34544.755604  230.083830          11"
      ]
     },
     "execution_count": 100,
     "metadata": {},
     "output_type": "execute_result"
    }
   ],
   "source": [
    "#сгруппируем данные по имени и месяцу. Сагрегируем данные по дистанции, времени поездки. Выполним подсчет уникальных номеров пользователей\n",
    "df_aggregated = df_total.groupby(['name', 'month']).agg({'distance': 'sum', 'duration': 'sum', 'user_id': 'count'}).reset_index()\n",
    "#так как в датафрейме каждая строчка - 1 поездка, то выполним подсчет уникальных номеров можно понять сколько было поездок у пользователя\n",
    "#переименуем столбец на количество поездок\n",
    "df_aggregated.rename(columns={'user_id': 'trip_count'}, inplace=True)\n",
    "df_aggregated.head(20)\n"
   ]
  },
  {
   "cell_type": "code",
   "execution_count": 101,
   "id": "758e9343",
   "metadata": {},
   "outputs": [
    {
     "name": "stdout",
     "output_type": "stream",
     "text": [
      "<class 'pandas.core.frame.DataFrame'>\n",
      "RangeIndex: 2300 entries, 0 to 2299\n",
      "Data columns (total 5 columns):\n",
      " #   Column      Non-Null Count  Dtype  \n",
      "---  ------      --------------  -----  \n",
      " 0   name        2300 non-null   object \n",
      " 1   month       2300 non-null   int64  \n",
      " 2   distance    2300 non-null   float64\n",
      " 3   duration    2300 non-null   float64\n",
      " 4   trip_count  2300 non-null   int64  \n",
      "dtypes: float64(2), int64(2), object(1)\n",
      "memory usage: 90.0+ KB\n"
     ]
    }
   ],
   "source": [
    "df_aggregated.info()"
   ]
  },
  {
   "attachments": {},
   "cell_type": "markdown",
   "id": "e6bc10d3",
   "metadata": {},
   "source": [
    " ### В этот же датафрейм добавим столбец с помесячной выручкой, которую принёс каждый пользователь"
   ]
  },
  {
   "cell_type": "code",
   "execution_count": 102,
   "id": "117936bc",
   "metadata": {},
   "outputs": [
    {
     "data": {
      "text/html": [
       "<div>\n",
       "<style scoped>\n",
       "    .dataframe tbody tr th:only-of-type {\n",
       "        vertical-align: middle;\n",
       "    }\n",
       "\n",
       "    .dataframe tbody tr th {\n",
       "        vertical-align: top;\n",
       "    }\n",
       "\n",
       "    .dataframe thead th {\n",
       "        text-align: right;\n",
       "    }\n",
       "</style>\n",
       "<table border=\"1\" class=\"dataframe\">\n",
       "  <thead>\n",
       "    <tr style=\"text-align: right;\">\n",
       "      <th></th>\n",
       "      <th>name</th>\n",
       "      <th>month</th>\n",
       "      <th>distance</th>\n",
       "      <th>duration</th>\n",
       "      <th>trip_count</th>\n",
       "      <th>rounded_distance</th>\n",
       "    </tr>\n",
       "  </thead>\n",
       "  <tbody>\n",
       "    <tr>\n",
       "      <th>0</th>\n",
       "      <td>Агата</td>\n",
       "      <td>1</td>\n",
       "      <td>21576.313262</td>\n",
       "      <td>155.770446</td>\n",
       "      <td>7</td>\n",
       "      <td>21577.0</td>\n",
       "    </tr>\n",
       "    <tr>\n",
       "      <th>1</th>\n",
       "      <td>Агата</td>\n",
       "      <td>2</td>\n",
       "      <td>16813.641401</td>\n",
       "      <td>91.908572</td>\n",
       "      <td>6</td>\n",
       "      <td>16814.0</td>\n",
       "    </tr>\n",
       "    <tr>\n",
       "      <th>2</th>\n",
       "      <td>Агата</td>\n",
       "      <td>3</td>\n",
       "      <td>20222.499758</td>\n",
       "      <td>128.227645</td>\n",
       "      <td>6</td>\n",
       "      <td>20223.0</td>\n",
       "    </tr>\n",
       "    <tr>\n",
       "      <th>3</th>\n",
       "      <td>Агата</td>\n",
       "      <td>4</td>\n",
       "      <td>24862.216384</td>\n",
       "      <td>154.473980</td>\n",
       "      <td>9</td>\n",
       "      <td>24863.0</td>\n",
       "    </tr>\n",
       "    <tr>\n",
       "      <th>4</th>\n",
       "      <td>Агата</td>\n",
       "      <td>5</td>\n",
       "      <td>30862.175755</td>\n",
       "      <td>180.231405</td>\n",
       "      <td>9</td>\n",
       "      <td>30863.0</td>\n",
       "    </tr>\n",
       "  </tbody>\n",
       "</table>\n",
       "</div>"
      ],
      "text/plain": [
       "    name  month      distance    duration  trip_count  rounded_distance\n",
       "0  Агата      1  21576.313262  155.770446           7           21577.0\n",
       "1  Агата      2  16813.641401   91.908572           6           16814.0\n",
       "2  Агата      3  20222.499758  128.227645           6           20223.0\n",
       "3  Агата      4  24862.216384  154.473980           9           24863.0\n",
       "4  Агата      5  30862.175755  180.231405           9           30863.0"
      ]
     },
     "execution_count": 102,
     "metadata": {},
     "output_type": "execute_result"
    }
   ],
   "source": [
    "df_aggregated['rounded_distance'] = np.ceil(df_aggregated['distance'])\n",
    "df_aggregated.head()"
   ]
  },
  {
   "cell_type": "code",
   "execution_count": 103,
   "id": "a89ec410",
   "metadata": {},
   "outputs": [
    {
     "data": {
      "text/html": [
       "<div>\n",
       "<style scoped>\n",
       "    .dataframe tbody tr th:only-of-type {\n",
       "        vertical-align: middle;\n",
       "    }\n",
       "\n",
       "    .dataframe tbody tr th {\n",
       "        vertical-align: top;\n",
       "    }\n",
       "\n",
       "    .dataframe thead th {\n",
       "        text-align: right;\n",
       "    }\n",
       "</style>\n",
       "<table border=\"1\" class=\"dataframe\">\n",
       "  <thead>\n",
       "    <tr style=\"text-align: right;\">\n",
       "      <th></th>\n",
       "      <th>name</th>\n",
       "      <th>month</th>\n",
       "      <th>subscription_type</th>\n",
       "      <th>subscription_fee</th>\n",
       "      <th>start_ride_price</th>\n",
       "    </tr>\n",
       "  </thead>\n",
       "  <tbody>\n",
       "    <tr>\n",
       "      <th>0</th>\n",
       "      <td>Агата</td>\n",
       "      <td>1</td>\n",
       "      <td>ultra</td>\n",
       "      <td>199</td>\n",
       "      <td>0</td>\n",
       "    </tr>\n",
       "    <tr>\n",
       "      <th>1</th>\n",
       "      <td>Агата</td>\n",
       "      <td>2</td>\n",
       "      <td>ultra</td>\n",
       "      <td>199</td>\n",
       "      <td>100</td>\n",
       "    </tr>\n",
       "    <tr>\n",
       "      <th>2</th>\n",
       "      <td>Агата</td>\n",
       "      <td>3</td>\n",
       "      <td>ultra</td>\n",
       "      <td>199</td>\n",
       "      <td>0</td>\n",
       "    </tr>\n",
       "    <tr>\n",
       "      <th>3</th>\n",
       "      <td>Агата</td>\n",
       "      <td>4</td>\n",
       "      <td>ultra</td>\n",
       "      <td>199</td>\n",
       "      <td>50</td>\n",
       "    </tr>\n",
       "    <tr>\n",
       "      <th>4</th>\n",
       "      <td>Агата</td>\n",
       "      <td>5</td>\n",
       "      <td>ultra</td>\n",
       "      <td>199</td>\n",
       "      <td>0</td>\n",
       "    </tr>\n",
       "  </tbody>\n",
       "</table>\n",
       "</div>"
      ],
      "text/plain": [
       "    name  month subscription_type  subscription_fee  start_ride_price\n",
       "0  Агата      1             ultra               199                 0\n",
       "1  Агата      2             ultra               199               100\n",
       "2  Агата      3             ultra               199                 0\n",
       "3  Агата      4             ultra               199                50\n",
       "4  Агата      5             ultra               199                 0"
      ]
     },
     "execution_count": 103,
     "metadata": {},
     "output_type": "execute_result"
    }
   ],
   "source": [
    "df_total_grouped = (df_total\n",
    "                    .groupby(['name', 'month'])\n",
    "                    .agg({'subscription_type': 'first', 'subscription_fee': 'first', 'start_ride_price': 'sum'})\n",
    "                    .reset_index())\n",
    "df_total_grouped.head()\n"
   ]
  },
  {
   "cell_type": "code",
   "execution_count": 72,
   "id": "1c8f95c5",
   "metadata": {},
   "outputs": [
    {
     "data": {
      "text/html": [
       "<div>\n",
       "<style scoped>\n",
       "    .dataframe tbody tr th:only-of-type {\n",
       "        vertical-align: middle;\n",
       "    }\n",
       "\n",
       "    .dataframe tbody tr th {\n",
       "        vertical-align: top;\n",
       "    }\n",
       "\n",
       "    .dataframe thead th {\n",
       "        text-align: right;\n",
       "    }\n",
       "</style>\n",
       "<table border=\"1\" class=\"dataframe\">\n",
       "  <thead>\n",
       "    <tr style=\"text-align: right;\">\n",
       "      <th></th>\n",
       "      <th>name</th>\n",
       "      <th>month</th>\n",
       "      <th>distance</th>\n",
       "      <th>duration</th>\n",
       "      <th>trip_count</th>\n",
       "      <th>rounded_distance</th>\n",
       "      <th>subscription_type</th>\n",
       "      <th>subscription_fee</th>\n",
       "    </tr>\n",
       "  </thead>\n",
       "  <tbody>\n",
       "    <tr>\n",
       "      <th>0</th>\n",
       "      <td>Агата</td>\n",
       "      <td>1</td>\n",
       "      <td>21576.313262</td>\n",
       "      <td>155.770446</td>\n",
       "      <td>7</td>\n",
       "      <td>21577.0</td>\n",
       "      <td>ultra</td>\n",
       "      <td>199</td>\n",
       "    </tr>\n",
       "    <tr>\n",
       "      <th>1</th>\n",
       "      <td>Агата</td>\n",
       "      <td>2</td>\n",
       "      <td>16813.641401</td>\n",
       "      <td>91.908572</td>\n",
       "      <td>6</td>\n",
       "      <td>16814.0</td>\n",
       "      <td>ultra</td>\n",
       "      <td>199</td>\n",
       "    </tr>\n",
       "    <tr>\n",
       "      <th>2</th>\n",
       "      <td>Агата</td>\n",
       "      <td>3</td>\n",
       "      <td>20222.499758</td>\n",
       "      <td>128.227645</td>\n",
       "      <td>6</td>\n",
       "      <td>20223.0</td>\n",
       "      <td>ultra</td>\n",
       "      <td>199</td>\n",
       "    </tr>\n",
       "    <tr>\n",
       "      <th>3</th>\n",
       "      <td>Агата</td>\n",
       "      <td>4</td>\n",
       "      <td>24862.216384</td>\n",
       "      <td>154.473980</td>\n",
       "      <td>9</td>\n",
       "      <td>24863.0</td>\n",
       "      <td>ultra</td>\n",
       "      <td>199</td>\n",
       "    </tr>\n",
       "    <tr>\n",
       "      <th>4</th>\n",
       "      <td>Агата</td>\n",
       "      <td>5</td>\n",
       "      <td>30862.175755</td>\n",
       "      <td>180.231405</td>\n",
       "      <td>9</td>\n",
       "      <td>30863.0</td>\n",
       "      <td>ultra</td>\n",
       "      <td>199</td>\n",
       "    </tr>\n",
       "  </tbody>\n",
       "</table>\n",
       "</div>"
      ],
      "text/plain": [
       "    name  month      distance    duration  trip_count  rounded_distance  \\\n",
       "0  Агата      1  21576.313262  155.770446           7           21577.0   \n",
       "1  Агата      2  16813.641401   91.908572           6           16814.0   \n",
       "2  Агата      3  20222.499758  128.227645           6           20223.0   \n",
       "3  Агата      4  24862.216384  154.473980           9           24863.0   \n",
       "4  Агата      5  30862.175755  180.231405           9           30863.0   \n",
       "\n",
       "  subscription_type  subscription_fee  \n",
       "0             ultra               199  \n",
       "1             ultra               199  \n",
       "2             ultra               199  \n",
       "3             ultra               199  \n",
       "4             ultra               199  "
      ]
     },
     "execution_count": 72,
     "metadata": {},
     "output_type": "execute_result"
    }
   ],
   "source": [
    "df_aggregated = df_aggregated.merge(df_total_grouped, on=['name', 'month'], how='left')\n",
    "df_aggregated.head()"
   ]
  },
  {
   "attachments": {},
   "cell_type": "markdown",
   "id": "41545ac0",
   "metadata": {},
   "source": [
    "#### Шаг 6. Проверка гипотез"
   ]
  },
  {
   "attachments": {},
   "cell_type": "markdown",
   "id": "8ede78ee",
   "metadata": {},
   "source": [
    "6.1 Важно понять, тратят ли пользователи с подпиской больше времени на поездки? Если да, то пользователи с подпиской могут быть «выгоднее» для компании. Проверьте гипотезу. Используйте исходные данные о продолжительности каждой "
   ]
  },
  {
   "attachments": {},
   "cell_type": "markdown",
   "id": "0ff546a7",
   "metadata": {},
   "source": [
    "Для проверки гипотезы можно использовать двухвыборочный t-тест для независимых выборок из библиотеки scipy.stats. \n",
    "\n",
    "H0: Среднее время поездки для пользователей с подпиской равно среднему времени для пользователей без подписки\n",
    "H1: Среднее время поездки для пользователей с подпиской отличается от среднего времени для пользователей без подписки\n",
    "Уровень статистической значимости: 0.05 "
   ]
  },
  {
   "cell_type": "code",
   "execution_count": 165,
   "id": "447e31fb",
   "metadata": {},
   "outputs": [
    {
     "name": "stdout",
     "output_type": "stream",
     "text": [
      "<class 'pandas.core.frame.DataFrame'>\n",
      "Int64Index: 18068 entries, 0 to 18067\n",
      "Data columns (total 14 columns):\n",
      " #   Column             Non-Null Count  Dtype         \n",
      "---  ------             --------------  -----         \n",
      " 0   user_id            18068 non-null  int64         \n",
      " 1   name               18068 non-null  object        \n",
      " 2   age                18068 non-null  int64         \n",
      " 3   city               18068 non-null  object        \n",
      " 4   subscription_type  18068 non-null  object        \n",
      " 5   distance           18068 non-null  float64       \n",
      " 6   duration           18068 non-null  float64       \n",
      " 7   date               18068 non-null  datetime64[ns]\n",
      " 8   month              18068 non-null  int64         \n",
      " 9   minute_price       18068 non-null  int64         \n",
      " 10  start_ride_price   18068 non-null  int64         \n",
      " 11  subscription_fee   18068 non-null  int64         \n",
      " 12  rounded_duration   18068 non-null  float64       \n",
      " 13  revenue            18068 non-null  float64       \n",
      "dtypes: datetime64[ns](1), float64(4), int64(6), object(3)\n",
      "memory usage: 2.6+ MB\n"
     ]
    }
   ],
   "source": [
    "df_total.info()"
   ]
  },
  {
   "cell_type": "code",
   "execution_count": 186,
   "id": "03fe62b5",
   "metadata": {},
   "outputs": [
    {
     "name": "stdout",
     "output_type": "stream",
     "text": [
      "1.2804098316645618e-34\n",
      "Можем отвергнуть нулевую гипотезу\n"
     ]
    }
   ],
   "source": [
    "users_with_subscription = df_total[df_total['subscription_type'] == 'ultra']['duration']\n",
    "users_without_subscription = df_total[df_total['subscription_type'] == 'free']['duration']\n",
    "alpha = 0.05 \n",
    "results = stats.ttest_ind(users_with_subscription, users_without_subscription, alternative='greater')\n",
    "print(results.pvalue)\n",
    "if results.pvalue < alpha:\n",
    "    print('Можем отвергнуть нулевую гипотезу')\n",
    "else:\n",
    "    print('Не можем отвергнуть нулевую гипотезу')\n"
   ]
  },
  {
   "cell_type": "code",
   "execution_count": 169,
   "id": "87ecc3f7",
   "metadata": {},
   "outputs": [
    {
     "data": {
      "image/png": "[encoded data removed]",
      "text/plain": [
       "<Figure size 640x480 with 1 Axes>"
      ]
     },
     "metadata": {},
     "output_type": "display_data"
    }
   ],
   "source": [
    "sns.boxplot(x=df_total['subscription_type'], y=df_total['duration'])\n",
    "plt.xlabel('Тип подписки')\n",
    "plt.ylabel('Длительность поездки')\n",
    "plt.show()"
   ]
  },
  {
   "attachments": {},
   "cell_type": "markdown",
   "id": "abcce767",
   "metadata": {},
   "source": [
    "Расстояние одной поездки в 3130 метров — оптимальное с точки зрения износа самоката. Можно ли сказать, что расстояние, которое проезжают пользователи с подпиской за одну поездку, не превышает 3130 метров? Проверьте гипотезу и сделайте выводы."
   ]
  },
  {
   "attachments": {},
   "cell_type": "markdown",
   "id": "da9a9a51",
   "metadata": {},
   "source": [
    "Гипотезу можно проверить одновыборочный t-тестом\n",
    "- H0 (нулевая гипотеза): Расстояние, которое проезжают пользователи с подпиской за одну поездку, не превышает 3130 метров;\n",
    "- H1 (альтернативная гипотеза): Расстояние, которое проезжают пользователи с подпиской за одну поездку, превышает 3130 метров."
   ]
  },
  {
   "cell_type": "code",
   "execution_count": 185,
   "id": "34d4857f",
   "metadata": {},
   "outputs": [
    {
     "name": "stdout",
     "output_type": "stream",
     "text": [
      "0.16092623043004292\n",
      "Не можем отвергнуть нулевую гипотезу\n"
     ]
    }
   ],
   "source": [
    "duration = 3130\n",
    "alpha = 0.05 \n",
    "subscribed_users = df_total[df_total['subscription_type'] == 'ultra']['distance']\n",
    "results = stats.ttest_1samp(subscribed_users, duration)\n",
    "print(results.pvalue)\n",
    "if results.pvalue < alpha:\n",
    "    print('Можем отвергнуть нулевую гипотезу')\n",
    "else:\n",
    "    print('Не можем отвергнуть нулевую гипотезу')"
   ]
  },
  {
   "attachments": {},
   "cell_type": "markdown",
   "id": "9a15e1d4",
   "metadata": {},
   "source": [
    " Проверьте гипотезу о том, будет ли помесячная выручка от пользователей с подпиской по месяцам выше, чем выручка от пользователей без подписки. Сделайте вывод."
   ]
  },
  {
   "attachments": {},
   "cell_type": "markdown",
   "id": "e8c6bcac",
   "metadata": {},
   "source": [
    "\n",
    "- H0 (нулевая гипотеза): Помесячная выручка от пользователей с подпиской и без подписки одинакова;\n",
    "- H1 (альтернативная гипотеза): Помесячная выручка от пользователей с подпиской выше, чем выручка от пользователей без подписки.\n"
   ]
  },
  {
   "cell_type": "code",
   "execution_count": 175,
   "id": "1e91d320",
   "metadata": {},
   "outputs": [
    {
     "name": "stdout",
     "output_type": "stream",
     "text": [
      "<class 'pandas.core.frame.DataFrame'>\n",
      "Int64Index: 6500 entries, 0 to 6499\n",
      "Data columns (total 12 columns):\n",
      " #   Column             Non-Null Count  Dtype         \n",
      "---  ------             --------------  -----         \n",
      " 0   user_id            6500 non-null   int64         \n",
      " 1   name               6500 non-null   object        \n",
      " 2   age                6500 non-null   int64         \n",
      " 3   city               6500 non-null   object        \n",
      " 4   subscription_type  6500 non-null   object        \n",
      " 5   distance           6500 non-null   float64       \n",
      " 6   duration           6500 non-null   float64       \n",
      " 7   date               6500 non-null   datetime64[ns]\n",
      " 8   month              6500 non-null   int64         \n",
      " 9   minute_price       6500 non-null   int64         \n",
      " 10  start_ride_price   6500 non-null   int64         \n",
      " 11  subscription_fee   6500 non-null   int64         \n",
      "dtypes: datetime64[ns](1), float64(2), int64(6), object(3)\n",
      "memory usage: 660.2+ KB\n"
     ]
    }
   ],
   "source": [
    "df_users_with_subscription.info()"
   ]
  },
  {
   "cell_type": "code",
   "execution_count": 176,
   "id": "42059e94",
   "metadata": {},
   "outputs": [
    {
     "name": "stdout",
     "output_type": "stream",
     "text": [
      "<class 'pandas.core.frame.DataFrame'>\n",
      "Int64Index: 11568 entries, 6500 to 18067\n",
      "Data columns (total 12 columns):\n",
      " #   Column             Non-Null Count  Dtype         \n",
      "---  ------             --------------  -----         \n",
      " 0   user_id            11568 non-null  int64         \n",
      " 1   name               11568 non-null  object        \n",
      " 2   age                11568 non-null  int64         \n",
      " 3   city               11568 non-null  object        \n",
      " 4   subscription_type  11568 non-null  object        \n",
      " 5   distance           11568 non-null  float64       \n",
      " 6   duration           11568 non-null  float64       \n",
      " 7   date               11568 non-null  datetime64[ns]\n",
      " 8   month              11568 non-null  int64         \n",
      " 9   minute_price       11568 non-null  int64         \n",
      " 10  start_ride_price   11568 non-null  int64         \n",
      " 11  subscription_fee   11568 non-null  int64         \n",
      "dtypes: datetime64[ns](1), float64(2), int64(6), object(3)\n",
      "memory usage: 1.1+ MB\n"
     ]
    }
   ],
   "source": [
    "df_users_without_subscription.info()"
   ]
  },
  {
   "cell_type": "code",
   "execution_count": 184,
   "id": "c1b96f8b",
   "metadata": {},
   "outputs": [
    {
     "name": "stdout",
     "output_type": "stream",
     "text": [
      "Знчение p-value 0.00218544990283426\n",
      "Можем отвергнуть нулевую гипотезу\n"
     ]
    }
   ],
   "source": [
    "df_users_with_subscription['total_revenue'] = (\n",
    "    df_users_with_subscription['duration'] * df_users_with_subscription['minute_price'] +\n",
    "    df_users_with_subscription['start_ride_price'] + df_users_with_subscription['subscription_fee']\n",
    ")\n",
    "\n",
    "df_users_without_subscription['total_revenue'] = (\n",
    "    df_users_without_subscription['duration'] * df_users_without_subscription['minute_price'] +\n",
    "    df_users_without_subscription['start_ride_price'] + df_users_without_subscription['subscription_fee']\n",
    ")\n",
    "\n",
    "df_users_with_subscription_monthly_revenue = (df_users_with_subscription\n",
    "                                              .groupby('month')['total_revenue'].sum()\n",
    "                                              )\n",
    "\n",
    "df_users_without_subscription_monthly_revenue = (df_users_without_subscription\n",
    "                                              .groupby('month')['total_revenue'].sum()\n",
    "                                              )\n",
    "\n",
    "results = stats.ttest_ind(df_users_with_subscription_monthly_revenue, df_users_without_subscription_monthly_revenue)\n",
    "warnings.filterwarnings(\"ignore\")\n",
    "print(f'Знчение p-value {results.pvalue}')\n",
    "\n",
    "if results.pvalue < alpha:\n",
    "    print('Можем отвергнуть нулевую гипотезу')\n",
    "else:\n",
    "    print('Не можем отвергнуть нулевую гипотезу')"
   ]
  },
  {
   "cell_type": "code",
   "execution_count": null,
   "id": "23ea867b",
   "metadata": {},
   "outputs": [],
   "source": []
  },
  {
   "attachments": {},
   "cell_type": "markdown",
   "id": "61213c5e",
   "metadata": {},
   "source": [
    "#### Шаг 7. Распределения"
   ]
  },
  {
   "cell_type": "code",
   "execution_count": null,
   "id": "95cd1d51",
   "metadata": {},
   "outputs": [],
   "source": []
  }
 ],
 "metadata": {
  "kernelspec": {
   "display_name": "Python 3 (ipykernel)",
   "language": "python",
   "name": "python3"
  },
  "language_info": {
   "codemirror_mode": {
    "name": "ipython",
    "version": 3
   },
   "file_extension": ".py",
   "mimetype": "text/x-python",
   "name": "python",
   "nbconvert_exporter": "python",
   "pygments_lexer": "ipython3",
   "version": "3.9.16"
  },
  "toc": {
   "base_numbering": 1,
   "nav_menu": {},
   "number_sections": true,
   "sideBar": true,
   "skip_h1_title": true,
   "title_cell": "Table of Contents",
   "title_sidebar": "Contents",
   "toc_cell": false,
   "toc_position": {},
   "toc_section_display": true,
   "toc_window_display": false
  }
 },
 "nbformat": 4,
 "nbformat_minor": 5
}
