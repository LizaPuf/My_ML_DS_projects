{
 "cells": [
  {
   "attachments": {},
   "cell_type": "markdown",
   "id": "72576667",
   "metadata": {},
   "source": [
    "# Исследование сервиса аренды самокатов \"GoFast\""
   ]
  },
  {
   "attachments": {},
   "cell_type": "markdown",
   "id": "76151d3f",
   "metadata": {},
   "source": [
    "## Описание проекта\n",
    "\n",
    "Нам передали данные о некоторых пользователях из нескольких городов популярного сервиса аренды самокатов 'GoFast', а также об их поездках. Требуется проанализировать данные и проверить некоторые гипотезы, которые могут помочь бизнесу вырасти.\n",
    "\n",
    "Чтобы совершать поездки по городу, пользователи сервиса 'GoFast' пользуются мобильным приложением.\n",
    "\n",
    "Сервисом можно пользоваться:\n",
    "* без подписки \n",
    "    абонентская плата отсутствует;\n",
    "    стоимость одной минуты поездки — 8 рублей;\n",
    "    стоимость старта (начала поездки) — 50 рублей;\n",
    "\n",
    "* с подпиской Ultra \n",
    "    абонентская плата — 199 рублей в месяц;\n",
    "    стоимость одной минуты поездки — 6 рублей;\n",
    "    стоимость старта — бесплатно."
   ]
  },
  {
   "attachments": {},
   "cell_type": "markdown",
   "id": "fbdf5d39",
   "metadata": {},
   "source": [
    "## Описание данных\n",
    "\n",
    "В основных данных есть информация о пользователях, их поездках и подписках.\n",
    "\n",
    "#### Пользователи — users_go.csv\n",
    "\n",
    "* user_id - уникальный идентификатор пользователя;\n",
    "* name - имя пользователя;\n",
    "* age - возраст;\n",
    "* city - город;\n",
    "* subscription_type - тип подписки (free, ultra).\n",
    "\n",
    "#### Поездки — rides_go.csv\n",
    "\n",
    "* user_id - уникальный идентификатор пользователя;\n",
    "* distance - расстояние, которое пользователь проехал в текущей сессии (в метрах);\n",
    "* duration - продолжительность сессии (в минутах) — время с того момента, как пользователь нажал кнопку «Начать поездку» до момента, как он нажал кнопку «Завершить поездку»;\n",
    "* date - дата совершения поездки.\n",
    "\n",
    "#### Подписки — subscriptions_go.csv\n",
    "\n",
    "* subscription_type\t- тип подписки;\n",
    "* minute_price\t- стоимость одной минуты поездки по данной подписке;\n",
    "* start_ride_price\t- стоимость начала поездки;\n",
    "* subscription_fee\t- стоимость ежемесячного платежа."
   ]
  },
  {
   "attachments": {},
   "cell_type": "markdown",
   "id": "1d27a6a5",
   "metadata": {},
   "source": [
    "<a id=\"Задачи_исследования\"></a>\n",
    "\n",
    "## Задачи исследования\n",
    "\n",
    "### [Этап 1. Загрузка и изучение данных](#Этап_1)\n",
    "\n",
    "* [1.1 Считайте CSV-файлы с данными с помощью библиотеки pandas и сохраните их в датафреймы.](#Читаем_данные)\n",
    "* [1.2 Выведите первые строки каждого набора данных. Изучите общую информацию о каждом датафрейме.](#Изучаем_данные)\n",
    "\n",
    "### [Этап 2. Предобработка данных](#Этап_2)\n",
    "\n",
    "* [2.1 Приведите столбец date к типу даты pandas.](#Преоброзование_типов)\n",
    "* [2.2 Создайте новый столбец с номером месяца на основе столбца date.](#Столбец_с_месяцем)\n",
    "* [2.3 Проверьте наличие пропущенных значений и дубликатов в датафреймах. Обработайте их, если такие значения присутствуют.](#Пропуски_дубли)\n",
    "\n",
    "### [Этап 3. Исследовательский анализ данных](#Этап_3)\n",
    "\n",
    "Опишите и визуализируйте общую информацию о пользователях и поездках:\n",
    "* [3.1 частота встречаемости городов;](#Города)\n",
    "* [3.2 соотношение пользователей с подпиской и без подписки;](#Соотношение)\n",
    "* [3.3 возраст пользователей;](#Возраст)\n",
    "* [3.4 расстояние, которое пользователь преодолел за одну поездку;](#Расстояние)\n",
    "* [3.5 продолжительность поездок.](#Продолжительность)\n",
    "\n",
    "### [Этап 4. Объединение данных](#Этап_4)\n",
    "\n",
    "* [4.1 Объедините данные о пользователях, поездках и подписках в один датафрейм. Для этого воспользуйтесь методом merge();](#Объединение)\n",
    "* [4.2 Создайте ещё два датафрейма из датафрейма, созданного на этапе 4.1:](#Новые_дф)\n",
    "    * c данными о пользователях без подписки;\n",
    "    * с данными о пользователях с подпиской.\n",
    "* [4.3 Визуализируйте информацию о расстоянии и времени поездок для пользователей обеих категорий.](#Визуализируем)\n",
    "\n",
    "### [Этап 5. Подсчёт выручки](#Этап_5)\n",
    "\n",
    "* [5.1 Создайте датафрейм с агрегированными данными о поездках на основе датафрейма с объединёнными данными из шага 4: найдите суммарное расстояние, количество поездок и суммарное время для каждого пользователя за каждый месяц;](#Агрегируем)\n",
    "* [5.2 В этот же датафрейм добавьте столбец с помесячной выручкой, которую принёс каждый пользователь. Для этого обратитесь к информации об условиях оплаты для подписчиков и тех, у кого нет подписки. Продолжительность каждой поездки в каждой строке исходного датафрейма для подсчёта стоимости округляется до следующего целого числа: например, значения 25.3, 25.5 и 26.0 должны быть преобразованы к 26.](#Кэш)\n",
    "\n",
    "### [Этап 6. Проверка гипотез](#Этап_6)\n",
    "\n",
    "Продакт-менеджеры сервиса хотят увеличить количество пользователей с подпиской. Для этого они будут проводить различные акции, но сначала нужно выяснить несколько важных моментов.\n",
    "* [6.1 Важно понять, тратят ли пользователи с подпиской больше времени на поездки? Если да, то пользователи с подпиской могут быть «выгоднее» для компании. Проверьте гипотезу. Используйте исходные данные о продолжительности каждой сессии — отдельно для подписчиков и тех, у кого нет подписки;](#Гипотеза_1)\n",
    "* [6.2 Расстояние одной поездки в 3130 метров — оптимальное с точки зрения износа самоката. Можно ли сказать, что расстояние, которое проезжают пользователи с подпиской за одну поездку, не превышает 3130 метров? Проверьте гипотезу и сделайте выводы;](#Гипотеза_2)\n",
    "* [6.3. Проверьте гипотезу о том, будет ли помесячная выручка от пользователей с подпиской по месяцам выше, чем выручка от пользователей без подписки. Сделайте вывод;](#Гиротеза_3)\n",
    "* [6.4. Представьте такую ситуацию: техническая команда сервиса обновила сервера, с которыми взаимодействует мобильное приложение. Она надеется, что из-за этого количество обращений в техподдержку значимо снизилось. Некоторый файл содержит для каждого пользователя данные о количестве обращений до обновления и после него. Какой тест вам понадобился бы для проверки этой гипотезы?](#Гипотеза_4)"
   ]
  },
  {
   "attachments": {},
   "cell_type": "markdown",
   "id": "52c51b75",
   "metadata": {},
   "source": [
    "<a id=\"Этап_1\"></a>\n",
    "\n",
    "## Этап 1: Загрузка данных \n",
    "#### Подключение библиотек\n",
    "\n",
    "[Вернуться к задачам исследования](#Задачи_исследования)"
   ]
  },
  {
   "cell_type": "code",
   "execution_count": 2,
   "id": "fac0f3eb",
   "metadata": {},
   "outputs": [],
   "source": [
    "#импорт необходимых библиотек \n",
    "import pandas as pd\n",
    "import matplotlib.pyplot as plt   \n",
    "from scipy import stats\n",
    "import seaborn as sns"
   ]
  },
  {
   "attachments": {},
   "cell_type": "markdown",
   "id": "851ccc33",
   "metadata": {},
   "source": [
    "#### 1.1 Загрузка данных из файла"
   ]
  },
  {
   "cell_type": "code",
   "execution_count": 3,
   "id": "eff9f206",
   "metadata": {},
   "outputs": [],
   "source": [
    "try:\n",
    "    df_users_go = pd.read_csv('/datasets/users_go.csv', sep = ',')\n",
    "    df_rides_go = pd.read_csv('/datasets/rides_go.csv', sep = ',')\n",
    "    df_subscriptions_go = pd.read_csv('/datasets/subscriptions_go.csv', sep = ',')\n",
    "except Exception:\n",
    "    df_users_go = pd.read_csv('https://code.s3.yandex.net/datasets/users_go.csv', sep = ',')\n",
    "    df_rides_go = pd.read_csv('https://code.s3.yandex.net/datasets/rides_go.csv', sep = ',')\n",
    "    df_subscriptions_go = pd.read_csv('https://code.s3.yandex.net/datasets/subscriptions_go.csv', sep = ',')\n"
   ]
  },
  {
   "cell_type": "code",
   "execution_count": 4,
   "id": "a0783f89",
   "metadata": {},
   "outputs": [
    {
     "name": "stdout",
     "output_type": "stream",
     "text": [
      "<class 'pandas.core.frame.DataFrame'>\n",
      "RangeIndex: 1565 entries, 0 to 1564\n",
      "Data columns (total 5 columns):\n",
      " #   Column             Non-Null Count  Dtype \n",
      "---  ------             --------------  ----- \n",
      " 0   user_id            1565 non-null   int64 \n",
      " 1   name               1565 non-null   object\n",
      " 2   age                1565 non-null   int64 \n",
      " 3   city               1565 non-null   object\n",
      " 4   subscription_type  1565 non-null   object\n",
      "dtypes: int64(2), object(3)\n",
      "memory usage: 61.3+ KB\n"
     ]
    }
   ],
   "source": [
    "df_users_go.info()"
   ]
  },
  {
   "cell_type": "code",
   "execution_count": 5,
   "id": "ee50e5bd",
   "metadata": {},
   "outputs": [
    {
     "data": {
      "text/html": [
       "<div>\n",
       "<style scoped>\n",
       "    .dataframe tbody tr th:only-of-type {\n",
       "        vertical-align: middle;\n",
       "    }\n",
       "\n",
       "    .dataframe tbody tr th {\n",
       "        vertical-align: top;\n",
       "    }\n",
       "\n",
       "    .dataframe thead th {\n",
       "        text-align: right;\n",
       "    }\n",
       "</style>\n",
       "<table border=\"1\" class=\"dataframe\">\n",
       "  <thead>\n",
       "    <tr style=\"text-align: right;\">\n",
       "      <th></th>\n",
       "      <th>user_id</th>\n",
       "      <th>name</th>\n",
       "      <th>age</th>\n",
       "      <th>city</th>\n",
       "      <th>subscription_type</th>\n",
       "    </tr>\n",
       "  </thead>\n",
       "  <tbody>\n",
       "    <tr>\n",
       "      <th>0</th>\n",
       "      <td>1</td>\n",
       "      <td>Кира</td>\n",
       "      <td>22</td>\n",
       "      <td>Тюмень</td>\n",
       "      <td>ultra</td>\n",
       "    </tr>\n",
       "    <tr>\n",
       "      <th>1</th>\n",
       "      <td>2</td>\n",
       "      <td>Станислав</td>\n",
       "      <td>31</td>\n",
       "      <td>Омск</td>\n",
       "      <td>ultra</td>\n",
       "    </tr>\n",
       "    <tr>\n",
       "      <th>2</th>\n",
       "      <td>3</td>\n",
       "      <td>Алексей</td>\n",
       "      <td>20</td>\n",
       "      <td>Москва</td>\n",
       "      <td>ultra</td>\n",
       "    </tr>\n",
       "    <tr>\n",
       "      <th>3</th>\n",
       "      <td>4</td>\n",
       "      <td>Константин</td>\n",
       "      <td>26</td>\n",
       "      <td>Ростов-на-Дону</td>\n",
       "      <td>ultra</td>\n",
       "    </tr>\n",
       "    <tr>\n",
       "      <th>4</th>\n",
       "      <td>5</td>\n",
       "      <td>Адель</td>\n",
       "      <td>28</td>\n",
       "      <td>Омск</td>\n",
       "      <td>ultra</td>\n",
       "    </tr>\n",
       "  </tbody>\n",
       "</table>\n",
       "</div>"
      ],
      "text/plain": [
       "   user_id        name  age            city subscription_type\n",
       "0        1        Кира   22          Тюмень             ultra\n",
       "1        2   Станислав   31            Омск             ultra\n",
       "2        3     Алексей   20          Москва             ultra\n",
       "3        4  Константин   26  Ростов-на-Дону             ultra\n",
       "4        5       Адель   28            Омск             ultra"
      ]
     },
     "execution_count": 5,
     "metadata": {},
     "output_type": "execute_result"
    }
   ],
   "source": [
    "df_users_go.head()"
   ]
  },
  {
   "attachments": {},
   "cell_type": "markdown",
   "id": "6400d8ee",
   "metadata": {},
   "source": [
    "Данные, котороые хранятся в этом датафрейме \n",
    "* user_id - уникальный идентификатор пользователя;\n",
    "* name - имя пользователя;\n",
    "* age - возраст;\n",
    "* city - город;\n",
    "* subscription_type - тип подписки (free, ultra)"
   ]
  },
  {
   "cell_type": "code",
   "execution_count": 6,
   "id": "4a8c87d5",
   "metadata": {},
   "outputs": [
    {
     "name": "stdout",
     "output_type": "stream",
     "text": [
      "<class 'pandas.core.frame.DataFrame'>\n",
      "RangeIndex: 18068 entries, 0 to 18067\n",
      "Data columns (total 4 columns):\n",
      " #   Column    Non-Null Count  Dtype  \n",
      "---  ------    --------------  -----  \n",
      " 0   user_id   18068 non-null  int64  \n",
      " 1   distance  18068 non-null  float64\n",
      " 2   duration  18068 non-null  float64\n",
      " 3   date      18068 non-null  object \n",
      "dtypes: float64(2), int64(1), object(1)\n",
      "memory usage: 564.8+ KB\n"
     ]
    }
   ],
   "source": [
    "df_rides_go.info()"
   ]
  },
  {
   "cell_type": "code",
   "execution_count": 7,
   "id": "27da0214",
   "metadata": {},
   "outputs": [
    {
     "data": {
      "text/html": [
       "<div>\n",
       "<style scoped>\n",
       "    .dataframe tbody tr th:only-of-type {\n",
       "        vertical-align: middle;\n",
       "    }\n",
       "\n",
       "    .dataframe tbody tr th {\n",
       "        vertical-align: top;\n",
       "    }\n",
       "\n",
       "    .dataframe thead th {\n",
       "        text-align: right;\n",
       "    }\n",
       "</style>\n",
       "<table border=\"1\" class=\"dataframe\">\n",
       "  <thead>\n",
       "    <tr style=\"text-align: right;\">\n",
       "      <th></th>\n",
       "      <th>user_id</th>\n",
       "      <th>distance</th>\n",
       "      <th>duration</th>\n",
       "      <th>date</th>\n",
       "    </tr>\n",
       "  </thead>\n",
       "  <tbody>\n",
       "    <tr>\n",
       "      <th>0</th>\n",
       "      <td>1</td>\n",
       "      <td>4409.919140</td>\n",
       "      <td>25.599769</td>\n",
       "      <td>2021-01-01</td>\n",
       "    </tr>\n",
       "    <tr>\n",
       "      <th>1</th>\n",
       "      <td>1</td>\n",
       "      <td>2617.592153</td>\n",
       "      <td>15.816871</td>\n",
       "      <td>2021-01-18</td>\n",
       "    </tr>\n",
       "    <tr>\n",
       "      <th>2</th>\n",
       "      <td>1</td>\n",
       "      <td>754.159807</td>\n",
       "      <td>6.232113</td>\n",
       "      <td>2021-04-20</td>\n",
       "    </tr>\n",
       "    <tr>\n",
       "      <th>3</th>\n",
       "      <td>1</td>\n",
       "      <td>2694.783254</td>\n",
       "      <td>18.511000</td>\n",
       "      <td>2021-08-11</td>\n",
       "    </tr>\n",
       "    <tr>\n",
       "      <th>4</th>\n",
       "      <td>1</td>\n",
       "      <td>4028.687306</td>\n",
       "      <td>26.265803</td>\n",
       "      <td>2021-08-28</td>\n",
       "    </tr>\n",
       "  </tbody>\n",
       "</table>\n",
       "</div>"
      ],
      "text/plain": [
       "   user_id     distance   duration        date\n",
       "0        1  4409.919140  25.599769  2021-01-01\n",
       "1        1  2617.592153  15.816871  2021-01-18\n",
       "2        1   754.159807   6.232113  2021-04-20\n",
       "3        1  2694.783254  18.511000  2021-08-11\n",
       "4        1  4028.687306  26.265803  2021-08-28"
      ]
     },
     "execution_count": 7,
     "metadata": {},
     "output_type": "execute_result"
    }
   ],
   "source": [
    "df_rides_go.head()"
   ]
  },
  {
   "attachments": {},
   "cell_type": "markdown",
   "id": "e689ea7a",
   "metadata": {},
   "source": [
    "Данные, которые хранятся в этом датафрейме \n",
    "* user_id - уникальный идентификатор пользователя;\n",
    "* distance - расстояние, которое пользователь проехал в текущей сессии (в метрах);\n",
    "* duration - продолжительность сессии (в минутах) — время с того момента, как пользователь нажал кнопку «Начать поездку» до момента, как он нажал кнопку «Завершить поездку»;\n",
    "* date - дата совершения поездки."
   ]
  },
  {
   "cell_type": "code",
   "execution_count": 8,
   "id": "37eb1697",
   "metadata": {},
   "outputs": [
    {
     "name": "stdout",
     "output_type": "stream",
     "text": [
      "<class 'pandas.core.frame.DataFrame'>\n",
      "RangeIndex: 2 entries, 0 to 1\n",
      "Data columns (total 4 columns):\n",
      " #   Column             Non-Null Count  Dtype \n",
      "---  ------             --------------  ----- \n",
      " 0   subscription_type  2 non-null      object\n",
      " 1   minute_price       2 non-null      int64 \n",
      " 2   start_ride_price   2 non-null      int64 \n",
      " 3   subscription_fee   2 non-null      int64 \n",
      "dtypes: int64(3), object(1)\n",
      "memory usage: 192.0+ bytes\n"
     ]
    }
   ],
   "source": [
    "df_subscriptions_go.info()\n"
   ]
  },
  {
   "cell_type": "code",
   "execution_count": 9,
   "id": "ef7264a5",
   "metadata": {},
   "outputs": [
    {
     "data": {
      "text/html": [
       "<div>\n",
       "<style scoped>\n",
       "    .dataframe tbody tr th:only-of-type {\n",
       "        vertical-align: middle;\n",
       "    }\n",
       "\n",
       "    .dataframe tbody tr th {\n",
       "        vertical-align: top;\n",
       "    }\n",
       "\n",
       "    .dataframe thead th {\n",
       "        text-align: right;\n",
       "    }\n",
       "</style>\n",
       "<table border=\"1\" class=\"dataframe\">\n",
       "  <thead>\n",
       "    <tr style=\"text-align: right;\">\n",
       "      <th></th>\n",
       "      <th>subscription_type</th>\n",
       "      <th>minute_price</th>\n",
       "      <th>start_ride_price</th>\n",
       "      <th>subscription_fee</th>\n",
       "    </tr>\n",
       "  </thead>\n",
       "  <tbody>\n",
       "    <tr>\n",
       "      <th>0</th>\n",
       "      <td>free</td>\n",
       "      <td>8</td>\n",
       "      <td>50</td>\n",
       "      <td>0</td>\n",
       "    </tr>\n",
       "    <tr>\n",
       "      <th>1</th>\n",
       "      <td>ultra</td>\n",
       "      <td>6</td>\n",
       "      <td>0</td>\n",
       "      <td>199</td>\n",
       "    </tr>\n",
       "  </tbody>\n",
       "</table>\n",
       "</div>"
      ],
      "text/plain": [
       "  subscription_type  minute_price  start_ride_price  subscription_fee\n",
       "0              free             8                50                 0\n",
       "1             ultra             6                 0               199"
      ]
     },
     "execution_count": 9,
     "metadata": {},
     "output_type": "execute_result"
    }
   ],
   "source": [
    "df_subscriptions_go.head()"
   ]
  },
  {
   "attachments": {},
   "cell_type": "markdown",
   "id": "6db7b270",
   "metadata": {},
   "source": [
    "Данные, которые хранятся в этом датафрейме \n",
    "* subscription_type\t- тип подписки;\n",
    "* minute_price\t- стоимость одной минуты поездки по данной подписке;\n",
    "* start_ride_price\t- стоимость начала поездки;\n",
    "* subscription_fee\t- стоимость ежемесячного платежа."
   ]
  },
  {
   "attachments": {},
   "cell_type": "markdown",
   "id": "836e70ec",
   "metadata": {},
   "source": [
    "Вывод:\n",
    "1 - В нашем распоряжении 3 датафрейма. С информацией о пользователях, их поездках и типе подписке \n",
    "2 - В датафрейме есть некорректный тип данных, необходимо исправить\n",
    "3 - Проверить наличие пропусков и дубликатов "
   ]
  },
  {
   "attachments": {},
   "cell_type": "markdown",
   "id": "e95ebca7",
   "metadata": {},
   "source": [
    "#### Шаг 2. Предобработка данных"
   ]
  },
  {
   "attachments": {},
   "cell_type": "markdown",
   "id": "a3a7d6b7",
   "metadata": {},
   "source": [
    "изменение типа данных"
   ]
  },
  {
   "cell_type": "code",
   "execution_count": 10,
   "id": "758e1bdc",
   "metadata": {},
   "outputs": [
    {
     "name": "stdout",
     "output_type": "stream",
     "text": [
      "<class 'pandas.core.frame.DataFrame'>\n",
      "RangeIndex: 18068 entries, 0 to 18067\n",
      "Data columns (total 4 columns):\n",
      " #   Column    Non-Null Count  Dtype         \n",
      "---  ------    --------------  -----         \n",
      " 0   user_id   18068 non-null  int64         \n",
      " 1   distance  18068 non-null  float64       \n",
      " 2   duration  18068 non-null  float64       \n",
      " 3   date      18068 non-null  datetime64[ns]\n",
      "dtypes: datetime64[ns](1), float64(2), int64(1)\n",
      "memory usage: 564.8 KB\n"
     ]
    }
   ],
   "source": [
    "df_rides_go['date'] = pd.to_datetime(df_rides_go['date'])\n",
    "df_rides_go.info()"
   ]
  },
  {
   "attachments": {},
   "cell_type": "markdown",
   "id": "615a3522",
   "metadata": {},
   "source": [
    "Создание столбца на основе нового типа данных"
   ]
  },
  {
   "cell_type": "code",
   "execution_count": 11,
   "id": "a07f8bca",
   "metadata": {},
   "outputs": [
    {
     "data": {
      "text/html": [
       "<div>\n",
       "<style scoped>\n",
       "    .dataframe tbody tr th:only-of-type {\n",
       "        vertical-align: middle;\n",
       "    }\n",
       "\n",
       "    .dataframe tbody tr th {\n",
       "        vertical-align: top;\n",
       "    }\n",
       "\n",
       "    .dataframe thead th {\n",
       "        text-align: right;\n",
       "    }\n",
       "</style>\n",
       "<table border=\"1\" class=\"dataframe\">\n",
       "  <thead>\n",
       "    <tr style=\"text-align: right;\">\n",
       "      <th></th>\n",
       "      <th>user_id</th>\n",
       "      <th>distance</th>\n",
       "      <th>duration</th>\n",
       "      <th>date</th>\n",
       "      <th>month</th>\n",
       "    </tr>\n",
       "  </thead>\n",
       "  <tbody>\n",
       "    <tr>\n",
       "      <th>0</th>\n",
       "      <td>1</td>\n",
       "      <td>4409.919140</td>\n",
       "      <td>25.599769</td>\n",
       "      <td>2021-01-01</td>\n",
       "      <td>1</td>\n",
       "    </tr>\n",
       "    <tr>\n",
       "      <th>1</th>\n",
       "      <td>1</td>\n",
       "      <td>2617.592153</td>\n",
       "      <td>15.816871</td>\n",
       "      <td>2021-01-18</td>\n",
       "      <td>1</td>\n",
       "    </tr>\n",
       "    <tr>\n",
       "      <th>2</th>\n",
       "      <td>1</td>\n",
       "      <td>754.159807</td>\n",
       "      <td>6.232113</td>\n",
       "      <td>2021-04-20</td>\n",
       "      <td>4</td>\n",
       "    </tr>\n",
       "    <tr>\n",
       "      <th>3</th>\n",
       "      <td>1</td>\n",
       "      <td>2694.783254</td>\n",
       "      <td>18.511000</td>\n",
       "      <td>2021-08-11</td>\n",
       "      <td>8</td>\n",
       "    </tr>\n",
       "    <tr>\n",
       "      <th>4</th>\n",
       "      <td>1</td>\n",
       "      <td>4028.687306</td>\n",
       "      <td>26.265803</td>\n",
       "      <td>2021-08-28</td>\n",
       "      <td>8</td>\n",
       "    </tr>\n",
       "  </tbody>\n",
       "</table>\n",
       "</div>"
      ],
      "text/plain": [
       "   user_id     distance   duration       date  month\n",
       "0        1  4409.919140  25.599769 2021-01-01      1\n",
       "1        1  2617.592153  15.816871 2021-01-18      1\n",
       "2        1   754.159807   6.232113 2021-04-20      4\n",
       "3        1  2694.783254  18.511000 2021-08-11      8\n",
       "4        1  4028.687306  26.265803 2021-08-28      8"
      ]
     },
     "execution_count": 11,
     "metadata": {},
     "output_type": "execute_result"
    }
   ],
   "source": [
    "df_rides_go['month'] = df_rides_go['date'].dt.month\n",
    "df_rides_go.head()"
   ]
  },
  {
   "attachments": {},
   "cell_type": "markdown",
   "id": "8c5cdf91",
   "metadata": {},
   "source": [
    "Проверка дубликатов"
   ]
  },
  {
   "cell_type": "code",
   "execution_count": 12,
   "id": "1ff05f5a",
   "metadata": {},
   "outputs": [
    {
     "name": "stdout",
     "output_type": "stream",
     "text": [
      "количество дубликатов в датафрейме df_users_go: 31\n",
      "количество дубликатов в датафрейме df_rides_go: 0\n",
      "количество дубликатов в датафрейме df_subscriptions_go: 0\n"
     ]
    }
   ],
   "source": [
    "print(f'количество дубликатов в датафрейме df_users_go: {df_users_go.duplicated().sum()}')\n",
    "print(f'количество дубликатов в датафрейме df_rides_go: {df_rides_go.duplicated().sum()}')\n",
    "print(f'количество дубликатов в датафрейме df_subscriptions_go: {df_subscriptions_go.duplicated().sum()}')"
   ]
  },
  {
   "cell_type": "code",
   "execution_count": 13,
   "id": "3aaac1c2",
   "metadata": {},
   "outputs": [],
   "source": [
    "df_users_go.drop_duplicates(inplace=True)"
   ]
  },
  {
   "cell_type": "code",
   "execution_count": 14,
   "id": "af6d202c",
   "metadata": {},
   "outputs": [
    {
     "name": "stdout",
     "output_type": "stream",
     "text": [
      "количество дубликатов в датафрейме df_users_go: 0\n"
     ]
    }
   ],
   "source": [
    "print(f'количество дубликатов в датафрейме df_users_go: {df_users_go.duplicated().sum()}')"
   ]
  },
  {
   "cell_type": "code",
   "execution_count": 15,
   "id": "da7849d9",
   "metadata": {},
   "outputs": [
    {
     "name": "stdout",
     "output_type": "stream",
     "text": [
      "Пропущенные значения в df_users_go:\n",
      "user_id              0\n",
      "name                 0\n",
      "age                  0\n",
      "city                 0\n",
      "subscription_type    0\n",
      "dtype: int64\n",
      "\n",
      "Пропущенные значения в df_rides_go:\n",
      "user_id     0\n",
      "distance    0\n",
      "duration    0\n",
      "date        0\n",
      "month       0\n",
      "dtype: int64\n",
      "\n",
      "Пропущенные значения в df_subscriptions_go:\n",
      "subscription_type    0\n",
      "minute_price         0\n",
      "start_ride_price     0\n",
      "subscription_fee     0\n",
      "dtype: int64\n"
     ]
    }
   ],
   "source": [
    "print(f'Пропущенные значения в df_users_go:\\n{df_users_go.isnull().sum().sort_values()}')\n",
    "print()\n",
    "print(f'Пропущенные значения в df_rides_go:\\n{df_rides_go.isnull().sum().sort_values()}')\n",
    "print()\n",
    "print(f'Пропущенные значения в df_subscriptions_go:\\n{df_subscriptions_go.isnull().sum().sort_values()}')\n",
    "\n"
   ]
  },
  {
   "attachments": {},
   "cell_type": "markdown",
   "id": "13ba843c",
   "metadata": {},
   "source": [
    "Вывод\n",
    "Пропуски не обнаружены \n",
    "В датафрейме df_users_go удалили дублкаты \n",
    "В датафрейме df_rides_go поменяли тип данных в столбце date и создали на его основе столбец с месяцами"
   ]
  },
  {
   "attachments": {},
   "cell_type": "markdown",
   "id": "212593c7",
   "metadata": {},
   "source": [
    "#### Шаг 3. Исследовательский анализ данных"
   ]
  },
  {
   "attachments": {},
   "cell_type": "markdown",
   "id": "e93fc587",
   "metadata": {},
   "source": [
    "Частота встречаемости городов"
   ]
  },
  {
   "cell_type": "code",
   "execution_count": 22,
   "id": "7792a064",
   "metadata": {},
   "outputs": [
    {
     "data": {
      "image/png": "[encoded data removed]",
      "text/plain": [
       "<Figure size 1000x600 with 1 Axes>"
      ]
     },
     "metadata": {},
     "output_type": "display_data"
    }
   ],
   "source": [
    "plt.figure(figsize=(10, 6))\n",
    "city_count = df_users_go['city'].value_counts()\n",
    "df_city_count = city_count.reset_index()\n",
    "df_city_count.columns = ['city', 'count']\n",
    "sns.barplot(x = 'city', y = 'count', data = df_city_count)\n",
    "plt.xticks(rotation=45)\n",
    "plt.xlabel('Название городов')\n",
    "plt.ylabel('Количество пользователей')\n",
    "\n",
    "plt.show()\n"
   ]
  },
  {
   "attachments": {},
   "cell_type": "markdown",
   "id": "f70d22f2",
   "metadata": {},
   "source": [
    "Подписка соотношение"
   ]
  },
  {
   "cell_type": "code",
   "execution_count": 52,
   "id": "88bc5889",
   "metadata": {},
   "outputs": [
    {
     "data": {
      "image/png": "[encoded data removed]",
      "text/plain": [
       "<Figure size 1000x600 with 1 Axes>"
      ]
     },
     "metadata": {},
     "output_type": "display_data"
    }
   ],
   "source": [
    "subscription_count = df_users_go['subscription_type'].value_counts()\n",
    "df_subscription_count = subscription_count.reset_index()\n",
    "df_subscription_count.columns = ['sub', 'count']\n",
    "colors = sns.color_palette('pastel')[ 0:5 ]\n",
    "plt.figure(figsize=(10, 6))\n",
    "plt.pie(df_subscription_count['count'], labels=df_subscription_count['sub'], colors = colors, autopct='%.0f%%')\n",
    "plt.show()\n",
    "\n"
   ]
  },
  {
   "attachments": {},
   "cell_type": "markdown",
   "id": "8bebcc1a",
   "metadata": {},
   "source": [
    "возраст пользователей"
   ]
  },
  {
   "cell_type": "code",
   "execution_count": 41,
   "id": "de395d94",
   "metadata": {},
   "outputs": [
    {
     "data": {
      "image/png": "[encoded data removed]",
      "text/plain": [
       "<Figure size 1000x600 with 1 Axes>"
      ]
     },
     "metadata": {},
     "output_type": "display_data"
    }
   ],
   "source": [
    "plt.figure(figsize=(10, 6))\n",
    "age_users = df_users_go['age'].value_counts()\n",
    "df_age_users = age_users.reset_index()\n",
    "df_age_users.columns = ['age', 'count']\n",
    "sns.barplot(x = 'age', y = 'count', data = df_age_users, color = 'blue')\n",
    "plt.xticks(rotation=45)\n",
    "plt.xlabel('Возраст')\n",
    "plt.ylabel('Количество пользователей')\n",
    "\n",
    "plt.show()"
   ]
  },
  {
   "attachments": {},
   "cell_type": "markdown",
   "id": "ef985c63",
   "metadata": {},
   "source": [
    "расстояние, которое пользователь преодолел за одну поездку"
   ]
  },
  {
   "cell_type": "code",
   "execution_count": 58,
   "id": "f519f187",
   "metadata": {},
   "outputs": [
    {
     "data": {
      "image/png": "[encoded data removed]",
      "text/plain": [
       "<Figure size 1000x600 with 1 Axes>"
      ]
     },
     "metadata": {},
     "output_type": "display_data"
    }
   ],
   "source": [
    "trip_distance = df_rides_go.pivot_table(index='user_id', values='distance', aggfunc='sum')\n",
    "\n",
    "# Создаем гистограмму\n",
    "plt.figure(figsize=(10, 6))\n",
    "sns.set(style=\"darkgrid\")\n",
    "sns.histplot(data=tripDistance, x=\"distance\")\n",
    "plt.title('Распределение расстояний за одну поездку')\n",
    "plt.xlabel('Расстояние')\n",
    "plt.ylabel('Частота')\n",
    "\n",
    "# Отображаем гистограмму\n",
    "plt.show()"
   ]
  },
  {
   "cell_type": "code",
   "execution_count": null,
   "id": "ad646452",
   "metadata": {},
   "outputs": [],
   "source": []
  },
  {
   "cell_type": "code",
   "execution_count": null,
   "id": "e3a4274c",
   "metadata": {},
   "outputs": [],
   "source": []
  },
  {
   "attachments": {},
   "cell_type": "markdown",
   "id": "4ef51331",
   "metadata": {},
   "source": [
    "#### Шаг 4. Объединение данных"
   ]
  },
  {
   "cell_type": "code",
   "execution_count": null,
   "id": "6bf288b5",
   "metadata": {},
   "outputs": [],
   "source": []
  },
  {
   "attachments": {},
   "cell_type": "markdown",
   "id": "402d620f",
   "metadata": {},
   "source": [
    "#### Шаг 5. Подсчёт выручки"
   ]
  },
  {
   "cell_type": "code",
   "execution_count": null,
   "id": "53049e0a",
   "metadata": {},
   "outputs": [],
   "source": []
  },
  {
   "attachments": {},
   "cell_type": "markdown",
   "id": "41545ac0",
   "metadata": {},
   "source": [
    "#### Шаг 6. Проверка гипотез"
   ]
  },
  {
   "cell_type": "code",
   "execution_count": null,
   "id": "23ea867b",
   "metadata": {},
   "outputs": [],
   "source": []
  },
  {
   "attachments": {},
   "cell_type": "markdown",
   "id": "61213c5e",
   "metadata": {},
   "source": [
    "#### Шаг 7. Распределения"
   ]
  },
  {
   "cell_type": "code",
   "execution_count": null,
   "id": "95cd1d51",
   "metadata": {},
   "outputs": [],
   "source": []
  }
 ],
 "metadata": {
  "kernelspec": {
   "display_name": "Python 3 (ipykernel)",
   "language": "python",
   "name": "python3"
  },
  "language_info": {
   "codemirror_mode": {
    "name": "ipython",
    "version": 3
   },
   "file_extension": ".py",
   "mimetype": "text/x-python",
   "name": "python",
   "nbconvert_exporter": "python",
   "pygments_lexer": "ipython3",
   "version": "3.9.16"
  },
  "toc": {
   "base_numbering": 1,
   "nav_menu": {},
   "number_sections": true,
   "sideBar": true,
   "skip_h1_title": true,
   "title_cell": "Table of Contents",
   "title_sidebar": "Contents",
   "toc_cell": false,
   "toc_position": {},
   "toc_section_display": true,
   "toc_window_display": false
  }
 },
 "nbformat": 4,
 "nbformat_minor": 5
}
