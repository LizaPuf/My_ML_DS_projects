{
 "cells": [
  {
   "cell_type": "markdown",
   "id": "fea1a136",
   "metadata": {},
   "source": [
    "<div style=\"border:solid Purple 2px; padding: 40px\">\n",
    "\n",
    "<b>Привет, Елизавета!👋\n",
    "\n",
    "Меня зовут Эльвира, я буду ревьюером твоего проекта. Предлагаю общаться на «ты», но если это не удобно - дай мне знать, и мы перейдем на «вы».\n",
    "\n",
    "\n",
    "Ты можешь найти мои комментарии, обозначенные <font color='green'>зеленым</font>, <font color='gold'>желтым</font> и <font color='red'>красным</font> цветами, например:\n",
    "\n",
    "\n",
    "<div class=\"alert alert-success\">\n",
    "<h2> Комментарий ревьюера 😊<a class=\"tocSkip\"> </h2>\n",
    "    \n",
    "Такими комментариями я буду помечать отлично проделаную работу😉\n",
    "</div>\n",
    "    \n",
    "<div class=\"alert alert-warning\">\n",
    "<h2> Комментарий ревьюера 🤓<a class=\"tocSkip\"> </h2>\n",
    "        \n",
    "В таких комментариях я постараюсь подсказать тебе более элегантное или легкое решение, некоторые хитрости и фишки. Части проекта, помеченные такими комментариями, можно не исправлять, но рекомендую обратить на них внимание.</div>\n",
    "\n",
    "<div class=\"alert alert-block alert-danger\">\n",
    "<h2> Комментарий ревьюера ⛔️<a class=\"tocSkip\"></h2>\n",
    "    \n",
    "В случае, когда решение на отдельном шаге требует существенной переработки и внесения правок. Если ты видишь такой комментарий, значит здесть есть недочет, который следует исправить.\n",
    "</div>\n",
    "\n",
    "Ты также можешь реагировать на мои комментарии своими, выделяя их цветами и наиболее понравившимся тебе способом оформления, но явно  отличающимся от моих комментариев. Это нужно, чтобы не создавалась путаница🙃\n",
    "    \n",
    "`<div class=\"alert alert-info\"> <b>Комментарий студента:</b> Например, вот так.</div>`\n",
    "\n",
    "Чтобы сделать подобный блок, кликни здесь дважды и скопируй всю предыдущую строку ;)\n",
    "    \n",
    "Пожалуйста, не удаляй и не перемещай мои комментарии, они будут особенно полезны для нашей работы в случае повторной проверки проекта.</div></b>"
   ]
  },
  {
   "cell_type": "markdown",
   "id": "72576667",
   "metadata": {},
   "source": [
    "# Исследование сервиса аренды самокатов \"GoFast\""
   ]
  },
  {
   "cell_type": "markdown",
   "id": "76151d3f",
   "metadata": {},
   "source": [
    "## Описание проекта\n",
    "\n",
    "Нам передали данные о некоторых пользователях из нескольких городов популярного сервиса аренды самокатов 'GoFast', а также об их поездках. Требуется проанализировать данные и проверить некоторые гипотезы, которые могут помочь бизнесу вырасти.\n",
    "\n",
    "Чтобы совершать поездки по городу, пользователи сервиса 'GoFast' пользуются мобильным приложением.\n",
    "\n",
    "Сервисом можно пользоваться:\n",
    "* без подписки \n",
    "    абонентская плата отсутствует;\n",
    "    стоимость одной минуты поездки — 8 рублей;\n",
    "    стоимость старта (начала поездки) — 50 рублей;\n",
    "\n",
    "* с подпиской Ultra \n",
    "    абонентская плата — 199 рублей в месяц;\n",
    "    стоимость одной минуты поездки — 6 рублей;\n",
    "    стоимость старта — бесплатно."
   ]
  },
  {
   "cell_type": "markdown",
   "id": "fbdf5d39",
   "metadata": {},
   "source": [
    "## Описание данных\n",
    "\n",
    "В основных данных есть информация о пользователях, их поездках и подписках.\n",
    "\n",
    "#### Пользователи — users_go.csv\n",
    "\n",
    "* user_id - уникальный идентификатор пользователя;\n",
    "* name - имя пользователя;\n",
    "* age - возраст;\n",
    "* city - город;\n",
    "* subscription_type - тип подписки (free, ultra).\n",
    "\n",
    "#### Поездки — rides_go.csv\n",
    "\n",
    "* user_id - уникальный идентификатор пользователя;\n",
    "* distance - расстояние, которое пользователь проехал в текущей сессии (в метрах);\n",
    "* duration - продолжительность сессии (в минутах) — время с того момента, как пользователь нажал кнопку «Начать поездку» до момента, как он нажал кнопку «Завершить поездку»;\n",
    "* date - дата совершения поездки.\n",
    "\n",
    "#### Подписки — subscriptions_go.csv\n",
    "\n",
    "* subscription_type\t- тип подписки;\n",
    "* minute_price\t- стоимость одной минуты поездки по данной подписке;\n",
    "* start_ride_price\t- стоимость начала поездки;\n",
    "* subscription_fee\t- стоимость ежемесячного платежа."
   ]
  },
  {
   "cell_type": "markdown",
   "id": "1d27a6a5",
   "metadata": {},
   "source": [
    "\n",
    "## Задачи исследования\n",
    "\n",
    "### Этап 1. Загрузка и изучение данных\n",
    "* 1.1 Считайте CSV-файлы с данными с помощью библиотеки pandas и сохраните их в датафреймы.\n",
    "* 1.2 Выведите первые строки каждого набора данных. Изучите общую информацию о каждом датафрейме.\n",
    "\n",
    "### Этап 2. Предобработка данных\n",
    "\n",
    "* 2.1 Приведите столбец date к типу даты pandas\n",
    "* 2.2 Создайте новый столбец с номером месяца на основе столбца date.\n",
    "* 2.3 Проверьте наличие пропущенных значений и дубликатов в датафреймах. Обработайте их, если такие значения присутствуют.\n",
    "\n",
    "### Этап 3. Исследовательский анализ данных\n",
    "\n",
    "Опишите и визуализируйте общую информацию о пользователях и поездках:\n",
    "* 3.1 частота встречаемости городов;\n",
    "* 3.2 соотношение пользователей с подпиской и без подписки\n",
    "* 3.3 возраст пользователей;\n",
    "* 3.4 расстояние, которое пользователь преодолел за одну поездку;\n",
    "* 3.5 продолжительность поездок.\n",
    "\n",
    "### Этап 4. Объединение данных\n",
    "\n",
    "* 4.1 Объедините данные о пользователях, поездках и подписках в один датафрейм. Для этого воспользуйтесь методом merge();\n",
    "* 4.2 Создайте ещё два датафрейма из датафрейма, созданного на этапе 4.1:\n",
    "    * c данными о пользователях без подписки;\n",
    "    * с данными о пользователях с подпиской.\n",
    "* 4.3 Визуализируйте информацию о расстоянии и времени поездок для пользователей обеих категорий.\n",
    "\n",
    "### Этап 5. Подсчёт выручки\n",
    "\n",
    "* 5.1 Создайте датафрейм с агрегированными данными о поездках на основе датафрейма с объединёнными данными из шага 4: найдите суммарное расстояние, количество поездок и суммарное время для каждого пользователя за каждый месяц;\n",
    "* 5.2 В этот же датафрейм добавьте столбец с помесячной выручкой, которую принёс каждый пользователь. Для этого обратитесь к информации об условиях оплаты для подписчиков и тех, у кого нет подписки. Продолжительность каждой поездки в каждой строке исходного датафрейма для подсчёта стоимости округляется до следующего целого числа: например, значения 25.3, 25.5 и 26.0 должны быть преобразованы к 26.\n",
    "\n",
    "### Этап 6. Проверка гипотез\n",
    "\n",
    "Продакт-менеджеры сервиса хотят увеличить количество пользователей с подпиской. Для этого они будут проводить различные акции, но сначала нужно выяснить несколько важных моментов.\n",
    "* 6.1 Важно понять, тратят ли пользователи с подпиской больше времени на поездки? Если да, то пользователи с подпиской могут быть «выгоднее» для компании. Проверьте гипотезу. Используйте исходные данные о продолжительности каждой сессии — отдельно для подписчиков и тех, у кого нет подписки;\n",
    "* 6.2 Расстояние одной поездки в 3130 метров — оптимальное с точки зрения износа самоката. Можно ли сказать, что расстояние, которое проезжают пользователи с подпиской за одну поездку, не превышает 3130 метров? Проверьте гипотезу и сделайте выводы;\n",
    "* 6.3. Проверьте гипотезу о том, будет ли помесячная выручка от пользователей с подпиской по месяцам выше, чем выручка от пользователей без подписки. Сделайте вывод;\n",
    "* 6.4. Представьте такую ситуацию: техническая команда сервиса обновила сервера, с которыми взаимодействует мобильное приложение. Она надеется, что из-за этого количество обращений в техподдержку значимо снизилось. Некоторый файл содержит для каждого пользователя данные о количестве обращений до обновления и после него. Какой тест вам понадобился бы для проверки этой гипотезы?"
   ]
  },
  {
   "cell_type": "markdown",
   "id": "c683a1cd",
   "metadata": {},
   "source": [
    "<div class=\"alert alert-warning\">\n",
    "<h2> Комментарий ревьюера 🤓<a class=\"tocSkip\"> </h2>\n",
    "    \n",
    "Введение можно улучшить, если в описании проекта мы выделим основные задачи и опишем их своими словами, особенно с позиции бизнес задачи, которая решается. Удалим инструкцию к проекту, поскольку она предназначена для студентов и не несет никакой информации для заказчиков. Так же можно добавить краткий план работы, основные этапы, которые мы должны выполнить и оставить описание данных."
   ]
  },
  {
   "cell_type": "markdown",
   "id": "52c51b75",
   "metadata": {},
   "source": [
    "## Этап 1: Загрузка данных \n",
    "#### Подключение библиотек\n"
   ]
  },
  {
   "cell_type": "code",
   "execution_count": 1,
   "id": "fac0f3eb",
   "metadata": {},
   "outputs": [],
   "source": [
    "#импорт необходимых библиотек \n",
    "import pandas as pd\n",
    "import numpy as np\n",
    "import matplotlib.pyplot as plt  \n",
    "from scipy import stats\n",
    "import seaborn as sns\n"
   ]
  },
  {
   "cell_type": "markdown",
   "id": "96e361e7",
   "metadata": {},
   "source": [
    "<div class=\"alert alert-success\">\n",
    "<h2> Комментарий ревьюера 😊<a class=\"tocSkip\"> </h2>\n",
    "\n",
    "Молодец, что загружаешь все библиотеки в начале проекта. Так сложней случайно удалить ячейку с загрузкой нужной библиотеки и сделать код не работающим. А получатель отчета сразу поймет, какие библиотеки ты используешь и какие ему нужно установить для запуска проекта.\n",
    "\n",
    "</div>"
   ]
  },
  {
   "cell_type": "markdown",
   "id": "851ccc33",
   "metadata": {},
   "source": [
    "#### Загрузка данных из файла"
   ]
  },
  {
   "cell_type": "code",
   "execution_count": 2,
   "id": "eff9f206",
   "metadata": {},
   "outputs": [],
   "source": [
    "try:\n",
    "    df_users_go = pd.read_csv('/datasets/users_go.csv', sep = ',')\n",
    "    df_rides_go = pd.read_csv('/datasets/rides_go.csv', sep = ',')\n",
    "    df_subscriptions_go = pd.read_csv('/datasets/subscriptions_go.csv', sep = ',')\n",
    "except Exception:\n",
    "    df_users_go = pd.read_csv('https://code.s3.yandex.net/datasets/users_go.csv', sep = ',')\n",
    "    df_rides_go = pd.read_csv('https://code.s3.yandex.net/datasets/rides_go.csv', sep = ',')\n",
    "    df_subscriptions_go = pd.read_csv('https://code.s3.yandex.net/datasets/subscriptions_go.csv', sep = ',')\n"
   ]
  },
  {
   "cell_type": "code",
   "execution_count": 3,
   "id": "a0783f89",
   "metadata": {},
   "outputs": [
    {
     "name": "stdout",
     "output_type": "stream",
     "text": [
      "<class 'pandas.core.frame.DataFrame'>\n",
      "RangeIndex: 1565 entries, 0 to 1564\n",
      "Data columns (total 5 columns):\n",
      " #   Column             Non-Null Count  Dtype \n",
      "---  ------             --------------  ----- \n",
      " 0   user_id            1565 non-null   int64 \n",
      " 1   name               1565 non-null   object\n",
      " 2   age                1565 non-null   int64 \n",
      " 3   city               1565 non-null   object\n",
      " 4   subscription_type  1565 non-null   object\n",
      "dtypes: int64(2), object(3)\n",
      "memory usage: 61.3+ KB\n"
     ]
    }
   ],
   "source": [
    "df_users_go.info()"
   ]
  },
  {
   "cell_type": "code",
   "execution_count": 4,
   "id": "ee50e5bd",
   "metadata": {},
   "outputs": [
    {
     "data": {
      "text/html": [
       "<div>\n",
       "<style scoped>\n",
       "    .dataframe tbody tr th:only-of-type {\n",
       "        vertical-align: middle;\n",
       "    }\n",
       "\n",
       "    .dataframe tbody tr th {\n",
       "        vertical-align: top;\n",
       "    }\n",
       "\n",
       "    .dataframe thead th {\n",
       "        text-align: right;\n",
       "    }\n",
       "</style>\n",
       "<table border=\"1\" class=\"dataframe\">\n",
       "  <thead>\n",
       "    <tr style=\"text-align: right;\">\n",
       "      <th></th>\n",
       "      <th>user_id</th>\n",
       "      <th>name</th>\n",
       "      <th>age</th>\n",
       "      <th>city</th>\n",
       "      <th>subscription_type</th>\n",
       "    </tr>\n",
       "  </thead>\n",
       "  <tbody>\n",
       "    <tr>\n",
       "      <th>0</th>\n",
       "      <td>1</td>\n",
       "      <td>Кира</td>\n",
       "      <td>22</td>\n",
       "      <td>Тюмень</td>\n",
       "      <td>ultra</td>\n",
       "    </tr>\n",
       "    <tr>\n",
       "      <th>1</th>\n",
       "      <td>2</td>\n",
       "      <td>Станислав</td>\n",
       "      <td>31</td>\n",
       "      <td>Омск</td>\n",
       "      <td>ultra</td>\n",
       "    </tr>\n",
       "    <tr>\n",
       "      <th>2</th>\n",
       "      <td>3</td>\n",
       "      <td>Алексей</td>\n",
       "      <td>20</td>\n",
       "      <td>Москва</td>\n",
       "      <td>ultra</td>\n",
       "    </tr>\n",
       "    <tr>\n",
       "      <th>3</th>\n",
       "      <td>4</td>\n",
       "      <td>Константин</td>\n",
       "      <td>26</td>\n",
       "      <td>Ростов-на-Дону</td>\n",
       "      <td>ultra</td>\n",
       "    </tr>\n",
       "    <tr>\n",
       "      <th>4</th>\n",
       "      <td>5</td>\n",
       "      <td>Адель</td>\n",
       "      <td>28</td>\n",
       "      <td>Омск</td>\n",
       "      <td>ultra</td>\n",
       "    </tr>\n",
       "  </tbody>\n",
       "</table>\n",
       "</div>"
      ],
      "text/plain": [
       "   user_id        name  age            city subscription_type\n",
       "0        1        Кира   22          Тюмень             ultra\n",
       "1        2   Станислав   31            Омск             ultra\n",
       "2        3     Алексей   20          Москва             ultra\n",
       "3        4  Константин   26  Ростов-на-Дону             ultra\n",
       "4        5       Адель   28            Омск             ultra"
      ]
     },
     "execution_count": 4,
     "metadata": {},
     "output_type": "execute_result"
    }
   ],
   "source": [
    "df_users_go.head()"
   ]
  },
  {
   "cell_type": "markdown",
   "id": "6400d8ee",
   "metadata": {},
   "source": [
    "Данные, котороые хранятся в этом датафрейме \n",
    "* `user_id` - уникальный идентификатор пользователя;\n",
    "* `name` - имя пользователя;\n",
    "* `age` - возраст;\n",
    "* `city` - город;\n",
    "* `subscription_type` - тип подписки (free, ultra)"
   ]
  },
  {
   "cell_type": "code",
   "execution_count": 5,
   "id": "4a8c87d5",
   "metadata": {},
   "outputs": [
    {
     "name": "stdout",
     "output_type": "stream",
     "text": [
      "<class 'pandas.core.frame.DataFrame'>\n",
      "RangeIndex: 18068 entries, 0 to 18067\n",
      "Data columns (total 4 columns):\n",
      " #   Column    Non-Null Count  Dtype  \n",
      "---  ------    --------------  -----  \n",
      " 0   user_id   18068 non-null  int64  \n",
      " 1   distance  18068 non-null  float64\n",
      " 2   duration  18068 non-null  float64\n",
      " 3   date      18068 non-null  object \n",
      "dtypes: float64(2), int64(1), object(1)\n",
      "memory usage: 564.8+ KB\n"
     ]
    }
   ],
   "source": [
    "df_rides_go.info()"
   ]
  },
  {
   "cell_type": "code",
   "execution_count": 6,
   "id": "27da0214",
   "metadata": {},
   "outputs": [
    {
     "data": {
      "text/html": [
       "<div>\n",
       "<style scoped>\n",
       "    .dataframe tbody tr th:only-of-type {\n",
       "        vertical-align: middle;\n",
       "    }\n",
       "\n",
       "    .dataframe tbody tr th {\n",
       "        vertical-align: top;\n",
       "    }\n",
       "\n",
       "    .dataframe thead th {\n",
       "        text-align: right;\n",
       "    }\n",
       "</style>\n",
       "<table border=\"1\" class=\"dataframe\">\n",
       "  <thead>\n",
       "    <tr style=\"text-align: right;\">\n",
       "      <th></th>\n",
       "      <th>user_id</th>\n",
       "      <th>distance</th>\n",
       "      <th>duration</th>\n",
       "      <th>date</th>\n",
       "    </tr>\n",
       "  </thead>\n",
       "  <tbody>\n",
       "    <tr>\n",
       "      <th>0</th>\n",
       "      <td>1</td>\n",
       "      <td>4409.919140</td>\n",
       "      <td>25.599769</td>\n",
       "      <td>2021-01-01</td>\n",
       "    </tr>\n",
       "    <tr>\n",
       "      <th>1</th>\n",
       "      <td>1</td>\n",
       "      <td>2617.592153</td>\n",
       "      <td>15.816871</td>\n",
       "      <td>2021-01-18</td>\n",
       "    </tr>\n",
       "    <tr>\n",
       "      <th>2</th>\n",
       "      <td>1</td>\n",
       "      <td>754.159807</td>\n",
       "      <td>6.232113</td>\n",
       "      <td>2021-04-20</td>\n",
       "    </tr>\n",
       "    <tr>\n",
       "      <th>3</th>\n",
       "      <td>1</td>\n",
       "      <td>2694.783254</td>\n",
       "      <td>18.511000</td>\n",
       "      <td>2021-08-11</td>\n",
       "    </tr>\n",
       "    <tr>\n",
       "      <th>4</th>\n",
       "      <td>1</td>\n",
       "      <td>4028.687306</td>\n",
       "      <td>26.265803</td>\n",
       "      <td>2021-08-28</td>\n",
       "    </tr>\n",
       "  </tbody>\n",
       "</table>\n",
       "</div>"
      ],
      "text/plain": [
       "   user_id     distance   duration        date\n",
       "0        1  4409.919140  25.599769  2021-01-01\n",
       "1        1  2617.592153  15.816871  2021-01-18\n",
       "2        1   754.159807   6.232113  2021-04-20\n",
       "3        1  2694.783254  18.511000  2021-08-11\n",
       "4        1  4028.687306  26.265803  2021-08-28"
      ]
     },
     "execution_count": 6,
     "metadata": {},
     "output_type": "execute_result"
    }
   ],
   "source": [
    "df_rides_go.head()"
   ]
  },
  {
   "cell_type": "markdown",
   "id": "e689ea7a",
   "metadata": {},
   "source": [
    "Данные, которые хранятся в этом датафрейме \n",
    "* `user_id` - уникальный идентификатор пользователя;\n",
    "* `distance` - расстояние, которое пользователь проехал в текущей сессии (в метрах);\n",
    "* `duration` - продолжительность сессии (в минутах) — время с того момента, как пользователь нажал кнопку «Начать поездку» до момента, как он нажал кнопку «Завершить поездку»;\n",
    "* `date` - дата совершения поездки."
   ]
  },
  {
   "cell_type": "code",
   "execution_count": 7,
   "id": "37eb1697",
   "metadata": {},
   "outputs": [
    {
     "name": "stdout",
     "output_type": "stream",
     "text": [
      "<class 'pandas.core.frame.DataFrame'>\n",
      "RangeIndex: 2 entries, 0 to 1\n",
      "Data columns (total 4 columns):\n",
      " #   Column             Non-Null Count  Dtype \n",
      "---  ------             --------------  ----- \n",
      " 0   subscription_type  2 non-null      object\n",
      " 1   minute_price       2 non-null      int64 \n",
      " 2   start_ride_price   2 non-null      int64 \n",
      " 3   subscription_fee   2 non-null      int64 \n",
      "dtypes: int64(3), object(1)\n",
      "memory usage: 192.0+ bytes\n"
     ]
    }
   ],
   "source": [
    "df_subscriptions_go.info()\n"
   ]
  },
  {
   "cell_type": "code",
   "execution_count": 8,
   "id": "ef7264a5",
   "metadata": {},
   "outputs": [
    {
     "data": {
      "text/html": [
       "<div>\n",
       "<style scoped>\n",
       "    .dataframe tbody tr th:only-of-type {\n",
       "        vertical-align: middle;\n",
       "    }\n",
       "\n",
       "    .dataframe tbody tr th {\n",
       "        vertical-align: top;\n",
       "    }\n",
       "\n",
       "    .dataframe thead th {\n",
       "        text-align: right;\n",
       "    }\n",
       "</style>\n",
       "<table border=\"1\" class=\"dataframe\">\n",
       "  <thead>\n",
       "    <tr style=\"text-align: right;\">\n",
       "      <th></th>\n",
       "      <th>subscription_type</th>\n",
       "      <th>minute_price</th>\n",
       "      <th>start_ride_price</th>\n",
       "      <th>subscription_fee</th>\n",
       "    </tr>\n",
       "  </thead>\n",
       "  <tbody>\n",
       "    <tr>\n",
       "      <th>0</th>\n",
       "      <td>free</td>\n",
       "      <td>8</td>\n",
       "      <td>50</td>\n",
       "      <td>0</td>\n",
       "    </tr>\n",
       "    <tr>\n",
       "      <th>1</th>\n",
       "      <td>ultra</td>\n",
       "      <td>6</td>\n",
       "      <td>0</td>\n",
       "      <td>199</td>\n",
       "    </tr>\n",
       "  </tbody>\n",
       "</table>\n",
       "</div>"
      ],
      "text/plain": [
       "  subscription_type  minute_price  start_ride_price  subscription_fee\n",
       "0              free             8                50                 0\n",
       "1             ultra             6                 0               199"
      ]
     },
     "execution_count": 8,
     "metadata": {},
     "output_type": "execute_result"
    }
   ],
   "source": [
    "df_subscriptions_go.head()"
   ]
  },
  {
   "cell_type": "markdown",
   "id": "6db7b270",
   "metadata": {},
   "source": [
    "Данные, которые хранятся в этом датафрейме \n",
    "* `subscription_type`\t- тип подписки;\n",
    "* `minute_price`\t- стоимость одной минуты поездки по данной подписке;\n",
    "* `start_ride_price`\t- стоимость начала поездки;\n",
    "* `subscription_fee`\t- стоимость ежемесячного платежа."
   ]
  },
  {
   "cell_type": "markdown",
   "id": "836e70ec",
   "metadata": {},
   "source": [
    "### Вывод:\n",
    "- В нашем распоряжении 3 датафрейма. С информацией о пользователях, их поездках и типе подписке \n",
    "- В датафрейме есть некорректный тип данных, необходимо исправить\n",
    "-  Проверить наличие пропусков и дубликатов "
   ]
  },
  {
   "cell_type": "markdown",
   "id": "3f151884",
   "metadata": {},
   "source": [
    "<div class=\"alert alert-success\">\n",
    "<h2> Комментарий ревьюера 😊 <a class=\"tocSkip\"> </h2>\n",
    "\n",
    "Соглашусь с твоими выводами после первого знакомства с данными! Основной фронт работы определен, проблемы в данных выявлены, давай посмотрим, что у тебя получилось на последующих шагах👀\n",
    "</div>"
   ]
  },
  {
   "cell_type": "markdown",
   "id": "e95ebca7",
   "metadata": {},
   "source": [
    "## Этап 2. Предобработка данных"
   ]
  },
  {
   "cell_type": "markdown",
   "id": "a3a7d6b7",
   "metadata": {},
   "source": [
    "### Изменение типа данных"
   ]
  },
  {
   "cell_type": "code",
   "execution_count": 9,
   "id": "758e1bdc",
   "metadata": {},
   "outputs": [
    {
     "name": "stdout",
     "output_type": "stream",
     "text": [
      "<class 'pandas.core.frame.DataFrame'>\n",
      "RangeIndex: 18068 entries, 0 to 18067\n",
      "Data columns (total 4 columns):\n",
      " #   Column    Non-Null Count  Dtype         \n",
      "---  ------    --------------  -----         \n",
      " 0   user_id   18068 non-null  int64         \n",
      " 1   distance  18068 non-null  float64       \n",
      " 2   duration  18068 non-null  float64       \n",
      " 3   date      18068 non-null  datetime64[ns]\n",
      "dtypes: datetime64[ns](1), float64(2), int64(1)\n",
      "memory usage: 564.8 KB\n"
     ]
    }
   ],
   "source": [
    "df_rides_go['date'] = pd.to_datetime(df_rides_go['date'])\n",
    "df_rides_go.info()"
   ]
  },
  {
   "cell_type": "markdown",
   "id": "615a3522",
   "metadata": {},
   "source": [
    "Создание столбца на основе нового типа данных"
   ]
  },
  {
   "cell_type": "code",
   "execution_count": 10,
   "id": "a07f8bca",
   "metadata": {},
   "outputs": [
    {
     "data": {
      "text/html": [
       "<div>\n",
       "<style scoped>\n",
       "    .dataframe tbody tr th:only-of-type {\n",
       "        vertical-align: middle;\n",
       "    }\n",
       "\n",
       "    .dataframe tbody tr th {\n",
       "        vertical-align: top;\n",
       "    }\n",
       "\n",
       "    .dataframe thead th {\n",
       "        text-align: right;\n",
       "    }\n",
       "</style>\n",
       "<table border=\"1\" class=\"dataframe\">\n",
       "  <thead>\n",
       "    <tr style=\"text-align: right;\">\n",
       "      <th></th>\n",
       "      <th>user_id</th>\n",
       "      <th>distance</th>\n",
       "      <th>duration</th>\n",
       "      <th>date</th>\n",
       "      <th>month</th>\n",
       "    </tr>\n",
       "  </thead>\n",
       "  <tbody>\n",
       "    <tr>\n",
       "      <th>0</th>\n",
       "      <td>1</td>\n",
       "      <td>4409.919140</td>\n",
       "      <td>25.599769</td>\n",
       "      <td>2021-01-01</td>\n",
       "      <td>1</td>\n",
       "    </tr>\n",
       "    <tr>\n",
       "      <th>1</th>\n",
       "      <td>1</td>\n",
       "      <td>2617.592153</td>\n",
       "      <td>15.816871</td>\n",
       "      <td>2021-01-18</td>\n",
       "      <td>1</td>\n",
       "    </tr>\n",
       "    <tr>\n",
       "      <th>2</th>\n",
       "      <td>1</td>\n",
       "      <td>754.159807</td>\n",
       "      <td>6.232113</td>\n",
       "      <td>2021-04-20</td>\n",
       "      <td>4</td>\n",
       "    </tr>\n",
       "    <tr>\n",
       "      <th>3</th>\n",
       "      <td>1</td>\n",
       "      <td>2694.783254</td>\n",
       "      <td>18.511000</td>\n",
       "      <td>2021-08-11</td>\n",
       "      <td>8</td>\n",
       "    </tr>\n",
       "    <tr>\n",
       "      <th>4</th>\n",
       "      <td>1</td>\n",
       "      <td>4028.687306</td>\n",
       "      <td>26.265803</td>\n",
       "      <td>2021-08-28</td>\n",
       "      <td>8</td>\n",
       "    </tr>\n",
       "  </tbody>\n",
       "</table>\n",
       "</div>"
      ],
      "text/plain": [
       "   user_id     distance   duration       date  month\n",
       "0        1  4409.919140  25.599769 2021-01-01      1\n",
       "1        1  2617.592153  15.816871 2021-01-18      1\n",
       "2        1   754.159807   6.232113 2021-04-20      4\n",
       "3        1  2694.783254  18.511000 2021-08-11      8\n",
       "4        1  4028.687306  26.265803 2021-08-28      8"
      ]
     },
     "execution_count": 10,
     "metadata": {},
     "output_type": "execute_result"
    }
   ],
   "source": [
    "df_rides_go['month'] = df_rides_go['date'].dt.month\n",
    "df_rides_go.head()"
   ]
  },
  {
   "cell_type": "markdown",
   "id": "94325074",
   "metadata": {},
   "source": [
    "<div class=\"alert alert-warning\">\n",
    "<h2> Комментарий ревьюера 🤓<a class=\"tocSkip\"> </h2>\n",
    "    \n",
    "Будет хорошо проверить за какой период представлены данные, чтобы убедиться что данные за несколько лет не склеиются при агрегации по месяцам."
   ]
  },
  {
   "cell_type": "markdown",
   "id": "8c5cdf91",
   "metadata": {},
   "source": [
    "### Проверка дубликатов"
   ]
  },
  {
   "cell_type": "code",
   "execution_count": 11,
   "id": "1ff05f5a",
   "metadata": {},
   "outputs": [
    {
     "name": "stdout",
     "output_type": "stream",
     "text": [
      "Количество дубликатов в датафрейме df_users_go: 31\n",
      "Количество дубликатов в датафрейме df_rides_go: 0\n",
      "Количество дубликатов в датафрейме df_subscriptions_go: 0\n"
     ]
    }
   ],
   "source": [
    "data_frame = [df_users_go, df_rides_go, df_subscriptions_go]\n",
    "\n",
    "for data in data_frame:\n",
    "    #создаем словарь, где ключ - название переменной, чтобы название переменной передать в f-строку\n",
    "    data_name = [key for key, value in locals().items() if value is data][0]\n",
    "    print(f'Количество дубликатов в датафрейме {data_name}: {data.duplicated().sum()}')\n",
    "    \n",
    "    \n"
   ]
  },
  {
   "cell_type": "markdown",
   "id": "f89a89d7",
   "metadata": {},
   "source": [
    "Удалим дубликаты из датафрейма `df_users_go`"
   ]
  },
  {
   "cell_type": "code",
   "execution_count": 12,
   "id": "3aaac1c2",
   "metadata": {},
   "outputs": [],
   "source": [
    "df_users_go.drop_duplicates(inplace=True)"
   ]
  },
  {
   "cell_type": "code",
   "execution_count": 13,
   "id": "af6d202c",
   "metadata": {},
   "outputs": [
    {
     "name": "stdout",
     "output_type": "stream",
     "text": [
      "количество дубликатов в датафрейме df_users_go: 0\n"
     ]
    }
   ],
   "source": [
    "print(f'количество дубликатов в датафрейме df_users_go: {df_users_go.duplicated().sum()}')"
   ]
  },
  {
   "cell_type": "markdown",
   "id": "fa86909e",
   "metadata": {},
   "source": [
    "### Удаление пропусков"
   ]
  },
  {
   "cell_type": "code",
   "execution_count": 14,
   "id": "da7849d9",
   "metadata": {},
   "outputs": [
    {
     "name": "stdout",
     "output_type": "stream",
     "text": [
      "прошущенные значения в df_users_go:\n",
      " user_id              0\n",
      "name                 0\n",
      "age                  0\n",
      "city                 0\n",
      "subscription_type    0\n",
      "dtype: int64\n",
      "\n",
      "прошущенные значения в df_rides_go:\n",
      " user_id     0\n",
      "distance    0\n",
      "duration    0\n",
      "date        0\n",
      "month       0\n",
      "dtype: int64\n",
      "\n",
      "прошущенные значения в df_subscriptions_go:\n",
      " subscription_type    0\n",
      "minute_price         0\n",
      "start_ride_price     0\n",
      "subscription_fee     0\n",
      "dtype: int64\n",
      "\n"
     ]
    }
   ],
   "source": [
    "for data in data_frame:\n",
    "    data_name = [key for key, value in locals().items() if value is data][0]\n",
    "    print(f'прошущенные значения в {data_name}:\\n {data.isnull().sum().sort_values()}')\n",
    "    print()\n",
    "\n"
   ]
  },
  {
   "cell_type": "markdown",
   "id": "13ba843c",
   "metadata": {},
   "source": [
    "### Вывод\n",
    "- Пропуски не обнаружены \n",
    "- В датафрейме `df_users_go` удалили дублкаты \n",
    "- В датафрейме `df_rides_go` поменяли тип данных в столбце `date` и создали на его основе столбец с месяцами"
   ]
  },
  {
   "cell_type": "markdown",
   "id": "4e348297",
   "metadata": {},
   "source": [
    "<div class=\"alert alert-success\">\n",
    "<h2> Комментарий ревьюера 😊 <a class=\"tocSkip\"> </h2>\n",
    "\n",
    "Блок предобработки выполнен хорошо: необходимые столбцы добавлены, типы скорректированы, есть проверка на пропуски и дубликаты, молодец)\n",
    "</div>"
   ]
  },
  {
   "cell_type": "markdown",
   "id": "212593c7",
   "metadata": {},
   "source": [
    "## Шаг 3. Исследовательский анализ данных"
   ]
  },
  {
   "cell_type": "markdown",
   "id": "e93fc587",
   "metadata": {},
   "source": [
    "### Частота встречаемости городов\n"
   ]
  },
  {
   "cell_type": "code",
   "execution_count": 15,
   "id": "7792a064",
   "metadata": {},
   "outputs": [
    {
     "data": {
      "image/png": "[encoded data removed]",
      "text/plain": [
       "<Figure size 720x432 with 1 Axes>"
      ]
     },
     "metadata": {
      "needs_background": "light"
     },
     "output_type": "display_data"
    }
   ],
   "source": [
    "#построим график частоты встречаемости городов\n",
    "plt.figure(figsize=(10, 6))\n",
    "city_count = df_users_go['city'].value_counts()\n",
    "#сделаем преобразование Series в DataFrame, чтобы можно было построить график через seaborn\n",
    "df_city_count = city_count.reset_index()\n",
    "df_city_count.columns = ['city', 'count']\n",
    "sns.barplot(x = 'city', y = 'count', data = df_city_count)\n",
    "plt.xticks(rotation=45)\n",
    "plt.title('Частота встречаемости городов', fontsize=15)\n",
    "plt.xlabel('Название городов')\n",
    "plt.ylabel('Количество пользователей')\n",
    "plt.show()\n"
   ]
  },
  {
   "cell_type": "code",
   "execution_count": 16,
   "id": "0520ad31",
   "metadata": {},
   "outputs": [
    {
     "data": {
      "text/plain": [
       "Пятигорск         219\n",
       "Екатеринбург      204\n",
       "Ростов-на-Дону    198\n",
       "Краснодар         193\n",
       "Сочи              189\n",
       "Омск              183\n",
       "Тюмень            180\n",
       "Москва            168\n",
       "Name: city, dtype: int64"
      ]
     },
     "execution_count": 16,
     "metadata": {},
     "output_type": "execute_result"
    }
   ],
   "source": [
    "#Выведем информацию о частоте встречаемости городов\n",
    "city_count"
   ]
  },
  {
   "cell_type": "markdown",
   "id": "1910a364",
   "metadata": {},
   "source": [
    "Наибольшее количество пользователей в городе Пятигорск, больше 200. Наименьшее количество в Москве, чуть больше 150. "
   ]
  },
  {
   "cell_type": "markdown",
   "id": "8878c3ac",
   "metadata": {},
   "source": [
    "<div class=\"alert alert-success\">\n",
    "<h2> Комментарий ревьюера 😊 <a class=\"tocSkip\"> </h2>\n",
    "\n",
    "Хорошо)"
   ]
  },
  {
   "cell_type": "markdown",
   "id": "f70d22f2",
   "metadata": {},
   "source": [
    "### Соотношение пользователей с подпиской и без подписки"
   ]
  },
  {
   "cell_type": "code",
   "execution_count": 17,
   "id": "88bc5889",
   "metadata": {},
   "outputs": [
    {
     "data": {
      "image/png": "[encoded data removed]",
      "text/plain": [
       "<Figure size 720x432 with 1 Axes>"
      ]
     },
     "metadata": {},
     "output_type": "display_data"
    }
   ],
   "source": [
    "#Построим круговую диаграмму для соотношения пользователей с подпиской и без нее\n",
    "subscription_count = df_users_go['subscription_type'].value_counts()\n",
    "#Преобразуем Series в DataFrame\n",
    "df_subscription_count = subscription_count.reset_index()\n",
    "df_subscription_count.columns = ['sub', 'count']\n",
    "colors = sns.color_palette('pastel')[ 0:5 ]\n",
    "plt.figure(figsize=(10, 6))\n",
    "plt.pie(df_subscription_count['count'], colors = colors, autopct='%.0f%%')\n",
    "plt.legend(labels=df_subscription_count['sub'], title='Legend')\n",
    "plt.title('Отношение пользователей с подпиской и без нее')\n",
    "plt.show()\n",
    "\n"
   ]
  },
  {
   "cell_type": "markdown",
   "id": "3f34aeba",
   "metadata": {},
   "source": [
    "Количество пользователей с подпиской и без подписки не одинаковое. Пользователей без подписки больше. Количество пользователей с подпиской 46%, а без подписки 54%. "
   ]
  },
  {
   "cell_type": "markdown",
   "id": "9d7f98a8",
   "metadata": {},
   "source": [
    "<div class=\"alert alert-warning\">\n",
    "<h2> Комментарий ревьюера 🤓<a class=\"tocSkip\"> </h2>\n",
    "\n",
    "Будет хорошо добавить и кол-во клиентов"
   ]
  },
  {
   "cell_type": "markdown",
   "id": "8bebcc1a",
   "metadata": {},
   "source": [
    "###  Возраст пользователей"
   ]
  },
  {
   "cell_type": "code",
   "execution_count": 18,
   "id": "de395d94",
   "metadata": {},
   "outputs": [
    {
     "data": {
      "image/png": "[encoded data removed]",
      "text/plain": [
       "<Figure size 720x432 with 1 Axes>"
      ]
     },
     "metadata": {
      "needs_background": "light"
     },
     "output_type": "display_data"
    }
   ],
   "source": [
    "plt.figure(figsize=(10, 6))\n",
    "age_users = df_users_go['age'].value_counts()\n",
    "df_age_users = age_users.reset_index()\n",
    "df_age_users.columns = ['age', 'count']\n",
    "sns.barplot(x = 'age', y = 'count', data = df_age_users, color = 'blue')\n",
    "plt.title('Возраст пользователей', fontsize = 15)\n",
    "plt.xticks(rotation=45)\n",
    "plt.xlabel('Возраст')\n",
    "plt.ylabel('Количество пользователей')\n",
    "\n",
    "plt.show()"
   ]
  },
  {
   "cell_type": "markdown",
   "id": "5d8c9bee",
   "metadata": {},
   "source": [
    "В возрасте пользователей замечено нормальное распределение. Больше всего пользователей в возрасте 25 лет. Справа и слева от этого возраста количество пользователей плавно уменьшается. Левая сторона колокола заканчививается 12 годами, таких пользователей меньше 20. А правая сторона колокола заканчивается 43 годами. Таких пользователей тоже меньше 20 человек. Вероятно это связано с тем, что подросткам не разрешают пользоваться самокатами родители, так как это травмоопасно. А более старшее поколение также боится получению травм"
   ]
  },
  {
   "cell_type": "markdown",
   "id": "0e2be1e7",
   "metadata": {},
   "source": [
    "<div class=\"alert alert-warning\">\n",
    "<h2> Комментарий ревьюера 🤓<a class=\"tocSkip\"> </h2>\n",
    "\n",
    "Можно построить боксплот и использовать метод describe() для расчета описательных статистик."
   ]
  },
  {
   "cell_type": "markdown",
   "id": "fac04bd3",
   "metadata": {},
   "source": [
    " ### Расстояние, которое пользователь преодолел за поездку "
   ]
  },
  {
   "cell_type": "code",
   "execution_count": 19,
   "id": "37c4abdb",
   "metadata": {},
   "outputs": [
    {
     "data": {
      "text/plain": [
       "count    18068.000000\n",
       "mean      3070.659976\n",
       "std       1116.831209\n",
       "min          0.855683\n",
       "25%       2543.226360\n",
       "50%       3133.609994\n",
       "75%       3776.222735\n",
       "max       7211.007745\n",
       "Name: distance, dtype: float64"
      ]
     },
     "execution_count": 19,
     "metadata": {},
     "output_type": "execute_result"
    }
   ],
   "source": [
    "df_rides_go['distance'].describe()"
   ]
  },
  {
   "cell_type": "code",
   "execution_count": 20,
   "id": "9b8dbf92",
   "metadata": {},
   "outputs": [
    {
     "data": {
      "image/png": "[encoded data removed]",
      "text/plain": [
       "<Figure size 720x432 with 1 Axes>"
      ]
     },
     "metadata": {},
     "output_type": "display_data"
    }
   ],
   "source": [
    "#построим гистограмму\n",
    "sns.set(style=\"darkgrid\")\n",
    "plt.figure(figsize=(10, 6))\n",
    "sns.histplot(data=df_rides_go, x='distance', color='blue')\n",
    "plt.title('Расстояние, которое пользователь преодолевает за поездку ')\n",
    "plt.xlabel('Расстояние')\n",
    "plt.ylabel('Количество пользователей')\n",
    "plt.show()\n",
    "None"
   ]
  },
  {
   "cell_type": "markdown",
   "id": "456f7c59",
   "metadata": {},
   "source": [
    "Среднее значение дистанции составляет около 3070,66. Это означает, что в среднем каждый пользователь преодолевает примерно 3070,66 метров на самокате.\n",
    "\n",
    "Стандартное отклонение равно 1116,83. В нашем случае, стандартное отклонение указывает на большой разброс о дистанциях, которые пользователи преодолевают на самокате.\n",
    "\n",
    "Минимальное значение дистанции составляет 0,855683, что указывает на случаи, когда пользователь почти не преодолевал расстояние на самокате.\n",
    "\n",
    "Медиана (50-й процентиль) равна 3133,61. Это значение показывает, что 50% пользователей преодолели меньше 3133,61 метров, а остальные 50% преодолели больше этой дистанции.\n",
    "\n",
    "Первый и третий квартили (25-й и 75-й процентили) равны соответственно 2543,23 и 3776,22. Это значения, которые показывают, что 25% пользователей преодолели менее 2543,23 метров, а 25% пользователей преодолели более 3776,22 метров.\n",
    "\n",
    "Максимальное значение дистанции равно 7211,01, что указывает на случаи, когда пользователь преодолел наибольшую дистанцию на самокате. "
   ]
  },
  {
   "cell_type": "markdown",
   "id": "4e9465a6",
   "metadata": {},
   "source": [
    " ### Продолжительность поездки"
   ]
  },
  {
   "cell_type": "code",
   "execution_count": 21,
   "id": "b7a147ac",
   "metadata": {},
   "outputs": [
    {
     "data": {
      "text/plain": [
       "count    18068.000000\n",
       "mean        17.805011\n",
       "std          6.091051\n",
       "min          0.500000\n",
       "25%         13.597563\n",
       "50%         17.678395\n",
       "75%         21.724800\n",
       "max         40.823963\n",
       "Name: duration, dtype: float64"
      ]
     },
     "execution_count": 21,
     "metadata": {},
     "output_type": "execute_result"
    }
   ],
   "source": [
    "df_rides_go['duration'].describe()"
   ]
  },
  {
   "cell_type": "code",
   "execution_count": 22,
   "id": "ad646452",
   "metadata": {},
   "outputs": [
    {
     "data": {
      "image/png": "[encoded data removed]",
      "text/plain": [
       "<Figure size 720x432 with 1 Axes>"
      ]
     },
     "metadata": {},
     "output_type": "display_data"
    }
   ],
   "source": [
    "#построим гистограмму\n",
    "sns.set(style=\"darkgrid\")\n",
    "plt.figure(figsize=(10, 6))\n",
    "sns.histplot(data=df_rides_go, x='duration', color='blue')\n",
    "plt.title('Время поездки', fontsize=15)\n",
    "plt.xlabel('Длительность')\n",
    "plt.ylabel('Количество пользователей')\n",
    "plt.show()\n",
    "None"
   ]
  },
  {
   "cell_type": "markdown",
   "id": "ff858b1a",
   "metadata": {},
   "source": [
    "Среднее значение дистанции составляет около 17 минут. Это означает, что в среднем длительность каждой поездки в среднем составляет 17 минут. \n",
    "\n",
    "Стандартное отклонение равно 6 мину. В нашем случае, стандартное отклонение не очень большое. \n",
    "\n",
    "Минимальное значение времени поездки составляет 0,5 минут, что указывает на случаи, когда пользователь почти сразу решил не использовать самокат.\n",
    "\n",
    "Медиана (50-й процентиль) равна 17 минутам. Это значение показывает, что 50% пользователей катались на самокате больше 17 минут, а остальные больше. \n",
    "\n",
    "Первый и третий квартили (25-й и 75-й процентили) равны соответственно 13 и 21. Это значения, которые показывают, что 25% пользователей использовали самокат менее 13 минут, а 25% пользователей преодолели более 21 минуты.\n",
    "\n",
    "Максимальное значение дистанции равно 40 минутам, что указывает на случаи, когда пользователи пользовались самокатом больше всего. "
   ]
  },
  {
   "cell_type": "markdown",
   "id": "099be080",
   "metadata": {},
   "source": [
    "### Вывод \n",
    "- Больше весго пользователей в Пятигорске и меньше всего в Москве \n",
    "- Без подписки примерно на 10% больше чем с подпиской\n",
    "- Средний возраст пользователей самокатов 25 лет. Минимальный возраст 12 лет, а максимальный 40. Распределение нормальное \n",
    "- В среднем пользователи преодолевают расстояние в 3км на самокате, а по длительности это занимает 17 минут. "
   ]
  },
  {
   "cell_type": "markdown",
   "id": "0236ca8d",
   "metadata": {},
   "source": [
    "<div class=\"alert alert-success\">\n",
    "<h2> Комментарий ревьюера 😊<a class=\"tocSkip\"> </h2>\n",
    "\n",
    "Хорошая работа по исследовательскому анализу) Молодец, что используешь .describe() в анализе."
   ]
  },
  {
   "cell_type": "markdown",
   "id": "4ef51331",
   "metadata": {},
   "source": [
    "## Шаг 4. Объединение данных"
   ]
  },
  {
   "cell_type": "markdown",
   "id": "db816530",
   "metadata": {},
   "source": [
    "### Объединие данных о пользователях, поездках и подписках в один датафрейм"
   ]
  },
  {
   "cell_type": "code",
   "execution_count": 23,
   "id": "6bf288b5",
   "metadata": {},
   "outputs": [
    {
     "data": {
      "text/html": [
       "<div>\n",
       "<style scoped>\n",
       "    .dataframe tbody tr th:only-of-type {\n",
       "        vertical-align: middle;\n",
       "    }\n",
       "\n",
       "    .dataframe tbody tr th {\n",
       "        vertical-align: top;\n",
       "    }\n",
       "\n",
       "    .dataframe thead th {\n",
       "        text-align: right;\n",
       "    }\n",
       "</style>\n",
       "<table border=\"1\" class=\"dataframe\">\n",
       "  <thead>\n",
       "    <tr style=\"text-align: right;\">\n",
       "      <th></th>\n",
       "      <th>user_id</th>\n",
       "      <th>name</th>\n",
       "      <th>age</th>\n",
       "      <th>city</th>\n",
       "      <th>subscription_type</th>\n",
       "      <th>distance</th>\n",
       "      <th>duration</th>\n",
       "      <th>date</th>\n",
       "      <th>month</th>\n",
       "      <th>minute_price</th>\n",
       "      <th>start_ride_price</th>\n",
       "      <th>subscription_fee</th>\n",
       "    </tr>\n",
       "  </thead>\n",
       "  <tbody>\n",
       "    <tr>\n",
       "      <th>0</th>\n",
       "      <td>1</td>\n",
       "      <td>Кира</td>\n",
       "      <td>22</td>\n",
       "      <td>Тюмень</td>\n",
       "      <td>ultra</td>\n",
       "      <td>4409.919140</td>\n",
       "      <td>25.599769</td>\n",
       "      <td>2021-01-01</td>\n",
       "      <td>1</td>\n",
       "      <td>6</td>\n",
       "      <td>0</td>\n",
       "      <td>199</td>\n",
       "    </tr>\n",
       "    <tr>\n",
       "      <th>1</th>\n",
       "      <td>1</td>\n",
       "      <td>Кира</td>\n",
       "      <td>22</td>\n",
       "      <td>Тюмень</td>\n",
       "      <td>ultra</td>\n",
       "      <td>2617.592153</td>\n",
       "      <td>15.816871</td>\n",
       "      <td>2021-01-18</td>\n",
       "      <td>1</td>\n",
       "      <td>6</td>\n",
       "      <td>0</td>\n",
       "      <td>199</td>\n",
       "    </tr>\n",
       "    <tr>\n",
       "      <th>2</th>\n",
       "      <td>1</td>\n",
       "      <td>Кира</td>\n",
       "      <td>22</td>\n",
       "      <td>Тюмень</td>\n",
       "      <td>ultra</td>\n",
       "      <td>754.159807</td>\n",
       "      <td>6.232113</td>\n",
       "      <td>2021-04-20</td>\n",
       "      <td>4</td>\n",
       "      <td>6</td>\n",
       "      <td>0</td>\n",
       "      <td>199</td>\n",
       "    </tr>\n",
       "    <tr>\n",
       "      <th>3</th>\n",
       "      <td>1</td>\n",
       "      <td>Кира</td>\n",
       "      <td>22</td>\n",
       "      <td>Тюмень</td>\n",
       "      <td>ultra</td>\n",
       "      <td>2694.783254</td>\n",
       "      <td>18.511000</td>\n",
       "      <td>2021-08-11</td>\n",
       "      <td>8</td>\n",
       "      <td>6</td>\n",
       "      <td>0</td>\n",
       "      <td>199</td>\n",
       "    </tr>\n",
       "    <tr>\n",
       "      <th>4</th>\n",
       "      <td>1</td>\n",
       "      <td>Кира</td>\n",
       "      <td>22</td>\n",
       "      <td>Тюмень</td>\n",
       "      <td>ultra</td>\n",
       "      <td>4028.687306</td>\n",
       "      <td>26.265803</td>\n",
       "      <td>2021-08-28</td>\n",
       "      <td>8</td>\n",
       "      <td>6</td>\n",
       "      <td>0</td>\n",
       "      <td>199</td>\n",
       "    </tr>\n",
       "  </tbody>\n",
       "</table>\n",
       "</div>"
      ],
      "text/plain": [
       "   user_id  name  age    city subscription_type     distance   duration  \\\n",
       "0        1  Кира   22  Тюмень             ultra  4409.919140  25.599769   \n",
       "1        1  Кира   22  Тюмень             ultra  2617.592153  15.816871   \n",
       "2        1  Кира   22  Тюмень             ultra   754.159807   6.232113   \n",
       "3        1  Кира   22  Тюмень             ultra  2694.783254  18.511000   \n",
       "4        1  Кира   22  Тюмень             ultra  4028.687306  26.265803   \n",
       "\n",
       "        date  month  minute_price  start_ride_price  subscription_fee  \n",
       "0 2021-01-01      1             6                 0               199  \n",
       "1 2021-01-18      1             6                 0               199  \n",
       "2 2021-04-20      4             6                 0               199  \n",
       "3 2021-08-11      8             6                 0               199  \n",
       "4 2021-08-28      8             6                 0               199  "
      ]
     },
     "execution_count": 23,
     "metadata": {},
     "output_type": "execute_result"
    }
   ],
   "source": [
    "#объединяем последовательно. Сначала датафреймы о пользователях и поездках по общему столбцу\n",
    "#потом добавляем информацию о подписках по общему столбцу \n",
    "df_total = pd.merge(df_users_go, df_rides_go, on='user_id')\n",
    "df_total = pd.merge(df_total, df_subscriptions_go, on='subscription_type')\n",
    "df_total.head()"
   ]
  },
  {
   "cell_type": "markdown",
   "id": "2b3d305c",
   "metadata": {},
   "source": [
    "<div class=\"alert alert-block alert-danger\">\n",
    "<h2> Комментарий ревьюера ⛔️<a class=\"tocSkip\"></h2>\n",
    "    \n",
    "Необходимо провести проверку размерности датафрейма после объединения и проверку на пропуски в объединенном датасете."
   ]
  },
  {
   "cell_type": "markdown",
   "id": "2fb06a07",
   "metadata": {},
   "source": [
    "### Создание еще 2х датафреймов: c данными о пользователях без подписки и с подпиской"
   ]
  },
  {
   "cell_type": "code",
   "execution_count": 24,
   "id": "26aad035",
   "metadata": {},
   "outputs": [],
   "source": [
    "df_users_without_subscription = df_total[df_total['subscription_type'] == 'free']\n",
    "df_users_with_subscription = df_total[df_total['subscription_type'] == 'ultra']\n"
   ]
  },
  {
   "cell_type": "code",
   "execution_count": 25,
   "id": "771743ab",
   "metadata": {},
   "outputs": [
    {
     "data": {
      "text/html": [
       "<div>\n",
       "<style scoped>\n",
       "    .dataframe tbody tr th:only-of-type {\n",
       "        vertical-align: middle;\n",
       "    }\n",
       "\n",
       "    .dataframe tbody tr th {\n",
       "        vertical-align: top;\n",
       "    }\n",
       "\n",
       "    .dataframe thead th {\n",
       "        text-align: right;\n",
       "    }\n",
       "</style>\n",
       "<table border=\"1\" class=\"dataframe\">\n",
       "  <thead>\n",
       "    <tr style=\"text-align: right;\">\n",
       "      <th></th>\n",
       "      <th>user_id</th>\n",
       "      <th>name</th>\n",
       "      <th>age</th>\n",
       "      <th>city</th>\n",
       "      <th>subscription_type</th>\n",
       "      <th>distance</th>\n",
       "      <th>duration</th>\n",
       "      <th>date</th>\n",
       "      <th>month</th>\n",
       "      <th>minute_price</th>\n",
       "      <th>start_ride_price</th>\n",
       "      <th>subscription_fee</th>\n",
       "    </tr>\n",
       "  </thead>\n",
       "  <tbody>\n",
       "    <tr>\n",
       "      <th>6500</th>\n",
       "      <td>700</td>\n",
       "      <td>Айдар</td>\n",
       "      <td>22</td>\n",
       "      <td>Омск</td>\n",
       "      <td>free</td>\n",
       "      <td>2515.690719</td>\n",
       "      <td>14.944286</td>\n",
       "      <td>2021-01-02</td>\n",
       "      <td>1</td>\n",
       "      <td>8</td>\n",
       "      <td>50</td>\n",
       "      <td>0</td>\n",
       "    </tr>\n",
       "    <tr>\n",
       "      <th>6501</th>\n",
       "      <td>700</td>\n",
       "      <td>Айдар</td>\n",
       "      <td>22</td>\n",
       "      <td>Омск</td>\n",
       "      <td>free</td>\n",
       "      <td>846.932642</td>\n",
       "      <td>16.234663</td>\n",
       "      <td>2021-02-01</td>\n",
       "      <td>2</td>\n",
       "      <td>8</td>\n",
       "      <td>50</td>\n",
       "      <td>0</td>\n",
       "    </tr>\n",
       "    <tr>\n",
       "      <th>6502</th>\n",
       "      <td>700</td>\n",
       "      <td>Айдар</td>\n",
       "      <td>22</td>\n",
       "      <td>Омск</td>\n",
       "      <td>free</td>\n",
       "      <td>4004.434142</td>\n",
       "      <td>20.016628</td>\n",
       "      <td>2021-02-04</td>\n",
       "      <td>2</td>\n",
       "      <td>8</td>\n",
       "      <td>50</td>\n",
       "      <td>0</td>\n",
       "    </tr>\n",
       "    <tr>\n",
       "      <th>6503</th>\n",
       "      <td>700</td>\n",
       "      <td>Айдар</td>\n",
       "      <td>22</td>\n",
       "      <td>Омск</td>\n",
       "      <td>free</td>\n",
       "      <td>1205.911290</td>\n",
       "      <td>9.782872</td>\n",
       "      <td>2021-02-10</td>\n",
       "      <td>2</td>\n",
       "      <td>8</td>\n",
       "      <td>50</td>\n",
       "      <td>0</td>\n",
       "    </tr>\n",
       "    <tr>\n",
       "      <th>6504</th>\n",
       "      <td>700</td>\n",
       "      <td>Айдар</td>\n",
       "      <td>22</td>\n",
       "      <td>Омск</td>\n",
       "      <td>free</td>\n",
       "      <td>3047.379435</td>\n",
       "      <td>17.427673</td>\n",
       "      <td>2021-02-14</td>\n",
       "      <td>2</td>\n",
       "      <td>8</td>\n",
       "      <td>50</td>\n",
       "      <td>0</td>\n",
       "    </tr>\n",
       "  </tbody>\n",
       "</table>\n",
       "</div>"
      ],
      "text/plain": [
       "      user_id   name  age  city subscription_type     distance   duration  \\\n",
       "6500      700  Айдар   22  Омск              free  2515.690719  14.944286   \n",
       "6501      700  Айдар   22  Омск              free   846.932642  16.234663   \n",
       "6502      700  Айдар   22  Омск              free  4004.434142  20.016628   \n",
       "6503      700  Айдар   22  Омск              free  1205.911290   9.782872   \n",
       "6504      700  Айдар   22  Омск              free  3047.379435  17.427673   \n",
       "\n",
       "           date  month  minute_price  start_ride_price  subscription_fee  \n",
       "6500 2021-01-02      1             8                50                 0  \n",
       "6501 2021-02-01      2             8                50                 0  \n",
       "6502 2021-02-04      2             8                50                 0  \n",
       "6503 2021-02-10      2             8                50                 0  \n",
       "6504 2021-02-14      2             8                50                 0  "
      ]
     },
     "execution_count": 25,
     "metadata": {},
     "output_type": "execute_result"
    }
   ],
   "source": [
    "df_users_without_subscription.head()"
   ]
  },
  {
   "cell_type": "code",
   "execution_count": 26,
   "id": "e407b6ff",
   "metadata": {},
   "outputs": [
    {
     "data": {
      "text/html": [
       "<div>\n",
       "<style scoped>\n",
       "    .dataframe tbody tr th:only-of-type {\n",
       "        vertical-align: middle;\n",
       "    }\n",
       "\n",
       "    .dataframe tbody tr th {\n",
       "        vertical-align: top;\n",
       "    }\n",
       "\n",
       "    .dataframe thead th {\n",
       "        text-align: right;\n",
       "    }\n",
       "</style>\n",
       "<table border=\"1\" class=\"dataframe\">\n",
       "  <thead>\n",
       "    <tr style=\"text-align: right;\">\n",
       "      <th></th>\n",
       "      <th>user_id</th>\n",
       "      <th>name</th>\n",
       "      <th>age</th>\n",
       "      <th>city</th>\n",
       "      <th>subscription_type</th>\n",
       "      <th>distance</th>\n",
       "      <th>duration</th>\n",
       "      <th>date</th>\n",
       "      <th>month</th>\n",
       "      <th>minute_price</th>\n",
       "      <th>start_ride_price</th>\n",
       "      <th>subscription_fee</th>\n",
       "    </tr>\n",
       "  </thead>\n",
       "  <tbody>\n",
       "    <tr>\n",
       "      <th>0</th>\n",
       "      <td>1</td>\n",
       "      <td>Кира</td>\n",
       "      <td>22</td>\n",
       "      <td>Тюмень</td>\n",
       "      <td>ultra</td>\n",
       "      <td>4409.919140</td>\n",
       "      <td>25.599769</td>\n",
       "      <td>2021-01-01</td>\n",
       "      <td>1</td>\n",
       "      <td>6</td>\n",
       "      <td>0</td>\n",
       "      <td>199</td>\n",
       "    </tr>\n",
       "    <tr>\n",
       "      <th>1</th>\n",
       "      <td>1</td>\n",
       "      <td>Кира</td>\n",
       "      <td>22</td>\n",
       "      <td>Тюмень</td>\n",
       "      <td>ultra</td>\n",
       "      <td>2617.592153</td>\n",
       "      <td>15.816871</td>\n",
       "      <td>2021-01-18</td>\n",
       "      <td>1</td>\n",
       "      <td>6</td>\n",
       "      <td>0</td>\n",
       "      <td>199</td>\n",
       "    </tr>\n",
       "    <tr>\n",
       "      <th>2</th>\n",
       "      <td>1</td>\n",
       "      <td>Кира</td>\n",
       "      <td>22</td>\n",
       "      <td>Тюмень</td>\n",
       "      <td>ultra</td>\n",
       "      <td>754.159807</td>\n",
       "      <td>6.232113</td>\n",
       "      <td>2021-04-20</td>\n",
       "      <td>4</td>\n",
       "      <td>6</td>\n",
       "      <td>0</td>\n",
       "      <td>199</td>\n",
       "    </tr>\n",
       "    <tr>\n",
       "      <th>3</th>\n",
       "      <td>1</td>\n",
       "      <td>Кира</td>\n",
       "      <td>22</td>\n",
       "      <td>Тюмень</td>\n",
       "      <td>ultra</td>\n",
       "      <td>2694.783254</td>\n",
       "      <td>18.511000</td>\n",
       "      <td>2021-08-11</td>\n",
       "      <td>8</td>\n",
       "      <td>6</td>\n",
       "      <td>0</td>\n",
       "      <td>199</td>\n",
       "    </tr>\n",
       "    <tr>\n",
       "      <th>4</th>\n",
       "      <td>1</td>\n",
       "      <td>Кира</td>\n",
       "      <td>22</td>\n",
       "      <td>Тюмень</td>\n",
       "      <td>ultra</td>\n",
       "      <td>4028.687306</td>\n",
       "      <td>26.265803</td>\n",
       "      <td>2021-08-28</td>\n",
       "      <td>8</td>\n",
       "      <td>6</td>\n",
       "      <td>0</td>\n",
       "      <td>199</td>\n",
       "    </tr>\n",
       "  </tbody>\n",
       "</table>\n",
       "</div>"
      ],
      "text/plain": [
       "   user_id  name  age    city subscription_type     distance   duration  \\\n",
       "0        1  Кира   22  Тюмень             ultra  4409.919140  25.599769   \n",
       "1        1  Кира   22  Тюмень             ultra  2617.592153  15.816871   \n",
       "2        1  Кира   22  Тюмень             ultra   754.159807   6.232113   \n",
       "3        1  Кира   22  Тюмень             ultra  2694.783254  18.511000   \n",
       "4        1  Кира   22  Тюмень             ultra  4028.687306  26.265803   \n",
       "\n",
       "        date  month  minute_price  start_ride_price  subscription_fee  \n",
       "0 2021-01-01      1             6                 0               199  \n",
       "1 2021-01-18      1             6                 0               199  \n",
       "2 2021-04-20      4             6                 0               199  \n",
       "3 2021-08-11      8             6                 0               199  \n",
       "4 2021-08-28      8             6                 0               199  "
      ]
     },
     "execution_count": 26,
     "metadata": {},
     "output_type": "execute_result"
    }
   ],
   "source": [
    "df_users_with_subscription.head()"
   ]
  },
  {
   "cell_type": "markdown",
   "id": "db59ba1a",
   "metadata": {},
   "source": [
    "### Визуализация данных о пользователях с подпиской и без"
   ]
  },
  {
   "cell_type": "code",
   "execution_count": 27,
   "id": "72d15249",
   "metadata": {},
   "outputs": [
    {
     "data": {
      "image/png": "[encoded data removed]",
      "text/plain": [
       "<Figure size 864x576 with 4 Axes>"
      ]
     },
     "metadata": {},
     "output_type": "display_data"
    }
   ],
   "source": [
    "sns.set(style=\"darkgrid\")\n",
    "#задаем поле для отображения 4х графиков\n",
    "fig, axes = plt.subplots(2, 2, figsize=(12, 8))\n",
    "#делаем массив одномерным для удобства\n",
    "axes = axes.flatten()\n",
    "#размещаем графики\n",
    "axes[0].hist(df_users_without_subscription['distance'], bins=20, label='Без подписки')\n",
    "axes[2].hist(df_users_with_subscription['distance'], bins=20, label=' C подпиской')\n",
    "axes[1].hist(df_users_without_subscription['duration'], bins=20, label='Без подписки')\n",
    "axes[3].hist(df_users_with_subscription['duration'], bins=20, label='С подписки')\n",
    "\n",
    "#задаем легенду\n",
    "for i in range(0, 4):\n",
    "    axes[i].legend()\n",
    "    if i % 2 == 0:\n",
    "        axes[i].set_title('Распределение расстоянии поездок')\n",
    "    else:\n",
    "        axes[i].set_title('Распределение времени поездок')\n",
    "\n",
    "\n",
    "plt.show()"
   ]
  },
  {
   "cell_type": "markdown",
   "id": "edda33ab",
   "metadata": {},
   "source": [
    "<div class=\"alert alert-warning\">\n",
    "<h2> Комментарий ревьюера 🤓<a class=\"tocSkip\"> </h2>\n",
    "    \n",
    "Будет здорово совместить графики распределений для более наглядного сравнения."
   ]
  },
  {
   "cell_type": "code",
   "execution_count": 28,
   "id": "32f990e4",
   "metadata": {},
   "outputs": [
    {
     "name": "stdout",
     "output_type": "stream",
     "text": [
      "Расстояние\n",
      "       Без подписки  С подпиской\n",
      "count  11568.000000  6500.000000\n",
      "mean    3045.495282  3115.445388\n",
      "std     1246.173806   836.895330\n",
      "min        0.855683   244.210438\n",
      "25%     2366.562689  2785.444017\n",
      "50%     3114.648465  3148.637229\n",
      "75%     3905.697894  3560.574425\n",
      "max     7211.007745  5699.769662\n",
      "\n",
      "Время\n",
      "       Без подписки  С подпиской\n",
      "count  11568.000000  6500.000000\n",
      "mean      17.390909    18.541985\n",
      "std        6.326803     5.572048\n",
      "min        0.500000     3.760353\n",
      "25%       12.958437    14.524654\n",
      "50%       17.326890    18.178153\n",
      "75%       21.594071    21.884129\n",
      "max       34.948498    40.823963\n"
     ]
    }
   ],
   "source": [
    "\n",
    "df_distance = pd.DataFrame({'Без подписки': df_users_without_subscription['distance'].describe(),\n",
    "                       'С подпиской': df_users_with_subscription['distance'].describe()})\n",
    "\n",
    "df_duration = pd.DataFrame({'Без подписки': df_users_without_subscription['duration'].describe(),\n",
    "                       'С подпиской': df_users_with_subscription['duration'].describe()})\n",
    "\n",
    "print(\"Расстояние\")\n",
    "print(df_distance)\n",
    "print()\n",
    "print(\"Время\")\n",
    "print(df_duration)"
   ]
  },
  {
   "cell_type": "markdown",
   "id": "6e908612",
   "metadata": {},
   "source": [
    "Среднее значение расстояния без подписки составляет около 3045,5 метров, в то время как среднее значение расстояния с подпиской составляет около 3115,4 метров. Следовательно, в среднем пользователи с подпиской преодолевают немного большую дистанцию на самокате, чем пользователи без подписки.\n",
    "\n",
    "Стандартное отклонение для расстояния без подписки составляет около 1246,2, в то время как для расстояния с подпиской составляет около 836,9. Это указывает на больший разброс значений для расстояния без подписки по сравнению с расстоянием с подпиской.\n",
    "\n",
    "Минимальное значение расстояния без подписки составляет 0,855683, в то время как для расстояния с подпиской составляет 244,21. Это означает, что есть случаи, когда пользователи без подписки почти не преодолевали расстояние на самокате, в то время как пользователи с подпиской обычно преодолевали более значительные дистанции.\n",
    "\n",
    "Среднее значение времени без подписки составляет около 17,39 минут, в то время как среднее значение времени с подпиской составляет около 18,54 минут. Следовательно, в среднем пользователи с подпиской тратят немного больше времени на поездку на самокате, чем пользователи без подписки.\n",
    "\n",
    "Стандартное отклонение для времени без подписки составляет около 6,33, в то время как для времени с подпиской составляет около 5,57. Это указывает на небольшой разброс значений для времени без подписки по сравнению с временем с подпиской.\n",
    "\n",
    "Минимальное значение времени без подписки составляет 0,5 минуты, в то время как для времени с подпиской составляет 3,76 минуты. Это означает, что есть случаи, когда пользователи без подписки проводят очень мало времени на поездках на самокате, в то время как пользователи с подпиской обычно тратят больше времени.\n",
    "\n"
   ]
  },
  {
   "cell_type": "markdown",
   "id": "ca6fe874",
   "metadata": {},
   "source": [
    "<div class=\"alert alert-success\">\n",
    "<h2> Комментарий ревьюера 😊<a class=\"tocSkip\"> </h2>\n",
    "\n",
    "Молодец, что обращаешь внимание на сходства или различия профилей пользователей с платной и бесплатной подписками."
   ]
  },
  {
   "cell_type": "markdown",
   "id": "402d620f",
   "metadata": {},
   "source": [
    "## Шаг 5. Подсчёт выручки"
   ]
  },
  {
   "cell_type": "markdown",
   "id": "0611c127",
   "metadata": {},
   "source": [
    "### Создание датафрейма с агрегированными данными о поездках на основе датафрейма с объединёнными данными из шага 4: поиск суммарного расстояния, количества поездок и суммарное время для каждого пользователя за каждый месяц.\n"
   ]
  },
  {
   "cell_type": "code",
   "execution_count": 29,
   "id": "53049e0a",
   "metadata": {},
   "outputs": [
    {
     "data": {
      "text/html": [
       "<div>\n",
       "<style scoped>\n",
       "    .dataframe tbody tr th:only-of-type {\n",
       "        vertical-align: middle;\n",
       "    }\n",
       "\n",
       "    .dataframe tbody tr th {\n",
       "        vertical-align: top;\n",
       "    }\n",
       "\n",
       "    .dataframe thead th {\n",
       "        text-align: right;\n",
       "    }\n",
       "</style>\n",
       "<table border=\"1\" class=\"dataframe\">\n",
       "  <thead>\n",
       "    <tr style=\"text-align: right;\">\n",
       "      <th></th>\n",
       "      <th>user_id</th>\n",
       "      <th>month</th>\n",
       "      <th>distance</th>\n",
       "      <th>duration</th>\n",
       "      <th>trip_count</th>\n",
       "    </tr>\n",
       "  </thead>\n",
       "  <tbody>\n",
       "    <tr>\n",
       "      <th>0</th>\n",
       "      <td>1</td>\n",
       "      <td>1</td>\n",
       "      <td>7027.511294</td>\n",
       "      <td>41.416640</td>\n",
       "      <td>2</td>\n",
       "    </tr>\n",
       "    <tr>\n",
       "      <th>1</th>\n",
       "      <td>1</td>\n",
       "      <td>4</td>\n",
       "      <td>754.159807</td>\n",
       "      <td>6.232113</td>\n",
       "      <td>1</td>\n",
       "    </tr>\n",
       "    <tr>\n",
       "      <th>2</th>\n",
       "      <td>1</td>\n",
       "      <td>8</td>\n",
       "      <td>6723.470560</td>\n",
       "      <td>44.776802</td>\n",
       "      <td>2</td>\n",
       "    </tr>\n",
       "    <tr>\n",
       "      <th>3</th>\n",
       "      <td>1</td>\n",
       "      <td>10</td>\n",
       "      <td>5809.911100</td>\n",
       "      <td>31.578017</td>\n",
       "      <td>2</td>\n",
       "    </tr>\n",
       "    <tr>\n",
       "      <th>4</th>\n",
       "      <td>1</td>\n",
       "      <td>11</td>\n",
       "      <td>7003.499363</td>\n",
       "      <td>53.397424</td>\n",
       "      <td>3</td>\n",
       "    </tr>\n",
       "  </tbody>\n",
       "</table>\n",
       "</div>"
      ],
      "text/plain": [
       "   user_id  month     distance   duration  trip_count\n",
       "0        1      1  7027.511294  41.416640           2\n",
       "1        1      4   754.159807   6.232113           1\n",
       "2        1      8  6723.470560  44.776802           2\n",
       "3        1     10  5809.911100  31.578017           2\n",
       "4        1     11  7003.499363  53.397424           3"
      ]
     },
     "execution_count": 29,
     "metadata": {},
     "output_type": "execute_result"
    }
   ],
   "source": [
    "#сгруппируем данные по aйди и месяцу. Сагрегируем данные по дистанции, времени поездки. \n",
    "# Выполним подсчет уникальных номеров пользователей\n",
    "#так как в датафрейме каждая строчка - 1 поездка, то подсчитав количество дат \n",
    "# можно понять сколько было поездок у пользователя\n",
    "df_aggregated = (df_total.groupby(['user_id', 'month'])\n",
    ".agg({'distance': 'sum', 'duration': 'sum', 'date': 'count'})\n",
    ".reset_index())\n",
    "#переименуем столбец на количество поездок\n",
    "df_aggregated.rename(columns={'date': 'trip_count'}, inplace=True)\n",
    "df_aggregated.head()\n"
   ]
  },
  {
   "cell_type": "markdown",
   "id": "30c30fe7",
   "metadata": {},
   "source": [
    "<div class=\"alert alert-block alert-danger\">\n",
    "<h2> Комментарий ревьюера ⛔️<a class=\"tocSkip\"></h2>\n",
    "    \n",
    "Нам нужно сначало округлить каждую поздку, и уже после провести расчет. Так как иначе получается, что мы округляем общее кол-во и расчет неверный.\n",
    "    \n",
    "Перед расчетом выручки нужно добавить проверку на пропуски в сводной таблице."
   ]
  },
  {
   "cell_type": "markdown",
   "id": "e6bc10d3",
   "metadata": {},
   "source": [
    " ### В этот же датафрейм добавим столбец с помесячной выручкой, которую принёс каждый пользователь"
   ]
  },
  {
   "cell_type": "code",
   "execution_count": 30,
   "id": "117936bc",
   "metadata": {},
   "outputs": [
    {
     "data": {
      "text/html": [
       "<div>\n",
       "<style scoped>\n",
       "    .dataframe tbody tr th:only-of-type {\n",
       "        vertical-align: middle;\n",
       "    }\n",
       "\n",
       "    .dataframe tbody tr th {\n",
       "        vertical-align: top;\n",
       "    }\n",
       "\n",
       "    .dataframe thead th {\n",
       "        text-align: right;\n",
       "    }\n",
       "</style>\n",
       "<table border=\"1\" class=\"dataframe\">\n",
       "  <thead>\n",
       "    <tr style=\"text-align: right;\">\n",
       "      <th></th>\n",
       "      <th>user_id</th>\n",
       "      <th>month</th>\n",
       "      <th>distance</th>\n",
       "      <th>duration</th>\n",
       "      <th>trip_count</th>\n",
       "      <th>rounded_duration</th>\n",
       "    </tr>\n",
       "  </thead>\n",
       "  <tbody>\n",
       "    <tr>\n",
       "      <th>0</th>\n",
       "      <td>1</td>\n",
       "      <td>1</td>\n",
       "      <td>7027.511294</td>\n",
       "      <td>41.416640</td>\n",
       "      <td>2</td>\n",
       "      <td>42.0</td>\n",
       "    </tr>\n",
       "    <tr>\n",
       "      <th>1</th>\n",
       "      <td>1</td>\n",
       "      <td>4</td>\n",
       "      <td>754.159807</td>\n",
       "      <td>6.232113</td>\n",
       "      <td>1</td>\n",
       "      <td>7.0</td>\n",
       "    </tr>\n",
       "    <tr>\n",
       "      <th>2</th>\n",
       "      <td>1</td>\n",
       "      <td>8</td>\n",
       "      <td>6723.470560</td>\n",
       "      <td>44.776802</td>\n",
       "      <td>2</td>\n",
       "      <td>45.0</td>\n",
       "    </tr>\n",
       "    <tr>\n",
       "      <th>3</th>\n",
       "      <td>1</td>\n",
       "      <td>10</td>\n",
       "      <td>5809.911100</td>\n",
       "      <td>31.578017</td>\n",
       "      <td>2</td>\n",
       "      <td>32.0</td>\n",
       "    </tr>\n",
       "    <tr>\n",
       "      <th>4</th>\n",
       "      <td>1</td>\n",
       "      <td>11</td>\n",
       "      <td>7003.499363</td>\n",
       "      <td>53.397424</td>\n",
       "      <td>3</td>\n",
       "      <td>54.0</td>\n",
       "    </tr>\n",
       "  </tbody>\n",
       "</table>\n",
       "</div>"
      ],
      "text/plain": [
       "   user_id  month     distance   duration  trip_count  rounded_duration\n",
       "0        1      1  7027.511294  41.416640           2              42.0\n",
       "1        1      4   754.159807   6.232113           1               7.0\n",
       "2        1      8  6723.470560  44.776802           2              45.0\n",
       "3        1     10  5809.911100  31.578017           2              32.0\n",
       "4        1     11  7003.499363  53.397424           3              54.0"
      ]
     },
     "execution_count": 30,
     "metadata": {},
     "output_type": "execute_result"
    }
   ],
   "source": [
    "#округляем данные о времени поездок \n",
    "df_aggregated['rounded_duration'] = np.ceil(df_aggregated['duration'])\n",
    "df_aggregated.head()"
   ]
  },
  {
   "cell_type": "code",
   "execution_count": 31,
   "id": "a89ec410",
   "metadata": {},
   "outputs": [
    {
     "data": {
      "text/html": [
       "<div>\n",
       "<style scoped>\n",
       "    .dataframe tbody tr th:only-of-type {\n",
       "        vertical-align: middle;\n",
       "    }\n",
       "\n",
       "    .dataframe tbody tr th {\n",
       "        vertical-align: top;\n",
       "    }\n",
       "\n",
       "    .dataframe thead th {\n",
       "        text-align: right;\n",
       "    }\n",
       "</style>\n",
       "<table border=\"1\" class=\"dataframe\">\n",
       "  <thead>\n",
       "    <tr style=\"text-align: right;\">\n",
       "      <th></th>\n",
       "      <th>user_id</th>\n",
       "      <th>month</th>\n",
       "      <th>subscription_type</th>\n",
       "      <th>subscription_fee</th>\n",
       "      <th>start_ride_price</th>\n",
       "      <th>minute_price</th>\n",
       "    </tr>\n",
       "  </thead>\n",
       "  <tbody>\n",
       "    <tr>\n",
       "      <th>0</th>\n",
       "      <td>1</td>\n",
       "      <td>1</td>\n",
       "      <td>ultra</td>\n",
       "      <td>199</td>\n",
       "      <td>0</td>\n",
       "      <td>6</td>\n",
       "    </tr>\n",
       "    <tr>\n",
       "      <th>1</th>\n",
       "      <td>1</td>\n",
       "      <td>4</td>\n",
       "      <td>ultra</td>\n",
       "      <td>199</td>\n",
       "      <td>0</td>\n",
       "      <td>6</td>\n",
       "    </tr>\n",
       "    <tr>\n",
       "      <th>2</th>\n",
       "      <td>1</td>\n",
       "      <td>8</td>\n",
       "      <td>ultra</td>\n",
       "      <td>199</td>\n",
       "      <td>0</td>\n",
       "      <td>6</td>\n",
       "    </tr>\n",
       "    <tr>\n",
       "      <th>3</th>\n",
       "      <td>1</td>\n",
       "      <td>10</td>\n",
       "      <td>ultra</td>\n",
       "      <td>199</td>\n",
       "      <td>0</td>\n",
       "      <td>6</td>\n",
       "    </tr>\n",
       "    <tr>\n",
       "      <th>4</th>\n",
       "      <td>1</td>\n",
       "      <td>11</td>\n",
       "      <td>ultra</td>\n",
       "      <td>199</td>\n",
       "      <td>0</td>\n",
       "      <td>6</td>\n",
       "    </tr>\n",
       "  </tbody>\n",
       "</table>\n",
       "</div>"
      ],
      "text/plain": [
       "   user_id  month subscription_type  subscription_fee  start_ride_price  \\\n",
       "0        1      1             ultra               199                 0   \n",
       "1        1      4             ultra               199                 0   \n",
       "2        1      8             ultra               199                 0   \n",
       "3        1     10             ultra               199                 0   \n",
       "4        1     11             ultra               199                 0   \n",
       "\n",
       "   minute_price  \n",
       "0             6  \n",
       "1             6  \n",
       "2             6  \n",
       "3             6  \n",
       "4             6  "
      ]
     },
     "execution_count": 31,
     "metadata": {},
     "output_type": "execute_result"
    }
   ],
   "source": [
    "#группируем данные в датафреме df_total для дальнейших шагов\n",
    "df_total_grouped = (df_total\n",
    "                    .groupby(['user_id','month'])\n",
    "                    .agg({'subscription_type': 'first', 'subscription_fee': 'first', 'start_ride_price': 'sum',\n",
    "                           'minute_price':'first'})\n",
    "                    .reset_index())\n",
    "df_total_grouped.head()\n"
   ]
  },
  {
   "cell_type": "code",
   "execution_count": 32,
   "id": "1c8f95c5",
   "metadata": {},
   "outputs": [
    {
     "data": {
      "text/html": [
       "<div>\n",
       "<style scoped>\n",
       "    .dataframe tbody tr th:only-of-type {\n",
       "        vertical-align: middle;\n",
       "    }\n",
       "\n",
       "    .dataframe tbody tr th {\n",
       "        vertical-align: top;\n",
       "    }\n",
       "\n",
       "    .dataframe thead th {\n",
       "        text-align: right;\n",
       "    }\n",
       "</style>\n",
       "<table border=\"1\" class=\"dataframe\">\n",
       "  <thead>\n",
       "    <tr style=\"text-align: right;\">\n",
       "      <th></th>\n",
       "      <th>user_id</th>\n",
       "      <th>month</th>\n",
       "      <th>distance</th>\n",
       "      <th>duration</th>\n",
       "      <th>trip_count</th>\n",
       "      <th>rounded_duration</th>\n",
       "      <th>subscription_type</th>\n",
       "      <th>subscription_fee</th>\n",
       "      <th>start_ride_price</th>\n",
       "      <th>minute_price</th>\n",
       "    </tr>\n",
       "  </thead>\n",
       "  <tbody>\n",
       "    <tr>\n",
       "      <th>0</th>\n",
       "      <td>1</td>\n",
       "      <td>1</td>\n",
       "      <td>7027.511294</td>\n",
       "      <td>41.416640</td>\n",
       "      <td>2</td>\n",
       "      <td>42.0</td>\n",
       "      <td>ultra</td>\n",
       "      <td>199</td>\n",
       "      <td>0</td>\n",
       "      <td>6</td>\n",
       "    </tr>\n",
       "    <tr>\n",
       "      <th>1</th>\n",
       "      <td>1</td>\n",
       "      <td>4</td>\n",
       "      <td>754.159807</td>\n",
       "      <td>6.232113</td>\n",
       "      <td>1</td>\n",
       "      <td>7.0</td>\n",
       "      <td>ultra</td>\n",
       "      <td>199</td>\n",
       "      <td>0</td>\n",
       "      <td>6</td>\n",
       "    </tr>\n",
       "    <tr>\n",
       "      <th>2</th>\n",
       "      <td>1</td>\n",
       "      <td>8</td>\n",
       "      <td>6723.470560</td>\n",
       "      <td>44.776802</td>\n",
       "      <td>2</td>\n",
       "      <td>45.0</td>\n",
       "      <td>ultra</td>\n",
       "      <td>199</td>\n",
       "      <td>0</td>\n",
       "      <td>6</td>\n",
       "    </tr>\n",
       "    <tr>\n",
       "      <th>3</th>\n",
       "      <td>1</td>\n",
       "      <td>10</td>\n",
       "      <td>5809.911100</td>\n",
       "      <td>31.578017</td>\n",
       "      <td>2</td>\n",
       "      <td>32.0</td>\n",
       "      <td>ultra</td>\n",
       "      <td>199</td>\n",
       "      <td>0</td>\n",
       "      <td>6</td>\n",
       "    </tr>\n",
       "    <tr>\n",
       "      <th>4</th>\n",
       "      <td>1</td>\n",
       "      <td>11</td>\n",
       "      <td>7003.499363</td>\n",
       "      <td>53.397424</td>\n",
       "      <td>3</td>\n",
       "      <td>54.0</td>\n",
       "      <td>ultra</td>\n",
       "      <td>199</td>\n",
       "      <td>0</td>\n",
       "      <td>6</td>\n",
       "    </tr>\n",
       "  </tbody>\n",
       "</table>\n",
       "</div>"
      ],
      "text/plain": [
       "   user_id  month     distance   duration  trip_count  rounded_duration  \\\n",
       "0        1      1  7027.511294  41.416640           2              42.0   \n",
       "1        1      4   754.159807   6.232113           1               7.0   \n",
       "2        1      8  6723.470560  44.776802           2              45.0   \n",
       "3        1     10  5809.911100  31.578017           2              32.0   \n",
       "4        1     11  7003.499363  53.397424           3              54.0   \n",
       "\n",
       "  subscription_type  subscription_fee  start_ride_price  minute_price  \n",
       "0             ultra               199                 0             6  \n",
       "1             ultra               199                 0             6  \n",
       "2             ultra               199                 0             6  \n",
       "3             ultra               199                 0             6  \n",
       "4             ultra               199                 0             6  "
      ]
     },
     "execution_count": 32,
     "metadata": {},
     "output_type": "execute_result"
    }
   ],
   "source": [
    "#объединяем датафреймы\n",
    "df_aggregated = df_aggregated.merge(df_total_grouped, on=['user_id', 'month'], how='left')\n",
    "df_aggregated.head()"
   ]
  },
  {
   "cell_type": "markdown",
   "id": "74496dfc",
   "metadata": {},
   "source": [
    "<div class=\"alert alert-block alert-danger\">\n",
    "<h2> Комментарий ревьюера ⛔️<a class=\"tocSkip\"></h2>\n",
    "    \n",
    "Чтобы не объединять данные, лучше сохранить информацию о подписках при создании первой таблицы. Давай доработаем)"
   ]
  },
  {
   "cell_type": "code",
   "execution_count": 33,
   "id": "5075ae4b",
   "metadata": {},
   "outputs": [
    {
     "data": {
      "text/html": [
       "<div>\n",
       "<style scoped>\n",
       "    .dataframe tbody tr th:only-of-type {\n",
       "        vertical-align: middle;\n",
       "    }\n",
       "\n",
       "    .dataframe tbody tr th {\n",
       "        vertical-align: top;\n",
       "    }\n",
       "\n",
       "    .dataframe thead th {\n",
       "        text-align: right;\n",
       "    }\n",
       "</style>\n",
       "<table border=\"1\" class=\"dataframe\">\n",
       "  <thead>\n",
       "    <tr style=\"text-align: right;\">\n",
       "      <th></th>\n",
       "      <th>user_id</th>\n",
       "      <th>month</th>\n",
       "      <th>distance</th>\n",
       "      <th>duration</th>\n",
       "      <th>trip_count</th>\n",
       "      <th>rounded_duration</th>\n",
       "      <th>subscription_type</th>\n",
       "      <th>subscription_fee</th>\n",
       "      <th>start_ride_price</th>\n",
       "      <th>minute_price</th>\n",
       "      <th>revenue</th>\n",
       "    </tr>\n",
       "  </thead>\n",
       "  <tbody>\n",
       "    <tr>\n",
       "      <th>0</th>\n",
       "      <td>1</td>\n",
       "      <td>1</td>\n",
       "      <td>7027.511294</td>\n",
       "      <td>41.416640</td>\n",
       "      <td>2</td>\n",
       "      <td>42.0</td>\n",
       "      <td>ultra</td>\n",
       "      <td>199</td>\n",
       "      <td>0</td>\n",
       "      <td>6</td>\n",
       "      <td>451.0</td>\n",
       "    </tr>\n",
       "    <tr>\n",
       "      <th>1</th>\n",
       "      <td>1</td>\n",
       "      <td>4</td>\n",
       "      <td>754.159807</td>\n",
       "      <td>6.232113</td>\n",
       "      <td>1</td>\n",
       "      <td>7.0</td>\n",
       "      <td>ultra</td>\n",
       "      <td>199</td>\n",
       "      <td>0</td>\n",
       "      <td>6</td>\n",
       "      <td>241.0</td>\n",
       "    </tr>\n",
       "    <tr>\n",
       "      <th>2</th>\n",
       "      <td>1</td>\n",
       "      <td>8</td>\n",
       "      <td>6723.470560</td>\n",
       "      <td>44.776802</td>\n",
       "      <td>2</td>\n",
       "      <td>45.0</td>\n",
       "      <td>ultra</td>\n",
       "      <td>199</td>\n",
       "      <td>0</td>\n",
       "      <td>6</td>\n",
       "      <td>469.0</td>\n",
       "    </tr>\n",
       "    <tr>\n",
       "      <th>3</th>\n",
       "      <td>1</td>\n",
       "      <td>10</td>\n",
       "      <td>5809.911100</td>\n",
       "      <td>31.578017</td>\n",
       "      <td>2</td>\n",
       "      <td>32.0</td>\n",
       "      <td>ultra</td>\n",
       "      <td>199</td>\n",
       "      <td>0</td>\n",
       "      <td>6</td>\n",
       "      <td>391.0</td>\n",
       "    </tr>\n",
       "    <tr>\n",
       "      <th>4</th>\n",
       "      <td>1</td>\n",
       "      <td>11</td>\n",
       "      <td>7003.499363</td>\n",
       "      <td>53.397424</td>\n",
       "      <td>3</td>\n",
       "      <td>54.0</td>\n",
       "      <td>ultra</td>\n",
       "      <td>199</td>\n",
       "      <td>0</td>\n",
       "      <td>6</td>\n",
       "      <td>523.0</td>\n",
       "    </tr>\n",
       "  </tbody>\n",
       "</table>\n",
       "</div>"
      ],
      "text/plain": [
       "   user_id  month     distance   duration  trip_count  rounded_duration  \\\n",
       "0        1      1  7027.511294  41.416640           2              42.0   \n",
       "1        1      4   754.159807   6.232113           1               7.0   \n",
       "2        1      8  6723.470560  44.776802           2              45.0   \n",
       "3        1     10  5809.911100  31.578017           2              32.0   \n",
       "4        1     11  7003.499363  53.397424           3              54.0   \n",
       "\n",
       "  subscription_type  subscription_fee  start_ride_price  minute_price  revenue  \n",
       "0             ultra               199                 0             6    451.0  \n",
       "1             ultra               199                 0             6    241.0  \n",
       "2             ultra               199                 0             6    469.0  \n",
       "3             ultra               199                 0             6    391.0  \n",
       "4             ultra               199                 0             6    523.0  "
      ]
     },
     "execution_count": 33,
     "metadata": {},
     "output_type": "execute_result"
    }
   ],
   "source": [
    "#выполняем подсчет выручки\n",
    "df_aggregated['revenue'] = (\n",
    "    df_aggregated['rounded_duration'] * df_aggregated['minute_price'] + df_aggregated['subscription_fee']\n",
    "    + df_aggregated['start_ride_price']\n",
    ")\n",
    "df_aggregated.head()"
   ]
  },
  {
   "cell_type": "markdown",
   "id": "57a636b0",
   "metadata": {},
   "source": [
    "<div class=\"alert alert-block alert-danger\">\n",
    "<h2> Комментарий ревьюера ⛔️<a class=\"tocSkip\"></h2>\n",
    "    \n",
    "Стартовую цену поездок необходимоумножить на кол-во поездок."
   ]
  },
  {
   "cell_type": "code",
   "execution_count": 34,
   "id": "dc724100",
   "metadata": {},
   "outputs": [
    {
     "data": {
      "text/plain": [
       "count    11331.000000\n",
       "mean       340.100344\n",
       "std        151.127485\n",
       "min         58.000000\n",
       "25%        234.000000\n",
       "50%        319.000000\n",
       "75%        412.000000\n",
       "max       1428.000000\n",
       "Name: revenue, dtype: float64"
      ]
     },
     "execution_count": 34,
     "metadata": {},
     "output_type": "execute_result"
    }
   ],
   "source": [
    "df_aggregated['revenue'].describe()"
   ]
  },
  {
   "cell_type": "markdown",
   "id": "41545ac0",
   "metadata": {},
   "source": [
    "## Этап 6. Проверка гипотез"
   ]
  },
  {
   "cell_type": "markdown",
   "id": "8ede78ee",
   "metadata": {},
   "source": [
    "### Важно понять, тратят ли пользователи с подпиской больше времени на поездки? Если да, то пользователи с подпиской могут быть «выгоднее» для компании. "
   ]
  },
  {
   "cell_type": "markdown",
   "id": "0ff546a7",
   "metadata": {},
   "source": [
    "Для проверки гипотезы можно использовать двухвыборочный t-тест для независимых выборок\n",
    "\n",
    "- H0: Среднее время поездки для пользователей с подпиской равно среднему времени для пользователей без подписки\n",
    "- H1: Среднее время поездки для пользователей с подпиской больше чем среднее время поездки для пользователей без подписки\n",
    "- Уровень статистической значимости: 0.05 "
   ]
  },
  {
   "cell_type": "code",
   "execution_count": 35,
   "id": "03fe62b5",
   "metadata": {},
   "outputs": [
    {
     "name": "stdout",
     "output_type": "stream",
     "text": [
      "p-value: 1.2804098316645618e-34\n",
      "Можем отвергнуть нулевую гипотезу\n"
     ]
    }
   ],
   "source": [
    "users_with_subscription = df_total[df_total['subscription_type'] == 'ultra']['duration']\n",
    "users_without_subscription = df_total[df_total['subscription_type'] == 'free']['duration']\n",
    "\n",
    "alpha = 0.05 \n",
    "results = stats.ttest_ind(users_with_subscription, users_without_subscription, alternative='greater')\n",
    "\n",
    "print(f'p-value: {results.pvalue}')\n",
    "\n",
    "if results.pvalue < alpha:\n",
    "    print('Можем отвергнуть нулевую гипотезу')\n",
    "else:\n",
    "    print('Не можем отвергнуть нулевую гипотезу')\n"
   ]
  },
  {
   "cell_type": "markdown",
   "id": "e57c21c3",
   "metadata": {},
   "source": [
    "### Вывод\n",
    "Значение p-value(1.2804098316645618e-34) меньше обычного статистического уровня значимости. Тем самым мы отвергаем нулевую гипотезу. Что говорит о том, что среднее время поездок у пользователей с подпиской выше, чем у пользователей без подписки"
   ]
  },
  {
   "cell_type": "markdown",
   "id": "979b7fa7",
   "metadata": {},
   "source": [
    "<div class=\"alert alert-success\">\n",
    "<h2> Комментарий ревьюера 😊<a class=\"tocSkip\"> </h2>\n",
    "Гипотезы сформулированы верно и значение p-value интерпретировано правильно. Хорошая работа.\n",
    "</div>"
   ]
  },
  {
   "cell_type": "markdown",
   "id": "abcce767",
   "metadata": {},
   "source": [
    "### Расстояние одной поездки в 3130 метров — оптимальное с точки зрения износа самоката. Можно ли сказать, что расстояние, которое проезжают пользователи с подпиской за одну поездку, не превышает 3130 метров? "
   ]
  },
  {
   "cell_type": "markdown",
   "id": "da9a9a51",
   "metadata": {},
   "source": [
    "Гипотезу можно проверить одновыборочный t-тестом\n",
    "- H0: Расстояние, которое проезжают пользователи с подпиской за одну поездку, не превышает 3130 метров;\n",
    "- H1: Расстояние, которое проезжают пользователи с подпиской за одну поездку, превышает 3130 метров.\n",
    "- Уровень статистической значимости: 0.05 "
   ]
  },
  {
   "cell_type": "markdown",
   "id": "ce3334cd",
   "metadata": {},
   "source": [
    "<div class=\"alert alert-block alert-danger\">\n",
    "<h2> Комментарий ревьюера ⛔️<a class=\"tocSkip\"></h2>\n",
    "\n",
    " Нулевая гипотеза всегда декларирует равенство (отсутствие различий), альтернативная же - неравенство (наличие различий).\n",
    "\n",
    "Об этом можно подробнее почитать в статьях:\n",
    "\n",
    "http://www.mathprofi.ru/statisticheskie_gipotezy.html\n",
    "    \n",
    "http://statistica.ru/theory/proverka-gipotez/\n",
    "</div>"
   ]
  },
  {
   "cell_type": "code",
   "execution_count": 36,
   "id": "34d4857f",
   "metadata": {},
   "outputs": [
    {
     "name": "stdout",
     "output_type": "stream",
     "text": [
      "0.16092623043004292\n",
      "Не можем отвергнуть нулевую гипотезу\n"
     ]
    }
   ],
   "source": [
    "duration = 3130\n",
    "alpha = 0.05 \n",
    "subscribed_users = df_total[df_total['subscription_type'] == 'ultra']['distance']\n",
    "results = stats.ttest_1samp(subscribed_users, duration)\n",
    "print(results.pvalue)\n",
    "if results.pvalue < alpha:\n",
    "    print('Можем отвергнуть нулевую гипотезу')\n",
    "else:\n",
    "    print('Не можем отвергнуть нулевую гипотезу')"
   ]
  },
  {
   "cell_type": "markdown",
   "id": "b341aee2",
   "metadata": {},
   "source": [
    "<div class=\"alert alert-block alert-danger\">\n",
    "<h2> Комментарий ревьюера ⛔️<a class=\"tocSkip\"></h2>\n",
    "\n",
    "Нужно задать дополнительный параметр alternative, согласно альтернативной гипотезе."
   ]
  },
  {
   "cell_type": "markdown",
   "id": "3b959022",
   "metadata": {},
   "source": [
    "### Вывод\n",
    "При проведении анализа p-value(0.16092623043004292) больше чем статический уровень значимости. Это не дает нам возможность отвергнуть нулевую гипотезу о том, что расстояние, которое проезжают пользователи с подпиской не превышает 3130 метров."
   ]
  },
  {
   "cell_type": "markdown",
   "id": "9a15e1d4",
   "metadata": {},
   "source": [
    " ### Будет ли помесячная выручка от пользователей с подпиской по месяцам выше, чем выручка от пользователей без подписки"
   ]
  },
  {
   "cell_type": "markdown",
   "id": "e8c6bcac",
   "metadata": {},
   "source": [
    "\n",
    "- H0: Помесячная выручка от пользователей с подпиской и без подписки одинакова;\n",
    "- H1: Помесячная выручка от пользователей с подпиской выше, чем выручка от пользователей без подписки.\n",
    "- Уровень статистической значимости 0.05\n"
   ]
  },
  {
   "cell_type": "code",
   "execution_count": 37,
   "id": "43cd4b84",
   "metadata": {},
   "outputs": [
    {
     "name": "stdout",
     "output_type": "stream",
     "text": [
      "Знчение p-value 0.16092623043004292\n",
      "Не можем отвергнуть нулевую гипотезу\n"
     ]
    }
   ],
   "source": [
    "users_with = df_aggregated[df_aggregated['subscription_type'] == 'ultra']['revenue']\n",
    "users_without = df_aggregated[df_aggregated['subscription_type'] == 'free']['revenue']\n",
    "\n",
    "alpha = 0.05 \n",
    "\n",
    "result = stats.ttest_ind(users_with, users_without, alternative='greater')\n",
    "print(f'Знчение p-value {results.pvalue}')\n",
    "\n",
    "\n",
    "if results.pvalue < alpha:\n",
    "    print('Можем отвергнуть нулевую гипотезу')\n",
    "else:\n",
    "    print('Не можем отвергнуть нулевую гипотезу')"
   ]
  },
  {
   "cell_type": "markdown",
   "id": "419ba0c2",
   "metadata": {},
   "source": [
    "### Вывод\n",
    "При проведении анализа p-value(0.16092623043004292) больше чем статический уровень значимости. Это не дает нам возможность отвергнуть нулевую гипотезу о том, что помесячная выручка от пользователей с подпиской и без подписки одинакова"
   ]
  },
  {
   "cell_type": "markdown",
   "id": "aa97c63c",
   "metadata": {},
   "source": [
    "<div class=\"alert alert-block alert-danger\">\n",
    "<h2> Комментарий ревьюера ⛔️<a class=\"tocSkip\"></h2>\n",
    "\n",
    "После внесения корректировок в расчеты, результаты и выводы нужно доработать)"
   ]
  },
  {
   "cell_type": "markdown",
   "id": "a2a5790d",
   "metadata": {},
   "source": [
    "### Есть следующая ситуация: техническая команда сервиса обновила сервера, с которыми взаимодействует мобильное приложение. Она надеется, что из-за этого количество обращений в техподдержку значимо снизилось. Некоторый файл содержит для каждого пользователя данные о количестве обращений до обновления и после него. Какой тест понадобился бы для проверки этой гипотезы?"
   ]
  },
  {
   "cell_type": "markdown",
   "id": "d84396b8",
   "metadata": {},
   "source": [
    "Для проверки этой гипотезы подошел бы парный t-тест для сравнения двух связанных выборок с целью определения, есть ли статистически значимые различия между их средними значениями. \n",
    "\n",
    "- H0: Среднее количество обращений до и после обновления серверов не изменилось \n",
    "- Н1: Среднее количество обращений после обновления серверов уменьшилось \n",
    "\n",
    "Потенциально код мог бы выглядеть так\n",
    "\n",
    "```python\n",
    "from scipy import stats\n",
    "\n",
    "# Загрузка данных из файла\n",
    "data = pd.read_csv('file.csv')\n",
    "\n",
    "# Выбор колонок с данными о количестве обращений до и после обновления\n",
    "before_update = data['before_update']\n",
    "after_update = data['after_update']\n",
    "\n",
    "alpha = 0.05 \n",
    "\n",
    "# Связанный t-тест\n",
    "results = stats.ttest_rel(before_update, after_update)\n",
    "\n",
    "# Печатаем результаты\n",
    "print(f'P-значение: {results.pvalue}')\n",
    "\n",
    "if results.pvalue < alpha:\n",
    "    print('Можем отвергнуть нулевую гипотезу')\n",
    "else:\n",
    "    print('Не можем отвергнуть нулевую гипотезу')\n",
    "\n",
    "```"
   ]
  },
  {
   "cell_type": "markdown",
   "id": "cbeca699",
   "metadata": {},
   "source": [
    "<div class=\"alert alert-success\">\n",
    "<h2> Комментарий ревьюера 😊 <a class=\"tocSkip\"> </h2>\n",
    "\n",
    "Тест выбран верно)"
   ]
  },
  {
   "cell_type": "markdown",
   "id": "534bd34d",
   "metadata": {},
   "source": [
    "<div class=\"alert alert-block alert-danger\">\n",
    "<h2> Комментарий ревьюера ⛔️<a class=\"tocSkip\"></h2>\n",
    "\n",
    "Нужно добавить параметр  alternative, согласно альтернативной гипотезе. И скорректировать последовательность выборок в тесте)"
   ]
  },
  {
   "cell_type": "markdown",
   "id": "7743902c",
   "metadata": {},
   "source": [
    "## Общий вывод\n",
    "### Предобработка данных \n",
    "- Пропуски не обнаружены\n",
    "- В датафрейме df_users_go удалили дублкаты\n",
    "- В датафрейме df_rides_go поменяли тип данных в столбце date и создали на его основе столбец с месяцами\n",
    "\n",
    "### Исследовательский анализ данных \n",
    "#### Частота встречаемости городов\n",
    "\n",
    "По полученным данным сложился следующий рейтинг городов\n",
    "\n",
    "| Город | Частота встречаемости|\n",
    "| ------------- | ------------- |\n",
    "| Пятигорск  | 219 |\n",
    "| Екатеринбург | 204 |\n",
    "| Ростов-на-Дону | 198 |\n",
    "| Краснодар | 193 |\n",
    "| Сочи | 189 |\n",
    "| Омск | 183 |\n",
    "| Тюмень | 180 |\n",
    "| Москва | 168 |\n",
    "\n",
    "#### Соотношение пользователей с подпиской и без подписки \n",
    "- В сервисе аренды самокатов GoFast преобладают пользователи без подписки - их 54%. Пользователей с подпиской 46%\n",
    "\n",
    "#### Возраст пользователей \n",
    "- В возрасте пользователей наблюдается нормальное распределение. Больше всего пользователей в возрасте 25 лет - 140 человек. Подростков, как и взрослых людей, уже сильно меньше. Пользователей в возрасте 12-16 лет всего 37 человек. Пользователей старше 43 лет нет, а в диапозоне 35-43 года насчитывается 24 человека\n",
    "\n",
    "#### Расстояние, которое пользователь преодолел за поездку\n",
    "- Среднее значение дистанции составляет около 3070 м, минимальное значение дистанции составляет 0,855683, а максимальное 7211 метров. 50% пользователей преодолели меньше 3133,61 метров, а остальные 50% преодолели больше этой дистанции. 25% пользователей преодолели менее 2543,23 метров, а 25% пользователей преодолели более 3776,22 метров.\n",
    "\n",
    "#### Время, затраченное на поездку пользователями\n",
    "- Среднее значение времени составляет около 17 минут, минимальнон время 0,5 минуты, а максимальное 40 минут. 50% пользователей катались менее 17 минут и 50% более 17 минут. 25% пользователей использовали самокат меньше 13 минут, а другие 25% больше 21 минуты\n",
    "\n",
    "#### Объединение данных \n",
    "- Три отдельных датафрейма были объединены в один. Также было создано 2 отдельных датафрейма. О пользователях с подпиской и без подписки. \n",
    "- По этим данным было замечено, что пользователи с подпиской преодолевают в среднем большее расстояние(3115,4м), чем пользователи без подписки(3045,5м). Тоже самое было замечено и во времени. Среднее значение времени использования самоката для пользователя с подпиской - 18,54 минуты, а без подписки 17,39 минут.\n",
    "- Минимальное значение времени и расстояния у пользователей без подписки это 0,5 минуты и 0,8м. Это говорит о том, что пользователь практически сразу передумал использовать самокат. У пользователей с подпиской минимальное время и расстояние это 3,76 минуты и 244 метра. Это говорит о том, что пользователи с подпиской используют самокат чаще. \n",
    "\n",
    "#### Подсчет выручки\n",
    "Минимальная месячная выручка с пользователя составила 58 рублей, а максимальная 1428 рублей. Скорее всего, это связано с сезонностью. Зимой не везде удобно использовать самокаты без последующего посещения травмпункта. Медианная месячная выручка с каждого пользователя - 319 рублей. 25% пользователей ежемесячно приносят больше 400 рублей и 25% меньше 234 рублей. \n",
    "\n",
    "\n",
    "#### Проверка гипотез \n",
    "- Среднее время поездок у пользователей с подпиской выше, чем у пользователей без подписки. p-value = 1.2804098316645618e-34\n",
    "- Пользователи с подпиской практически не преодолевают расстояние больше 3130 метров. Это оптимальное расстояние поездки для того, чтобы самокат в меньшей степени изнашивался. p-value = 0.16092623043004292\n",
    "- Помесячная выручка у пользователей с подпиской и без подписки не отличается. p-value = 0.16092623043004292. Возможно, чтобы выросла выручка необходимо придумать дополнительные бонусы и немного повысить стоимость, чтобы люди охотнее брали подписку. \n",
    "- Для проверки количества жалоб до и после обновления серверов понадобится парный t-тест для сравнения двух связанных выборок \n",
    "\n",
    "\n"
   ]
  },
  {
   "cell_type": "markdown",
   "id": "a2095f7c",
   "metadata": {},
   "source": [
    "<div class=\"alert alert-block alert-danger\">\n",
    "<h2> Комментарий ревьюера ⛔️<a class=\"tocSkip\"></h2>\n",
    "    \n",
    "В выводе нужно аргументированно ответить на главный вопрос исследования: являются ли пользователи с подпиской более выгодными для компании?"
   ]
  },
  {
   "cell_type": "markdown",
   "id": "f9f15b46",
   "metadata": {},
   "source": [
    "<div style=\"border:solid Purple 2px; padding: 40px\">\n",
    "\n",
    "<h2> Общий комментарий ревьюера 😊<a class=\"tocSkip\"> </h2>\n",
    "    <br/>\n",
    "Ты проделала замечательную работу по проекту, хочу отметить использование различных методов и визуализацию)  Осталось доработать несколько важных моментов.\n",
    "\n",
    "Необходимо доработать:\n",
    "    \n",
    "* Расчет выручки\n",
    "* Статистический тест\n",
    "* Проверку таблиц\n",
    "* Остальные комментарии ты найдешь в работе\n",
    "\n",
    "**Желаю удачи и жду твой проект на повторное ревью! Если у тебя вдруг есть какие–либо вопросы, то я с радостью отвечу на них 😊**\n",
    "    \n",
    "![gif](https://i.gifer.com/378.gif)\n",
    "    \n",
    "Также оставлю дополнительный материал по визуализации, если будет интересно:\n",
    "    \n",
    "\n",
    "* книга Александра Богачева [Графики, которые убеждают всех](https://book24.ru/product/grafiki-kotorye-ubezhdayut-vsekh-5873820/)\n",
    "* [cheatsheet по визуализации](https://extremepresentation.typepad.com/.a/6a00d8341bfd2e53ef0111683a7591970c-pi)\n",
    "* бесплатный курс от Яндекс.Практикум [Визуальныe презентации](https://practicum.yandex.ru/visual-presentation/)\n",
    "* Формат таблиц в pandas с помощью style. В том числе цветовое выделение. (https://habr.com/ru/post/521894/)\n",
    "* Основные компоненты matplotlib (https://pyprog.pro/mpl/mpl_main_components.html)\n",
    "* 50 оттенков matplotlib — The Master Plots (с полным кодом на Python) (https://habr.com/ru/post/468295/)\n",
    "* Построение графиков с использованием двух осей. (https://matplotlib.org/stable/gallery/subplots_axes_and_figures/two_scales.html)\n",
    "* Сайт, подробно представлюящий практически все типы визуализаций. (https://datavizproject.com/)\n",
    "* Шпаргалка по визуализации данных в Python с помощью Plotly (https://habr.com/ru/post/502958/)\n",
    "</div> "
   ]
  }
 ],
 "metadata": {
  "ExecuteTimeLog": [
   {
    "duration": 1169,
    "start_time": "2023-08-22T18:37:21.750Z"
   },
   {
    "duration": 66,
    "start_time": "2023-08-22T18:37:22.921Z"
   },
   {
    "duration": 10,
    "start_time": "2023-08-22T18:37:22.989Z"
   },
   {
    "duration": 15,
    "start_time": "2023-08-22T18:37:23.000Z"
   },
   {
    "duration": 10,
    "start_time": "2023-08-22T18:37:23.016Z"
   },
   {
    "duration": 8,
    "start_time": "2023-08-22T18:37:23.027Z"
   },
   {
    "duration": 14,
    "start_time": "2023-08-22T18:37:23.037Z"
   },
   {
    "duration": 24,
    "start_time": "2023-08-22T18:37:23.052Z"
   },
   {
    "duration": 13,
    "start_time": "2023-08-22T18:37:23.077Z"
   },
   {
    "duration": 9,
    "start_time": "2023-08-22T18:37:23.093Z"
   },
   {
    "duration": 10,
    "start_time": "2023-08-22T18:37:23.104Z"
   },
   {
    "duration": 5,
    "start_time": "2023-08-22T18:37:23.116Z"
   },
   {
    "duration": 6,
    "start_time": "2023-08-22T18:37:23.122Z"
   },
   {
    "duration": 25,
    "start_time": "2023-08-22T18:37:23.130Z"
   },
   {
    "duration": 160,
    "start_time": "2023-08-22T18:37:23.157Z"
   },
   {
    "duration": 5,
    "start_time": "2023-08-22T18:37:23.319Z"
   },
   {
    "duration": 132,
    "start_time": "2023-08-22T18:37:23.326Z"
   },
   {
    "duration": 258,
    "start_time": "2023-08-22T18:37:23.460Z"
   },
   {
    "duration": 9,
    "start_time": "2023-08-22T18:37:23.720Z"
   },
   {
    "duration": 264,
    "start_time": "2023-08-22T18:37:23.731Z"
   },
   {
    "duration": 7,
    "start_time": "2023-08-22T18:37:23.997Z"
   },
   {
    "duration": 252,
    "start_time": "2023-08-22T18:37:24.006Z"
   },
   {
    "duration": 21,
    "start_time": "2023-08-22T18:37:24.260Z"
   },
   {
    "duration": 7,
    "start_time": "2023-08-22T18:37:24.283Z"
   },
   {
    "duration": 19,
    "start_time": "2023-08-22T18:37:24.292Z"
   },
   {
    "duration": 18,
    "start_time": "2023-08-22T18:37:24.313Z"
   },
   {
    "duration": 704,
    "start_time": "2023-08-22T18:37:24.332Z"
   },
   {
    "duration": 22,
    "start_time": "2023-08-22T18:37:25.039Z"
   },
   {
    "duration": 44,
    "start_time": "2023-08-22T18:37:25.062Z"
   },
   {
    "duration": 38,
    "start_time": "2023-08-22T18:37:25.107Z"
   },
   {
    "duration": 30,
    "start_time": "2023-08-22T18:37:25.147Z"
   },
   {
    "duration": 23,
    "start_time": "2023-08-22T18:37:25.179Z"
   },
   {
    "duration": 12,
    "start_time": "2023-08-22T18:37:25.203Z"
   },
   {
    "duration": 18,
    "start_time": "2023-08-22T18:37:25.216Z"
   },
   {
    "duration": 17,
    "start_time": "2023-08-22T18:37:25.235Z"
   },
   {
    "duration": 21,
    "start_time": "2023-08-22T18:37:25.254Z"
   },
   {
    "duration": 9,
    "start_time": "2023-08-22T18:37:25.276Z"
   },
   {
    "duration": 1160,
    "start_time": "2023-08-22T18:46:33.569Z"
   },
   {
    "duration": 76,
    "start_time": "2023-08-22T18:46:34.731Z"
   },
   {
    "duration": 12,
    "start_time": "2023-08-22T18:46:34.809Z"
   },
   {
    "duration": 11,
    "start_time": "2023-08-22T18:46:34.824Z"
   },
   {
    "duration": 16,
    "start_time": "2023-08-22T18:46:34.837Z"
   },
   {
    "duration": 7,
    "start_time": "2023-08-22T18:46:34.855Z"
   },
   {
    "duration": 18,
    "start_time": "2023-08-22T18:46:34.863Z"
   },
   {
    "duration": 10,
    "start_time": "2023-08-22T18:46:34.882Z"
   },
   {
    "duration": 13,
    "start_time": "2023-08-22T18:46:34.894Z"
   },
   {
    "duration": 11,
    "start_time": "2023-08-22T18:46:34.909Z"
   },
   {
    "duration": 35,
    "start_time": "2023-08-22T18:46:34.922Z"
   },
   {
    "duration": 6,
    "start_time": "2023-08-22T18:46:34.958Z"
   },
   {
    "duration": 9,
    "start_time": "2023-08-22T18:46:34.966Z"
   },
   {
    "duration": 9,
    "start_time": "2023-08-22T18:46:34.976Z"
   },
   {
    "duration": 191,
    "start_time": "2023-08-22T18:46:34.987Z"
   },
   {
    "duration": 5,
    "start_time": "2023-08-22T18:46:35.180Z"
   },
   {
    "duration": 139,
    "start_time": "2023-08-22T18:46:35.187Z"
   },
   {
    "duration": 363,
    "start_time": "2023-08-22T18:46:35.328Z"
   },
   {
    "duration": 9,
    "start_time": "2023-08-22T18:46:35.693Z"
   },
   {
    "duration": 343,
    "start_time": "2023-08-22T18:46:35.703Z"
   },
   {
    "duration": 11,
    "start_time": "2023-08-22T18:46:36.049Z"
   },
   {
    "duration": 382,
    "start_time": "2023-08-22T18:46:36.062Z"
   },
   {
    "duration": 27,
    "start_time": "2023-08-22T18:46:36.449Z"
   },
   {
    "duration": 41,
    "start_time": "2023-08-22T18:46:36.477Z"
   },
   {
    "duration": 25,
    "start_time": "2023-08-22T18:46:36.520Z"
   },
   {
    "duration": 28,
    "start_time": "2023-08-22T18:46:36.547Z"
   },
   {
    "duration": 791,
    "start_time": "2023-08-22T18:46:36.576Z"
   },
   {
    "duration": 17,
    "start_time": "2023-08-22T18:46:37.371Z"
   },
   {
    "duration": 16,
    "start_time": "2023-08-22T18:46:37.390Z"
   },
   {
    "duration": 9,
    "start_time": "2023-08-22T18:46:37.407Z"
   },
   {
    "duration": 43,
    "start_time": "2023-08-22T18:46:37.419Z"
   },
   {
    "duration": 21,
    "start_time": "2023-08-22T18:46:37.464Z"
   },
   {
    "duration": 19,
    "start_time": "2023-08-22T18:46:37.487Z"
   },
   {
    "duration": 10,
    "start_time": "2023-08-22T18:46:37.508Z"
   },
   {
    "duration": 42,
    "start_time": "2023-08-22T18:46:37.520Z"
   },
   {
    "duration": 8,
    "start_time": "2023-08-22T18:46:37.565Z"
   },
   {
    "duration": 10,
    "start_time": "2023-08-22T18:46:37.575Z"
   },
   {
    "duration": 12,
    "start_time": "2023-08-22T19:00:03.180Z"
   }
  ],
  "kernelspec": {
   "display_name": "Python 3 (ipykernel)",
   "language": "python",
   "name": "python3"
  },
  "language_info": {
   "codemirror_mode": {
    "name": "ipython",
    "version": 3
   },
   "file_extension": ".py",
   "mimetype": "text/x-python",
   "name": "python",
   "nbconvert_exporter": "python",
   "pygments_lexer": "ipython3",
   "version": "3.9.5"
  },
  "toc": {
   "base_numbering": 1,
   "nav_menu": {},
   "number_sections": true,
   "sideBar": true,
   "skip_h1_title": true,
   "title_cell": "Table of Contents",
   "title_sidebar": "Contents",
   "toc_cell": false,
   "toc_position": {},
   "toc_section_display": true,
   "toc_window_display": false
  }
 },
 "nbformat": 4,
 "nbformat_minor": 5
}
