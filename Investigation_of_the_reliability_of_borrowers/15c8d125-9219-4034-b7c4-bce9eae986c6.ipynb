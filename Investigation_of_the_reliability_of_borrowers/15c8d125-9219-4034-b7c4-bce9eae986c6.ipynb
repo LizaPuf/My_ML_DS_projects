{
 "cells": [
  {
   "cell_type": "code",
   "execution_count": 1,
   "id": "4a9847d4",
   "metadata": {
    "deletable": false,
    "id": "7bcf75c9"
   },
   "outputs": [],
   "source": [
    "import pandas as pd\n",
    "from scipy. stats import pearsonr \n",
    "import matplotlib.pyplot as plt \n",
    "\n",
    "\n",
    "try:\n",
    "    data = pd.read_csv('/datasets/data.csv')\n",
    "except:\n",
    "    data = pd.read_csv('data.csv')"
   ]
  },
  {
   "attachments": {},
   "cell_type": "markdown",
   "id": "769fa66b",
   "metadata": {
    "deletable": false,
    "editable": false,
    "id": "b8038fe3"
   },
   "source": [
    "**Задание 2. Выведите первые 20 строчек датафрейма `data` на экран.**"
   ]
  },
  {
   "cell_type": "code",
   "execution_count": 2,
   "id": "c5794eb2",
   "metadata": {
    "deletable": false,
    "id": "2a7cab99",
    "outputId": "1a8f3ef2-d323-4ec2-ddf7-89670b5944c4"
   },
   "outputs": [
    {
     "data": {
      "text/html": [
       "<div>\n",
       "<style scoped>\n",
       "    .dataframe tbody tr th:only-of-type {\n",
       "        vertical-align: middle;\n",
       "    }\n",
       "\n",
       "    .dataframe tbody tr th {\n",
       "        vertical-align: top;\n",
       "    }\n",
       "\n",
       "    .dataframe thead th {\n",
       "        text-align: right;\n",
       "    }\n",
       "</style>\n",
       "<table border=\"1\" class=\"dataframe\">\n",
       "  <thead>\n",
       "    <tr style=\"text-align: right;\">\n",
       "      <th></th>\n",
       "      <th>children</th>\n",
       "      <th>days_employed</th>\n",
       "      <th>dob_years</th>\n",
       "      <th>education</th>\n",
       "      <th>education_id</th>\n",
       "      <th>family_status</th>\n",
       "      <th>family_status_id</th>\n",
       "      <th>gender</th>\n",
       "      <th>income_type</th>\n",
       "      <th>debt</th>\n",
       "      <th>total_income</th>\n",
       "      <th>purpose</th>\n",
       "    </tr>\n",
       "  </thead>\n",
       "  <tbody>\n",
       "    <tr>\n",
       "      <th>0</th>\n",
       "      <td>1</td>\n",
       "      <td>-8437.673028</td>\n",
       "      <td>42</td>\n",
       "      <td>высшее</td>\n",
       "      <td>0</td>\n",
       "      <td>женат / замужем</td>\n",
       "      <td>0</td>\n",
       "      <td>F</td>\n",
       "      <td>сотрудник</td>\n",
       "      <td>0</td>\n",
       "      <td>253875.639453</td>\n",
       "      <td>покупка жилья</td>\n",
       "    </tr>\n",
       "    <tr>\n",
       "      <th>1</th>\n",
       "      <td>1</td>\n",
       "      <td>-4024.803754</td>\n",
       "      <td>36</td>\n",
       "      <td>среднее</td>\n",
       "      <td>1</td>\n",
       "      <td>женат / замужем</td>\n",
       "      <td>0</td>\n",
       "      <td>F</td>\n",
       "      <td>сотрудник</td>\n",
       "      <td>0</td>\n",
       "      <td>112080.014102</td>\n",
       "      <td>приобретение автомобиля</td>\n",
       "    </tr>\n",
       "    <tr>\n",
       "      <th>2</th>\n",
       "      <td>0</td>\n",
       "      <td>-5623.422610</td>\n",
       "      <td>33</td>\n",
       "      <td>Среднее</td>\n",
       "      <td>1</td>\n",
       "      <td>женат / замужем</td>\n",
       "      <td>0</td>\n",
       "      <td>M</td>\n",
       "      <td>сотрудник</td>\n",
       "      <td>0</td>\n",
       "      <td>145885.952297</td>\n",
       "      <td>покупка жилья</td>\n",
       "    </tr>\n",
       "    <tr>\n",
       "      <th>3</th>\n",
       "      <td>3</td>\n",
       "      <td>-4124.747207</td>\n",
       "      <td>32</td>\n",
       "      <td>среднее</td>\n",
       "      <td>1</td>\n",
       "      <td>женат / замужем</td>\n",
       "      <td>0</td>\n",
       "      <td>M</td>\n",
       "      <td>сотрудник</td>\n",
       "      <td>0</td>\n",
       "      <td>267628.550329</td>\n",
       "      <td>дополнительное образование</td>\n",
       "    </tr>\n",
       "    <tr>\n",
       "      <th>4</th>\n",
       "      <td>0</td>\n",
       "      <td>340266.072047</td>\n",
       "      <td>53</td>\n",
       "      <td>среднее</td>\n",
       "      <td>1</td>\n",
       "      <td>гражданский брак</td>\n",
       "      <td>1</td>\n",
       "      <td>F</td>\n",
       "      <td>пенсионер</td>\n",
       "      <td>0</td>\n",
       "      <td>158616.077870</td>\n",
       "      <td>сыграть свадьбу</td>\n",
       "    </tr>\n",
       "    <tr>\n",
       "      <th>5</th>\n",
       "      <td>0</td>\n",
       "      <td>-926.185831</td>\n",
       "      <td>27</td>\n",
       "      <td>высшее</td>\n",
       "      <td>0</td>\n",
       "      <td>гражданский брак</td>\n",
       "      <td>1</td>\n",
       "      <td>M</td>\n",
       "      <td>компаньон</td>\n",
       "      <td>0</td>\n",
       "      <td>255763.565419</td>\n",
       "      <td>покупка жилья</td>\n",
       "    </tr>\n",
       "    <tr>\n",
       "      <th>6</th>\n",
       "      <td>0</td>\n",
       "      <td>-2879.202052</td>\n",
       "      <td>43</td>\n",
       "      <td>высшее</td>\n",
       "      <td>0</td>\n",
       "      <td>женат / замужем</td>\n",
       "      <td>0</td>\n",
       "      <td>F</td>\n",
       "      <td>компаньон</td>\n",
       "      <td>0</td>\n",
       "      <td>240525.971920</td>\n",
       "      <td>операции с жильем</td>\n",
       "    </tr>\n",
       "    <tr>\n",
       "      <th>7</th>\n",
       "      <td>0</td>\n",
       "      <td>-152.779569</td>\n",
       "      <td>50</td>\n",
       "      <td>СРЕДНЕЕ</td>\n",
       "      <td>1</td>\n",
       "      <td>женат / замужем</td>\n",
       "      <td>0</td>\n",
       "      <td>M</td>\n",
       "      <td>сотрудник</td>\n",
       "      <td>0</td>\n",
       "      <td>135823.934197</td>\n",
       "      <td>образование</td>\n",
       "    </tr>\n",
       "    <tr>\n",
       "      <th>8</th>\n",
       "      <td>2</td>\n",
       "      <td>-6929.865299</td>\n",
       "      <td>35</td>\n",
       "      <td>ВЫСШЕЕ</td>\n",
       "      <td>0</td>\n",
       "      <td>гражданский брак</td>\n",
       "      <td>1</td>\n",
       "      <td>F</td>\n",
       "      <td>сотрудник</td>\n",
       "      <td>0</td>\n",
       "      <td>95856.832424</td>\n",
       "      <td>на проведение свадьбы</td>\n",
       "    </tr>\n",
       "    <tr>\n",
       "      <th>9</th>\n",
       "      <td>0</td>\n",
       "      <td>-2188.756445</td>\n",
       "      <td>41</td>\n",
       "      <td>среднее</td>\n",
       "      <td>1</td>\n",
       "      <td>женат / замужем</td>\n",
       "      <td>0</td>\n",
       "      <td>M</td>\n",
       "      <td>сотрудник</td>\n",
       "      <td>0</td>\n",
       "      <td>144425.938277</td>\n",
       "      <td>покупка жилья для семьи</td>\n",
       "    </tr>\n",
       "    <tr>\n",
       "      <th>10</th>\n",
       "      <td>2</td>\n",
       "      <td>-4171.483647</td>\n",
       "      <td>36</td>\n",
       "      <td>высшее</td>\n",
       "      <td>0</td>\n",
       "      <td>женат / замужем</td>\n",
       "      <td>0</td>\n",
       "      <td>M</td>\n",
       "      <td>компаньон</td>\n",
       "      <td>0</td>\n",
       "      <td>113943.491460</td>\n",
       "      <td>покупка недвижимости</td>\n",
       "    </tr>\n",
       "    <tr>\n",
       "      <th>11</th>\n",
       "      <td>0</td>\n",
       "      <td>-792.701887</td>\n",
       "      <td>40</td>\n",
       "      <td>среднее</td>\n",
       "      <td>1</td>\n",
       "      <td>женат / замужем</td>\n",
       "      <td>0</td>\n",
       "      <td>F</td>\n",
       "      <td>сотрудник</td>\n",
       "      <td>0</td>\n",
       "      <td>77069.234271</td>\n",
       "      <td>покупка коммерческой недвижимости</td>\n",
       "    </tr>\n",
       "    <tr>\n",
       "      <th>12</th>\n",
       "      <td>0</td>\n",
       "      <td>NaN</td>\n",
       "      <td>65</td>\n",
       "      <td>среднее</td>\n",
       "      <td>1</td>\n",
       "      <td>гражданский брак</td>\n",
       "      <td>1</td>\n",
       "      <td>M</td>\n",
       "      <td>пенсионер</td>\n",
       "      <td>0</td>\n",
       "      <td>NaN</td>\n",
       "      <td>сыграть свадьбу</td>\n",
       "    </tr>\n",
       "    <tr>\n",
       "      <th>13</th>\n",
       "      <td>0</td>\n",
       "      <td>-1846.641941</td>\n",
       "      <td>54</td>\n",
       "      <td>неоконченное высшее</td>\n",
       "      <td>2</td>\n",
       "      <td>женат / замужем</td>\n",
       "      <td>0</td>\n",
       "      <td>F</td>\n",
       "      <td>сотрудник</td>\n",
       "      <td>0</td>\n",
       "      <td>130458.228857</td>\n",
       "      <td>приобретение автомобиля</td>\n",
       "    </tr>\n",
       "    <tr>\n",
       "      <th>14</th>\n",
       "      <td>0</td>\n",
       "      <td>-1844.956182</td>\n",
       "      <td>56</td>\n",
       "      <td>высшее</td>\n",
       "      <td>0</td>\n",
       "      <td>гражданский брак</td>\n",
       "      <td>1</td>\n",
       "      <td>F</td>\n",
       "      <td>компаньон</td>\n",
       "      <td>1</td>\n",
       "      <td>165127.911772</td>\n",
       "      <td>покупка жилой недвижимости</td>\n",
       "    </tr>\n",
       "    <tr>\n",
       "      <th>15</th>\n",
       "      <td>1</td>\n",
       "      <td>-972.364419</td>\n",
       "      <td>26</td>\n",
       "      <td>среднее</td>\n",
       "      <td>1</td>\n",
       "      <td>женат / замужем</td>\n",
       "      <td>0</td>\n",
       "      <td>F</td>\n",
       "      <td>сотрудник</td>\n",
       "      <td>0</td>\n",
       "      <td>116820.904450</td>\n",
       "      <td>строительство собственной недвижимости</td>\n",
       "    </tr>\n",
       "    <tr>\n",
       "      <th>16</th>\n",
       "      <td>0</td>\n",
       "      <td>-1719.934226</td>\n",
       "      <td>35</td>\n",
       "      <td>среднее</td>\n",
       "      <td>1</td>\n",
       "      <td>женат / замужем</td>\n",
       "      <td>0</td>\n",
       "      <td>F</td>\n",
       "      <td>сотрудник</td>\n",
       "      <td>0</td>\n",
       "      <td>289202.704229</td>\n",
       "      <td>недвижимость</td>\n",
       "    </tr>\n",
       "    <tr>\n",
       "      <th>17</th>\n",
       "      <td>0</td>\n",
       "      <td>-2369.999720</td>\n",
       "      <td>33</td>\n",
       "      <td>высшее</td>\n",
       "      <td>0</td>\n",
       "      <td>гражданский брак</td>\n",
       "      <td>1</td>\n",
       "      <td>M</td>\n",
       "      <td>сотрудник</td>\n",
       "      <td>0</td>\n",
       "      <td>90410.586745</td>\n",
       "      <td>строительство недвижимости</td>\n",
       "    </tr>\n",
       "    <tr>\n",
       "      <th>18</th>\n",
       "      <td>0</td>\n",
       "      <td>400281.136913</td>\n",
       "      <td>53</td>\n",
       "      <td>среднее</td>\n",
       "      <td>1</td>\n",
       "      <td>вдовец / вдова</td>\n",
       "      <td>2</td>\n",
       "      <td>F</td>\n",
       "      <td>пенсионер</td>\n",
       "      <td>0</td>\n",
       "      <td>56823.777243</td>\n",
       "      <td>на покупку подержанного автомобиля</td>\n",
       "    </tr>\n",
       "    <tr>\n",
       "      <th>19</th>\n",
       "      <td>0</td>\n",
       "      <td>-10038.818549</td>\n",
       "      <td>48</td>\n",
       "      <td>СРЕДНЕЕ</td>\n",
       "      <td>1</td>\n",
       "      <td>в разводе</td>\n",
       "      <td>3</td>\n",
       "      <td>F</td>\n",
       "      <td>сотрудник</td>\n",
       "      <td>0</td>\n",
       "      <td>242831.107982</td>\n",
       "      <td>на покупку своего автомобиля</td>\n",
       "    </tr>\n",
       "  </tbody>\n",
       "</table>\n",
       "</div>"
      ],
      "text/plain": [
       "    children  days_employed  dob_years            education  education_id  \\\n",
       "0          1   -8437.673028         42               высшее             0   \n",
       "1          1   -4024.803754         36              среднее             1   \n",
       "2          0   -5623.422610         33              Среднее             1   \n",
       "3          3   -4124.747207         32              среднее             1   \n",
       "4          0  340266.072047         53              среднее             1   \n",
       "5          0    -926.185831         27               высшее             0   \n",
       "6          0   -2879.202052         43               высшее             0   \n",
       "7          0    -152.779569         50              СРЕДНЕЕ             1   \n",
       "8          2   -6929.865299         35               ВЫСШЕЕ             0   \n",
       "9          0   -2188.756445         41              среднее             1   \n",
       "10         2   -4171.483647         36               высшее             0   \n",
       "11         0    -792.701887         40              среднее             1   \n",
       "12         0            NaN         65              среднее             1   \n",
       "13         0   -1846.641941         54  неоконченное высшее             2   \n",
       "14         0   -1844.956182         56               высшее             0   \n",
       "15         1    -972.364419         26              среднее             1   \n",
       "16         0   -1719.934226         35              среднее             1   \n",
       "17         0   -2369.999720         33               высшее             0   \n",
       "18         0  400281.136913         53              среднее             1   \n",
       "19         0  -10038.818549         48              СРЕДНЕЕ             1   \n",
       "\n",
       "       family_status  family_status_id gender income_type  debt  \\\n",
       "0    женат / замужем                 0      F   сотрудник     0   \n",
       "1    женат / замужем                 0      F   сотрудник     0   \n",
       "2    женат / замужем                 0      M   сотрудник     0   \n",
       "3    женат / замужем                 0      M   сотрудник     0   \n",
       "4   гражданский брак                 1      F   пенсионер     0   \n",
       "5   гражданский брак                 1      M   компаньон     0   \n",
       "6    женат / замужем                 0      F   компаньон     0   \n",
       "7    женат / замужем                 0      M   сотрудник     0   \n",
       "8   гражданский брак                 1      F   сотрудник     0   \n",
       "9    женат / замужем                 0      M   сотрудник     0   \n",
       "10   женат / замужем                 0      M   компаньон     0   \n",
       "11   женат / замужем                 0      F   сотрудник     0   \n",
       "12  гражданский брак                 1      M   пенсионер     0   \n",
       "13   женат / замужем                 0      F   сотрудник     0   \n",
       "14  гражданский брак                 1      F   компаньон     1   \n",
       "15   женат / замужем                 0      F   сотрудник     0   \n",
       "16   женат / замужем                 0      F   сотрудник     0   \n",
       "17  гражданский брак                 1      M   сотрудник     0   \n",
       "18    вдовец / вдова                 2      F   пенсионер     0   \n",
       "19         в разводе                 3      F   сотрудник     0   \n",
       "\n",
       "     total_income                                 purpose  \n",
       "0   253875.639453                           покупка жилья  \n",
       "1   112080.014102                 приобретение автомобиля  \n",
       "2   145885.952297                           покупка жилья  \n",
       "3   267628.550329              дополнительное образование  \n",
       "4   158616.077870                         сыграть свадьбу  \n",
       "5   255763.565419                           покупка жилья  \n",
       "6   240525.971920                       операции с жильем  \n",
       "7   135823.934197                             образование  \n",
       "8    95856.832424                   на проведение свадьбы  \n",
       "9   144425.938277                 покупка жилья для семьи  \n",
       "10  113943.491460                    покупка недвижимости  \n",
       "11   77069.234271       покупка коммерческой недвижимости  \n",
       "12            NaN                         сыграть свадьбу  \n",
       "13  130458.228857                 приобретение автомобиля  \n",
       "14  165127.911772              покупка жилой недвижимости  \n",
       "15  116820.904450  строительство собственной недвижимости  \n",
       "16  289202.704229                            недвижимость  \n",
       "17   90410.586745              строительство недвижимости  \n",
       "18   56823.777243      на покупку подержанного автомобиля  \n",
       "19  242831.107982            на покупку своего автомобиля  "
      ]
     },
     "execution_count": 2,
     "metadata": {},
     "output_type": "execute_result"
    }
   ],
   "source": [
    "data.head(20)"
   ]
  },
  {
   "attachments": {},
   "cell_type": "markdown",
   "id": "a7b41b00",
   "metadata": {
    "deletable": false,
    "editable": false,
    "id": "1c12e233"
   },
   "source": [
    "**Задание 3. Выведите основную информацию о датафрейме с помощью метода `info()`.**"
   ]
  },
  {
   "cell_type": "code",
   "execution_count": 3,
   "id": "8188df75",
   "metadata": {
    "deletable": false,
    "id": "2b757bca",
    "outputId": "15376089-8dad-46c9-b520-c05248d43158"
   },
   "outputs": [
    {
     "name": "stdout",
     "output_type": "stream",
     "text": [
      "<class 'pandas.core.frame.DataFrame'>\n",
      "RangeIndex: 21525 entries, 0 to 21524\n",
      "Data columns (total 12 columns):\n",
      " #   Column            Non-Null Count  Dtype  \n",
      "---  ------            --------------  -----  \n",
      " 0   children          21525 non-null  int64  \n",
      " 1   days_employed     19351 non-null  float64\n",
      " 2   dob_years         21525 non-null  int64  \n",
      " 3   education         21525 non-null  object \n",
      " 4   education_id      21525 non-null  int64  \n",
      " 5   family_status     21525 non-null  object \n",
      " 6   family_status_id  21525 non-null  int64  \n",
      " 7   gender            21525 non-null  object \n",
      " 8   income_type       21525 non-null  object \n",
      " 9   debt              21525 non-null  int64  \n",
      " 10  total_income      19351 non-null  float64\n",
      " 11  purpose           21525 non-null  object \n",
      "dtypes: float64(2), int64(5), object(5)\n",
      "memory usage: 2.0+ MB\n"
     ]
    }
   ],
   "source": [
    "data.info()"
   ]
  },
  {
   "attachments": {},
   "cell_type": "markdown",
   "id": "cd797bb0",
   "metadata": {
    "deletable": false,
    "editable": false,
    "id": "333ec665"
   },
   "source": [
    "## Предобработка данных"
   ]
  },
  {
   "attachments": {},
   "cell_type": "markdown",
   "id": "64726ac9",
   "metadata": {
    "deletable": false,
    "editable": false,
    "id": "02d92d53"
   },
   "source": [
    "### Удаление пропусков"
   ]
  },
  {
   "attachments": {},
   "cell_type": "markdown",
   "id": "b7577b0e",
   "metadata": {
    "deletable": false,
    "editable": false,
    "id": "cd84967c"
   },
   "source": [
    "**Задание 4. Выведите количество пропущенных значений для каждого столбца. Используйте комбинацию двух методов.**"
   ]
  },
  {
   "cell_type": "code",
   "execution_count": 4,
   "id": "c09a0ae2",
   "metadata": {
    "deletable": false,
    "id": "7f9b2309",
    "outputId": "81f4d817-781c-465c-ed15-91ce4446810d"
   },
   "outputs": [
    {
     "data": {
      "text/plain": [
       "children               0\n",
       "days_employed       2174\n",
       "dob_years              0\n",
       "education              0\n",
       "education_id           0\n",
       "family_status          0\n",
       "family_status_id       0\n",
       "gender                 0\n",
       "income_type            0\n",
       "debt                   0\n",
       "total_income        2174\n",
       "purpose                0\n",
       "dtype: int64"
      ]
     },
     "execution_count": 4,
     "metadata": {},
     "output_type": "execute_result"
    }
   ],
   "source": [
    "data.isna().sum()"
   ]
  },
  {
   "attachments": {},
   "cell_type": "markdown",
   "id": "6b4b0311",
   "metadata": {
    "deletable": false,
    "editable": false,
    "id": "db86e27b"
   },
   "source": [
    "**Задание 5. В двух столбцах есть пропущенные значения. Один из них — `days_employed`. Пропуски в этом столбце вы обработаете на следующем этапе. Другой столбец с пропущенными значениями — `total_income` — хранит данные о доходах. На сумму дохода сильнее всего влияет тип занятости, поэтому заполнить пропуски в этом столбце нужно медианным значением по каждому типу из столбца `income_type`. Например, у человека с типом занятости `сотрудник` пропуск в столбце `total_income` должен быть заполнен медианным доходом среди всех записей с тем же типом.**"
   ]
  },
  {
   "cell_type": "code",
   "execution_count": 5,
   "id": "5ee2d6f1",
   "metadata": {
    "deletable": false,
    "id": "42006a93"
   },
   "outputs": [],
   "source": [
    "for t in data['income_type'].unique():\n",
    "    data.loc[(data['income_type'] == t) & (data['total_income'].isna()), 'total_income'] = \\\n",
    "    data.loc[(data['income_type'] == t), 'total_income'].median()"
   ]
  },
  {
   "attachments": {},
   "cell_type": "markdown",
   "id": "34042bdf",
   "metadata": {
    "deletable": false,
    "editable": false,
    "id": "89da5ece"
   },
   "source": [
    "### Обработка аномальных значений"
   ]
  },
  {
   "attachments": {},
   "cell_type": "markdown",
   "id": "401d9f3e",
   "metadata": {
    "deletable": false,
    "editable": false,
    "id": "57964554"
   },
   "source": [
    "**Задание 6. В данных могут встречаться артефакты (аномалии) — значения, которые не отражают действительность и появились по какой-то ошибке. таким артефактом будет отрицательное количество дней трудового стажа в столбце `days_employed`. Для реальных данных это нормально. Обработайте значения в этом столбце: замените все отрицательные значения положительными с помощью метода `abs()`.**"
   ]
  },
  {
   "cell_type": "code",
   "execution_count": 6,
   "id": "d5e3542d",
   "metadata": {
    "deletable": false,
    "id": "f6f055bf"
   },
   "outputs": [],
   "source": [
    "data['days_employed'] = data['days_employed'].abs()"
   ]
  },
  {
   "attachments": {},
   "cell_type": "markdown",
   "id": "6b755fec",
   "metadata": {
    "deletable": false,
    "editable": false,
    "id": "6107dd2f"
   },
   "source": [
    "**Задание 7. Для каждого типа занятости выведите медианное значение трудового стажа `days_employed` в днях.**"
   ]
  },
  {
   "cell_type": "code",
   "execution_count": 7,
   "id": "c646a980",
   "metadata": {
    "deletable": false,
    "id": "85a5faf6",
    "outputId": "801ef80e-522b-4668-f34e-565af7432bcf"
   },
   "outputs": [
    {
     "data": {
      "text/plain": [
       "income_type\n",
       "безработный        366413.652744\n",
       "в декрете            3296.759962\n",
       "госслужащий          2689.368353\n",
       "компаньон            1547.382223\n",
       "пенсионер          365213.306266\n",
       "предприниматель       520.848083\n",
       "сотрудник            1574.202821\n",
       "студент               578.751554\n",
       "Name: days_employed, dtype: float64"
      ]
     },
     "execution_count": 7,
     "metadata": {},
     "output_type": "execute_result"
    }
   ],
   "source": [
    "data.groupby('income_type')['days_employed'].agg('median')"
   ]
  },
  {
   "attachments": {},
   "cell_type": "markdown",
   "id": "256ac3dd",
   "metadata": {
    "deletable": false,
    "editable": false,
    "id": "38d1a030"
   },
   "source": [
    "У двух типов (безработные и пенсионеры) получатся аномально большие значения. Исправить такие значения сложно, поэтому оставьте их как есть. Тем более этот столбец не понадобится вам для исследования."
   ]
  },
  {
   "attachments": {},
   "cell_type": "markdown",
   "id": "b3a02981",
   "metadata": {
    "deletable": false,
    "editable": false,
    "id": "d8a9f147"
   },
   "source": [
    "**Задание 8. Выведите перечень уникальных значений столбца `children`.**"
   ]
  },
  {
   "cell_type": "code",
   "execution_count": 8,
   "id": "1e7bf010",
   "metadata": {
    "deletable": false,
    "id": "ef5056eb",
    "outputId": "6975b15c-7f95-4697-d16d-a0c79b657b03"
   },
   "outputs": [
    {
     "data": {
      "text/plain": [
       "array([ 1,  0,  3,  2, -1,  4, 20,  5])"
      ]
     },
     "execution_count": 8,
     "metadata": {},
     "output_type": "execute_result"
    }
   ],
   "source": [
    "data['children'].unique()"
   ]
  },
  {
   "attachments": {},
   "cell_type": "markdown",
   "id": "9c79d818",
   "metadata": {
    "deletable": false,
    "editable": false,
    "id": "40b9ebf2"
   },
   "source": [
    "**Задание 9. В столбце `children` есть два аномальных значения. Удалите строки, в которых встречаются такие аномальные значения из датафрейма `data`.**"
   ]
  },
  {
   "cell_type": "code",
   "execution_count": 9,
   "id": "8b938300",
   "metadata": {
    "deletable": false,
    "id": "3ff9801d"
   },
   "outputs": [],
   "source": [
    "data = data[(data['children'] != -1) & (data['children'] != 20)]"
   ]
  },
  {
   "attachments": {},
   "cell_type": "markdown",
   "id": "82956a94",
   "metadata": {
    "deletable": false,
    "editable": false,
    "id": "bbc4d0ce"
   },
   "source": [
    "**Задание 10. Ещё раз выведите перечень уникальных значений столбца `children`, чтобы убедиться, что артефакты удалены.**"
   ]
  },
  {
   "cell_type": "code",
   "execution_count": 10,
   "id": "2d803b59",
   "metadata": {
    "deletable": false,
    "id": "ad4fa8b7",
    "outputId": "b2097101-d49d-44d9-901b-32a65c9463d1"
   },
   "outputs": [
    {
     "data": {
      "text/plain": [
       "array([1, 0, 3, 2, 4, 5])"
      ]
     },
     "execution_count": 10,
     "metadata": {},
     "output_type": "execute_result"
    }
   ],
   "source": [
    "data['children'].unique()"
   ]
  },
  {
   "attachments": {},
   "cell_type": "markdown",
   "id": "062d68c1",
   "metadata": {
    "deletable": false,
    "editable": false,
    "id": "75440b63"
   },
   "source": [
    "### Удаление пропусков (продолжение)"
   ]
  },
  {
   "attachments": {},
   "cell_type": "markdown",
   "id": "a2fb1a84",
   "metadata": {
    "deletable": false,
    "editable": false,
    "id": "f4ea573f"
   },
   "source": [
    "**Задание 11. Заполните пропуски в столбце `days_employed` медианными значениями по каждого типа занятости `income_type`.**"
   ]
  },
  {
   "cell_type": "code",
   "execution_count": 11,
   "id": "f4f5e1d0",
   "metadata": {
    "deletable": false,
    "id": "af6b1a7e"
   },
   "outputs": [],
   "source": [
    "for t in data['income_type'].unique():\n",
    "    data.loc[(data['income_type'] == t) & (data['days_employed'].isna()), 'days_employed'] = \\\n",
    "    data.loc[(data['income_type'] == t), 'days_employed'].median()"
   ]
  },
  {
   "attachments": {},
   "cell_type": "markdown",
   "id": "807b5aa4",
   "metadata": {
    "deletable": false,
    "editable": false,
    "id": "2753f40d"
   },
   "source": [
    "**Задание 12. Убедитесь, что все пропуски заполнены. Проверьте себя и ещё раз выведите количество пропущенных значений для каждого столбца с помощью двух методов.**"
   ]
  },
  {
   "cell_type": "code",
   "execution_count": 12,
   "id": "967070f1",
   "metadata": {
    "deletable": false,
    "id": "55f78bc2",
    "outputId": "8da1e4e1-358e-4e87-98c9-f261bce0a7b2"
   },
   "outputs": [
    {
     "data": {
      "text/plain": [
       "children            0\n",
       "days_employed       0\n",
       "dob_years           0\n",
       "education           0\n",
       "education_id        0\n",
       "family_status       0\n",
       "family_status_id    0\n",
       "gender              0\n",
       "income_type         0\n",
       "debt                0\n",
       "total_income        0\n",
       "purpose             0\n",
       "dtype: int64"
      ]
     },
     "execution_count": 12,
     "metadata": {},
     "output_type": "execute_result"
    }
   ],
   "source": [
    "data.isna().sum()"
   ]
  },
  {
   "attachments": {},
   "cell_type": "markdown",
   "id": "11698782",
   "metadata": {
    "deletable": false,
    "editable": false,
    "id": "ddc81e43"
   },
   "source": [
    "### Изменение типов данных"
   ]
  },
  {
   "attachments": {},
   "cell_type": "markdown",
   "id": "e8e99459",
   "metadata": {
    "deletable": false,
    "editable": false,
    "id": "42d19d24"
   },
   "source": [
    "**Задание 13. Замените вещественный тип данных в столбце `total_income` на целочисленный с помощью метода `astype()`.**"
   ]
  },
  {
   "cell_type": "code",
   "execution_count": 13,
   "id": "a24a7b17",
   "metadata": {
    "deletable": false,
    "id": "920b65ad"
   },
   "outputs": [],
   "source": [
    "data['total_income'] = data['total_income'].astype(int)"
   ]
  },
  {
   "attachments": {},
   "cell_type": "markdown",
   "id": "2130ff23",
   "metadata": {
    "deletable": false,
    "editable": false,
    "id": "80c420ba"
   },
   "source": [
    "### Обработка дубликатов"
   ]
  },
  {
   "attachments": {},
   "cell_type": "markdown",
   "id": "7e69b6d3",
   "metadata": {
    "deletable": false,
    "editable": false
   },
   "source": [
    "**Задание 14. Обработайте неявные дубликаты в столбце `education`. В этом столбце есть одни и те же значения, но записанные по-разному: с использованием заглавных и строчных букв. Приведите их к нижнему регистру. Проверьте остальные столбцы.**"
   ]
  },
  {
   "cell_type": "code",
   "execution_count": 14,
   "id": "b06c5069",
   "metadata": {
    "deletable": false
   },
   "outputs": [],
   "source": [
    "data['education'] = data['education'].str.lower()"
   ]
  },
  {
   "attachments": {},
   "cell_type": "markdown",
   "id": "0a68feb6",
   "metadata": {
    "deletable": false,
    "editable": false,
    "id": "dc587695"
   },
   "source": [
    "**Задание 15. Выведите на экран количество строк-дубликатов в данных. Если такие строки присутствуют, удалите их.**"
   ]
  },
  {
   "cell_type": "code",
   "execution_count": 15,
   "id": "13c107af",
   "metadata": {
    "deletable": false,
    "id": "3ee445e4",
    "outputId": "9684deba-1934-42d1-99e1-cda61740f822"
   },
   "outputs": [
    {
     "data": {
      "text/plain": [
       "71"
      ]
     },
     "execution_count": 15,
     "metadata": {},
     "output_type": "execute_result"
    }
   ],
   "source": [
    "data.duplicated().sum()"
   ]
  },
  {
   "cell_type": "code",
   "execution_count": 16,
   "id": "cb0cd2cc",
   "metadata": {
    "deletable": false,
    "id": "8575fe05"
   },
   "outputs": [],
   "source": [
    "data = data.drop_duplicates()"
   ]
  },
  {
   "attachments": {},
   "cell_type": "markdown",
   "id": "a1f47bd9",
   "metadata": {
    "deletable": false,
    "editable": false,
    "id": "9904cf55"
   },
   "source": [
    "### Категоризация данных"
   ]
  },
  {
   "attachments": {},
   "cell_type": "markdown",
   "id": "c1c41590",
   "metadata": {
    "deletable": false,
    "editable": false,
    "id": "72fcc8a2"
   },
   "source": [
    "**Задание 16. На основании диапазонов, указанных ниже, создайте в датафрейме `data` столбец `total_income_category` с категориями:**\n",
    "\n",
    "- 0–30000 — `'E'`;\n",
    "- 30001–50000 — `'D'`;\n",
    "- 50001–200000 — `'C'`;\n",
    "- 200001–1000000 — `'B'`;\n",
    "- 1000001 и выше — `'A'`.\n",
    "\n",
    "\n",
    "**Например, кредитополучателю с доходом 25000 нужно назначить категорию `'E'`, а клиенту, получающему 235000, — `'B'`. Используйте собственную функцию с именем `categorize_income()` и метод `apply()`.**"
   ]
  },
  {
   "cell_type": "code",
   "execution_count": 17,
   "id": "758e22c4",
   "metadata": {
    "deletable": false,
    "id": "e1771346"
   },
   "outputs": [],
   "source": [
    "def categorize_income(income):\n",
    "    try:\n",
    "        if 0 <= income <= 30000:\n",
    "            return 'E'\n",
    "        elif 30001 <= income <= 50000:\n",
    "            return 'D'\n",
    "        elif 50001 <= income <= 200000:\n",
    "            return 'C'\n",
    "        elif 200001 <= income <= 1000000:\n",
    "            return 'B'\n",
    "        elif income >= 1000001:\n",
    "            return 'A'\n",
    "    except:\n",
    "        pass"
   ]
  },
  {
   "cell_type": "code",
   "execution_count": 18,
   "id": "02bd09df",
   "metadata": {
    "deletable": false,
    "id": "d5f3586d"
   },
   "outputs": [],
   "source": [
    "data['total_income_category'] = data['total_income'].apply(categorize_income)"
   ]
  },
  {
   "attachments": {},
   "cell_type": "markdown",
   "id": "6603b862",
   "metadata": {
    "deletable": false,
    "editable": false,
    "id": "dde49b5c"
   },
   "source": [
    "**Задание 17. Выведите на экран перечень уникальных целей взятия кредита из столбца `purpose`.**"
   ]
  },
  {
   "cell_type": "code",
   "execution_count": 19,
   "id": "9703122b",
   "metadata": {
    "deletable": false,
    "id": "f67ce9b3",
    "outputId": "673c12d9-7d7e-4ae0-9812-c622c89dd244"
   },
   "outputs": [
    {
     "data": {
      "text/plain": [
       "array(['покупка жилья', 'приобретение автомобиля',\n",
       "       'дополнительное образование', 'сыграть свадьбу',\n",
       "       'операции с жильем', 'образование', 'на проведение свадьбы',\n",
       "       'покупка жилья для семьи', 'покупка недвижимости',\n",
       "       'покупка коммерческой недвижимости', 'покупка жилой недвижимости',\n",
       "       'строительство собственной недвижимости', 'недвижимость',\n",
       "       'строительство недвижимости', 'на покупку подержанного автомобиля',\n",
       "       'на покупку своего автомобиля',\n",
       "       'операции с коммерческой недвижимостью',\n",
       "       'строительство жилой недвижимости', 'жилье',\n",
       "       'операции со своей недвижимостью', 'автомобили',\n",
       "       'заняться образованием', 'сделка с подержанным автомобилем',\n",
       "       'получение образования', 'автомобиль', 'свадьба',\n",
       "       'получение дополнительного образования', 'покупка своего жилья',\n",
       "       'операции с недвижимостью', 'получение высшего образования',\n",
       "       'свой автомобиль', 'сделка с автомобилем',\n",
       "       'профильное образование', 'высшее образование',\n",
       "       'покупка жилья для сдачи', 'на покупку автомобиля', 'ремонт жилью',\n",
       "       'заняться высшим образованием'], dtype=object)"
      ]
     },
     "execution_count": 19,
     "metadata": {},
     "output_type": "execute_result"
    }
   ],
   "source": [
    "data['purpose'].unique()"
   ]
  },
  {
   "attachments": {},
   "cell_type": "markdown",
   "id": "4b45f01f",
   "metadata": {
    "deletable": false,
    "editable": false,
    "id": "85d0aef0"
   },
   "source": [
    "**Задание 18. Создайте функцию, которая на основании данных из столбца `purpose` сформирует новый столбец `purpose_category`, в который войдут следующие категории:**\n",
    "\n",
    "- `'операции с автомобилем'`,\n",
    "- `'операции с недвижимостью'`,\n",
    "- `'проведение свадьбы'`,\n",
    "- `'получение образования'`.\n",
    "\n",
    "**Например, если в столбце `purpose` находится подстрока `'на покупку автомобиля'`, то в столбце `purpose_category` должна появиться строка `'операции с автомобилем'`.**\n",
    "\n",
    "**Используйте собственную функцию с именем `categorize_purpose()` и метод `apply()`. Изучите данные в столбце `purpose` и определите, какие подстроки помогут вам правильно определить категорию.**"
   ]
  },
  {
   "cell_type": "code",
   "execution_count": 20,
   "id": "8c528156",
   "metadata": {
    "deletable": false,
    "id": "e149fab4"
   },
   "outputs": [],
   "source": [
    "def categorize_purpose(row):\n",
    "    try:\n",
    "        if 'автом' in row:\n",
    "            return 'операции с автомобилем'\n",
    "        elif 'жил' in row or 'недвиж' in row:\n",
    "            return 'операции с недвижимостью'\n",
    "        elif 'свад' in row:\n",
    "            return 'проведение свадьбы'\n",
    "        elif 'образов' in row:\n",
    "            return 'получение образования'\n",
    "    except:\n",
    "        return 'нет категории'"
   ]
  },
  {
   "cell_type": "code",
   "execution_count": 21,
   "id": "6469aec3",
   "metadata": {
    "deletable": false,
    "id": "bf36e69b"
   },
   "outputs": [],
   "source": [
    "data['purpose_category'] = data['purpose'].apply(categorize_purpose)"
   ]
  },
  {
   "attachments": {},
   "cell_type": "markdown",
   "id": "6c053cb1",
   "metadata": {
    "deletable": false,
    "editable": false,
    "id": "09b242bf"
   },
   "source": [
    "### Шаг 3. Исследуйте данные и ответьте на вопросы"
   ]
  },
  {
   "attachments": {},
   "cell_type": "markdown",
   "id": "800905f8",
   "metadata": {
    "deletable": false,
    "editable": false,
    "id": "c5d66278"
   },
   "source": [
    "#### 3.1 Есть ли зависимость между количеством детей и возвратом кредита в срок?"
   ]
  },
  {
   "attachments": {},
   "cell_type": "markdown",
   "id": "c9827811",
   "metadata": {
    "deletable": false,
    "id": "2cacfc4a"
   },
   "source": [
    "**Последовательность действий** \n",
    "1. Выполнить подсчет общего количества клиентов с разным количеством детей\n",
    "2. Выполнить подсчет количества клиентов, имевших задолженность по возврату кредитов, по каждому количеству детей\n",
    "3. Рассчитать процент клиентов с задолженностью в каждой категории количества детей\n",
    "4. Проанализировать полученные результаты. При необходимости выполнить дополнительные расчеты"
   ]
  },
  {
   "cell_type": "code",
   "execution_count": 22,
   "id": "1d80f2fa",
   "metadata": {},
   "outputs": [
    {
     "name": "stdout",
     "output_type": "stream",
     "text": [
      "0    14091\n",
      "1     4808\n",
      "2     2052\n",
      "3      330\n",
      "4       41\n",
      "5        9\n",
      "Name: children, dtype: int64\n"
     ]
    }
   ],
   "source": [
    "#шаг 1\n",
    "children_counts = data['children'].value_counts()\n",
    "print(children_counts)"
   ]
  },
  {
   "attachments": {},
   "cell_type": "markdown",
   "id": "5b098ddd",
   "metadata": {
    "deletable": false,
    "id": "3a6b99ec"
   },
   "source": []
  },
  {
   "cell_type": "code",
   "execution_count": 23,
   "id": "5a2373f6",
   "metadata": {},
   "outputs": [
    {
     "name": "stdout",
     "output_type": "stream",
     "text": [
      "children\n",
      "0    1063\n",
      "1     444\n",
      "2     194\n",
      "3      27\n",
      "4       4\n",
      "5       0\n",
      "Name: debt, dtype: int64\n"
     ]
    }
   ],
   "source": [
    "#шаг 2\n",
    "debt_counts = data.groupby('children')['debt'].sum()\n",
    "print(debt_counts)"
   ]
  },
  {
   "cell_type": "code",
   "execution_count": 24,
   "id": "f7f0025c",
   "metadata": {},
   "outputs": [
    {
     "name": "stdout",
     "output_type": "stream",
     "text": [
      "children\n",
      "0    7.543822\n",
      "1    9.234609\n",
      "2    9.454191\n",
      "3    8.181818\n",
      "4    9.756098\n",
      "5    0.000000\n",
      "dtype: float64\n"
     ]
    }
   ],
   "source": [
    "#шаг 3\n",
    "debt_percentage_children = (debt_counts / children_counts) * 100\n",
    "print(debt_percentage_children)"
   ]
  },
  {
   "attachments": {},
   "cell_type": "markdown",
   "id": "1eb92994",
   "metadata": {},
   "source": [
    "<div class=\"alert alert-danger\"; style=\"border-left: 7px solid FireBrick\">\n",
    "<h5> ❌ <font color=\"FireBrick\">Комментарий ревьюера (красный)</font></h5>\n",
    "\n",
    "Нет переменной 'debt_percentage'\n",
    "\n",
    "Перед отправкой проекта стоит проверять работоспособность кода — это можно сделать, нажав на панели Jupiter Hub ``Kernel`` и ``Restart & Run All`` (см скриншот ниже).\n",
    "\n",
    "![](https://i.postimg.cc/yd19rYf6/Screenshot-428.png)\n",
    "    \n",
    "\n",
    "</div>"
   ]
  },
  {
   "attachments": {},
   "cell_type": "markdown",
   "id": "92501bef",
   "metadata": {},
   "source": [
    "<div class=\"alert alert-info\"; style=\"border-left: 7px solid SteelBlue\">\n",
    "<h5>🎓 <font color=\"SteelBlue\">Комментарий от студента (синий)</font></h5>    \n",
    "\n",
    "АААааа как я могла так ошибиться!? Ужоссс. Я все проверила перед отправкой, но видимо что-то не туда жмякнулось. Хех. Изменила название переменной\n",
    "</div>"
   ]
  },
  {
   "attachments": {},
   "cell_type": "markdown",
   "id": "52fe42c4",
   "metadata": {},
   "source": [
    "<div class=\"alert alert-success\"; style=\"border-left: 7px solid green\">\n",
    "<h5> ✔️ <font color=\"green\">v2 Комментарий ревьюера (зеленый)</font></h5>\n",
    "\n",
    "✅ Не переживай, бывает, теперь все хорошо 👍\n",
    " \n",
    "</div>"
   ]
  },
  {
   "attachments": {},
   "cell_type": "markdown",
   "id": "918d3d5e",
   "metadata": {},
   "source": [
    "<div class=\"alert alert-danger\"; style=\"border-left: 7px solid FireBrick\">\n",
    "<h5> ❌ <font color=\"FireBrick\">Комментарий ревьюера (красный)</font></h5>\n",
    "\n",
    "На самом деле видна разница почти в 2% между группами, и эти 2% могут оказать очень большое влияние, если масштабировать это на объемы кредитов государственных банков.\n",
    "\n",
    "Стоит учитывать, что данных по семьям с 3, 4, 5 детьми очень мало, и их не стоит брать в расчет\n",
    "    \n",
    "\n",
    "</div>"
   ]
  },
  {
   "attachments": {},
   "cell_type": "markdown",
   "id": "f62e74ca",
   "metadata": {},
   "source": [
    "<div class=\"alert alert-info\"; style=\"border-left: 7px solid SteelBlue\">\n",
    "<h5>🎓 <font color=\"SteelBlue\">Комментарий от студента (синий)</font></h5>    \n",
    "Изменила вывод. 1-2% являются все же весомой разницей. И добавила, что в дальнейших выводах не сильно буду ориентироваться на семьях, где больше 2х детей\n",
    "</div>"
   ]
  },
  {
   "attachments": {},
   "cell_type": "markdown",
   "id": "0dd3a10a",
   "metadata": {},
   "source": [
    "<div class=\"alert alert-success\"; style=\"border-left: 7px solid green\">\n",
    "<h5> ✔️ <font color=\"green\">v2 Комментарий ревьюера (зеленый)</font></h5>\n",
    "\n",
    "✅ Да, у заемщиков с детьми больше вероятность просрочки 👍\n",
    " \n",
    "</div>"
   ]
  },
  {
   "attachments": {},
   "cell_type": "markdown",
   "id": "dbf923cf",
   "metadata": {},
   "source": [
    "При одновременном увелечении процента и количества детей, я бы можно говорить, что в датасете есть зависимость между количеством детей и задолженностями. Например, между клиентами, у которых нет детей. И клиентами, у которых есть хотя бы один ребенок - разница в 2%. А вот с семьями, где есть 3 и более ребенка - статистика не сильно отражает действительность, так как таких семей мало и выборка слишком мало. Поэтому в дальнейших выводах я буду опираться на результаты о семьях, где нет детей, есть 1 или 2 ребенка. \n",
    "Для получения точных результатов произведу расчет корреляции и значения p-value. Для расчета p-value дополнительно имортируем библиотеку SciPy. Импорт библиотеки в начале блокнота, как этого требует PEP8. \n"
   ]
  },
  {
   "cell_type": "code",
   "execution_count": 25,
   "id": "6956e43b",
   "metadata": {},
   "outputs": [
    {
     "name": "stdout",
     "output_type": "stream",
     "text": [
      "0.024643415439591042\n"
     ]
    }
   ],
   "source": [
    "#вычисление корреляции. Для точности результатов данные берутся из датасета, а не полученных series. \n",
    "print(data['children'].corr(data['debt']))"
   ]
  },
  {
   "cell_type": "code",
   "execution_count": 26,
   "id": "6ca9a70a",
   "metadata": {},
   "outputs": [
    {
     "data": {
      "text/plain": [
       "True"
      ]
     },
     "execution_count": 26,
     "metadata": {},
     "output_type": "execute_result"
    }
   ],
   "source": [
    "#вычисление статистической значимости с помощью SciPy. \n",
    "#Метод возвращает кортеж из 2х значений. 1 - корреляиция, 2 - статистическая значимость\n",
    "#Делаем проверку на уровень значимости. Если наш результат меньше - данные имеют статистически значимые различия \n",
    "corr, p_value = pearsonr(data['children'], data['debt'])\n",
    "p_value < 0.05"
   ]
  },
  {
   "attachments": {},
   "cell_type": "markdown",
   "id": "a8c9a273",
   "metadata": {},
   "source": [
    "Также для наглядности построю график. Для построения графика импортирую библиотеку matplotlib. Согласно PEP8 импорт в начале блокнота"
   ]
  },
  {
   "cell_type": "code",
   "execution_count": 27,
   "id": "38281a35",
   "metadata": {},
   "outputs": [
    {
     "data": {
      "image/png": "[encoded data removed]",
      "text/plain": [
       "<Figure size 720x360 with 1 Axes>"
      ]
     },
     "metadata": {
      "needs_background": "light"
     },
     "output_type": "display_data"
    }
   ],
   "source": [
    "fig = plt.figure(figsize = (10, 5)) #задаем размер поля, в котором будет отображен график\n",
    "debt_percentage_children.plot.bar(color = 'green') #строим график для объекта Series. Для красоты задаем цвет колонкам. \n",
    "#По умолчанию колонки синего цвета\n",
    "plt.xticks(rotation=0) #Изначально данные по оси X находились перевернуто. Это можно избежать с помощью этого метода\n",
    "plt.xlabel(\"количество детей\", fontsize=18) #описание значений по оси X\n",
    "plt.ylabel(\"% должников\", fontsize=18) #описание значений по оси Y\n",
    "plt.title(\"График задолженности по количеству детей\", fontsize=18) #Название графика\n",
    "plt.show() #изображение графика "
   ]
  },
  {
   "attachments": {},
   "cell_type": "markdown",
   "id": "598bf537",
   "metadata": {},
   "source": [
    "**Вывод:** \n",
    "После дополнительных расчетов, я получила значение корреляции 0.024643415439591042. Она больше нуля, что говорит о положительной корреляции. То есть при увелечении количества детей растет и количество клиетов, у которых есть задолженность. Значение p-value оказался меньше уровня значимости (0.05). Что отвергает нулевую гипотезу. И дает возможность говорить, что зависимость между количеством детей и возвратом кредита в срок есть. При большем количестве детей повышается вероятность задолженностей. "
   ]
  },
  {
   "attachments": {},
   "cell_type": "markdown",
   "id": "4a8ac367",
   "metadata": {
    "deletable": false,
    "editable": false,
    "id": "97be82ca"
   },
   "source": [
    "#### 3.2 Есть ли зависимость между семейным положением и возвратом кредита в срок?"
   ]
  },
  {
   "attachments": {},
   "cell_type": "markdown",
   "id": "0038a5de",
   "metadata": {},
   "source": [
    "**Последовательность действий**\n",
    "1. Выполнить подсчет общего количества клиентов с разным семейным положением\n",
    "2. Выполнить подсчет количества клиентов, имевших задолженность по возврату кредитов, по каждому количеству семейного положения\n",
    "3. Рассчитать процент клиентов с задолженностью в каждой категории семейного положения\n",
    "4. Проанализировать полученные результаты. При необходимости выполнить дополнительные расчеты и/или построить график\n"
   ]
  },
  {
   "cell_type": "code",
   "execution_count": 28,
   "id": "15f1ca76",
   "metadata": {
    "deletable": false,
    "id": "dc3f7ee8"
   },
   "outputs": [
    {
     "name": "stdout",
     "output_type": "stream",
     "text": [
      "женат / замужем          12261\n",
      "гражданский брак          4134\n",
      "Не женат / не замужем     2796\n",
      "в разводе                 1189\n",
      "вдовец / вдова             951\n",
      "Name: family_status, dtype: int64\n"
     ]
    }
   ],
   "source": [
    "#шаг 1\n",
    "family_counts = data['family_status'].value_counts()\n",
    "print(family_counts)"
   ]
  },
  {
   "cell_type": "code",
   "execution_count": 29,
   "id": "e95665ea",
   "metadata": {},
   "outputs": [
    {
     "name": "stdout",
     "output_type": "stream",
     "text": [
      "family_status\n",
      "Не женат / не замужем    273\n",
      "в разводе                 84\n",
      "вдовец / вдова            63\n",
      "гражданский брак         385\n",
      "женат / замужем          927\n",
      "Name: debt, dtype: int64\n"
     ]
    }
   ],
   "source": [
    "#шаг 2\n",
    "debt_counts_family = data.groupby('family_status')['debt'].sum()\n",
    "print(debt_counts_family)"
   ]
  },
  {
   "cell_type": "code",
   "execution_count": 30,
   "id": "3c2825dd",
   "metadata": {},
   "outputs": [
    {
     "name": "stdout",
     "output_type": "stream",
     "text": [
      "Не женат / не замужем    9.763948\n",
      "в разводе                7.064760\n",
      "вдовец / вдова           6.624606\n",
      "гражданский брак         9.313014\n",
      "женат / замужем          7.560558\n",
      "dtype: float64\n"
     ]
    }
   ],
   "source": [
    "#шаг 3\n",
    "debt_percentage_family = (debt_counts_family / family_counts) * 100\n",
    "print(debt_percentage_family)"
   ]
  },
  {
   "attachments": {},
   "cell_type": "markdown",
   "id": "d3a263dd",
   "metadata": {},
   "source": [
    "Для наглядности представлю данные в виде графика"
   ]
  },
  {
   "cell_type": "code",
   "execution_count": 31,
   "id": "bc8b1997",
   "metadata": {},
   "outputs": [
    {
     "data": {
      "image/png": "[encoded data removed]",
      "text/plain": [
       "<Figure size 720x360 with 1 Axes>"
      ]
     },
     "metadata": {
      "needs_background": "light"
     },
     "output_type": "display_data"
    }
   ],
   "source": [
    "#строю график по анологии с предыдщим заданием\n",
    "fig = plt.figure(figsize = (10, 5))\n",
    "debt_percentage_family.plot.bar(color ='maroon')\n",
    "plt.xticks(rotation=0)\n",
    "plt.xlabel(\"семейное положение\", fontsize=18)\n",
    "plt.ylabel(\"% должников\", fontsize=18)\n",
    "plt.title(\"График задолженности по семейному положению\", fontsize=18)\n",
    "plt.show()\n"
   ]
  },
  {
   "attachments": {},
   "cell_type": "markdown",
   "id": "3c498326",
   "metadata": {},
   "source": [
    "<div class=\"alert alert-success\"; style=\"border-left: 7px solid green\">\n",
    "<h5> ✔️ <font color=\"green\">Комментарий ревьюера (зеленый)</font></h5>\n",
    "\n",
    "Правильно, заемщики состоящие или состоявшие в браке реже допускают просрочку\n",
    "\n",
    "</div>"
   ]
  },
  {
   "attachments": {},
   "cell_type": "markdown",
   "id": "7b3c3960",
   "metadata": {
    "deletable": false,
    "id": "1cef7837"
   },
   "source": [
    "**Вывод:** \n",
    "После расчетов и наглядного представления данных в виде графика можно видеть следующую картину: Больше всего задолженностей у людей, которые не находятся в браке. 9% от общего числа людей этой категории. Чуть меньше у людей в гражданском браке, 8%. Меньше всего задолжнностей у категории людей, которые потеряли своего супруга или супругу. Всего 6% имеют задолженности из этой категории. А вот люди в браке или разводе имеют примерно одинаковый процент задолжностей, 7%. Поэтому можно говорить о корреляции между категорией семейного положения и задолженностях. "
   ]
  },
  {
   "attachments": {},
   "cell_type": "markdown",
   "id": "393ebcc8",
   "metadata": {
    "deletable": false,
    "editable": false,
    "id": "1e8b2fca"
   },
   "source": [
    "#### 3.3 Есть ли зависимость между уровнем дохода и возвратом кредита в срок?"
   ]
  },
  {
   "attachments": {},
   "cell_type": "markdown",
   "id": "49085956",
   "metadata": {},
   "source": [
    " **Последовательность действий** \n",
    "1. Выполнить подсчет общего количества клиентов с разным семейным положением\n",
    "2. Выполнить подсчет количества клиентов с разным уровнем дохода\n",
    "3. Рассчитать процент клиентов с задолженностью в каждой группе дохода\n",
    "4. Проанализировать полученные результаты. При необходимости выполнить дополнительные расчеты и/или построить график"
   ]
  },
  {
   "attachments": {},
   "cell_type": "markdown",
   "id": "9d827dbf",
   "metadata": {
    "deletable": false,
    "id": "cd7e3720"
   },
   "source": [
    "В прошлом блоке уже добавлена категоризация, но для лучшего отображения данных, сделаем еще одну категоризацию, чтобы количество людей в разных категориях было более менее равномерным\n",
    "- 0– 100000 — 'level 5';\n",
    "- 100000–130000 — 'level 4';\n",
    "- 130000–160000 — 'level 3';\n",
    "- 160000-190000 — 'level 2';\n",
    "- 190000 и выше - 'level 1'"
   ]
  },
  {
   "cell_type": "code",
   "execution_count": 32,
   "id": "7d9f4752",
   "metadata": {},
   "outputs": [],
   "source": [
    "def categorize_income_2(income):\n",
    "    try:\n",
    "        if 0 <= income <= 100_000:\n",
    "            return 'level 5'\n",
    "        elif 100_000 <= income <= 130_000:\n",
    "            return 'level 4'\n",
    "        elif 130_001 <= income <= 160_000:\n",
    "            return 'level 3'\n",
    "        elif 160_001 <= income <= 190_001:\n",
    "            return 'level 2'\n",
    "        elif 190_001 <= income:\n",
    "            return 'level 1'\n",
    "    except:\n",
    "        pass"
   ]
  },
  {
   "cell_type": "code",
   "execution_count": 33,
   "id": "41fd1dac",
   "metadata": {},
   "outputs": [],
   "source": [
    "data['total_income_category_2'] = data['total_income'].apply(categorize_income_2)"
   ]
  },
  {
   "cell_type": "code",
   "execution_count": 34,
   "id": "5c002987",
   "metadata": {},
   "outputs": [
    {
     "name": "stdout",
     "output_type": "stream",
     "text": [
      "level 1    5720\n",
      "level 5    4444\n",
      "level 3    4373\n",
      "level 4    3841\n",
      "level 2    2953\n",
      "Name: total_income_category_2, dtype: int64\n"
     ]
    }
   ],
   "source": [
    "income_category_counts_2 = data['total_income_category_2'].value_counts()\n",
    "print(income_category_counts_2)"
   ]
  },
  {
   "cell_type": "code",
   "execution_count": 35,
   "id": "e5138252",
   "metadata": {},
   "outputs": [
    {
     "name": "stdout",
     "output_type": "stream",
     "text": [
      "total_income_category_2\n",
      "level 1    416\n",
      "level 2    248\n",
      "level 3    388\n",
      "level 4    326\n",
      "level 5    354\n",
      "Name: debt, dtype: int64\n"
     ]
    }
   ],
   "source": [
    "#шаг 2\n",
    "debt_counts_income = data.groupby('total_income_category_2')['debt'].sum()\n",
    "print(debt_counts_income)\n"
   ]
  },
  {
   "cell_type": "code",
   "execution_count": 36,
   "id": "2adb35c6",
   "metadata": {},
   "outputs": [
    {
     "name": "stdout",
     "output_type": "stream",
     "text": [
      "level 1    7.272727\n",
      "level 2    8.398239\n",
      "level 3    8.872627\n",
      "level 4    8.487373\n",
      "level 5    7.965797\n",
      "dtype: float64\n"
     ]
    }
   ],
   "source": [
    "#шаг 3\n",
    "debt_percentage_income = (debt_counts_income / income_category_counts_2) * 100\n",
    "print(debt_percentage_income)\n"
   ]
  },
  {
   "attachments": {},
   "cell_type": "markdown",
   "id": "0f754682",
   "metadata": {},
   "source": [
    "Для наглядности построю график"
   ]
  },
  {
   "cell_type": "code",
   "execution_count": 37,
   "id": "2068395f",
   "metadata": {},
   "outputs": [
    {
     "data": {
      "image/png": "[encoded data removed]",
      "text/plain": [
       "<Figure size 720x360 with 1 Axes>"
      ]
     },
     "metadata": {
      "needs_background": "light"
     },
     "output_type": "display_data"
    }
   ],
   "source": [
    "fig = plt.figure(figsize = (10, 5))\n",
    "debt_percentage_income.plot.bar(color ='purple')\n",
    "plt.xticks(rotation=0)\n",
    "plt.xlabel(\"категория зарплаты\", fontsize=18)\n",
    "plt.ylabel(\"% должников\", fontsize=18)\n",
    "plt.title(\"График задолженности по зарплате\", fontsize=18)\n",
    "plt.show()\n"
   ]
  },
  {
   "attachments": {},
   "cell_type": "markdown",
   "id": "aa409f4a",
   "metadata": {},
   "source": [
    "По графику нельзя точно сказать, есть ли зависимость. Поэтому необходимо произвести дополнительные расчеты"
   ]
  },
  {
   "cell_type": "code",
   "execution_count": 38,
   "id": "2e11ce26",
   "metadata": {},
   "outputs": [
    {
     "name": "stdout",
     "output_type": "stream",
     "text": [
      "-0.012671098818189926\n"
     ]
    }
   ],
   "source": [
    "print(data['total_income'].corr(data['debt'])) #расчет кореляции "
   ]
  },
  {
   "cell_type": "code",
   "execution_count": 39,
   "id": "1aebe3d1",
   "metadata": {},
   "outputs": [
    {
     "data": {
      "text/plain": [
       "False"
      ]
     },
     "execution_count": 39,
     "metadata": {},
     "output_type": "execute_result"
    }
   ],
   "source": [
    "corr, p_value = pearsonr(data['total_income'], data['debt'])\n",
    "p_value < 0.05"
   ]
  },
  {
   "attachments": {},
   "cell_type": "markdown",
   "id": "f4ed3b86",
   "metadata": {
    "deletable": false,
    "id": "e8593def"
   },
   "source": [
    "**Вывод:** По проведенным расчетам и графикам, можно говорить об отрицатальной корреляции. При увелечении заработной платы падает число должников. Так, у кредиторов из группы 'level 1', у самой высокой по заработной плате, всего 7.2% должников, а у группы из 'level 2' уже 8.4% должников. У лиц, с самой маленькой заработной платой также 8% должников. А у группы со средним доходом самый высокий процент должников - почти 9%. Хоть и p-value не имеет статистической значимости, корреляция между уровнем заработной платой и процентом должников видна. "
   ]
  },
  {
   "attachments": {},
   "cell_type": "markdown",
   "id": "c98d4c26",
   "metadata": {
    "deletable": false,
    "editable": false,
    "id": "99ecbd1f"
   },
   "source": [
    "#### 3.4 Как разные цели кредита влияют на его возврат в срок?"
   ]
  },
  {
   "attachments": {},
   "cell_type": "markdown",
   "id": "60a8dce4",
   "metadata": {},
   "source": [
    "**Последовательность действий** \n",
    "1. Выполнить подсчет общего количества клиентов с разным семейным положением\n",
    "2. Выполнить подсчет количества клиентов с разным уровнем дохода\n",
    "3. Рассчитать процент клиентов с задолженностью в каждой группе дохода\n",
    "4. Проанализировать полученные результаты. При необходимости выполнить дополнительные расчеты и/или построить график"
   ]
  },
  {
   "cell_type": "code",
   "execution_count": 40,
   "id": "4443e879",
   "metadata": {},
   "outputs": [
    {
     "name": "stdout",
     "output_type": "stream",
     "text": [
      "операции с недвижимостью    10751\n",
      "операции с автомобилем       4279\n",
      "получение образования        3988\n",
      "проведение свадьбы           2313\n",
      "Name: purpose_category, dtype: int64\n"
     ]
    }
   ],
   "source": [
    "#шаг 1\n",
    "purpose_counts = data['purpose_category'].value_counts()\n",
    "print(purpose_counts)"
   ]
  },
  {
   "cell_type": "code",
   "execution_count": 41,
   "id": "fdefbb0a",
   "metadata": {
    "deletable": false,
    "id": "2b687290"
   },
   "outputs": [
    {
     "name": "stdout",
     "output_type": "stream",
     "text": [
      "purpose_category\n",
      "операции с автомобилем      400\n",
      "операции с недвижимостью    780\n",
      "получение образования       369\n",
      "проведение свадьбы          183\n",
      "Name: debt, dtype: int64\n"
     ]
    }
   ],
   "source": [
    "#шаг 2\n",
    "debt_counts_purpose = data.groupby('purpose_category')['debt'].sum()\n",
    "print(debt_counts_purpose)"
   ]
  },
  {
   "cell_type": "code",
   "execution_count": 42,
   "id": "73978978",
   "metadata": {},
   "outputs": [
    {
     "name": "stdout",
     "output_type": "stream",
     "text": [
      "операции с автомобилем      9.347978\n",
      "операции с недвижимостью    7.255139\n",
      "получение образования       9.252758\n",
      "проведение свадьбы          7.911803\n",
      "dtype: float64\n"
     ]
    }
   ],
   "source": [
    "#шаг 3\n",
    "debt_percentage_purpose = (debt_counts_purpose / purpose_counts) * 100\n",
    "print(debt_percentage_purpose)"
   ]
  },
  {
   "attachments": {},
   "cell_type": "markdown",
   "id": "c7d258a4",
   "metadata": {},
   "source": [
    "Для нагляднотсти построю график "
   ]
  },
  {
   "cell_type": "code",
   "execution_count": 43,
   "id": "25549bb8",
   "metadata": {},
   "outputs": [
    {
     "data": {
      "image/png": "[encoded data removed]",
      "text/plain": [
       "<Figure size 864x360 with 1 Axes>"
      ]
     },
     "metadata": {
      "needs_background": "light"
     },
     "output_type": "display_data"
    }
   ],
   "source": [
    "fig = plt.figure(figsize = (12, 5))\n",
    "debt_percentage_purpose.plot.bar(color ='DodgerBlue')\n",
    "plt.xticks(rotation=0)\n",
    "plt.xlabel(\"цель\", fontsize=18)\n",
    "plt.ylabel(\"% должников\", fontsize=18)\n",
    "plt.title(\"График задолженности по категориям\", fontsize=18)\n",
    "plt.show()\n"
   ]
  },
  {
   "attachments": {},
   "cell_type": "markdown",
   "id": "7ee69763",
   "metadata": {},
   "source": [
    "Так как категории взятия кредита - категориальные переменные. Расчитать кареляцию и p-value предыдущим способом нельзя."
   ]
  },
  {
   "attachments": {},
   "cell_type": "markdown",
   "id": "f572998b",
   "metadata": {
    "deletable": false,
    "id": "b4bb2ce6"
   },
   "source": [
    "**Вывод:** По полученным данным можно сказать, что самый большой % должников у тех, кто берет кредит на операции с автомобилем: 9.3% от числа взявших кредит на операции с автомобилем. После него идет получение образования: 9.2%. При взятии кредит на проведение свадьбы задолженность наблюдается у почти 8%. А меньше всего задолженностей у тех, кто взял кредит на недвижимость: 7.2%. "
   ]
  },
  {
   "attachments": {},
   "cell_type": "markdown",
   "id": "9a5492e2",
   "metadata": {
    "deletable": false,
    "editable": false,
    "id": "09c3ac4c"
   },
   "source": [
    "#### 3.5 Приведите возможные причины появления пропусков в исходных данных."
   ]
  },
  {
   "attachments": {},
   "cell_type": "markdown",
   "id": "5a454560",
   "metadata": {
    "deletable": false,
    "id": "9da2ceda"
   },
   "source": [
    "*Ответ:* \n",
    "1. Возможно клиент банка сам намеременно не указал данные о ежемесячных дохлдах и трудовом стаже \n",
    "2. Произошла техническая ошибка при сборе или передаче данных. Система могла пропустить анкеты с незаполненной информацией\n",
    "3. Трудовой стаж в днях было невозможно посчитать. Если клиент работает неофициально или на себя\n",
    "4. Системная ошибка. В базе данных, где хранится информация, могла произойти ошибка и удалились некоторые данные "
   ]
  },
  {
   "attachments": {},
   "cell_type": "markdown",
   "id": "7a2295b5",
   "metadata": {
    "deletable": false,
    "editable": false,
    "id": "7b0487d6"
   },
   "source": [
    "#### 3.6 Объясните, почему заполнить пропуски медианным значением — лучшее решение для количественных переменных."
   ]
  },
  {
   "attachments": {},
   "cell_type": "markdown",
   "id": "a0373dd8",
   "metadata": {
    "deletable": false,
    "id": "7ecf2b8e"
   },
   "source": [
    "*Ответ:* \n",
    "Медиана более устойчива к аномальным значениям чем среднее арифметическое. Например, у нас есть 10 человек с разными зарплатами. И у одного из них зарплата на порядок выше или меньше чем у других 9 человек. И из-за этого выброса среднее арифметическре будет сдвинуто в сторону 1 этого человека и результат будет не совсем достоверный. В то время как медиана возьмет значение ровно по середине. "
   ]
  },
  {
   "attachments": {},
   "cell_type": "markdown",
   "id": "3f87625c",
   "metadata": {
    "deletable": false,
    "editable": false,
    "id": "6db5255a"
   },
   "source": [
    "### Шаг 4: общий вывод."
   ]
  },
  {
   "attachments": {},
   "cell_type": "markdown",
   "id": "de56fbca",
   "metadata": {
    "deletable": false,
    "id": "bad65432"
   },
   "source": [
    "Заказчик поставил цель: выяснить, влияет ли семейное положение и количество детей клиента на факт погашения кредита в срок. В качестве данных был представлен датасет со следующими столбцами: \n",
    "\n",
    "**Описание данных:**\n",
    "- `children` — количество детей в семье\n",
    "- `days_employed` — общий трудовой стаж в днях\n",
    "- `dob_years` — возраст клиента в годах\n",
    "- `education` — уровень образования клиента\n",
    "- `education_id` — идентификатор уровня образования\n",
    "- `family_status` — семейное положение\n",
    "- `family_status_id` — идентификатор семейного положения\n",
    "- `gender` — пол клиента\n",
    "- `income_type` — тип занятости\n",
    "- `debt` — имел ли задолженность по возврату кредитов\n",
    "- `total_income` — ежемесячный доход\n",
    "- `purpose` — цель получения кредита\n",
    "\n",
    "**Перед статистическим анализом провела предобработку данных.**\n",
    "1. В столбце `days_employed` и `total_income` обнарулижила 2174 пропущенных значения. Чтобы это исправить, я нашла медианные значения трудового стажа в днях по типу занятости и медианное значение ежемесячного дохода по типу занятости. \n",
    "\n",
    "\n",
    "2. Помимо этого в столбце `days_employed` есть артефакты - отрицательное значение зарплаты. Чтобы это исправить, значение зарплаты взяла по модулю. \n",
    "\n",
    "\n",
    "3. В столбце `children` также были аномальные значения. У клиентов были дети с возрастом -1 и 20 лет. Информацию об этих клиентах я удалила. \n",
    "\n",
    "\n",
    "4. В столбце `total_income` заменила тип данныз с float64 на int64, так как зарплата не может быть дробной. \n",
    "\n",
    "\n",
    "5. Нашла 71 строку-дубликат. Их удалила. \n",
    "\n",
    "\n",
    "6. В столбце `education` были неявные дубликаты. Некоторые значения были написаны верхним или нижним регистром. Привела данные в столбце к нижнему регистру. \n",
    "\n",
    "\n",
    "7. Провела дополнительную категоризацию данных. Добавила новые столбецы `total_income_category`, `total_income_category_2` и `purpose_category`. \n",
    "\n",
    "В столбце `total_income_category` следующие категории по уровню зарплаты: \n",
    "\n",
    "- 0–30000 — `'E'`;\n",
    "- 30001–50000 — `'D'`;\n",
    "- 50001–200000 — `'C'`;\n",
    "- 200001–1000000 — `'B'`;\n",
    "- 1000001 и выше — `'A'`.\n",
    "\n",
    "В столбце `total_income_category_2` следующие категории по уровню зарплаты:\n",
    "- 0– 100000 — 'level 5';\n",
    "- 100000–130000 — 'level 4';\n",
    "- 130000–160000 — 'level 3';\n",
    "- 160000-190000 — 'level 2';\n",
    "- 190000 и выше - 'level 1'\n",
    "\n",
    "Первый вариант больше описывает зарплату с позиции общепринятых классов дохода, а второй вариант подходит для статистического анализа, так как количество людей в группах более равномерно. \n",
    "\n",
    "В столбце `purpose_category` следующие категории по взятии кредита: \n",
    "\n",
    "- `'операции с автомобилем'`,\n",
    "- `'операции с недвижимостью'`,\n",
    "- `'проведение свадьбы'`,\n",
    "- `'получение образования'`.\n",
    "\n",
    "**После всех этих изменений начала обработку данных.**\n",
    "\n",
    "1. Чтобы проверить зависимость между количеством детей и долгами по кредиту я нашла процент должников из групп с разным количеством детей. Расчитала кореляцию и p-value. Построила график для наглядности. Информации о клиентах у которых более 2х детей мало. При этом, по этим данным можно говорить о том, что при увелечении числа детей растет и количество клиентов с долгами по кредитам. Например, между клиентами, у которых нет детей. И клиентами, у которых есть хотя бы один ребенок - разница в 2%. \n",
    "![](data:image/png;base64,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)\n",
    "\n",
    "2. Чтобы проверить зависимость между семейным положением и долгами по кредиту я нашла процент должников из групп с разным семейным положением. Построила график для наглядности. По расчетам и наглядному представлению данных я увидела следующую картину: больше всего задолженностей у людей, которые не находятся в браке. 9% от общего числа людей этой категории. Чуть меньше у людей в гражданском браке, 8%. Меньше всего задолжнностей у категории людей, которые потеряли своего супруга или супругу. Всего 6% имеют задолженности из этой категории. А вот люди в браке или разводе имеют примерно одинаковый процент задолжностей, 7%. Поэтому можно говорить о корреляции между категорией семейного положения и задолженностях.\n",
    "\n",
    "![](data:image/png;base64,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)\n",
    "\n",
    "3. Чтобы проверить зависимость между уровнем зарплаты и долгами по кредиту я нашла процент должников из групп с разным уровнем дохода. Расчитала корреляцию и p-value. Построила график для наглядности. По проведенным расчетам и графикам, можно говорить об отрицатальной корреляции. При увелечении заработной платы падает число должников. Так, у кредиторов из группы 'level 1', у самой высокой по заработной плате, всего 7.2% должников, а у группы из 'level 2' уже 8.4% должников. У лиц, с самой маленькой заработной платой также 8% должников. А у группы со средним доходом самый высокий процент должников - почти 9%. Хоть и p-value не имеет статистической значимости, корреляция между уровнем заработной платой и процентом должников видна.\n",
    "\n",
    "![](data:image/png;base64,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)\n",
    "\n",
    "4. Чтобы проверить зависимость между целью взятия кредита и долгами по кредиту я нашла процент должников из групп с разными целями на кредит. Построила график для наглядности. По полученным данным можно сказать, что самый большой % должников у тех, кто берет кредит на операции с автомобилем: 9.3% от числа взявших кредит на операции с автомобилем. После него идет получение образования: 9.2%. При взятии кредит на проведение свадьбы задолженность наблюдается у почти 8%. А меньше всего задолженностей у тех, кто взял кредит на недвижимость: 7.2%.\n",
    "\n",
    "![](data:image/png;base64,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)\n",
    "\n",
    "Из этих данных я могу говорить, о том, что есть корреляции между уровнем зарплаты, количеством детей, семейным положением, целями на кредит и количеством должников. Процент должников не превышал 10% по каждой из категории, но даже 10% могут нести большие потери для банка. "
   ]
  }
 ],
 "metadata": {
  "ExecuteTimeLog": [
   {
    "duration": 1704,
    "start_time": "2023-07-22T10:06:33.465Z"
   },
   {
    "duration": 38,
    "start_time": "2023-07-22T10:06:36.143Z"
   },
   {
    "duration": 17,
    "start_time": "2023-07-22T10:06:39.902Z"
   },
   {
    "duration": 10,
    "start_time": "2023-07-22T10:06:42.441Z"
   },
   {
    "duration": 61,
    "start_time": "2023-07-22T10:06:43.579Z"
   },
   {
    "duration": 4,
    "start_time": "2023-07-22T10:06:45.011Z"
   },
   {
    "duration": 18,
    "start_time": "2023-07-22T10:06:46.067Z"
   },
   {
    "duration": 5,
    "start_time": "2023-07-22T10:06:47.631Z"
   },
   {
    "duration": 17,
    "start_time": "2023-07-22T10:06:48.580Z"
   },
   {
    "duration": 15,
    "start_time": "2023-07-22T10:06:49.553Z"
   },
   {
    "duration": 48,
    "start_time": "2023-07-22T10:06:55.414Z"
   },
   {
    "duration": 15,
    "start_time": "2023-07-22T10:06:56.405Z"
   },
   {
    "duration": 8,
    "start_time": "2023-07-22T10:06:57.877Z"
   },
   {
    "duration": 28,
    "start_time": "2023-07-22T10:06:59.182Z"
   },
   {
    "duration": 26,
    "start_time": "2023-07-22T10:07:00.209Z"
   },
   {
    "duration": 20,
    "start_time": "2023-07-22T10:07:00.721Z"
   },
   {
    "duration": 9,
    "start_time": "2023-07-22T10:07:02.306Z"
   },
   {
    "duration": 12,
    "start_time": "2023-07-22T10:07:03.508Z"
   },
   {
    "duration": 6,
    "start_time": "2023-07-22T10:07:04.616Z"
   },
   {
    "duration": 6,
    "start_time": "2023-07-22T10:07:07.202Z"
   },
   {
    "duration": 15,
    "start_time": "2023-07-22T10:07:07.800Z"
   },
   {
    "duration": 9,
    "start_time": "2023-07-22T10:07:09.362Z"
   },
   {
    "duration": 7,
    "start_time": "2023-07-22T10:38:25.444Z"
   },
   {
    "duration": 15,
    "start_time": "2023-07-22T10:38:55.080Z"
   },
   {
    "duration": 6,
    "start_time": "2023-07-22T10:39:27.129Z"
   },
   {
    "duration": 4,
    "start_time": "2023-07-22T10:43:43.286Z"
   },
   {
    "duration": 7,
    "start_time": "2023-07-22T10:45:49.944Z"
   },
   {
    "duration": 54,
    "start_time": "2023-07-22T10:46:57.092Z"
   },
   {
    "duration": 15,
    "start_time": "2023-07-22T12:56:02.210Z"
   },
   {
    "duration": 13,
    "start_time": "2023-07-22T12:57:05.881Z"
   },
   {
    "duration": 8,
    "start_time": "2023-07-22T12:58:31.628Z"
   },
   {
    "duration": 144,
    "start_time": "2023-07-22T13:01:10.253Z"
   },
   {
    "duration": 4,
    "start_time": "2023-07-22T13:19:41.837Z"
   },
   {
    "duration": 12,
    "start_time": "2023-07-22T13:21:06.813Z"
   },
   {
    "duration": 12,
    "start_time": "2023-07-22T13:21:51.715Z"
   },
   {
    "duration": 17,
    "start_time": "2023-07-22T13:22:15.621Z"
   },
   {
    "duration": 19,
    "start_time": "2023-07-22T13:22:35.105Z"
   },
   {
    "duration": 12,
    "start_time": "2023-07-22T13:23:26.397Z"
   },
   {
    "duration": 14,
    "start_time": "2023-07-22T13:26:20.980Z"
   },
   {
    "duration": 216,
    "start_time": "2023-07-22T13:28:02.174Z"
   },
   {
    "duration": 137,
    "start_time": "2023-07-22T13:28:58.993Z"
   },
   {
    "duration": 197,
    "start_time": "2023-07-22T13:29:27.752Z"
   },
   {
    "duration": 219,
    "start_time": "2023-07-22T13:32:27.029Z"
   },
   {
    "duration": 230,
    "start_time": "2023-07-22T13:32:35.126Z"
   },
   {
    "duration": 222,
    "start_time": "2023-07-22T13:32:58.357Z"
   },
   {
    "duration": 196,
    "start_time": "2023-07-22T13:33:42.036Z"
   },
   {
    "duration": 208,
    "start_time": "2023-07-22T13:33:48.897Z"
   },
   {
    "duration": 357,
    "start_time": "2023-07-22T13:33:59.490Z"
   },
   {
    "duration": 207,
    "start_time": "2023-07-22T13:34:07.415Z"
   },
   {
    "duration": 265,
    "start_time": "2023-07-22T13:34:13.330Z"
   },
   {
    "duration": 217,
    "start_time": "2023-07-22T13:34:25.254Z"
   },
   {
    "duration": 177,
    "start_time": "2023-07-22T13:34:33.924Z"
   },
   {
    "duration": 239,
    "start_time": "2023-07-22T13:34:41.940Z"
   },
   {
    "duration": 174,
    "start_time": "2023-07-22T13:34:54.830Z"
   },
   {
    "duration": 224,
    "start_time": "2023-07-22T13:35:06.418Z"
   },
   {
    "duration": 223,
    "start_time": "2023-07-22T13:35:58.218Z"
   },
   {
    "duration": 182,
    "start_time": "2023-07-22T13:36:05.126Z"
   },
   {
    "duration": 145,
    "start_time": "2023-07-22T16:17:50.571Z"
   },
   {
    "duration": 135,
    "start_time": "2023-07-22T16:18:26.495Z"
   },
   {
    "duration": 249,
    "start_time": "2023-07-22T16:20:36.554Z"
   },
   {
    "duration": 160,
    "start_time": "2023-07-22T16:20:46.207Z"
   },
   {
    "duration": 197,
    "start_time": "2023-07-22T16:22:11.699Z"
   },
   {
    "duration": 145,
    "start_time": "2023-07-22T16:22:18.680Z"
   },
   {
    "duration": 137,
    "start_time": "2023-07-22T16:22:36.807Z"
   },
   {
    "duration": 143,
    "start_time": "2023-07-22T16:22:42.476Z"
   },
   {
    "duration": 154,
    "start_time": "2023-07-22T16:22:53.549Z"
   },
   {
    "duration": 140,
    "start_time": "2023-07-22T16:23:07.181Z"
   },
   {
    "duration": 205,
    "start_time": "2023-07-22T16:23:13.532Z"
   },
   {
    "duration": 154,
    "start_time": "2023-07-22T16:23:21.277Z"
   },
   {
    "duration": 212,
    "start_time": "2023-07-22T16:23:28.472Z"
   },
   {
    "duration": 246,
    "start_time": "2023-07-22T16:23:37.679Z"
   },
   {
    "duration": 203,
    "start_time": "2023-07-22T16:24:00.662Z"
   },
   {
    "duration": 14,
    "start_time": "2023-07-22T16:25:44.276Z"
   },
   {
    "duration": 231,
    "start_time": "2023-07-22T16:26:36.315Z"
   },
   {
    "duration": 9,
    "start_time": "2023-07-22T16:49:51.579Z"
   },
   {
    "duration": 24,
    "start_time": "2023-07-22T16:51:03.592Z"
   },
   {
    "duration": 27,
    "start_time": "2023-07-22T16:51:18.107Z"
   },
   {
    "duration": 15,
    "start_time": "2023-07-22T16:51:34.090Z"
   },
   {
    "duration": 6,
    "start_time": "2023-07-22T16:52:46.114Z"
   },
   {
    "duration": 167,
    "start_time": "2023-07-22T16:55:23.842Z"
   },
   {
    "duration": 137,
    "start_time": "2023-07-22T16:55:46.277Z"
   },
   {
    "duration": 10,
    "start_time": "2023-07-22T16:58:13.176Z"
   },
   {
    "duration": 29,
    "start_time": "2023-07-22T16:59:04.250Z"
   },
   {
    "duration": 796,
    "start_time": "2023-07-22T17:10:12.510Z"
   },
   {
    "duration": 6,
    "start_time": "2023-07-22T17:10:23.487Z"
   },
   {
    "duration": 9,
    "start_time": "2023-07-22T17:46:38.237Z"
   },
   {
    "duration": 13,
    "start_time": "2023-07-22T17:48:40.016Z"
   },
   {
    "duration": 12,
    "start_time": "2023-07-22T17:48:48.179Z"
   },
   {
    "duration": 8,
    "start_time": "2023-07-22T17:50:01.630Z"
   },
   {
    "duration": 168,
    "start_time": "2023-07-22T17:52:33.665Z"
   },
   {
    "duration": 154,
    "start_time": "2023-07-22T17:52:43.022Z"
   },
   {
    "duration": 386,
    "start_time": "2023-07-22T18:23:35.829Z"
   },
   {
    "duration": 18,
    "start_time": "2023-07-22T18:23:36.217Z"
   },
   {
    "duration": 28,
    "start_time": "2023-07-22T18:23:36.237Z"
   },
   {
    "duration": 38,
    "start_time": "2023-07-22T18:23:36.267Z"
   },
   {
    "duration": 46,
    "start_time": "2023-07-22T18:23:36.307Z"
   },
   {
    "duration": 5,
    "start_time": "2023-07-22T18:23:36.361Z"
   },
   {
    "duration": 37,
    "start_time": "2023-07-22T18:23:36.368Z"
   },
   {
    "duration": 4,
    "start_time": "2023-07-22T18:23:36.407Z"
   },
   {
    "duration": 13,
    "start_time": "2023-07-22T18:23:36.413Z"
   },
   {
    "duration": 6,
    "start_time": "2023-07-22T18:23:36.429Z"
   },
   {
    "duration": 47,
    "start_time": "2023-07-22T18:23:36.436Z"
   },
   {
    "duration": 9,
    "start_time": "2023-07-22T18:23:36.485Z"
   },
   {
    "duration": 4,
    "start_time": "2023-07-22T18:23:36.496Z"
   },
   {
    "duration": 14,
    "start_time": "2023-07-22T18:23:36.501Z"
   },
   {
    "duration": 26,
    "start_time": "2023-07-22T18:23:36.517Z"
   },
   {
    "duration": 30,
    "start_time": "2023-07-22T18:23:36.551Z"
   },
   {
    "duration": 12,
    "start_time": "2023-07-22T18:23:36.584Z"
   },
   {
    "duration": 25,
    "start_time": "2023-07-22T18:23:36.597Z"
   },
   {
    "duration": 10,
    "start_time": "2023-07-22T18:23:36.624Z"
   },
   {
    "duration": 4,
    "start_time": "2023-07-22T18:23:36.636Z"
   },
   {
    "duration": 46,
    "start_time": "2023-07-22T18:23:36.642Z"
   },
   {
    "duration": 12,
    "start_time": "2023-07-22T18:23:36.690Z"
   },
   {
    "duration": 15,
    "start_time": "2023-07-22T18:23:36.704Z"
   },
   {
    "duration": 8,
    "start_time": "2023-07-22T18:23:36.721Z"
   },
   {
    "duration": 15,
    "start_time": "2023-07-22T18:23:36.731Z"
   },
   {
    "duration": 30,
    "start_time": "2023-07-22T18:23:36.748Z"
   },
   {
    "duration": 310,
    "start_time": "2023-07-22T18:23:36.781Z"
   },
   {
    "duration": 6,
    "start_time": "2023-07-22T18:23:37.095Z"
   },
   {
    "duration": 18,
    "start_time": "2023-07-22T18:23:37.103Z"
   },
   {
    "duration": 15,
    "start_time": "2023-07-22T18:23:37.123Z"
   },
   {
    "duration": 160,
    "start_time": "2023-07-22T18:23:37.140Z"
   },
   {
    "duration": 7,
    "start_time": "2023-07-22T18:23:37.302Z"
   },
   {
    "duration": 19,
    "start_time": "2023-07-22T18:23:37.310Z"
   },
   {
    "duration": 6,
    "start_time": "2023-07-22T18:23:37.331Z"
   },
   {
    "duration": 178,
    "start_time": "2023-07-22T18:23:37.339Z"
   },
   {
    "duration": 5,
    "start_time": "2023-07-22T18:23:37.519Z"
   },
   {
    "duration": 35,
    "start_time": "2023-07-22T18:23:37.526Z"
   },
   {
    "duration": 123,
    "start_time": "2023-07-22T18:23:37.567Z"
   },
   {
    "duration": 12,
    "start_time": "2023-07-22T18:23:37.692Z"
   },
   {
    "duration": 5,
    "start_time": "2023-07-22T18:23:37.706Z"
   },
   {
    "duration": 170,
    "start_time": "2023-07-22T18:23:37.712Z"
   },
   {
    "duration": 82,
    "start_time": "2023-07-22T18:24:23.702Z"
   },
   {
    "duration": 1386,
    "start_time": "2023-07-22T19:32:45.431Z"
   },
   {
    "duration": 24,
    "start_time": "2023-07-22T19:32:46.823Z"
   },
   {
    "duration": 15,
    "start_time": "2023-07-22T19:32:46.849Z"
   },
   {
    "duration": 14,
    "start_time": "2023-07-22T19:32:46.914Z"
   },
   {
    "duration": 108,
    "start_time": "2023-07-22T19:32:46.931Z"
   },
   {
    "duration": 5,
    "start_time": "2023-07-22T19:32:47.041Z"
   },
   {
    "duration": 70,
    "start_time": "2023-07-22T19:32:47.049Z"
   },
   {
    "duration": 4,
    "start_time": "2023-07-22T19:32:47.121Z"
   },
   {
    "duration": 13,
    "start_time": "2023-07-22T19:32:47.127Z"
   },
   {
    "duration": 28,
    "start_time": "2023-07-22T19:32:47.142Z"
   },
   {
    "duration": 75,
    "start_time": "2023-07-22T19:32:47.172Z"
   },
   {
    "duration": 66,
    "start_time": "2023-07-22T19:32:47.249Z"
   },
   {
    "duration": 4,
    "start_time": "2023-07-22T19:32:47.316Z"
   },
   {
    "duration": 62,
    "start_time": "2023-07-22T19:32:47.323Z"
   },
   {
    "duration": 28,
    "start_time": "2023-07-22T19:32:47.413Z"
   },
   {
    "duration": 71,
    "start_time": "2023-07-22T19:32:47.444Z"
   },
   {
    "duration": 5,
    "start_time": "2023-07-22T19:32:47.517Z"
   },
   {
    "duration": 29,
    "start_time": "2023-07-22T19:32:47.524Z"
   },
   {
    "duration": 60,
    "start_time": "2023-07-22T19:32:47.555Z"
   },
   {
    "duration": 4,
    "start_time": "2023-07-22T19:32:47.618Z"
   },
   {
    "duration": 31,
    "start_time": "2023-07-22T19:32:47.624Z"
   },
   {
    "duration": 12,
    "start_time": "2023-07-22T19:32:47.657Z"
   },
   {
    "duration": 43,
    "start_time": "2023-07-22T19:32:47.671Z"
   },
   {
    "duration": 199,
    "start_time": "2023-07-22T19:32:47.716Z"
   },
   {
    "duration": 0,
    "start_time": "2023-07-22T19:32:47.917Z"
   },
   {
    "duration": 0,
    "start_time": "2023-07-22T19:32:47.918Z"
   },
   {
    "duration": 0,
    "start_time": "2023-07-22T19:32:47.920Z"
   },
   {
    "duration": 0,
    "start_time": "2023-07-22T19:32:47.922Z"
   },
   {
    "duration": 0,
    "start_time": "2023-07-22T19:32:47.923Z"
   },
   {
    "duration": 0,
    "start_time": "2023-07-22T19:32:47.925Z"
   },
   {
    "duration": 0,
    "start_time": "2023-07-22T19:32:47.926Z"
   },
   {
    "duration": 0,
    "start_time": "2023-07-22T19:32:47.928Z"
   },
   {
    "duration": 0,
    "start_time": "2023-07-22T19:32:47.930Z"
   },
   {
    "duration": 0,
    "start_time": "2023-07-22T19:32:47.931Z"
   },
   {
    "duration": 0,
    "start_time": "2023-07-22T19:32:47.933Z"
   },
   {
    "duration": 0,
    "start_time": "2023-07-22T19:32:47.934Z"
   },
   {
    "duration": 0,
    "start_time": "2023-07-22T19:32:47.936Z"
   },
   {
    "duration": 0,
    "start_time": "2023-07-22T19:32:47.937Z"
   },
   {
    "duration": 0,
    "start_time": "2023-07-22T19:32:47.939Z"
   },
   {
    "duration": 0,
    "start_time": "2023-07-22T19:32:47.940Z"
   },
   {
    "duration": 0,
    "start_time": "2023-07-22T19:32:47.942Z"
   },
   {
    "duration": 46,
    "start_time": "2023-07-22T20:45:25.149Z"
   },
   {
    "duration": 6,
    "start_time": "2023-07-22T20:46:22.580Z"
   },
   {
    "duration": 1486,
    "start_time": "2023-07-22T20:47:27.954Z"
   },
   {
    "duration": 22,
    "start_time": "2023-07-22T20:47:29.442Z"
   },
   {
    "duration": 39,
    "start_time": "2023-07-22T20:47:29.466Z"
   },
   {
    "duration": 30,
    "start_time": "2023-07-22T20:47:29.507Z"
   },
   {
    "duration": 51,
    "start_time": "2023-07-22T20:47:29.539Z"
   },
   {
    "duration": 3,
    "start_time": "2023-07-22T20:47:29.591Z"
   },
   {
    "duration": 24,
    "start_time": "2023-07-22T20:47:29.596Z"
   },
   {
    "duration": 26,
    "start_time": "2023-07-22T20:47:29.621Z"
   },
   {
    "duration": 48,
    "start_time": "2023-07-22T20:47:29.648Z"
   },
   {
    "duration": 4,
    "start_time": "2023-07-22T20:47:29.699Z"
   },
   {
    "duration": 34,
    "start_time": "2023-07-22T20:47:29.705Z"
   },
   {
    "duration": 11,
    "start_time": "2023-07-22T20:47:29.740Z"
   },
   {
    "duration": 6,
    "start_time": "2023-07-22T20:47:29.752Z"
   },
   {
    "duration": 14,
    "start_time": "2023-07-22T20:47:29.760Z"
   },
   {
    "duration": 22,
    "start_time": "2023-07-22T20:47:29.775Z"
   },
   {
    "duration": 32,
    "start_time": "2023-07-22T20:47:29.798Z"
   },
   {
    "duration": 3,
    "start_time": "2023-07-22T20:47:29.832Z"
   },
   {
    "duration": 16,
    "start_time": "2023-07-22T20:47:29.837Z"
   },
   {
    "duration": 7,
    "start_time": "2023-07-22T20:47:29.854Z"
   },
   {
    "duration": 8,
    "start_time": "2023-07-22T20:47:29.862Z"
   },
   {
    "duration": 14,
    "start_time": "2023-07-22T20:47:29.871Z"
   },
   {
    "duration": 9,
    "start_time": "2023-07-22T20:47:29.887Z"
   },
   {
    "duration": 19,
    "start_time": "2023-07-22T20:47:29.897Z"
   },
   {
    "duration": 7,
    "start_time": "2023-07-22T20:47:29.917Z"
   },
   {
    "duration": 6,
    "start_time": "2023-07-22T20:47:29.925Z"
   },
   {
    "duration": 8,
    "start_time": "2023-07-22T20:47:29.933Z"
   },
   {
    "duration": 312,
    "start_time": "2023-07-22T20:47:29.943Z"
   },
   {
    "duration": 6,
    "start_time": "2023-07-22T20:47:30.258Z"
   },
   {
    "duration": 71,
    "start_time": "2023-07-22T20:47:30.265Z"
   },
   {
    "duration": 63,
    "start_time": "2023-07-22T20:47:30.339Z"
   },
   {
    "duration": 208,
    "start_time": "2023-07-22T20:47:30.403Z"
   },
   {
    "duration": 9,
    "start_time": "2023-07-22T20:47:30.613Z"
   },
   {
    "duration": 93,
    "start_time": "2023-07-22T20:47:30.623Z"
   },
   {
    "duration": 77,
    "start_time": "2023-07-22T20:47:30.718Z"
   },
   {
    "duration": 224,
    "start_time": "2023-07-22T20:47:30.797Z"
   },
   {
    "duration": 4,
    "start_time": "2023-07-22T20:47:31.022Z"
   },
   {
    "duration": 95,
    "start_time": "2023-07-22T20:47:31.027Z"
   },
   {
    "duration": 129,
    "start_time": "2023-07-22T20:47:31.124Z"
   },
   {
    "duration": 120,
    "start_time": "2023-07-22T20:47:31.255Z"
   },
   {
    "duration": 139,
    "start_time": "2023-07-22T20:47:31.377Z"
   },
   {
    "duration": 149,
    "start_time": "2023-07-22T20:47:31.518Z"
   },
   {
    "duration": 5,
    "start_time": "2023-07-22T20:52:10.954Z"
   },
   {
    "duration": 9,
    "start_time": "2023-07-22T20:52:35.692Z"
   },
   {
    "duration": 9,
    "start_time": "2023-07-22T20:52:42.252Z"
   },
   {
    "duration": 98,
    "start_time": "2023-07-22T21:00:09.545Z"
   },
   {
    "duration": 15,
    "start_time": "2023-07-22T21:00:09.646Z"
   },
   {
    "duration": 33,
    "start_time": "2023-07-22T21:00:09.662Z"
   },
   {
    "duration": 27,
    "start_time": "2023-07-22T21:00:09.697Z"
   },
   {
    "duration": 44,
    "start_time": "2023-07-22T21:00:09.725Z"
   },
   {
    "duration": 6,
    "start_time": "2023-07-22T21:00:09.771Z"
   },
   {
    "duration": 20,
    "start_time": "2023-07-22T21:00:09.779Z"
   },
   {
    "duration": 17,
    "start_time": "2023-07-22T21:00:09.801Z"
   },
   {
    "duration": 35,
    "start_time": "2023-07-22T21:00:09.820Z"
   },
   {
    "duration": 23,
    "start_time": "2023-07-22T21:00:09.857Z"
   },
   {
    "duration": 74,
    "start_time": "2023-07-22T21:00:09.882Z"
   },
   {
    "duration": 12,
    "start_time": "2023-07-22T21:00:09.957Z"
   },
   {
    "duration": 19,
    "start_time": "2023-07-22T21:00:09.970Z"
   },
   {
    "duration": 37,
    "start_time": "2023-07-22T21:00:09.990Z"
   },
   {
    "duration": 53,
    "start_time": "2023-07-22T21:00:10.029Z"
   },
   {
    "duration": 43,
    "start_time": "2023-07-22T21:00:10.083Z"
   },
   {
    "duration": 24,
    "start_time": "2023-07-22T21:00:10.127Z"
   },
   {
    "duration": 49,
    "start_time": "2023-07-22T21:00:10.152Z"
   },
   {
    "duration": 40,
    "start_time": "2023-07-22T21:00:10.203Z"
   },
   {
    "duration": 25,
    "start_time": "2023-07-22T21:00:10.246Z"
   },
   {
    "duration": 36,
    "start_time": "2023-07-22T21:00:10.272Z"
   },
   {
    "duration": 21,
    "start_time": "2023-07-22T21:00:10.309Z"
   },
   {
    "duration": 36,
    "start_time": "2023-07-22T21:00:10.331Z"
   },
   {
    "duration": 67,
    "start_time": "2023-07-22T21:00:10.370Z"
   },
   {
    "duration": 61,
    "start_time": "2023-07-22T21:00:10.439Z"
   },
   {
    "duration": 45,
    "start_time": "2023-07-22T21:00:10.503Z"
   },
   {
    "duration": 316,
    "start_time": "2023-07-22T21:00:10.550Z"
   },
   {
    "duration": 6,
    "start_time": "2023-07-22T21:00:10.867Z"
   },
   {
    "duration": 22,
    "start_time": "2023-07-22T21:00:10.874Z"
   },
   {
    "duration": 18,
    "start_time": "2023-07-22T21:00:10.898Z"
   },
   {
    "duration": 148,
    "start_time": "2023-07-22T21:00:10.917Z"
   },
   {
    "duration": 7,
    "start_time": "2023-07-22T21:00:11.066Z"
   },
   {
    "duration": 37,
    "start_time": "2023-07-22T21:00:11.075Z"
   },
   {
    "duration": 31,
    "start_time": "2023-07-22T21:00:11.114Z"
   },
   {
    "duration": 1149,
    "start_time": "2023-07-22T21:01:53.112Z"
   },
   {
    "duration": 19,
    "start_time": "2023-07-22T21:01:54.263Z"
   },
   {
    "duration": 32,
    "start_time": "2023-07-22T21:01:54.283Z"
   },
   {
    "duration": 21,
    "start_time": "2023-07-22T21:01:54.317Z"
   },
   {
    "duration": 51,
    "start_time": "2023-07-22T21:01:54.340Z"
   },
   {
    "duration": 3,
    "start_time": "2023-07-22T21:01:54.393Z"
   },
   {
    "duration": 40,
    "start_time": "2023-07-22T21:01:54.397Z"
   },
   {
    "duration": 26,
    "start_time": "2023-07-22T21:01:54.439Z"
   },
   {
    "duration": 36,
    "start_time": "2023-07-22T21:01:54.467Z"
   },
   {
    "duration": 24,
    "start_time": "2023-07-22T21:01:54.507Z"
   },
   {
    "duration": 64,
    "start_time": "2023-07-22T21:01:54.533Z"
   },
   {
    "duration": 103,
    "start_time": "2023-07-22T21:01:54.599Z"
   },
   {
    "duration": 73,
    "start_time": "2023-07-22T21:01:54.703Z"
   },
   {
    "duration": 119,
    "start_time": "2023-07-22T21:01:54.778Z"
   },
   {
    "duration": 123,
    "start_time": "2023-07-22T21:01:54.899Z"
   },
   {
    "duration": 41,
    "start_time": "2023-07-22T21:01:55.024Z"
   },
   {
    "duration": 24,
    "start_time": "2023-07-22T21:01:55.067Z"
   },
   {
    "duration": 61,
    "start_time": "2023-07-22T21:01:55.093Z"
   },
   {
    "duration": 37,
    "start_time": "2023-07-22T21:01:55.156Z"
   },
   {
    "duration": 27,
    "start_time": "2023-07-22T21:01:55.195Z"
   },
   {
    "duration": 30,
    "start_time": "2023-07-22T21:01:55.224Z"
   },
   {
    "duration": 19,
    "start_time": "2023-07-22T21:01:55.256Z"
   },
   {
    "duration": 25,
    "start_time": "2023-07-22T21:01:55.277Z"
   },
   {
    "duration": 24,
    "start_time": "2023-07-22T21:01:55.303Z"
   },
   {
    "duration": 28,
    "start_time": "2023-07-22T21:01:55.328Z"
   },
   {
    "duration": 23,
    "start_time": "2023-07-22T21:01:55.357Z"
   },
   {
    "duration": 320,
    "start_time": "2023-07-22T21:01:55.382Z"
   },
   {
    "duration": 14,
    "start_time": "2023-07-22T21:01:55.707Z"
   },
   {
    "duration": 23,
    "start_time": "2023-07-22T21:01:55.722Z"
   },
   {
    "duration": 46,
    "start_time": "2023-07-22T21:01:55.747Z"
   },
   {
    "duration": 166,
    "start_time": "2023-07-22T21:01:55.795Z"
   },
   {
    "duration": 7,
    "start_time": "2023-07-22T21:01:55.962Z"
   },
   {
    "duration": 34,
    "start_time": "2023-07-22T21:01:55.970Z"
   },
   {
    "duration": 30,
    "start_time": "2023-07-22T21:01:56.006Z"
   },
   {
    "duration": 226644,
    "start_time": "2023-07-22T21:01:56.038Z"
   },
   {
    "duration": 5,
    "start_time": "2023-07-22T21:05:42.683Z"
   },
   {
    "duration": 34,
    "start_time": "2023-07-22T21:05:42.689Z"
   },
   {
    "duration": 199,
    "start_time": "2023-07-22T21:05:42.726Z"
   },
   {
    "duration": 21,
    "start_time": "2023-07-22T21:05:42.927Z"
   },
   {
    "duration": 28,
    "start_time": "2023-07-22T21:05:42.950Z"
   },
   {
    "duration": 154,
    "start_time": "2023-07-22T21:05:42.979Z"
   },
   {
    "duration": 69,
    "start_time": "2023-07-22T21:15:36.428Z"
   },
   {
    "duration": 15,
    "start_time": "2023-07-22T21:15:36.499Z"
   },
   {
    "duration": 47,
    "start_time": "2023-07-22T21:15:36.515Z"
   },
   {
    "duration": 23,
    "start_time": "2023-07-22T21:15:36.564Z"
   },
   {
    "duration": 37,
    "start_time": "2023-07-22T21:15:36.590Z"
   },
   {
    "duration": 5,
    "start_time": "2023-07-22T21:15:36.629Z"
   },
   {
    "duration": 37,
    "start_time": "2023-07-22T21:15:36.636Z"
   },
   {
    "duration": 51,
    "start_time": "2023-07-22T21:15:36.674Z"
   },
   {
    "duration": 19,
    "start_time": "2023-07-22T21:15:36.733Z"
   },
   {
    "duration": 5,
    "start_time": "2023-07-22T21:15:36.754Z"
   },
   {
    "duration": 41,
    "start_time": "2023-07-22T21:15:36.760Z"
   },
   {
    "duration": 9,
    "start_time": "2023-07-22T21:15:36.802Z"
   },
   {
    "duration": 45,
    "start_time": "2023-07-22T21:15:36.813Z"
   },
   {
    "duration": 46,
    "start_time": "2023-07-22T21:15:36.862Z"
   },
   {
    "duration": 38,
    "start_time": "2023-07-22T21:15:36.910Z"
   },
   {
    "duration": 21,
    "start_time": "2023-07-22T21:15:36.950Z"
   },
   {
    "duration": 4,
    "start_time": "2023-07-22T21:15:36.973Z"
   },
   {
    "duration": 29,
    "start_time": "2023-07-22T21:15:36.979Z"
   },
   {
    "duration": 36,
    "start_time": "2023-07-22T21:15:37.010Z"
   },
   {
    "duration": 5,
    "start_time": "2023-07-22T21:15:37.047Z"
   },
   {
    "duration": 16,
    "start_time": "2023-07-22T21:15:37.053Z"
   },
   {
    "duration": 10,
    "start_time": "2023-07-22T21:15:37.071Z"
   },
   {
    "duration": 8,
    "start_time": "2023-07-22T21:15:37.083Z"
   },
   {
    "duration": 6,
    "start_time": "2023-07-22T21:15:37.092Z"
   },
   {
    "duration": 124,
    "start_time": "2023-07-22T21:15:37.099Z"
   },
   {
    "duration": 0,
    "start_time": "2023-07-22T21:15:37.225Z"
   },
   {
    "duration": 0,
    "start_time": "2023-07-22T21:15:37.226Z"
   },
   {
    "duration": 0,
    "start_time": "2023-07-22T21:15:37.227Z"
   },
   {
    "duration": 0,
    "start_time": "2023-07-22T21:15:37.227Z"
   },
   {
    "duration": 0,
    "start_time": "2023-07-22T21:15:37.229Z"
   },
   {
    "duration": 0,
    "start_time": "2023-07-22T21:15:37.229Z"
   },
   {
    "duration": 0,
    "start_time": "2023-07-22T21:15:37.230Z"
   },
   {
    "duration": 0,
    "start_time": "2023-07-22T21:15:37.231Z"
   },
   {
    "duration": 0,
    "start_time": "2023-07-22T21:15:37.232Z"
   },
   {
    "duration": 0,
    "start_time": "2023-07-22T21:15:37.233Z"
   },
   {
    "duration": 0,
    "start_time": "2023-07-22T21:15:37.234Z"
   },
   {
    "duration": 0,
    "start_time": "2023-07-22T21:15:37.235Z"
   },
   {
    "duration": 0,
    "start_time": "2023-07-22T21:15:37.236Z"
   },
   {
    "duration": 0,
    "start_time": "2023-07-22T21:15:37.237Z"
   },
   {
    "duration": 0,
    "start_time": "2023-07-22T21:15:37.239Z"
   },
   {
    "duration": 0,
    "start_time": "2023-07-22T21:15:37.240Z"
   },
   {
    "duration": 0,
    "start_time": "2023-07-22T21:15:37.241Z"
   },
   {
    "duration": 0,
    "start_time": "2023-07-22T21:15:37.243Z"
   },
   {
    "duration": 1561,
    "start_time": "2023-07-23T09:56:47.371Z"
   },
   {
    "duration": 20,
    "start_time": "2023-07-23T09:56:48.934Z"
   },
   {
    "duration": 20,
    "start_time": "2023-07-23T09:56:48.956Z"
   },
   {
    "duration": 15,
    "start_time": "2023-07-23T09:56:48.978Z"
   },
   {
    "duration": 43,
    "start_time": "2023-07-23T09:56:48.994Z"
   },
   {
    "duration": 4,
    "start_time": "2023-07-23T09:56:49.040Z"
   },
   {
    "duration": 16,
    "start_time": "2023-07-23T09:56:49.046Z"
   },
   {
    "duration": 4,
    "start_time": "2023-07-23T09:56:49.064Z"
   },
   {
    "duration": 10,
    "start_time": "2023-07-23T09:56:49.069Z"
   },
   {
    "duration": 5,
    "start_time": "2023-07-23T09:56:49.083Z"
   },
   {
    "duration": 60,
    "start_time": "2023-07-23T09:56:49.090Z"
   },
   {
    "duration": 9,
    "start_time": "2023-07-23T09:56:49.152Z"
   },
   {
    "duration": 7,
    "start_time": "2023-07-23T09:56:49.162Z"
   },
   {
    "duration": 40,
    "start_time": "2023-07-23T09:56:49.170Z"
   },
   {
    "duration": 51,
    "start_time": "2023-07-23T09:56:49.211Z"
   },
   {
    "duration": 22,
    "start_time": "2023-07-23T09:56:49.264Z"
   },
   {
    "duration": 4,
    "start_time": "2023-07-23T09:56:49.287Z"
   },
   {
    "duration": 16,
    "start_time": "2023-07-23T09:56:49.292Z"
   },
   {
    "duration": 6,
    "start_time": "2023-07-23T09:56:49.310Z"
   },
   {
    "duration": 29,
    "start_time": "2023-07-23T09:56:49.317Z"
   },
   {
    "duration": 18,
    "start_time": "2023-07-23T09:56:49.348Z"
   },
   {
    "duration": 9,
    "start_time": "2023-07-23T09:56:49.368Z"
   },
   {
    "duration": 9,
    "start_time": "2023-07-23T09:56:49.379Z"
   },
   {
    "duration": 6,
    "start_time": "2023-07-23T09:56:49.390Z"
   },
   {
    "duration": 136,
    "start_time": "2023-07-23T09:56:49.398Z"
   },
   {
    "duration": 0,
    "start_time": "2023-07-23T09:56:49.536Z"
   },
   {
    "duration": 0,
    "start_time": "2023-07-23T09:56:49.537Z"
   },
   {
    "duration": 0,
    "start_time": "2023-07-23T09:56:49.538Z"
   },
   {
    "duration": 0,
    "start_time": "2023-07-23T09:56:49.539Z"
   },
   {
    "duration": 0,
    "start_time": "2023-07-23T09:56:49.540Z"
   },
   {
    "duration": 0,
    "start_time": "2023-07-23T09:56:49.541Z"
   },
   {
    "duration": 1,
    "start_time": "2023-07-23T09:56:49.542Z"
   },
   {
    "duration": 0,
    "start_time": "2023-07-23T09:56:49.544Z"
   },
   {
    "duration": 0,
    "start_time": "2023-07-23T09:56:49.545Z"
   },
   {
    "duration": 0,
    "start_time": "2023-07-23T09:56:49.546Z"
   },
   {
    "duration": 0,
    "start_time": "2023-07-23T09:56:49.547Z"
   },
   {
    "duration": 0,
    "start_time": "2023-07-23T09:56:49.548Z"
   },
   {
    "duration": 0,
    "start_time": "2023-07-23T09:56:49.549Z"
   },
   {
    "duration": 0,
    "start_time": "2023-07-23T09:56:49.550Z"
   },
   {
    "duration": 0,
    "start_time": "2023-07-23T09:56:49.551Z"
   },
   {
    "duration": 0,
    "start_time": "2023-07-23T09:56:49.552Z"
   },
   {
    "duration": 0,
    "start_time": "2023-07-23T09:56:49.553Z"
   },
   {
    "duration": 0,
    "start_time": "2023-07-23T09:56:49.555Z"
   },
   {
    "duration": 146,
    "start_time": "2023-07-23T09:57:11.630Z"
   },
   {
    "duration": 119,
    "start_time": "2023-07-23T09:57:23.230Z"
   },
   {
    "duration": 6,
    "start_time": "2023-07-23T09:57:37.111Z"
   },
   {
    "duration": 9,
    "start_time": "2023-07-23T09:57:39.130Z"
   },
   {
    "duration": 5,
    "start_time": "2023-07-23T09:57:40.990Z"
   },
   {
    "duration": 141,
    "start_time": "2023-07-23T09:57:43.394Z"
   },
   {
    "duration": 130,
    "start_time": "2023-07-23T09:58:57.362Z"
   },
   {
    "duration": 241,
    "start_time": "2023-07-23T09:59:37.493Z"
   },
   {
    "duration": 256,
    "start_time": "2023-07-23T10:00:36.203Z"
   },
   {
    "duration": 180,
    "start_time": "2023-07-23T10:00:58.603Z"
   },
   {
    "duration": 177,
    "start_time": "2023-07-23T10:01:27.517Z"
   },
   {
    "duration": 183,
    "start_time": "2023-07-23T10:01:32.653Z"
   },
   {
    "duration": 371,
    "start_time": "2023-07-23T10:01:57.931Z"
   },
   {
    "duration": 228,
    "start_time": "2023-07-23T10:02:05.467Z"
   },
   {
    "duration": 8,
    "start_time": "2023-07-23T10:03:11.652Z"
   },
   {
    "duration": 3,
    "start_time": "2023-07-23T10:09:22.395Z"
   },
   {
    "duration": 9,
    "start_time": "2023-07-23T10:09:22.938Z"
   },
   {
    "duration": 5,
    "start_time": "2023-07-23T10:10:01.498Z"
   },
   {
    "duration": 3,
    "start_time": "2023-07-23T10:10:50.164Z"
   },
   {
    "duration": 14,
    "start_time": "2023-07-23T10:10:50.637Z"
   },
   {
    "duration": 7,
    "start_time": "2023-07-23T10:10:51.056Z"
   },
   {
    "duration": 3,
    "start_time": "2023-07-23T10:13:09.649Z"
   },
   {
    "duration": 10,
    "start_time": "2023-07-23T10:13:10.986Z"
   },
   {
    "duration": 5,
    "start_time": "2023-07-23T10:13:12.484Z"
   },
   {
    "duration": 2,
    "start_time": "2023-07-23T10:14:47.260Z"
   },
   {
    "duration": 8,
    "start_time": "2023-07-23T10:14:47.782Z"
   },
   {
    "duration": 5,
    "start_time": "2023-07-23T10:14:48.184Z"
   },
   {
    "duration": 4,
    "start_time": "2023-07-23T10:14:59.034Z"
   },
   {
    "duration": 8,
    "start_time": "2023-07-23T10:14:59.488Z"
   },
   {
    "duration": 5,
    "start_time": "2023-07-23T10:14:59.811Z"
   },
   {
    "duration": 4,
    "start_time": "2023-07-23T10:15:20.197Z"
   },
   {
    "duration": 5,
    "start_time": "2023-07-23T10:15:20.720Z"
   },
   {
    "duration": 9,
    "start_time": "2023-07-23T10:15:21.186Z"
   },
   {
    "duration": 8,
    "start_time": "2023-07-23T10:15:21.926Z"
   },
   {
    "duration": 194,
    "start_time": "2023-07-23T10:16:24.283Z"
   },
   {
    "duration": 7,
    "start_time": "2023-07-23T10:16:24.784Z"
   },
   {
    "duration": 3,
    "start_time": "2023-07-23T10:16:43.787Z"
   },
   {
    "duration": 13,
    "start_time": "2023-07-23T10:16:44.626Z"
   },
   {
    "duration": 6,
    "start_time": "2023-07-23T10:16:45.168Z"
   },
   {
    "duration": 3,
    "start_time": "2023-07-23T10:17:38.141Z"
   },
   {
    "duration": 8,
    "start_time": "2023-07-23T10:17:38.689Z"
   },
   {
    "duration": 5,
    "start_time": "2023-07-23T10:17:39.136Z"
   },
   {
    "duration": 5,
    "start_time": "2023-07-23T10:18:02.046Z"
   },
   {
    "duration": 12,
    "start_time": "2023-07-23T10:18:02.638Z"
   },
   {
    "duration": 8,
    "start_time": "2023-07-23T10:18:03.037Z"
   },
   {
    "duration": 4,
    "start_time": "2023-07-23T10:18:10.542Z"
   },
   {
    "duration": 8,
    "start_time": "2023-07-23T10:18:11.084Z"
   },
   {
    "duration": 6,
    "start_time": "2023-07-23T10:18:11.509Z"
   },
   {
    "duration": 4,
    "start_time": "2023-07-23T10:18:25.043Z"
   },
   {
    "duration": 13,
    "start_time": "2023-07-23T10:18:25.516Z"
   },
   {
    "duration": 5,
    "start_time": "2023-07-23T10:18:25.967Z"
   },
   {
    "duration": 3,
    "start_time": "2023-07-23T10:19:08.063Z"
   },
   {
    "duration": 8,
    "start_time": "2023-07-23T10:19:08.604Z"
   },
   {
    "duration": 6,
    "start_time": "2023-07-23T10:19:09.032Z"
   },
   {
    "duration": 7,
    "start_time": "2023-07-23T10:23:19.992Z"
   },
   {
    "duration": 5,
    "start_time": "2023-07-23T10:23:27.505Z"
   },
   {
    "duration": 4,
    "start_time": "2023-07-23T10:23:43.386Z"
   },
   {
    "duration": 9,
    "start_time": "2023-07-23T10:23:48.798Z"
   },
   {
    "duration": 5,
    "start_time": "2023-07-23T10:23:50.000Z"
   },
   {
    "duration": 8,
    "start_time": "2023-07-23T10:23:55.528Z"
   },
   {
    "duration": 4,
    "start_time": "2023-07-23T10:24:14.148Z"
   },
   {
    "duration": 119,
    "start_time": "2023-07-23T10:24:19.984Z"
   },
   {
    "duration": 5,
    "start_time": "2023-07-23T10:24:38.351Z"
   },
   {
    "duration": 8,
    "start_time": "2023-07-23T10:24:39.551Z"
   },
   {
    "duration": 6,
    "start_time": "2023-07-23T10:32:04.684Z"
   },
   {
    "duration": 7,
    "start_time": "2023-07-23T10:32:05.185Z"
   },
   {
    "duration": 5,
    "start_time": "2023-07-23T10:32:05.904Z"
   },
   {
    "duration": 125,
    "start_time": "2023-07-23T10:32:07.388Z"
   },
   {
    "duration": 180,
    "start_time": "2023-07-23T11:16:09.942Z"
   },
   {
    "duration": 1318,
    "start_time": "2023-07-23T18:12:05.012Z"
   },
   {
    "duration": 22,
    "start_time": "2023-07-23T18:12:06.333Z"
   },
   {
    "duration": 16,
    "start_time": "2023-07-23T18:12:06.357Z"
   },
   {
    "duration": 28,
    "start_time": "2023-07-23T18:12:06.375Z"
   },
   {
    "duration": 30,
    "start_time": "2023-07-23T18:12:06.404Z"
   },
   {
    "duration": 3,
    "start_time": "2023-07-23T18:12:06.435Z"
   },
   {
    "duration": 41,
    "start_time": "2023-07-23T18:12:06.439Z"
   },
   {
    "duration": 41,
    "start_time": "2023-07-23T18:12:06.481Z"
   },
   {
    "duration": 28,
    "start_time": "2023-07-23T18:12:06.524Z"
   },
   {
    "duration": 11,
    "start_time": "2023-07-23T18:12:06.555Z"
   },
   {
    "duration": 36,
    "start_time": "2023-07-23T18:12:06.567Z"
   },
   {
    "duration": 7,
    "start_time": "2023-07-23T18:12:06.605Z"
   },
   {
    "duration": 23,
    "start_time": "2023-07-23T18:12:06.614Z"
   },
   {
    "duration": 18,
    "start_time": "2023-07-23T18:12:06.638Z"
   },
   {
    "duration": 16,
    "start_time": "2023-07-23T18:12:06.658Z"
   },
   {
    "duration": 15,
    "start_time": "2023-07-23T18:12:06.676Z"
   },
   {
    "duration": 3,
    "start_time": "2023-07-23T18:12:06.692Z"
   },
   {
    "duration": 28,
    "start_time": "2023-07-23T18:12:06.696Z"
   },
   {
    "duration": 10,
    "start_time": "2023-07-23T18:12:06.725Z"
   },
   {
    "duration": 15,
    "start_time": "2023-07-23T18:12:06.736Z"
   },
   {
    "duration": 19,
    "start_time": "2023-07-23T18:12:06.752Z"
   },
   {
    "duration": 10,
    "start_time": "2023-07-23T18:12:06.772Z"
   },
   {
    "duration": 9,
    "start_time": "2023-07-23T18:12:06.783Z"
   },
   {
    "duration": 8,
    "start_time": "2023-07-23T18:12:06.793Z"
   },
   {
    "duration": 5,
    "start_time": "2023-07-23T18:12:06.802Z"
   },
   {
    "duration": 16,
    "start_time": "2023-07-23T18:12:06.809Z"
   },
   {
    "duration": 298,
    "start_time": "2023-07-23T18:12:06.830Z"
   },
   {
    "duration": 5,
    "start_time": "2023-07-23T18:12:07.131Z"
   },
   {
    "duration": 30,
    "start_time": "2023-07-23T18:12:07.137Z"
   },
   {
    "duration": 9,
    "start_time": "2023-07-23T18:12:07.169Z"
   },
   {
    "duration": 128,
    "start_time": "2023-07-23T18:12:07.180Z"
   },
   {
    "duration": 3,
    "start_time": "2023-07-23T18:12:07.310Z"
   },
   {
    "duration": 11,
    "start_time": "2023-07-23T18:12:07.314Z"
   },
   {
    "duration": 13,
    "start_time": "2023-07-23T18:12:07.326Z"
   },
   {
    "duration": 12,
    "start_time": "2023-07-23T18:12:07.340Z"
   },
   {
    "duration": 7,
    "start_time": "2023-07-23T18:12:07.353Z"
   },
   {
    "duration": 122,
    "start_time": "2023-07-23T18:12:07.361Z"
   },
   {
    "duration": 4,
    "start_time": "2023-07-23T18:12:07.485Z"
   },
   {
    "duration": 101,
    "start_time": "2023-07-23T18:12:07.499Z"
   },
   {
    "duration": 97,
    "start_time": "2023-07-23T18:12:07.604Z"
   },
   {
    "duration": 17,
    "start_time": "2023-07-23T18:12:07.702Z"
   },
   {
    "duration": 4,
    "start_time": "2023-07-23T18:12:07.721Z"
   },
   {
    "duration": 132,
    "start_time": "2023-07-23T18:12:07.726Z"
   },
   {
    "duration": 1867,
    "start_time": "2023-07-23T19:42:48.461Z"
   },
   {
    "duration": 36,
    "start_time": "2023-07-23T19:42:50.338Z"
   },
   {
    "duration": 25,
    "start_time": "2023-07-23T19:42:50.376Z"
   },
   {
    "duration": 19,
    "start_time": "2023-07-23T19:42:50.403Z"
   },
   {
    "duration": 71,
    "start_time": "2023-07-23T19:42:50.424Z"
   },
   {
    "duration": 7,
    "start_time": "2023-07-23T19:42:50.497Z"
   },
   {
    "duration": 26,
    "start_time": "2023-07-23T19:42:50.507Z"
   },
   {
    "duration": 20,
    "start_time": "2023-07-23T19:42:50.535Z"
   },
   {
    "duration": 14,
    "start_time": "2023-07-23T19:42:50.565Z"
   },
   {
    "duration": 27,
    "start_time": "2023-07-23T19:42:50.587Z"
   },
   {
    "duration": 73,
    "start_time": "2023-07-23T19:42:50.637Z"
   },
   {
    "duration": 21,
    "start_time": "2023-07-23T19:42:50.713Z"
   },
   {
    "duration": 4,
    "start_time": "2023-07-23T19:42:50.740Z"
   },
   {
    "duration": 43,
    "start_time": "2023-07-23T19:42:50.749Z"
   },
   {
    "duration": 46,
    "start_time": "2023-07-23T19:42:50.797Z"
   },
   {
    "duration": 41,
    "start_time": "2023-07-23T19:42:50.844Z"
   },
   {
    "duration": 20,
    "start_time": "2023-07-23T19:42:50.887Z"
   },
   {
    "duration": 59,
    "start_time": "2023-07-23T19:42:50.910Z"
   },
   {
    "duration": 16,
    "start_time": "2023-07-23T19:42:50.974Z"
   },
   {
    "duration": 7,
    "start_time": "2023-07-23T19:42:50.994Z"
   },
   {
    "duration": 45,
    "start_time": "2023-07-23T19:42:51.003Z"
   },
   {
    "duration": 10,
    "start_time": "2023-07-23T19:42:51.049Z"
   },
   {
    "duration": 15,
    "start_time": "2023-07-23T19:42:51.062Z"
   },
   {
    "duration": 19,
    "start_time": "2023-07-23T19:42:51.083Z"
   },
   {
    "duration": 10,
    "start_time": "2023-07-23T19:42:51.104Z"
   },
   {
    "duration": 48,
    "start_time": "2023-07-23T19:42:51.121Z"
   },
   {
    "duration": 345,
    "start_time": "2023-07-23T19:42:51.189Z"
   },
   {
    "duration": 10,
    "start_time": "2023-07-23T19:42:51.538Z"
   },
   {
    "duration": 14,
    "start_time": "2023-07-23T19:42:51.551Z"
   },
   {
    "duration": 14,
    "start_time": "2023-07-23T19:42:51.575Z"
   },
   {
    "duration": 213,
    "start_time": "2023-07-23T19:42:51.593Z"
   },
   {
    "duration": 8,
    "start_time": "2023-07-23T19:42:51.811Z"
   },
   {
    "duration": 45,
    "start_time": "2023-07-23T19:42:51.827Z"
   },
   {
    "duration": 12,
    "start_time": "2023-07-23T19:42:51.878Z"
   },
   {
    "duration": 16,
    "start_time": "2023-07-23T19:42:51.891Z"
   },
   {
    "duration": 15,
    "start_time": "2023-07-23T19:42:51.909Z"
   },
   {
    "duration": 222,
    "start_time": "2023-07-23T19:42:51.926Z"
   },
   {
    "duration": 9,
    "start_time": "2023-07-23T19:42:52.153Z"
   },
   {
    "duration": 31,
    "start_time": "2023-07-23T19:42:52.163Z"
   },
   {
    "duration": 64,
    "start_time": "2023-07-23T19:42:52.197Z"
   },
   {
    "duration": 58,
    "start_time": "2023-07-23T19:42:52.270Z"
   },
   {
    "duration": 34,
    "start_time": "2023-07-23T19:42:52.336Z"
   },
   {
    "duration": 219,
    "start_time": "2023-07-23T19:42:52.384Z"
   }
  ],
  "colab": {
   "name": "dpp_template_part2.ipynb",
   "provenance": []
  },
  "kernelspec": {
   "display_name": "Python 3 (ipykernel)",
   "language": "python",
   "name": "python3"
  },
  "language_info": {
   "codemirror_mode": {
    "name": "ipython",
    "version": 3
   },
   "file_extension": ".py",
   "mimetype": "text/x-python",
   "name": "python",
   "nbconvert_exporter": "python",
   "pygments_lexer": "ipython3",
   "version": "3.9.5"
  },
  "toc": {
   "base_numbering": 1,
   "nav_menu": {
    "height": "12px",
    "width": "160px"
   },
   "number_sections": true,
   "sideBar": true,
   "skip_h1_title": true,
   "title_cell": "Table of Contents",
   "title_sidebar": "Contents",
   "toc_cell": false,
   "toc_position": {
    "height": "calc(100% - 180px)",
    "left": "10px",
    "top": "150px",
    "width": "374.391px"
   },
   "toc_section_display": true,
   "toc_window_display": true
  }
 },
 "nbformat": 4,
 "nbformat_minor": 5
}
